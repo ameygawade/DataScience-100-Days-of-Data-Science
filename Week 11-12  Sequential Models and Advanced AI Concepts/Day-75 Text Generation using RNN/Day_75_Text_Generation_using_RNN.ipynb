{
  "cells": [
    {
      "cell_type": "markdown",
      "id": "f65e5eb6",
      "metadata": {
        "id": "f65e5eb6"
      },
      "source": [
        "# Day-75: Text Generation using RNN"
      ]
    },
    {
      "cell_type": "markdown",
      "id": "f47ad7f7",
      "metadata": {
        "id": "f47ad7f7"
      },
      "source": [
        "In the last few days, we explored RNNs, LSTMs, GRUs, and Bidirectional Networks, learning how these models understand sequential data like text or time series.\n",
        "\n",
        "Today, we’ll take it one step further — and build something creative:\n",
        "A Text Generator using RNNs!\n",
        "\n",
        "We’ll train an RNN on a children’s stories corpus, and then make it generate new story text word-by-word — just like how ChatGPT or any AI writer starts from a word and keeps predicting the next one."
      ]
    },
    {
      "cell_type": "markdown",
      "id": "c4c321e2",
      "metadata": {
        "id": "c4c321e2"
      },
      "source": [
        "## Topics Covered"
      ]
    },
    {
      "cell_type": "markdown",
      "id": "1e550d7c",
      "metadata": {
        "id": "1e550d7c"
      },
      "source": [
        "- About the Dataset\n",
        "\n",
        "- Revisiting NLP Concepts We’ll Use\n",
        "\n",
        "- Preparing Data for RNN Text Generation\n",
        "\n",
        "- Building the RNN Model\n",
        "\n",
        "- Generating Text Word-by-Word\n",
        "\n",
        "- Evaluation & Experimentation"
      ]
    },
    {
      "cell_type": "markdown",
      "id": "0e6066bb",
      "metadata": {
        "id": "0e6066bb"
      },
      "source": [
        "## The Dataset: Children Stories Text Corpus (Kaggle)"
      ]
    },
    {
      "cell_type": "markdown",
      "id": "228693a9",
      "metadata": {
        "id": "228693a9"
      },
      "source": [
        "Guys, for any project, the first step is always the data! Our dataset is a fantastic collection of children's stories. Why stories? Because they have a sequence and a context."
      ]
    },
    {
      "cell_type": "markdown",
      "id": "f6f6df8a",
      "metadata": {
        "id": "f6f6df8a"
      },
      "source": [
        "`Analogy`:\n",
        "- Think of this dataset as a massive library of bedtime stories.\n",
        "- When a kid reads a lot of stories, they learn the structure: \"Once upon a time...\" is often followed by a character introduction.\n",
        "- Our model is going to \"read\" this library and learn the grammar, the sentence structure, and the word-to-word dependencies to tell its own story."
      ]
    },
    {
      "cell_type": "markdown",
      "id": "73d383ac",
      "metadata": {
        "id": "73d383ac"
      },
      "source": [
        "We’ll be using the Children Stories Text Corpus:https://www.kaggle.com/datasets/edenbd/children-stories-text-corpus/data from Kaggle.\n",
        "It contains hundreds of story texts written for kids — simple grammar, repetitive sentence structures, and rich vocabulary — perfect for language generation tasks!"
      ]
    },
    {
      "cell_type": "markdown",
      "id": "8ef7b84d",
      "metadata": {
        "id": "8ef7b84d"
      },
      "source": [
        "This kind of dataset helps our RNN learn storytelling patterns like:\n",
        "\n",
        "- Sentence structure (subject → verb → object)\n",
        "\n",
        "- Repetitive story motifs (\"Once upon a time\", \"and then\", etc.)\n",
        "\n",
        "- Predictable transitions (\"The next day...\", \"Suddenly...\")"
      ]
    },
    {
      "cell_type": "markdown",
      "id": "67128e2d",
      "metadata": {
        "id": "67128e2d"
      },
      "source": [
        "## Concepts from NLP we will use"
      ]
    },
    {
      "cell_type": "markdown",
      "id": "5b4df8e8",
      "metadata": {
        "id": "5b4df8e8"
      },
      "source": [
        "We aren't starting from scratch! We'll leverage the power of foundational NLP concepts we covered previously."
      ]
    },
    {
      "cell_type": "markdown",
      "id": "3ad2ed04",
      "metadata": {
        "id": "3ad2ed04"
      },
      "source": [
        "| **NLP Concept**                        | **Day Covered**              | **How We Use It in Text Generation**                                                        | **Analogy**                                                                                                                  |\n",
        "| :------------------------------------- | :--------------------------- | :------------------------------------------------------------------------------------------ | :--------------------------------------------------------------------------------------------------------------------------- |\n",
        "| Tokenization                           | Day 50                       | We break the stories into words or characters, creating a vocabulary.                       | Breaking a long book into individual words to check the frequency of each word.                                              |\n",
        "| Lowercasing & Cleaning                 | Day 50                       | We normalize text to ensure uniformity — “Cat” and “cat” are treated the same.              | Making sure everyone wears the same uniform before a group photo.                                                            |\n",
        "| Stopwords                              | Day 50                       | Usually, we keep stopwords here as they help maintain the flow of sentences.                | Keeping connecting words like “and” or “but” to ensure the story makes sense.                                                |\n",
        "| Word Embeddings (e.g., Word2Vec/GloVe) | Day 52                       | We convert each token into a dense vector representation to capture semantic meaning.       | Giving each word a unique ID card that also contains information about what the word means and what words are similar to it. |\n",
        "| Sequence Data                          | General RNN Concept          | RNNs are designed to handle ordered data, so word order defines meaning in text generation. | A detective trying to solve a crime — the order of events is crucial to understanding the full story.                        |\n",
        "| Padding                                | (General Preprocessing)      | Ensures all input sequences are of the same length before feeding them into RNN.            | Making all sentences the same length by adding blank spaces at the start.                                                    |\n",
        "| One-hot / Categorical Encoding         | (Used before model training) | Converts the target (next word) into categorical vectors for training.                      | Giving each possible next word its own “slot” in the prediction list.                                                        |\n",
        "| Text Generation Loop                   | (Core to RNN Workflow)       | Repeatedly predicts the next word and appends it to the input sequence.                     | Like a storyteller who keeps adding one word at a time until the story ends.                                                 |\n"
      ]
    },
    {
      "cell_type": "markdown",
      "id": "d0fcaa96",
      "metadata": {
        "id": "d0fcaa96"
      },
      "source": [
        "So yes — we’re reusing everything from Day 50–55!\n",
        "Only this time, we’re not classifying or clustering text — we’re generating new text."
      ]
    },
    {
      "cell_type": "markdown",
      "id": "dba8ed19",
      "metadata": {
        "id": "dba8ed19"
      },
      "source": [
        "## Preparing Data for RNN Text Generation"
      ]
    },
    {
      "cell_type": "markdown",
      "id": "b32fd327",
      "metadata": {},
      "source": [
        "## Checking GPU tensorflow configuration"
      ]
    },
    {
      "cell_type": "code",
      "execution_count": 1,
      "id": "5eca9958",
      "metadata": {},
      "outputs": [
        {
          "name": "stdout",
          "output_type": "stream",
          "text": [
            "env: TMPDIR=/media/amey/New Volume/tmp\n",
            "env: PIP_CACHE_DIR=/media/amey/New Volume/pip-cache\n",
            "Requirement already satisfied: tensorflow==2.20.0 in /media/amey/New Volume/tf-venv/lib/python3.10/site-packages (from tensorflow[and-cuda]==2.20.0) (2.20.0)\n",
            "Requirement already satisfied: absl-py>=1.0.0 in /media/amey/New Volume/tf-venv/lib/python3.10/site-packages (from tensorflow==2.20.0->tensorflow[and-cuda]==2.20.0) (2.3.1)\n",
            "Requirement already satisfied: astunparse>=1.6.0 in /media/amey/New Volume/tf-venv/lib/python3.10/site-packages (from tensorflow==2.20.0->tensorflow[and-cuda]==2.20.0) (1.6.3)\n",
            "Requirement already satisfied: flatbuffers>=24.3.25 in /media/amey/New Volume/tf-venv/lib/python3.10/site-packages (from tensorflow==2.20.0->tensorflow[and-cuda]==2.20.0) (25.9.23)\n",
            "Requirement already satisfied: gast!=0.5.0,!=0.5.1,!=0.5.2,>=0.2.1 in /media/amey/New Volume/tf-venv/lib/python3.10/site-packages (from tensorflow==2.20.0->tensorflow[and-cuda]==2.20.0) (0.6.0)\n",
            "Requirement already satisfied: google_pasta>=0.1.1 in /media/amey/New Volume/tf-venv/lib/python3.10/site-packages (from tensorflow==2.20.0->tensorflow[and-cuda]==2.20.0) (0.2.0)\n",
            "Requirement already satisfied: libclang>=13.0.0 in /media/amey/New Volume/tf-venv/lib/python3.10/site-packages (from tensorflow==2.20.0->tensorflow[and-cuda]==2.20.0) (18.1.1)\n",
            "Requirement already satisfied: opt_einsum>=2.3.2 in /media/amey/New Volume/tf-venv/lib/python3.10/site-packages (from tensorflow==2.20.0->tensorflow[and-cuda]==2.20.0) (3.4.0)\n",
            "Requirement already satisfied: packaging in /media/amey/New Volume/tf-venv/lib/python3.10/site-packages (from tensorflow==2.20.0->tensorflow[and-cuda]==2.20.0) (25.0)\n",
            "Requirement already satisfied: protobuf>=5.28.0 in /media/amey/New Volume/tf-venv/lib/python3.10/site-packages (from tensorflow==2.20.0->tensorflow[and-cuda]==2.20.0) (6.33.0)\n",
            "Requirement already satisfied: requests<3,>=2.21.0 in /media/amey/New Volume/tf-venv/lib/python3.10/site-packages (from tensorflow==2.20.0->tensorflow[and-cuda]==2.20.0) (2.32.5)\n",
            "Requirement already satisfied: setuptools in /media/amey/New Volume/tf-venv/lib/python3.10/site-packages (from tensorflow==2.20.0->tensorflow[and-cuda]==2.20.0) (59.6.0)\n",
            "Requirement already satisfied: six>=1.12.0 in /media/amey/New Volume/tf-venv/lib/python3.10/site-packages (from tensorflow==2.20.0->tensorflow[and-cuda]==2.20.0) (1.17.0)\n",
            "Requirement already satisfied: termcolor>=1.1.0 in /media/amey/New Volume/tf-venv/lib/python3.10/site-packages (from tensorflow==2.20.0->tensorflow[and-cuda]==2.20.0) (3.1.0)\n",
            "Requirement already satisfied: typing_extensions>=3.6.6 in /media/amey/New Volume/tf-venv/lib/python3.10/site-packages (from tensorflow==2.20.0->tensorflow[and-cuda]==2.20.0) (4.15.0)\n",
            "Requirement already satisfied: wrapt>=1.11.0 in /media/amey/New Volume/tf-venv/lib/python3.10/site-packages (from tensorflow==2.20.0->tensorflow[and-cuda]==2.20.0) (1.17.3)\n",
            "Requirement already satisfied: grpcio<2.0,>=1.24.3 in /media/amey/New Volume/tf-venv/lib/python3.10/site-packages (from tensorflow==2.20.0->tensorflow[and-cuda]==2.20.0) (1.75.1)\n",
            "Requirement already satisfied: tensorboard~=2.20.0 in /media/amey/New Volume/tf-venv/lib/python3.10/site-packages (from tensorflow==2.20.0->tensorflow[and-cuda]==2.20.0) (2.20.0)\n",
            "Requirement already satisfied: keras>=3.10.0 in /media/amey/New Volume/tf-venv/lib/python3.10/site-packages (from tensorflow==2.20.0->tensorflow[and-cuda]==2.20.0) (3.11.3)\n",
            "Requirement already satisfied: numpy>=1.26.0 in /media/amey/New Volume/tf-venv/lib/python3.10/site-packages (from tensorflow==2.20.0->tensorflow[and-cuda]==2.20.0) (2.2.6)\n",
            "Requirement already satisfied: h5py>=3.11.0 in /media/amey/New Volume/tf-venv/lib/python3.10/site-packages (from tensorflow==2.20.0->tensorflow[and-cuda]==2.20.0) (3.15.1)\n",
            "Requirement already satisfied: ml_dtypes<1.0.0,>=0.5.1 in /media/amey/New Volume/tf-venv/lib/python3.10/site-packages (from tensorflow==2.20.0->tensorflow[and-cuda]==2.20.0) (0.5.3)\n",
            "Requirement already satisfied: nvidia-cublas-cu12<13.0,>=12.5.3.2 in /media/amey/New Volume/tf-venv/lib/python3.10/site-packages (from tensorflow[and-cuda]==2.20.0) (12.9.1.4)\n",
            "Requirement already satisfied: nvidia-cuda-cupti-cu12<13.0,>=12.5.82 in /media/amey/New Volume/tf-venv/lib/python3.10/site-packages (from tensorflow[and-cuda]==2.20.0) (12.9.79)\n",
            "Requirement already satisfied: nvidia-cuda-nvcc-cu12<13.0,>=12.5.82 in /media/amey/New Volume/tf-venv/lib/python3.10/site-packages (from tensorflow[and-cuda]==2.20.0) (12.9.86)\n",
            "Requirement already satisfied: nvidia-cuda-nvrtc-cu12<13.0,>=12.5.82 in /media/amey/New Volume/tf-venv/lib/python3.10/site-packages (from tensorflow[and-cuda]==2.20.0) (12.9.86)\n",
            "Requirement already satisfied: nvidia-cuda-runtime-cu12<13.0,>=12.5.82 in /media/amey/New Volume/tf-venv/lib/python3.10/site-packages (from tensorflow[and-cuda]==2.20.0) (12.9.79)\n",
            "Requirement already satisfied: nvidia-cudnn-cu12<10.0,>=9.3.0.75 in /media/amey/New Volume/tf-venv/lib/python3.10/site-packages (from tensorflow[and-cuda]==2.20.0) (9.14.0.64)\n",
            "Requirement already satisfied: nvidia-cufft-cu12<12.0,>=11.2.3.61 in /media/amey/New Volume/tf-venv/lib/python3.10/site-packages (from tensorflow[and-cuda]==2.20.0) (11.4.1.4)\n",
            "Requirement already satisfied: nvidia-curand-cu12<11.0,>=10.3.6.82 in /media/amey/New Volume/tf-venv/lib/python3.10/site-packages (from tensorflow[and-cuda]==2.20.0) (10.3.10.19)\n",
            "Requirement already satisfied: nvidia-cusolver-cu12<12.0,>=11.6.3.83 in /media/amey/New Volume/tf-venv/lib/python3.10/site-packages (from tensorflow[and-cuda]==2.20.0) (11.7.5.82)\n",
            "Requirement already satisfied: nvidia-cusparse-cu12<13.0,>=12.5.1.3 in /media/amey/New Volume/tf-venv/lib/python3.10/site-packages (from tensorflow[and-cuda]==2.20.0) (12.5.10.65)\n",
            "Requirement already satisfied: nvidia-nccl-cu12<3.0,>=2.25.1 in /media/amey/New Volume/tf-venv/lib/python3.10/site-packages (from tensorflow[and-cuda]==2.20.0) (2.28.3)\n",
            "Requirement already satisfied: nvidia-nvjitlink-cu12<13.0,>=12.5.82 in /media/amey/New Volume/tf-venv/lib/python3.10/site-packages (from tensorflow[and-cuda]==2.20.0) (12.9.86)\n",
            "Requirement already satisfied: charset_normalizer<4,>=2 in /media/amey/New Volume/tf-venv/lib/python3.10/site-packages (from requests<3,>=2.21.0->tensorflow==2.20.0->tensorflow[and-cuda]==2.20.0) (3.4.4)\n",
            "Requirement already satisfied: idna<4,>=2.5 in /media/amey/New Volume/tf-venv/lib/python3.10/site-packages (from requests<3,>=2.21.0->tensorflow==2.20.0->tensorflow[and-cuda]==2.20.0) (3.11)\n",
            "Requirement already satisfied: urllib3<3,>=1.21.1 in /media/amey/New Volume/tf-venv/lib/python3.10/site-packages (from requests<3,>=2.21.0->tensorflow==2.20.0->tensorflow[and-cuda]==2.20.0) (2.5.0)\n",
            "Requirement already satisfied: certifi>=2017.4.17 in /media/amey/New Volume/tf-venv/lib/python3.10/site-packages (from requests<3,>=2.21.0->tensorflow==2.20.0->tensorflow[and-cuda]==2.20.0) (2025.10.5)\n",
            "Requirement already satisfied: markdown>=2.6.8 in /media/amey/New Volume/tf-venv/lib/python3.10/site-packages (from tensorboard~=2.20.0->tensorflow==2.20.0->tensorflow[and-cuda]==2.20.0) (3.9)\n",
            "Requirement already satisfied: pillow in /media/amey/New Volume/tf-venv/lib/python3.10/site-packages (from tensorboard~=2.20.0->tensorflow==2.20.0->tensorflow[and-cuda]==2.20.0) (12.0.0)\n",
            "Requirement already satisfied: tensorboard-data-server<0.8.0,>=0.7.0 in /media/amey/New Volume/tf-venv/lib/python3.10/site-packages (from tensorboard~=2.20.0->tensorflow==2.20.0->tensorflow[and-cuda]==2.20.0) (0.7.2)\n",
            "Requirement already satisfied: werkzeug>=1.0.1 in /media/amey/New Volume/tf-venv/lib/python3.10/site-packages (from tensorboard~=2.20.0->tensorflow==2.20.0->tensorflow[and-cuda]==2.20.0) (3.1.3)\n",
            "Requirement already satisfied: wheel<1.0,>=0.23.0 in /media/amey/New Volume/tf-venv/lib/python3.10/site-packages (from astunparse>=1.6.0->tensorflow==2.20.0->tensorflow[and-cuda]==2.20.0) (0.45.1)\n",
            "Requirement already satisfied: rich in /media/amey/New Volume/tf-venv/lib/python3.10/site-packages (from keras>=3.10.0->tensorflow==2.20.0->tensorflow[and-cuda]==2.20.0) (14.2.0)\n",
            "Requirement already satisfied: namex in /media/amey/New Volume/tf-venv/lib/python3.10/site-packages (from keras>=3.10.0->tensorflow==2.20.0->tensorflow[and-cuda]==2.20.0) (0.1.0)\n",
            "Requirement already satisfied: optree in /media/amey/New Volume/tf-venv/lib/python3.10/site-packages (from keras>=3.10.0->tensorflow==2.20.0->tensorflow[and-cuda]==2.20.0) (0.17.0)\n",
            "Requirement already satisfied: MarkupSafe>=2.1.1 in /media/amey/New Volume/tf-venv/lib/python3.10/site-packages (from werkzeug>=1.0.1->tensorboard~=2.20.0->tensorflow==2.20.0->tensorflow[and-cuda]==2.20.0) (3.0.3)\n",
            "Requirement already satisfied: markdown-it-py>=2.2.0 in /media/amey/New Volume/tf-venv/lib/python3.10/site-packages (from rich->keras>=3.10.0->tensorflow==2.20.0->tensorflow[and-cuda]==2.20.0) (4.0.0)\n",
            "Requirement already satisfied: pygments<3.0.0,>=2.13.0 in /media/amey/New Volume/tf-venv/lib/python3.10/site-packages (from rich->keras>=3.10.0->tensorflow==2.20.0->tensorflow[and-cuda]==2.20.0) (2.19.2)\n",
            "Requirement already satisfied: mdurl~=0.1 in /media/amey/New Volume/tf-venv/lib/python3.10/site-packages (from markdown-it-py>=2.2.0->rich->keras>=3.10.0->tensorflow==2.20.0->tensorflow[and-cuda]==2.20.0) (0.1.2)\n",
            "Note: you may need to restart the kernel to use updated packages.\n"
          ]
        }
      ],
      "source": [
        "%env TMPDIR=/media/amey/New Volume/tmp\n",
        "%env PIP_CACHE_DIR=/media/amey/New Volume/pip-cache\n",
        "\n",
        "# (Re)install in this kernel only, without filling root:\n",
        "%pip install --no-cache-dir \"tensorflow[and-cuda]==2.20.0\"\n"
      ]
    },
    {
      "cell_type": "code",
      "execution_count": null,
      "id": "941a741d",
      "metadata": {},
      "outputs": [
        {
          "name": "stdout",
          "output_type": "stream",
          "text": [
            "/media/amey/New Volume/tf-venv/bin/python\n",
            "3.10.12 (main, Aug 15 2025, 14:32:43) [GCC 11.4.0]\n"
          ]
        }
      ],
      "source": [
        "import sys\n",
        "print(sys.executable) \n",
        "print(sys.version)\n",
        "\n"
      ]
    },
    {
      "cell_type": "markdown",
      "id": "5b406c1c",
      "metadata": {},
      "source": [
        "### Sanity check that TensorFlow can see your GPU and actually run math on it."
      ]
    },
    {
      "cell_type": "code",
      "execution_count": 3,
      "id": "d13331d0",
      "metadata": {},
      "outputs": [
        {
          "name": "stderr",
          "output_type": "stream",
          "text": [
            "2025-10-19 11:35:09.707240: I tensorflow/core/util/port.cc:153] oneDNN custom operations are on. You may see slightly different numerical results due to floating-point round-off errors from different computation orders. To turn them off, set the environment variable `TF_ENABLE_ONEDNN_OPTS=0`.\n",
            "2025-10-19 11:35:09.748178: I tensorflow/core/platform/cpu_feature_guard.cc:210] This TensorFlow binary is optimized to use available CPU instructions in performance-critical operations.\n",
            "To enable the following instructions: AVX2 AVX512F AVX512_VNNI FMA, in other operations, rebuild TensorFlow with the appropriate compiler flags.\n",
            "2025-10-19 11:35:10.726164: I tensorflow/core/util/port.cc:153] oneDNN custom operations are on. You may see slightly different numerical results due to floating-point round-off errors from different computation orders. To turn them off, set the environment variable `TF_ENABLE_ONEDNN_OPTS=0`.\n"
          ]
        },
        {
          "name": "stdout",
          "output_type": "stream",
          "text": [
            "GPU devices: [PhysicalDevice(name='/physical_device:GPU:0', device_type='GPU')]\n",
            "Matmul: 0.07 s\n"
          ]
        },
        {
          "name": "stderr",
          "output_type": "stream",
          "text": [
            "WARNING: All log messages before absl::InitializeLog() is called are written to STDERR\n",
            "I0000 00:00:1760866510.947860   99116 gpu_device.cc:2020] Created device /job:localhost/replica:0/task:0/device:GPU:0 with 1524 MB memory:  -> device: 0, name: NVIDIA GeForce RTX 3050 Laptop GPU, pci bus id: 0000:01:00.0, compute capability: 8.6\n"
          ]
        }
      ],
      "source": [
        "import tensorflow as tf, time\n",
        "print(\"GPU devices:\", tf.config.list_physical_devices('GPU'))\n",
        "with tf.device('/GPU:0'):\n",
        "    a=tf.random.normal([3000,3000]); b=tf.random.normal([3000,3000])\n",
        "    t=time.time(); _=tf.matmul(a,b).numpy(); print(\"Matmul:\", round(time.time()-t,3),\"s\")\n"
      ]
    },
    {
      "cell_type": "code",
      "execution_count": 35,
      "id": "b3d5ae87",
      "metadata": {},
      "outputs": [
        {
          "name": "stdout",
          "output_type": "stream",
          "text": [
            "Note: Physical devices cannot be modified after being initialized\n",
            "GPUs: [PhysicalDevice(name='/physical_device:GPU:0', device_type='GPU')]\n",
            "Mixed precision: <DTypePolicy \"mixed_float16\">\n"
          ]
        }
      ],
      "source": [
        "# --- Run FIRST, before any TF/Keras ops ---\n",
        "import os\n",
        "os.environ[\"TF_CPP_MIN_LOG_LEVEL\"] = \"2\"\n",
        "# Use env var so it works even if TF was partially initialized by something else\n",
        "os.environ[\"TF_FORCE_GPU_ALLOW_GROWTH\"] = \"true\"\n",
        "\n",
        "import tensorflow as tf\n",
        "from tensorflow.keras import mixed_precision\n",
        "\n",
        "# Try API-based memory growth (ok if it's already initialized)\n",
        "gpus = tf.config.list_physical_devices(\"GPU\")\n",
        "try:\n",
        "    for gpu in gpus:\n",
        "        tf.config.experimental.set_memory_growth(gpu, True)\n",
        "except RuntimeError as e:\n",
        "    print(\"Note:\", e)  # harmless if runtime already initialized\n",
        "\n",
        "# Optional perf tweak; disable if you see graph compilation issues\n",
        "try:\n",
        "    tf.config.optimizer.set_jit(True)  # XLA\n",
        "except Exception as e:\n",
        "    print(\"XLA not enabled:\", e)\n",
        "\n",
        "# Mixed precision on Ampere is a free win\n",
        "mixed_precision.set_global_policy(\"mixed_float16\")\n",
        "print(\"GPUs:\", gpus)\n",
        "print(\"Mixed precision:\", mixed_precision.global_policy())\n"
      ]
    },
    {
      "cell_type": "markdown",
      "id": "8083ad1a",
      "metadata": {
        "id": "8083ad1a"
      },
      "source": [
        "### 1. Load the corpus\n"
      ]
    },
    {
      "cell_type": "code",
      "execution_count": 14,
      "id": "7b0c3fe2",
      "metadata": {},
      "outputs": [
        {
          "name": "stdout",
          "output_type": "stream",
          "text": [
            "Requirement already satisfied: kagglehub in /media/amey/New Volume/tf-venv/lib/python3.10/site-packages (0.3.13)\n",
            "Requirement already satisfied: numpy in /media/amey/New Volume/tf-venv/lib/python3.10/site-packages (2.2.6)\n",
            "Collecting matplotlib\n",
            "  Downloading matplotlib-3.10.7-cp310-cp310-manylinux2014_x86_64.manylinux_2_17_x86_64.whl.metadata (11 kB)\n",
            "Requirement already satisfied: packaging in /media/amey/New Volume/tf-venv/lib/python3.10/site-packages (from kagglehub) (25.0)\n",
            "Requirement already satisfied: pyyaml in /media/amey/New Volume/tf-venv/lib/python3.10/site-packages (from kagglehub) (6.0.3)\n",
            "Requirement already satisfied: requests in /media/amey/New Volume/tf-venv/lib/python3.10/site-packages (from kagglehub) (2.32.5)\n",
            "Requirement already satisfied: tqdm in /media/amey/New Volume/tf-venv/lib/python3.10/site-packages (from kagglehub) (4.67.1)\n",
            "Collecting contourpy>=1.0.1 (from matplotlib)\n",
            "  Downloading contourpy-1.3.2-cp310-cp310-manylinux_2_17_x86_64.manylinux2014_x86_64.whl.metadata (5.5 kB)\n",
            "Collecting cycler>=0.10 (from matplotlib)\n",
            "  Downloading cycler-0.12.1-py3-none-any.whl.metadata (3.8 kB)\n",
            "Collecting fonttools>=4.22.0 (from matplotlib)\n",
            "  Downloading fonttools-4.60.1-cp310-cp310-manylinux2014_x86_64.manylinux_2_17_x86_64.whl.metadata (112 kB)\n",
            "Collecting kiwisolver>=1.3.1 (from matplotlib)\n",
            "  Downloading kiwisolver-1.4.9-cp310-cp310-manylinux_2_12_x86_64.manylinux2010_x86_64.whl.metadata (6.3 kB)\n",
            "Requirement already satisfied: pillow>=8 in /media/amey/New Volume/tf-venv/lib/python3.10/site-packages (from matplotlib) (12.0.0)\n",
            "Collecting pyparsing>=3 (from matplotlib)\n",
            "  Downloading pyparsing-3.2.5-py3-none-any.whl.metadata (5.0 kB)\n",
            "Requirement already satisfied: python-dateutil>=2.7 in /media/amey/New Volume/tf-venv/lib/python3.10/site-packages (from matplotlib) (2.9.0.post0)\n",
            "Requirement already satisfied: six>=1.5 in /media/amey/New Volume/tf-venv/lib/python3.10/site-packages (from python-dateutil>=2.7->matplotlib) (1.17.0)\n",
            "Requirement already satisfied: charset_normalizer<4,>=2 in /media/amey/New Volume/tf-venv/lib/python3.10/site-packages (from requests->kagglehub) (3.4.4)\n",
            "Requirement already satisfied: idna<4,>=2.5 in /media/amey/New Volume/tf-venv/lib/python3.10/site-packages (from requests->kagglehub) (3.11)\n",
            "Requirement already satisfied: urllib3<3,>=1.21.1 in /media/amey/New Volume/tf-venv/lib/python3.10/site-packages (from requests->kagglehub) (2.5.0)\n",
            "Requirement already satisfied: certifi>=2017.4.17 in /media/amey/New Volume/tf-venv/lib/python3.10/site-packages (from requests->kagglehub) (2025.10.5)\n",
            "Downloading matplotlib-3.10.7-cp310-cp310-manylinux2014_x86_64.manylinux_2_17_x86_64.whl (8.7 MB)\n",
            "\u001b[2K   \u001b[90m━━━━━━━━━━━━━━━━━━━━━━━━━━━━━━━━━━━━━━━━\u001b[0m \u001b[32m8.7/8.7 MB\u001b[0m \u001b[31m43.2 MB/s\u001b[0m  \u001b[33m0:00:00\u001b[0mm0:00:01\u001b[0m\n",
            "\u001b[?25hDownloading contourpy-1.3.2-cp310-cp310-manylinux_2_17_x86_64.manylinux2014_x86_64.whl (325 kB)\n",
            "Downloading cycler-0.12.1-py3-none-any.whl (8.3 kB)\n",
            "Downloading fonttools-4.60.1-cp310-cp310-manylinux2014_x86_64.manylinux_2_17_x86_64.whl (4.8 MB)\n",
            "\u001b[2K   \u001b[90m━━━━━━━━━━━━━━━━━━━━━━━━━━━━━━━━━━━━━━━━\u001b[0m \u001b[32m4.8/4.8 MB\u001b[0m \u001b[31m40.1 MB/s\u001b[0m  \u001b[33m0:00:00\u001b[0m\n",
            "\u001b[?25hDownloading kiwisolver-1.4.9-cp310-cp310-manylinux_2_12_x86_64.manylinux2010_x86_64.whl (1.6 MB)\n",
            "\u001b[2K   \u001b[90m━━━━━━━━━━━━━━━━━━━━━━━━━━━━━━━━━━━━━━━━\u001b[0m \u001b[32m1.6/1.6 MB\u001b[0m \u001b[31m20.9 MB/s\u001b[0m  \u001b[33m0:00:00\u001b[0m\n",
            "\u001b[?25hDownloading pyparsing-3.2.5-py3-none-any.whl (113 kB)\n",
            "Installing collected packages: pyparsing, kiwisolver, fonttools, cycler, contourpy, matplotlib\n",
            "\u001b[2K   \u001b[90m━━━━━━━━━━━━━━━━━━━━━━━━━━━━━━━━━━━━━━━━\u001b[0m \u001b[32m6/6\u001b[0m [matplotlib]6\u001b[0m [matplotlib]\n",
            "\u001b[1A\u001b[2KSuccessfully installed contourpy-1.3.2 cycler-0.12.1 fonttools-4.60.1 kiwisolver-1.4.9 matplotlib-3.10.7 pyparsing-3.2.5\n"
          ]
        }
      ],
      "source": [
        "! pip install kagglehub numpy matplotlib"
      ]
    },
    {
      "cell_type": "code",
      "execution_count": null,
      "id": "5d57d47f",
      "metadata": {
        "colab": {
          "base_uri": "https://localhost:8080/"
        },
        "id": "5d57d47f",
        "outputId": "bf23aa01-7dbe-4e85-c2d5-26865c7dae0b"
      },
      "outputs": [
        {
          "name": "stdout",
          "output_type": "stream",
          "text": [
            "Path to dataset files: /home/amey/.cache/kagglehub/datasets/edenbd/children-stories-text-corpus/versions/1\n",
            "/home/amey/.cache/kagglehub/datasets/edenbd/children-stories-text-corpus/versions/1/cleaned_merged_fairy_tales_without_eos.txt\n",
            "Number of characters: 20455694\n",
            "Sample preview (first 500 chars):\n",
            "\n",
            "The Happy Prince.\n",
            "HIGH above the city, on a tall column, stood the statue of the Happy Prince.  He was gilded all over with thin leaves of fine gold, for eyes he had two bright sapphires, and a large red ruby glowed on his sword-hilt.\n",
            "He was very much admired indeed.  “He is as beautiful as a weathercock,” remarked one of the Town Councillors who wished to gain a reputation for having artistic tastes; “only not quite so useful,” he added, fearing lest people should think him unpractical, which h\n",
            "\n",
            "After Cleanup:\n",
            "\n",
            "Number of characters: 22430730\n",
            "Sample preview (first 500 chars):\n",
            "\n",
            "Sentence count (approx): 214397\n",
            "Has double <eos>?: False\n",
            "the happy prince . <eos> high above the city , on a tall column , stood the statue of the happy prince . <eos> he was gilded all over with thin leaves of fine gold , for eyes he had two bright sapphires , and a large red ruby glowed on his sword - hilt . <eos> he was very much admired indeed . <eos> \" he is as beautiful as a weathercock , \" remarked one of the town councillors who wished to gain a reputation for having artistic tastes ; \" only not quite so useful , \" he added , fearing lest peop\n"
          ]
        }
      ],
      "source": [
        "import numpy as np\n",
        "import os\n",
        "import kagglehub\n",
        "import re\n",
        "\n",
        "# Download latest version\n",
        "path = kagglehub.dataset_download(\"edenbd/children-stories-text-corpus\")\n",
        "\n",
        "print(\"Path to dataset files:\", path)\n",
        "DATA_FILE = \"cleaned_merged_fairy_tales_without_eos.txt\"\n",
        "CORPUS_PATH = f\"{path}/{DATA_FILE}\"\n",
        "print(CORPUS_PATH)\n",
        "assert os.path.exists(CORPUS_PATH), f'Could not find {CORPUS_PATH}.'\n",
        "\n",
        "with open(CORPUS_PATH, 'r', encoding='utf-8', errors='ignore') as f:\n",
        "    raw_text = f.read()\n",
        "\n",
        "print('Number of characters:', len(raw_text))\n",
        "print('Sample preview (first 500 chars):\\n')\n",
        "print(f'{raw_text[:500]}\\n')\n",
        "\n",
        "# tiny cleanup\n",
        "# collapses all white spaces\n",
        "text = \" \".join(raw_text.split())\n",
        "# lower text\n",
        "text = text.lower()\n",
        "# Normalize smart quotes & dashes to plain ASCII (consistency)\n",
        "text = (text\n",
        "        .replace(\"“\", '\"').replace(\"”\", '\"')\n",
        "        .replace(\"‘\", \"'\").replace(\"’\", \"'\")\n",
        "        .replace(\"—\", \"-\"))\n",
        "text = re.sub(r'\\.\\s*\\.\\s*\\.', ' … ', text) \n",
        "\n",
        "# space out other punctuation so they becode tokens\n",
        "text = re.sub(r'([,;:\\-—\"“”‘’()\\[\\]])', r' \\1 ', text)\n",
        "text = re.sub(r'\\s+', ' ', text).strip()\n",
        "\n",
        "# Avoid <eos> after abbreviations like “mr.”, “dr.”\n",
        "abbrevs = r'(mr|mrs|ms|dr|st|vs|etc|e\\.g|i\\.e)'\n",
        "text = re.sub(fr'\\b{abbrevs}\\.', lambda m: m.group(0).replace('.', '<DOT>'), text)\n",
        "# inser <eos>(end of sentence) after sentence enders\n",
        "text = re.sub(r'([.!?])', r' \\1 <eos>', text)\n",
        "text = text.replace('<DOT>', '.')\n",
        "\n",
        "\n",
        "\n",
        "\n",
        "\n",
        "print('After Cleanup:\\n')\n",
        "print('Number of characters:', len(text))\n",
        "print('Sample preview (first 500 chars):\\n')\n",
        "num_eos = text.count(\"<eos>\")\n",
        "print(\"Sentence count (approx):\", num_eos)\n",
        "print(\"Has double <eos>?:\", \"<eos> <eos>\" in text)\n",
        "print(text[:500])\n"
      ]
    },
    {
      "cell_type": "markdown",
      "id": "69fdd695",
      "metadata": {
        "id": "69fdd695"
      },
      "source": [
        "### 2. Tokenize (word-level)"
      ]
    },
    {
      "cell_type": "code",
      "execution_count": null,
      "id": "67a49234",
      "metadata": {
        "colab": {
          "base_uri": "https://localhost:8080/"
        },
        "id": "67a49234",
        "outputId": "fec9da03-21c9-4177-9ad2-dc1c9d0a26b8"
      },
      "outputs": [
        {
          "name": "stdout",
          "output_type": "stream",
          "text": [
            "Vocabulary size: 10001\n",
            "Unique words (vocab):48496\n",
            "Number of tokens: 4756580\n",
            "Vocab used by model (input_dim):10001\n",
            "OOV token rate: 0.00%\n"
          ]
        }
      ],
      "source": [
        "# tonkenising words\n",
        "import tensorflow as tf\n",
        "from tensorflow.keras.preprocessing.text import Tokenizer\n",
        "import numpy as np\n",
        "\n",
        "# Hyperparameter\n",
        "NUM_WORDS = 10000 # Limit vocab\n",
        "OOV_TOKEN = \"<OOV>\" # Out-Vocabluary token\n",
        "FILTER = '' # punctuation remover\n",
        "\n",
        "# init tokenizer\n",
        "tokenizer = Tokenizer(num_words=NUM_WORDS, oov_token=OOV_TOKEN, filters=FILTER)\n",
        "# Learn vocab from corpus\n",
        "tokenizer.fit_on_texts([text])\n",
        "\n",
        "# Extract word index and vocabulary size\n",
        "word_index = tokenizer.word_index\n",
        "vocab_size = (min(NUM_WORDS, len(word_index)) + 1)if NUM_WORDS else len(word_index) + 1\n",
        "\n",
        "# Convert word to token id \n",
        "tokens = tokenizer.texts_to_sequences([text])[0]\n",
        "\n",
        "\n",
        "# Sanity check \n",
        "print(f'Vocabulary size: {vocab_size}')\n",
        "print(f\"Unique words (vocab):{len(word_index)}\")\n",
        "print(f'Number of tokens: {len(tokens)}')\n",
        "print(f\"Vocab used by model (input_dim):{vocab_size}\")\n",
        "\n",
        "\n",
        "\n",
        "oov_id = tokenizer.word_index.get(\"<oov>\")\n",
        "tokens_np = np.array(tokens, dtype=np.int32)\n",
        "oov_rate = (tokens_np == oov_id).mean() * 100\n",
        "print(f\"OOV token rate: {oov_rate:.2f}%\")"
      ]
    },
    {
      "cell_type": "markdown",
      "id": "874067e8",
      "metadata": {},
      "source": [
        "#### hyperparameters"
      ]
    },
    {
      "cell_type": "markdown",
      "id": "dafd2a2a",
      "metadata": {},
      "source": [
        "- NUM_WORDS = 10000\n",
        "    - We limit the vocabulary to the 10,000 most frequent words in the corpus.\n",
        "    - Why? It reduces memory and model size, and removes rare words that appear only once or twice.\n",
        "    - If your text has 47k unique words, only the top 10k will get unique IDs — the rest become <OOV>.\n",
        "\n",
        "- OOV_TOKEN = \"<OOV>\"\n",
        "    - OOV = Out-Of-Vocabulary token.\n",
        "    - This placeholder replaces any word not seen during training (rare/new words) — useful for generalization during generation.\n",
        "\n",
        "- FILTER = ''\n",
        "    - By default, Tokenizer removes punctuation (.,!?;: etc.).\n",
        "    - Here we disable filtering so punctuation (like . or ,) stays as separate tokens — important for story text and sentence structure."
      ]
    },
    {
      "cell_type": "markdown",
      "id": "90bd47e1",
      "metadata": {},
      "source": [
        "#### Sanity chek for tonkenizer process"
      ]
    },
    {
      "cell_type": "markdown",
      "id": "3ca23511",
      "metadata": {},
      "source": [
        "*How to decide on Vocab limit(NUM_WORDS)?*"
      ]
    },
    {
      "cell_type": "markdown",
      "id": "83f31a5a",
      "metadata": {},
      "source": [
        "Measure how many tokens get collapsed to <OOV> with your current NUM_WORDS=10_000. If it’s high, increase the cap.\n",
        "- **Rule of thumb for oov token**\n",
        "    - < 1–2% → 10k is fine.\n",
        "    - 2–5% → consider 20k.\n",
        "    - 5 % → go 20–30k."
      ]
    },
    {
      "cell_type": "markdown",
      "id": "BKSx8uBsFr1M",
      "metadata": {
        "id": "BKSx8uBsFr1M"
      },
      "source": [
        "### 3. Building training pairs"
      ]
    },
    {
      "cell_type": "code",
      "execution_count": 55,
      "id": "bQCtzgvzFgWB",
      "metadata": {
        "colab": {
          "base_uri": "https://localhost:8080/"
        },
        "id": "bQCtzgvzFgWB",
        "outputId": "2d308e94-84a7-4b1c-9668-f5b9e534624a"
      },
      "outputs": [],
      "source": [
        "import tensorflow as tf\n",
        "\n",
        "WIN    = 60        # context length\n",
        "BATCH  = 512\n",
        "VAL_FRAC = 0.2\n",
        "GAP      = WIN      # safety gap to avoid leakage\n",
        "\n",
        "toks = tf.constant(tokens, dtype=tf.int32)\n",
        "\n",
        "# split on raw token stream + gap\n",
        "split = int(len(tokens) * (1 - VAL_FRAC))\n",
        "t_train = toks[:split - GAP]\n",
        "t_val   = toks[split + GAP:]\n",
        "\n",
        "ds_train = tf.keras.utils.timeseries_dataset_from_array(\n",
        "    data=t_train[:-1], targets=t_train[WIN:], sequence_length=WIN,\n",
        "    sequence_stride=1, batch_size=BATCH, shuffle=True\n",
        ")\n",
        "ds_val = tf.keras.utils.timeseries_dataset_from_array(\n",
        "    data=t_val[:-1], targets=t_val[WIN:], sequence_length=WIN,\n",
        "    sequence_stride=1, batch_size=BATCH, shuffle=False\n",
        ")\n",
        "\n",
        "\n"
      ]
    },
    {
      "cell_type": "code",
      "execution_count": 56,
      "id": "eceb304b",
      "metadata": {},
      "outputs": [
        {
          "name": "stdout",
          "output_type": "stream",
          "text": [
            "X batch shape: (512, 60) y batch shape: (512,)\n",
            "tf.Tensor(\n",
            "[   5    4   11  480  201   55    8    3 2502    9 1499    1 3966    6\n",
            " 3506   32    3  515    9   15    5    4   52    3   81  780  189 4937\n",
            "  557  697   68   10  239 1005    5    4   11  225  153   21   51   11\n",
            "   44  396    8 3339   25   21   51   11   59   31   40 2770   22    3\n",
            "  231    2 1803   17], shape=(60,), dtype=int32)\n",
            "tf.Tensor(1179, shape=(), dtype=int32)\n"
          ]
        }
      ],
      "source": [
        "# Inspect one batch\n",
        "for xb, yb in ds_train.take(1):\n",
        "    print(\"X batch shape:\", xb.shape, \"y batch shape:\", yb.shape)\n",
        "    break\n",
        "\n",
        "print(xb[0])\n",
        "print(yb[0])"
      ]
    },
    {
      "cell_type": "markdown",
      "id": "GW03d0DIGRI4",
      "metadata": {
        "id": "GW03d0DIGRI4"
      },
      "source": [
        "## Building RNN model"
      ]
    },
    {
      "cell_type": "markdown",
      "id": "9NOEGeAgGpHl",
      "metadata": {
        "id": "9NOEGeAgGpHl"
      },
      "source": [
        "### 1. Define LSTM model with embedding"
      ]
    },
    {
      "cell_type": "code",
      "execution_count": 63,
      "id": "GdElwUvYGovp",
      "metadata": {
        "colab": {
          "base_uri": "https://localhost:8080/",
          "height": 374
        },
        "id": "GdElwUvYGovp",
        "outputId": "242f65d5-1e34-416e-af9b-76fd595cb8d2"
      },
      "outputs": [],
      "source": [
        "from tensorflow.keras import Sequential, Input\n",
        "from tensorflow.keras.layers import Embedding, LSTM, Dropout, Dense\n",
        "import tensorflow as tf\n",
        "\n",
        "EMBEDDING_DIM = 128\n",
        "LSTM_UNITS = 256\n",
        "VAL_DROPOUT = 0.2\n",
        "\n",
        "model = Sequential([\n",
        "    Input(shape=(WIN,)),\n",
        "    Embedding(vocab_size, EMBEDDING_DIM, mask_zero=False),   # fixed-length windows -> no mask needed\n",
        "    LSTM(LSTM_UNITS, return_sequences=True),\n",
        "    Dropout(VAL_DROPOUT),\n",
        "    LSTM(LSTM_UNITS, return_sequences=True),\n",
        "    Dropout(VAL_DROPOUT),\n",
        "    LSTM(LSTM_UNITS),\n",
        "    Dense(vocab_size, activation=\"softmax\", dtype=\"float32\") # <-- critical for mixed precision\n",
        "])\n",
        "\n",
        "model.compile(\n",
        "    optimizer=tf.keras.optimizers.Adam(learning_rate=3e-4, clipnorm=1.0),\n",
        "    loss=\"sparse_categorical_crossentropy\",\n",
        "    metrics=[\"accuracy\"]\n",
        ")\n"
      ]
    },
    {
      "cell_type": "markdown",
      "id": "d66b584f",
      "metadata": {},
      "source": [
        "### 2. Model Training"
      ]
    },
    {
      "cell_type": "code",
      "execution_count": 59,
      "id": "a5fceeff",
      "metadata": {},
      "outputs": [
        {
          "name": "stdout",
          "output_type": "stream",
          "text": [
            "Targets OK\n",
            "Pred finite: False\n"
          ]
        }
      ],
      "source": [
        "# 1) Check labels are in range\n",
        "for xb, yb in ds_train.take(1):\n",
        "    assert tf.reduce_min(yb).numpy() >= 0\n",
        "    assert tf.reduce_max(yb).numpy() < vocab_size\n",
        "print(\"Targets OK\")\n",
        "\n",
        "# 2) Check model output is finite for one batch\n",
        "preds = model(xb, training=False)\n",
        "import numpy as np\n",
        "print(\"Pred finite:\", np.isfinite(preds.numpy()).all())\n"
      ]
    },
    {
      "cell_type": "code",
      "execution_count": null,
      "id": "89cc3b9a",
      "metadata": {},
      "outputs": [
        {
          "name": "stdout",
          "output_type": "stream",
          "text": [
            "X min/max: 1 9997\n",
            "y min/max: 1 9744\n"
          ]
        }
      ],
      "source": [
        "# take one batch\n",
        "xb, yb = next(iter(ds_train))\n",
        "\n",
        "# 1) all input ids within embedding range?\n",
        "import tensorflow as tf\n",
        "print(\"X min/max:\", tf.reduce_min(xb).numpy(), tf.reduce_max(xb).numpy())\n",
        "assert tf.reduce_min(xb).numpy() >= 0\n",
        "assert tf.reduce_max(xb).numpy() < vocab_size, \"Some input ids >= vocab_size!\"\n",
        "\n",
        "# 2) targets range (you already checked but keep it here)\n",
        "print(\"y min/max:\", tf.reduce_min(yb).numpy(), tf.reduce_max(yb).numpy())\n",
        "assert tf.reduce_min(yb).numpy() >= 0\n",
        "assert tf.reduce_max(yb).numpy() < vocab_size\n"
      ]
    },
    {
      "cell_type": "code",
      "execution_count": 66,
      "id": "0behxPMKGOrg",
      "metadata": {
        "colab": {
          "base_uri": "https://localhost:8080/"
        },
        "id": "0behxPMKGOrg",
        "outputId": "a83baae7-e5c1-4eb1-8fa6-13a193178bfd"
      },
      "outputs": [
        {
          "name": "stdout",
          "output_type": "stream",
          "text": [
            "Epoch 1/15\n",
            "\u001b[1m7431/7431\u001b[0m \u001b[32m━━━━━━━━━━━━━━━━━━━━\u001b[0m\u001b[37m\u001b[0m \u001b[1m562s\u001b[0m 76ms/step - accuracy: 0.1808 - loss: 5.1825 - val_accuracy: 0.2169 - val_loss: 4.9045 - learning_rate: 3.0000e-04\n",
            "Epoch 2/15\n",
            "\u001b[1m7431/7431\u001b[0m \u001b[32m━━━━━━━━━━━━━━━━━━━━\u001b[0m\u001b[37m\u001b[0m \u001b[1m587s\u001b[0m 79ms/step - accuracy: 0.2243 - loss: 4.6780 - val_accuracy: 0.2280 - val_loss: 4.7164 - learning_rate: 3.0000e-04\n",
            "Epoch 3/15\n",
            "\u001b[1m7431/7431\u001b[0m \u001b[32m━━━━━━━━━━━━━━━━━━━━\u001b[0m\u001b[37m\u001b[0m \u001b[1m597s\u001b[0m 80ms/step - accuracy: 0.2354 - loss: 4.5049 - val_accuracy: 0.2369 - val_loss: 4.6134 - learning_rate: 3.0000e-04\n",
            "Epoch 4/15\n",
            "\u001b[1m7431/7431\u001b[0m \u001b[32m━━━━━━━━━━━━━━━━━━━━\u001b[0m\u001b[37m\u001b[0m \u001b[1m601s\u001b[0m 81ms/step - accuracy: 0.2427 - loss: 4.3924 - val_accuracy: 0.2421 - val_loss: 4.5445 - learning_rate: 3.0000e-04\n",
            "Epoch 5/15\n",
            "\u001b[1m7431/7431\u001b[0m \u001b[32m━━━━━━━━━━━━━━━━━━━━\u001b[0m\u001b[37m\u001b[0m \u001b[1m604s\u001b[0m 81ms/step - accuracy: 0.2480 - loss: 4.3078 - val_accuracy: 0.2459 - val_loss: 4.4940 - learning_rate: 3.0000e-04\n",
            "Epoch 6/15\n",
            "\u001b[1m7431/7431\u001b[0m \u001b[32m━━━━━━━━━━━━━━━━━━━━\u001b[0m\u001b[37m\u001b[0m \u001b[1m617s\u001b[0m 83ms/step - accuracy: 0.2522 - loss: 4.2413 - val_accuracy: 0.2482 - val_loss: 4.4554 - learning_rate: 3.0000e-04\n",
            "Epoch 7/15\n",
            "\u001b[1m7431/7431\u001b[0m \u001b[32m━━━━━━━━━━━━━━━━━━━━\u001b[0m\u001b[37m\u001b[0m \u001b[1m592s\u001b[0m 80ms/step - accuracy: 0.2557 - loss: 4.1854 - val_accuracy: 0.2509 - val_loss: 4.4215 - learning_rate: 3.0000e-04\n",
            "Epoch 8/15\n",
            "\u001b[1m7431/7431\u001b[0m \u001b[32m━━━━━━━━━━━━━━━━━━━━\u001b[0m\u001b[37m\u001b[0m \u001b[1m589s\u001b[0m 79ms/step - accuracy: 0.2589 - loss: 4.1369 - val_accuracy: 0.2536 - val_loss: 4.3966 - learning_rate: 3.0000e-04\n",
            "Epoch 9/15\n",
            "\u001b[1m7431/7431\u001b[0m \u001b[32m━━━━━━━━━━━━━━━━━━━━\u001b[0m\u001b[37m\u001b[0m \u001b[1m569s\u001b[0m 77ms/step - accuracy: 0.2619 - loss: 4.0944 - val_accuracy: 0.2559 - val_loss: 4.3695 - learning_rate: 3.0000e-04\n",
            "Epoch 10/15\n",
            "\u001b[1m7431/7431\u001b[0m \u001b[32m━━━━━━━━━━━━━━━━━━━━\u001b[0m\u001b[37m\u001b[0m \u001b[1m592s\u001b[0m 80ms/step - accuracy: 0.2646 - loss: 4.0567 - val_accuracy: 0.2579 - val_loss: 4.3496 - learning_rate: 3.0000e-04\n",
            "Epoch 11/15\n",
            "\u001b[1m7431/7431\u001b[0m \u001b[32m━━━━━━━━━━━━━━━━━━━━\u001b[0m\u001b[37m\u001b[0m \u001b[1m590s\u001b[0m 79ms/step - accuracy: 0.2666 - loss: 4.0235 - val_accuracy: 0.2592 - val_loss: 4.3380 - learning_rate: 3.0000e-04\n",
            "Epoch 12/15\n",
            "\u001b[1m7431/7431\u001b[0m \u001b[32m━━━━━━━━━━━━━━━━━━━━\u001b[0m\u001b[37m\u001b[0m \u001b[1m589s\u001b[0m 79ms/step - accuracy: 0.2689 - loss: 3.9934 - val_accuracy: 0.2604 - val_loss: 4.3267 - learning_rate: 3.0000e-04\n",
            "Epoch 13/15\n",
            "\u001b[1m7431/7431\u001b[0m \u001b[32m━━━━━━━━━━━━━━━━━━━━\u001b[0m\u001b[37m\u001b[0m \u001b[1m589s\u001b[0m 79ms/step - accuracy: 0.2706 - loss: 3.9659 - val_accuracy: 0.2619 - val_loss: 4.3093 - learning_rate: 3.0000e-04\n",
            "Epoch 14/15\n",
            "\u001b[1m7431/7431\u001b[0m \u001b[32m━━━━━━━━━━━━━━━━━━━━\u001b[0m\u001b[37m\u001b[0m \u001b[1m605s\u001b[0m 81ms/step - accuracy: 0.2728 - loss: 3.9404 - val_accuracy: 0.2632 - val_loss: 4.3004 - learning_rate: 3.0000e-04\n",
            "Epoch 15/15\n",
            "\u001b[1m7431/7431\u001b[0m \u001b[32m━━━━━━━━━━━━━━━━━━━━\u001b[0m\u001b[37m\u001b[0m \u001b[1m610s\u001b[0m 82ms/step - accuracy: 0.2744 - loss: 3.9166 - val_accuracy: 0.2644 - val_loss: 4.2938 - learning_rate: 3.0000e-04\n"
          ]
        }
      ],
      "source": [
        "from tensorflow.keras.callbacks import ReduceLROnPlateau,EarlyStopping,ModelCheckpoint\n",
        "from tensorflow.keras import mixed_precision\n",
        "mixed_precision.set_global_policy('mixed_float16')\n",
        "\n",
        "EPOCHS = 15\n",
        "\n",
        "MODEL_PATH = \"day75_lstm_textgen.keras\"\n",
        "\n",
        "callbacks = [\n",
        "    ReduceLROnPlateau(monitor=\"val_loss\", factor=0.5, patience=2, min_lr=1e-5, verbose=1),\n",
        "    EarlyStopping(monitor=\"val_loss\", patience=3, restore_best_weights=True),\n",
        "    ModelCheckpoint(MODEL_PATH, monitor=\"val_loss\", save_best_only=True)\n",
        "]\n",
        "\n",
        "\n",
        "VAL_FRAC = 0.2\n",
        "split = int(len(tokens) * (1 - VAL_FRAC))\n",
        "\n",
        "n_train = (split - GAP)         # number of tokens in train stream\n",
        "n_val   = (len(tokens) - (split + GAP))\n",
        "\n",
        "train_steps = max((n_train - WIN) // BATCH, 1)\n",
        "val_steps   = max((n_val   - WIN) // BATCH, 1)\n",
        "\n",
        "history = model.fit(\n",
        "    ds_train.repeat(),\n",
        "    epochs=EPOCHS,\n",
        "    steps_per_epoch=train_steps,\n",
        "    validation_data=ds_val.repeat(),\n",
        "    validation_steps=val_steps,\n",
        "    callbacks=callbacks,\n",
        "    verbose=1\n",
        ")\n",
        "\n"
      ]
    },
    {
      "cell_type": "code",
      "execution_count": 67,
      "id": "9pCUAul8PmRL",
      "metadata": {
        "id": "9pCUAul8PmRL"
      },
      "outputs": [
        {
          "data": {
            "image/png": "[encoded data removed]",
            "text/plain": [
              "<Figure size 640x480 with 1 Axes>"
            ]
          },
          "metadata": {},
          "output_type": "display_data"
        }
      ],
      "source": [
        "import matplotlib.pyplot as plt\n",
        "plt.plot(history.history[\"loss\"], label=\"train\")\n",
        "plt.plot(history.history[\"val_loss\"], label=\"val\")\n",
        "plt.legend(); plt.title(\"Loss\"); plt.show()"
      ]
    },
    {
      "cell_type": "markdown",
      "id": "8f5b9355",
      "metadata": {},
      "source": [
        "### Saving best model"
      ]
    },
    {
      "cell_type": "code",
      "execution_count": 68,
      "id": "3986dc6f",
      "metadata": {},
      "outputs": [],
      "source": [
        "best = tf.keras.models.load_model(\"day75_lstm_textgen.keras\")\n",
        "import json\n",
        "with open(\"day75_tokenizer.json\",\"w\",encoding=\"utf-8\") as f:\n",
        "    f.write(tokenizer.to_json())\n"
      ]
    },
    {
      "cell_type": "code",
      "execution_count": 69,
      "id": "e939cffc",
      "metadata": {},
      "outputs": [
        {
          "name": "stdout",
          "output_type": "stream",
          "text": [
            "Subset Perplexity: 54.43\n"
          ]
        }
      ],
      "source": [
        "def val_perplexity_subset(model, ds, batches=200):\n",
        "    import numpy as np\n",
        "    nll, n, seen = 0.0, 0, 0\n",
        "    for xb, yb in ds:\n",
        "        probs = model.predict(xb, verbose=0).astype(np.float64)\n",
        "        y = yb.numpy().astype(np.int64)\n",
        "        p = probs[np.arange(len(y)), y]\n",
        "        p = np.clip(p, 1e-12, 1.0)\n",
        "        nll += -np.log(p).sum()\n",
        "        n += len(y); seen += 1\n",
        "        if seen >= batches: break\n",
        "    return float(np.exp(nll / max(1, n)))\n",
        "\n",
        "print(\"Subset Perplexity:\", round(val_perplexity_subset(best, ds_val, batches=200), 2))\n"
      ]
    },
    {
      "cell_type": "code",
      "execution_count": 72,
      "id": "527779e3",
      "metadata": {},
      "outputs": [
        {
          "name": "stdout",
          "output_type": "stream",
          "text": [
            "Validation Perplexity: 73.18\n"
          ]
        }
      ],
      "source": [
        "ppl = val_perplexity(best, ds_val)  # full ds_val, not subset\n",
        "print(\"Validation Perplexity:\", round(ppl, 2))\n"
      ]
    },
    {
      "cell_type": "code",
      "execution_count": null,
      "id": "8e1ad9f6",
      "metadata": {},
      "outputs": [],
      "source": [
        "import numpy as np, re, tensorflow as tf\n",
        "\n",
        "# ---------- helpers ----------\n",
        "def _safe_normalize(p, eps=1e-12):\n",
        "    p = np.asarray(p, dtype=np.float64)\n",
        "    p[~np.isfinite(p)] = 0.0\n",
        "    s = p.sum()\n",
        "    if s <= eps:\n",
        "        nz = np.flatnonzero(p)\n",
        "        if len(nz) == 0:\n",
        "            p[:] = 1.0 / len(p)\n",
        "        else:\n",
        "            p[:] = 0.0\n",
        "            p[nz] = 1.0 / len(nz)\n",
        "    else:\n",
        "        p /= s\n",
        "    return p\n",
        "\n",
        "def sample_with_controls(probs, top_k=50, top_p=0.95, temperature=0.9):\n",
        "    p = np.asarray(probs, dtype=np.float64)\n",
        "    p = np.maximum(p, 1e-20)\n",
        "    p = np.log(p) / max(1e-6, temperature)\n",
        "    p = np.exp(p)\n",
        "    p = _safe_normalize(p)\n",
        "\n",
        "    if top_k and 0 < top_k < len(p):\n",
        "        keep = np.argpartition(-p, top_k)[:top_k]\n",
        "        mask = np.ones_like(p, bool); mask[keep] = False\n",
        "        p[mask] = 0.0; p = _safe_normalize(p)\n",
        "\n",
        "    if top_p and 0 < top_p < 1:\n",
        "        order = np.argsort(-p); cum = np.cumsum(p[order])\n",
        "        cut = order[cum > top_p]\n",
        "        p[cut] = 0.0; p = _safe_normalize(p)\n",
        "    return np.random.choice(len(p), p=p)\n",
        "\n",
        "# ---------- id maps / categories ----------\n",
        "word_to_id = tokenizer.word_index\n",
        "id_to_word = {idx: w for w, idx in word_to_id.items()}\n",
        "pad_idx = 0\n",
        "oov_idx = word_to_id.get(\"<oov>\")\n",
        "eos_idx = word_to_id.get(\"<eos>\")\n",
        "\n",
        "_PUNCTS = {\".\", \",\", \";\", \":\", \"!\", \"?\", \"-\", \"(\", \")\", '\"', \"…\"}\n",
        "PUNCT_IDS = {word_to_id[p] for p in _PUNCTS if p in word_to_id}\n",
        "\n",
        "FUNC_WORDS = {\"and\",\"of\",\"in\",\"to\",\"with\",\"by\",\"on\",\"as\",\"at\",\"from\",\"into\",\"under\",\"for\",\"up\",\"over\"}\n",
        "FUNC_IDS = {word_to_id[w] for w in FUNC_WORDS if w in word_to_id}\n",
        "\n",
        "_ALNUM_RE = re.compile(r\"[a-z0-9]+\")\n",
        "\n",
        "def _too_many_funcs(recent_words, limit=3):\n",
        "    c = 0\n",
        "    for w in reversed(recent_words):\n",
        "        if w in FUNC_WORDS: c += 1\n",
        "        else: break\n",
        "    return c >= limit\n",
        "\n",
        "def _postprocess(text):\n",
        "    text = text.replace(\" <eos>\", \".\")\n",
        "    text = re.sub(r\"\\s+([,;:.!?])\", r\"\\1\", text)\n",
        "    text = re.sub(r\"([(\\\"])\\s+\", r\"\\1\", text)\n",
        "    text = re.sub(r\"\\s+([\\\")])\", r\"\\1\", text)\n",
        "    text = re.sub(r\"([,;:.!?-])\\s*\\1+\", r\"\\1\", text)  # collapse repeated punct\n",
        "    text = re.sub(r\"\\s+\", \" \", text).strip()\n",
        "    return text\n",
        "\n",
        "# ---------- generator ----------\n",
        "def generate(seed_text,\n",
        "             max_new_tokens=120,\n",
        "             temperature=0.85,\n",
        "             top_k=50,\n",
        "             top_p=0.90,\n",
        "             repeat_penalty=1.07,\n",
        "             min_words_between_punct=2,\n",
        "             min_words_between_eos=8,\n",
        "             ban_oov=True):\n",
        "    out = seed_text.strip().lower()\n",
        "    recent_ids = []\n",
        "    words_since_punct = 999\n",
        "    words_since_eos = 999\n",
        "\n",
        "    for _ in range(max_new_tokens):\n",
        "        ids = tokenizer.texts_to_sequences([out])[0]\n",
        "        seq = tf.keras.preprocessing.sequence.pad_sequences(\n",
        "            [ids], maxlen=WIN, padding='post', truncating='pre'\n",
        "        )\n",
        "        probs = best.predict(seq, verbose=0)[0].astype(np.float64)\n",
        "\n",
        "        # hard bans\n",
        "        if pad_idx < len(probs): probs[pad_idx] = 0.0\n",
        "        if ban_oov and oov_idx is not None and oov_idx < len(probs):\n",
        "            probs[oov_idx] = 0.0\n",
        "\n",
        "        # discourage <eos> if sentence too short\n",
        "        if eos_idx is not None and eos_idx < len(probs) and words_since_eos < min_words_between_eos:\n",
        "            probs[eos_idx] *= 0.3\n",
        "\n",
        "        # light repetition penalty\n",
        "        for w in recent_ids[-20:]:\n",
        "            if 0 <= w < len(probs):\n",
        "                probs[w] /= repeat_penalty\n",
        "\n",
        "        # punctuation controls\n",
        "        last_is_punct = (recent_ids and recent_ids[-1] in PUNCT_IDS)\n",
        "        if last_is_punct or words_since_punct < min_words_between_punct:\n",
        "            for pid in PUNCT_IDS:\n",
        "                if pid < len(probs): probs[pid] *= 0.2\n",
        "\n",
        "        # function-word cooldown\n",
        "        last_words = [id_to_word.get(i, \"\") for i in recent_ids[-6:]]\n",
        "        if _too_many_funcs(last_words, limit=3):\n",
        "            for fid in FUNC_IDS:\n",
        "                if fid < len(probs): probs[fid] *= 0.25\n",
        "\n",
        "        probs = _safe_normalize(probs)\n",
        "\n",
        "        # resample until a valid token is chosen (bounded tries)\n",
        "        for _try in range(12):\n",
        "            idx = sample_with_controls(probs, top_k=top_k, top_p=top_p, temperature=temperature)\n",
        "            if (idx in PUNCT_IDS and words_since_punct < min_words_between_punct) \\\n",
        "               or (idx == eos_idx and words_since_eos < min_words_between_eos):\n",
        "                probs[idx] = 0.0; probs = _safe_normalize(probs)\n",
        "                continue\n",
        "            break\n",
        "        else:\n",
        "            # as a last resort, take argmax of remaining mass\n",
        "            idx = int(np.argmax(probs))\n",
        "\n",
        "        w = id_to_word.get(int(idx), \"\")\n",
        "        if not w:\n",
        "            # if unmapped (shouldn't happen), skip\n",
        "            continue\n",
        "\n",
        "        # append token\n",
        "        out += \" \" + w\n",
        "        recent_ids.append(int(idx))\n",
        "\n",
        "        if idx in PUNCT_IDS:\n",
        "            words_since_punct = 0\n",
        "        else:\n",
        "            words_since_punct += 1\n",
        "\n",
        "        if idx == eos_idx:\n",
        "            words_since_eos = 0\n",
        "        else:\n",
        "            words_since_eos += 1\n",
        "\n",
        "    return _postprocess(out)\n"
      ]
    },
    {
      "cell_type": "code",
      "execution_count": 84,
      "id": "a9486a78",
      "metadata": {},
      "outputs": [
        {
          "name": "stdout",
          "output_type": "stream",
          "text": [
            "Tokenizer oov_token: <OOV>\n",
            "Resolved OOV tokens: ['<OOV>']\n",
            "Resolved OOV ids   : [1]\n"
          ]
        }
      ],
      "source": [
        "# Build maps\n",
        "word_to_id = tokenizer.word_index\n",
        "id_to_word = {idx: w for w, idx in word_to_id.items()}\n",
        "\n",
        "# Find all plausible OOV spellings and the configured one\n",
        "oov_variants = {\"<OOV>\", \"<oov>\", \"<unk>\", \"<UNK>\"}\n",
        "if getattr(tokenizer, \"oov_token\", None):\n",
        "    oov_variants.add(tokenizer.oov_token)\n",
        "\n",
        "OOV_IDS = {word_to_id[w] for w in oov_variants if w in word_to_id}\n",
        "\n",
        "# (Optional) sanity check\n",
        "print(\"Tokenizer oov_token:\", getattr(tokenizer, \"oov_token\", None))\n",
        "print(\"Resolved OOV tokens:\", sorted(list(oov_variants & set(word_to_id.keys()))))\n",
        "print(\"Resolved OOV ids   :\", sorted(list(OOV_IDS)))\n"
      ]
    },
    {
      "cell_type": "code",
      "execution_count": 82,
      "id": "a3af600c",
      "metadata": {},
      "outputs": [
        {
          "name": "stdout",
          "output_type": "stream",
          "text": [
            "once upon a time. on <OOV> in and to and at. on in and. around and in. <OOV> <OOV> in on and from on on on - to in <OOV> as in - which which in. as in from from that, in to to into, <OOV> <OOV> in, the the of of the country - <OOV> <OOV> is a <OOV> <OOV>. walks by all the <OOV> of his crew, <OOV> to the pequod's <OOV>, he must be able report to <OOV>. cave in <OOV>, <OOV> that the <OOV> of the sperm whale fishery, the pequod was in a large <OOV>. recognised the ship, and all this <OOV> of <OOV> <OOV> <OOV>; while the ship was inserted in, the ship was a great <OOV> - boat <OOV>\n"
          ]
        }
      ],
      "source": [
        "print(generate(\n",
        "    \"once upon a time\",\n",
        "    140,\n",
        "    temperature=0.8,\n",
        "    top_k=45,\n",
        "    top_p=0.9,\n",
        "    repeat_penalty=1.08,\n",
        "    min_words_between_punct=3\n",
        "))\n"
      ]
    },
    {
      "cell_type": "code",
      "execution_count": 88,
      "id": "74fc8c17",
      "metadata": {},
      "outputs": [
        {
          "ename": "AttributeError",
          "evalue": "The layer sequential_4 has never been called and thus has no defined input.",
          "output_type": "error",
          "traceback": [
            "\u001b[0;31m---------------------------------------------------------------------------\u001b[0m",
            "\u001b[0;31mAttributeError\u001b[0m                            Traceback (most recent call last)",
            "Cell \u001b[0;32mIn[88], line 7\u001b[0m\n\u001b[1;32m      4\u001b[0m _ \u001b[38;5;241m=\u001b[39m best\u001b[38;5;241m.\u001b[39mpredict(np\u001b[38;5;241m.\u001b[39mzeros((\u001b[38;5;241m1\u001b[39m, WIN), dtype\u001b[38;5;241m=\u001b[39mnp\u001b[38;5;241m.\u001b[39mint32), verbose\u001b[38;5;241m=\u001b[39m\u001b[38;5;241m0\u001b[39m)\n\u001b[1;32m      6\u001b[0m \u001b[38;5;66;03m# 1) Create a fp32 softmax head (no retraining)\u001b[39;00m\n\u001b[0;32m----> 7\u001b[0m base \u001b[38;5;241m=\u001b[39m tf\u001b[38;5;241m.\u001b[39mkeras\u001b[38;5;241m.\u001b[39mModel(inputs\u001b[38;5;241m=\u001b[39m\u001b[43mbest\u001b[49m\u001b[38;5;241;43m.\u001b[39;49m\u001b[43minput\u001b[49m, outputs\u001b[38;5;241m=\u001b[39mbest\u001b[38;5;241m.\u001b[39mlayers[\u001b[38;5;241m-\u001b[39m\u001b[38;5;241m2\u001b[39m]\u001b[38;5;241m.\u001b[39moutput)\n\u001b[1;32m      8\u001b[0m fp32_head \u001b[38;5;241m=\u001b[39m tf\u001b[38;5;241m.\u001b[39mkeras\u001b[38;5;241m.\u001b[39mlayers\u001b[38;5;241m.\u001b[39mDense(vocab_size, activation\u001b[38;5;241m=\u001b[39m\u001b[38;5;124m\"\u001b[39m\u001b[38;5;124msoftmax\u001b[39m\u001b[38;5;124m\"\u001b[39m,\n\u001b[1;32m      9\u001b[0m                                   dtype\u001b[38;5;241m=\u001b[39m\u001b[38;5;124m\"\u001b[39m\u001b[38;5;124mfloat32\u001b[39m\u001b[38;5;124m\"\u001b[39m, name\u001b[38;5;241m=\u001b[39m\u001b[38;5;124m\"\u001b[39m\u001b[38;5;124mfp32_head\u001b[39m\u001b[38;5;124m\"\u001b[39m)\n\u001b[1;32m     11\u001b[0m best_fp32 \u001b[38;5;241m=\u001b[39m tf\u001b[38;5;241m.\u001b[39mkeras\u001b[38;5;241m.\u001b[39mModel(base\u001b[38;5;241m.\u001b[39minput, fp32_head(base\u001b[38;5;241m.\u001b[39moutput))\n",
            "File \u001b[0;32m/media/amey/New Volume/tf-venv/lib/python3.10/site-packages/keras/src/ops/operation.py:275\u001b[0m, in \u001b[0;36mOperation.input\u001b[0;34m(self)\u001b[0m\n\u001b[1;32m    265\u001b[0m \u001b[38;5;129m@property\u001b[39m\n\u001b[1;32m    266\u001b[0m \u001b[38;5;28;01mdef\u001b[39;00m\u001b[38;5;250m \u001b[39m\u001b[38;5;21minput\u001b[39m(\u001b[38;5;28mself\u001b[39m):\n\u001b[1;32m    267\u001b[0m \u001b[38;5;250m    \u001b[39m\u001b[38;5;124;03m\"\"\"Retrieves the input tensor(s) of a symbolic operation.\u001b[39;00m\n\u001b[1;32m    268\u001b[0m \n\u001b[1;32m    269\u001b[0m \u001b[38;5;124;03m    Only returns the tensor(s) corresponding to the *first time*\u001b[39;00m\n\u001b[0;32m   (...)\u001b[0m\n\u001b[1;32m    273\u001b[0m \u001b[38;5;124;03m        Input tensor or list of input tensors.\u001b[39;00m\n\u001b[1;32m    274\u001b[0m \u001b[38;5;124;03m    \"\"\"\u001b[39;00m\n\u001b[0;32m--> 275\u001b[0m     \u001b[38;5;28;01mreturn\u001b[39;00m \u001b[38;5;28;43mself\u001b[39;49m\u001b[38;5;241;43m.\u001b[39;49m\u001b[43m_get_node_attribute_at_index\u001b[49m\u001b[43m(\u001b[49m\u001b[38;5;241;43m0\u001b[39;49m\u001b[43m,\u001b[49m\u001b[43m \u001b[49m\u001b[38;5;124;43m\"\u001b[39;49m\u001b[38;5;124;43minput_tensors\u001b[39;49m\u001b[38;5;124;43m\"\u001b[39;49m\u001b[43m,\u001b[49m\u001b[43m \u001b[49m\u001b[38;5;124;43m\"\u001b[39;49m\u001b[38;5;124;43minput\u001b[39;49m\u001b[38;5;124;43m\"\u001b[39;49m\u001b[43m)\u001b[49m\n",
            "File \u001b[0;32m/media/amey/New Volume/tf-venv/lib/python3.10/site-packages/keras/src/ops/operation.py:306\u001b[0m, in \u001b[0;36mOperation._get_node_attribute_at_index\u001b[0;34m(self, node_index, attr, attr_name)\u001b[0m\n\u001b[1;32m    290\u001b[0m \u001b[38;5;250m\u001b[39m\u001b[38;5;124;03m\"\"\"Private utility to retrieves an attribute (e.g. inputs) from a node.\u001b[39;00m\n\u001b[1;32m    291\u001b[0m \n\u001b[1;32m    292\u001b[0m \u001b[38;5;124;03mThis is used to implement the properties:\u001b[39;00m\n\u001b[0;32m   (...)\u001b[0m\n\u001b[1;32m    303\u001b[0m \u001b[38;5;124;03m    The operation's attribute `attr` at the node of index `node_index`.\u001b[39;00m\n\u001b[1;32m    304\u001b[0m \u001b[38;5;124;03m\"\"\"\u001b[39;00m\n\u001b[1;32m    305\u001b[0m \u001b[38;5;28;01mif\u001b[39;00m \u001b[38;5;129;01mnot\u001b[39;00m \u001b[38;5;28mself\u001b[39m\u001b[38;5;241m.\u001b[39m_inbound_nodes:\n\u001b[0;32m--> 306\u001b[0m     \u001b[38;5;28;01mraise\u001b[39;00m \u001b[38;5;167;01mAttributeError\u001b[39;00m(\n\u001b[1;32m    307\u001b[0m         \u001b[38;5;124mf\u001b[39m\u001b[38;5;124m\"\u001b[39m\u001b[38;5;124mThe layer \u001b[39m\u001b[38;5;132;01m{\u001b[39;00m\u001b[38;5;28mself\u001b[39m\u001b[38;5;241m.\u001b[39mname\u001b[38;5;132;01m}\u001b[39;00m\u001b[38;5;124m has never been called \u001b[39m\u001b[38;5;124m\"\u001b[39m\n\u001b[1;32m    308\u001b[0m         \u001b[38;5;124mf\u001b[39m\u001b[38;5;124m\"\u001b[39m\u001b[38;5;124mand thus has no defined \u001b[39m\u001b[38;5;132;01m{\u001b[39;00mattr_name\u001b[38;5;132;01m}\u001b[39;00m\u001b[38;5;124m.\u001b[39m\u001b[38;5;124m\"\u001b[39m\n\u001b[1;32m    309\u001b[0m     )\n\u001b[1;32m    310\u001b[0m \u001b[38;5;28;01mif\u001b[39;00m \u001b[38;5;129;01mnot\u001b[39;00m \u001b[38;5;28mlen\u001b[39m(\u001b[38;5;28mself\u001b[39m\u001b[38;5;241m.\u001b[39m_inbound_nodes) \u001b[38;5;241m>\u001b[39m node_index:\n\u001b[1;32m    311\u001b[0m     \u001b[38;5;28;01mraise\u001b[39;00m \u001b[38;5;167;01mValueError\u001b[39;00m(\n\u001b[1;32m    312\u001b[0m         \u001b[38;5;124mf\u001b[39m\u001b[38;5;124m\"\u001b[39m\u001b[38;5;124mAsked to get \u001b[39m\u001b[38;5;132;01m{\u001b[39;00mattr_name\u001b[38;5;132;01m}\u001b[39;00m\u001b[38;5;124m at node \u001b[39m\u001b[38;5;124m\"\u001b[39m\n\u001b[1;32m    313\u001b[0m         \u001b[38;5;124mf\u001b[39m\u001b[38;5;124m\"\u001b[39m\u001b[38;5;132;01m{\u001b[39;00mnode_index\u001b[38;5;132;01m}\u001b[39;00m\u001b[38;5;124m, but the operation has only \u001b[39m\u001b[38;5;124m\"\u001b[39m\n\u001b[1;32m    314\u001b[0m         \u001b[38;5;124mf\u001b[39m\u001b[38;5;124m\"\u001b[39m\u001b[38;5;132;01m{\u001b[39;00m\u001b[38;5;28mlen\u001b[39m(\u001b[38;5;28mself\u001b[39m\u001b[38;5;241m.\u001b[39m_inbound_nodes)\u001b[38;5;132;01m}\u001b[39;00m\u001b[38;5;124m inbound nodes.\u001b[39m\u001b[38;5;124m\"\u001b[39m\n\u001b[1;32m    315\u001b[0m     )\n",
            "\u001b[0;31mAttributeError\u001b[0m: The layer sequential_4 has never been called and thus has no defined input."
          ]
        }
      ],
      "source": [
        "import numpy as np, tensorflow as tf\n",
        "\n",
        "# 0) Make sure the model is built\n",
        "_ = best.predict(np.zeros((1, WIN), dtype=np.int32), verbose=0)\n",
        "\n",
        "# 1) Create a fp32 softmax head (no retraining)\n",
        "base = tf.keras.Model(inputs=best.input, outputs=best.layers[-2].output)\n",
        "fp32_head = tf.keras.layers.Dense(vocab_size, activation=\"softmax\",\n",
        "                                  dtype=\"float32\", name=\"fp32_head\")\n",
        "\n",
        "best_fp32 = tf.keras.Model(base.input, fp32_head(base.output))\n",
        "\n",
        "# Alternate: force-build without running predict\n",
        "best.build((None, WIN))\n",
        "_ = best(tf.zeros((1, WIN), dtype=tf.int32), training=False)  # one call to finalize graph\n",
        "\n",
        "\n",
        "# 2) Copy weights from the old head -> new head (cast to float32)\n",
        "old_w = best.layers[-1].get_weights()\n",
        "fp32_head.set_weights([w.astype(\"float32\") for w in old_w])\n",
        "\n",
        "# 3) Sanity check: forward should now be finite\n",
        "xb, _ = next(iter(ds_train))\n",
        "preds = best_fp32(xb[:1], training=False).numpy()\n",
        "import numpy as np\n",
        "print(\"Pred finite:\", np.isfinite(preds).all())\n"
      ]
    },
    {
      "cell_type": "code",
      "execution_count": null,
      "id": "4595f58a",
      "metadata": {},
      "outputs": [
        {
          "name": "stdout",
          "output_type": "stream",
          "text": [
            "once upon a time - with and. on up in which, and in and. out for, which as. with a under. under to by which - for on. with to in. and at, of and. in and, over as. as of at <OOV>, upon his, voice of the <OOV> was a strange way, of course the <OOV> of the most <OOV> of the <OOV>; and so the <OOV>, <OOV> of all <OOV>, <OOV> all the <OOV> of <OOV>. jaw to <OOV> it, was as <OOV> as it had a <OOV>. uncle's <OOV> the whole <OOV> of the <OOV> <OOV>, so that it\n",
            "in a small village by the sea. on upon. under and about in in. as on and and at. with a. the on a in, in as and in and and. and and and and. on the. and in. into to, the by away to in and he a great <OOV> and the <OOV>. hast was about the <OOV> of the <OOV>, as if he were about to <OOV> the earth with him and the <OOV> <OOV>. raging <OOV>, that of the other hand, he would find himself a great deal to tell him how it was, and he had been <OOV> and <OOV> in the course reproach, and he <OOV>. walking his heart and he could not get into a certain hole like the <OOV>. left the way of the people of all the boys,\n"
          ]
        }
      ],
      "source": [
        "print(generate(\"once upon a time\", 120))\n",
        "print(generate(\"in a small village by the sea\", 150, temperature=0.8, top_k=60, top_p=0.9))\n",
        "\n"
      ]
    },
    {
      "cell_type": "code",
      "execution_count": 80,
      "id": "a42680e5",
      "metadata": {},
      "outputs": [
        {
          "name": "stdout",
          "output_type": "stream",
          "text": [
            "once upon a time; with in. and and <OOV> on and. with up and. to in under. <OOV> at. up a on, which to. under in on. under on. and and. a as into in. into to; of on. and to, into to, it was a very curious\n"
          ]
        }
      ],
      "source": [
        "print(generate(\"once upon a time\", 60, temperature=0.8, top_k=45, top_p=0.9))\n"
      ]
    },
    {
      "cell_type": "code",
      "execution_count": 76,
      "id": "1ee8c954",
      "metadata": {},
      "outputs": [
        {
          "name": "stdout",
          "output_type": "stream",
          "text": [
            "once upon a time. and like <OOV>. <OOV> for... on, on and,,,. on at. upon in. to. from and into, by with which for and. and for, for.,...,.. on to, <OOV> to,, <OOV>, <OOV>. shrine. lasted, when you were going into the place, there was no, we <OOV>, but the <OOV> of the two - heads, and it was a pleasant one. logs, we have not seen, i should have taken a <OOV>, and then i am to be <OOV> the way, and i will stay there in time for us. minerva, \" \" what is you going, and i can, \" said the <OOV>. a', \" that\n",
            "in a small village by the sea. upon -. <OOV>...., in through.. and in... in for on in in from through and through with through down on. and, the. from...,. <OOV> of.., with. <OOV> the, <OOV> <OOV> voice in which a moment, and the <OOV> of a <OOV>, a low, thin - <OOV> of a kind - tree <OOV>; with the <OOV> - and - <OOV> <OOV>, which was like an most <OOV> manner, which was much larger powerful goal than ever. organ, not the white whale of a hundred - four - <OOV> <OOV>, were <OOV>, that <OOV> on <OOV> the surface of the whale. squeers, the <OOV> and the <OOV> were there and <OOV>, like <OOV> of\n"
          ]
        }
      ],
      "source": [
        "print(generate(\"once upon a time\", 150))\n",
        "print(generate(\"in a small village by the sea\", 150, temperature=0.85, top_k=60, top_p=0.92))"
      ]
    },
    {
      "cell_type": "code",
      "execution_count": null,
      "id": "690a6096",
      "metadata": {},
      "outputs": [],
      "source": []
    }
  ],
  "metadata": {
    "accelerator": "GPU",
    "colab": {
      "gpuType": "T4",
      "provenance": []
    },
    "kernelspec": {
      "display_name": "tf-venv (3.10.12)",
      "language": "python",
      "name": "python3"
    },
    "language_info": {
      "codemirror_mode": {
        "name": "ipython",
        "version": 3
      },
      "file_extension": ".py",
      "mimetype": "text/x-python",
      "name": "python",
      "nbconvert_exporter": "python",
      "pygments_lexer": "ipython3",
      "version": "3.10.12"
    }
  },
  "nbformat": 4,
  "nbformat_minor": 5
}
