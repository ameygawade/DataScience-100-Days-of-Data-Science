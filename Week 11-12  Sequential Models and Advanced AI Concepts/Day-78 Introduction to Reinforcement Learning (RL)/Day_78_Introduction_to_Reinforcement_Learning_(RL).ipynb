{
 "cells": [
  {
   "cell_type": "markdown",
   "id": "b1d185e1",
   "metadata": {},
   "source": [
    "# Day-78 Introduction to Reinforcement Learning (RL)"
   ]
  },
  {
   "cell_type": "markdown",
   "id": "36f0d7bc",
   "metadata": {},
   "source": [
    "Today, we're diving into one of the most fascinating and, I'd say, almost futuristic branches of ML: Reinforcement Learning (RL). Get ready to train machines to make smart decisions through trial and error, just like we learn in the real world!"
   ]
  },
  {
   "cell_type": "markdown",
   "id": "9fce6e1e",
   "metadata": {},
   "source": [
    "So far, we've explored Supervised Learning (learning from labeled data, like predicting house prices) and Unsupervised Learning (finding patterns in unlabeled data, like clustering customers).\n",
    "\n",
    "Now, think about teaching a dog a new trick, or a baby learning to walk. There are no labeled datasets! They learn by interacting with the environment, performing an action, and getting a reward (a treat, a pat, or successfully standing up) or a penalty.\n",
    "\n",
    "This \"learning by interaction\" is the core of Reinforcement Learning. It's the mechanism behind self-driving cars, game-playing AIs like AlphaGo, and robotics. It's truly a game-changer!"
   ]
  },
  {
   "cell_type": "markdown",
   "id": "a46d06fb",
   "metadata": {},
   "source": [
    "## Topics Covered"
   ]
  },
  {
   "cell_type": "markdown",
   "id": "1402346a",
   "metadata": {},
   "source": [
    "- What is Reinforcement Learning (RL)?\n",
    "- How agents makes decision?\n",
    "- Code Implementation"
   ]
  },
  {
   "cell_type": "markdown",
   "id": "99fd414e",
   "metadata": {},
   "source": [
    "## What is Reinforcement Learning (RL)"
   ]
  },
  {
   "cell_type": "markdown",
   "id": "62827427",
   "metadata": {},
   "source": [
    "Reinforcement Learning (RL) is a type of Machine Learning where an agent learns to make decisions by interacting with an environment to achieve a goal.\n",
    "\n",
    "Instead of learning from labeled data (like in supervised learning), RL learns from trial and error — by performing actions and receiving rewards or penalties as feedback."
   ]
  },
  {
   "cell_type": "markdown",
   "id": "e33be7e1",
   "metadata": {},
   "source": [
    "### Core components of RL"
   ]
  },
  {
   "cell_type": "markdown",
   "id": "686579a8",
   "metadata": {},
   "source": [
    "| Component       | Description                        | Example                                   |\n",
    "| --------------- | ---------------------------------- | ----------------------------------------- |\n",
    "| **Agent**       | The learner or decision-maker      | A robot, game player, or self-driving car |\n",
    "| **Environment** | The world the agent interacts with | The road, the game, the room              |\n",
    "| **State (S)**   | Current situation of the agent     | Car’s speed and position                  |\n",
    "| **Action (A)**  | Decision taken by the agent        | Accelerate, turn left, brake              |\n",
    "| **Reward (R)**  | Feedback from environment          | +1 for staying on road, -1 for crash      |\n"
   ]
  },
  {
   "cell_type": "markdown",
   "id": "17a15361",
   "metadata": {},
   "source": [
    "### Key Concept:"
   ]
  },
  {
   "cell_type": "markdown",
   "id": "869e9194",
   "metadata": {},
   "source": [
    "RL is based on this feedback loop\n",
    "\n",
    "`Agent → takes an action → Environment → gives a reward → Agent learns → repeat!`\n",
    "\n",
    "The goal of the agent is to maximize cumulative reward over time."
   ]
  },
  {
   "cell_type": "markdown",
   "id": "e0cd9a74",
   "metadata": {},
   "source": [
    "Let’s imagine you’re teaching your dog to fetch a ball\n",
    "\n",
    "- You say “Fetch!” (action).\n",
    "\n",
    "- The dog runs and grabs the ball (environment responds).\n",
    "\n",
    "- You give a treat (reward).\n",
    "\n",
    "Over time, the dog learns: **“If I fetch the ball, I get a treat — so I’ll do it again!”**\n",
    "\n",
    "That’s Reinforcement Learning — learning by reward-based feedback.\n",
    "\n",
    "Similarly, in a video game, an RL agent learns to maximize its score by exploring actions and seeing what gives the best long-term reward."
   ]
  },
  {
   "cell_type": "markdown",
   "id": "5fa7898f",
   "metadata": {},
   "source": [
    "### Types of Reinforcement Learning\n"
   ]
  },
  {
   "cell_type": "markdown",
   "id": "980d0a0f",
   "metadata": {},
   "source": [
    "#### Based on Reward Type:\n",
    "| Type                              | Description                                                                       | Key Idea                                         | Example                                                    |\n",
    "| --------------------------------- | --------------------------------------------------------------------------------- | ------------------------------------------------ | ---------------------------------------------------------- |\n",
    "| **1. Positive Reinforcement**     | Increases the likelihood of repeating a behavior by giving a **positive reward**. | Encourages good behavior.                        | Dog gets a treat after sitting when told.             |\n",
    "| **2. Negative Reinforcement**     | Increases behavior by **removing a negative condition** after the desired action. | Removes discomfort when correct action is taken. | Seatbelt alarm stops once you wear the belt.            |\n",
    "| **3. Punishment (Penalty-Based)** | **Discourages** a behavior by applying a penalty or negative reward.              | Reduces bad behavior.                            | Car gets -10 reward for hitting a wall.               |\n",
    "| **4. Extinction**                 | Previously learned behavior is **forgotten** when it no longer gives rewards.     | Removes behavior with no feedback.               | Agent stops pressing a button that no longer gives reward. |"
   ]
  },
  {
   "cell_type": "markdown",
   "id": "c9c1464b",
   "metadata": {},
   "source": [
    "#### Algorithmic Classification (Technical View)"
   ]
  },
  {
   "cell_type": "markdown",
   "id": "2c873f45",
   "metadata": {},
   "source": [
    "From an algorithm perspective, RL can also be categorized into three major types"
   ]
  },
  {
   "cell_type": "markdown",
   "id": "cf46ad02",
   "metadata": {},
   "source": [
    "| Type                   | Description                                                                              | Example                            |\n",
    "| ---------------------- | ---------------------------------------------------------------------------------------- | ---------------------------------- |\n",
    "| **1. Value-Based RL**  | Learns a **value function (Q-value)** that estimates how good each action is in a state. | **Q-Learning**, **SARSA**          |\n",
    "| **2. Policy-Based RL** | Learns the **policy directly** — doesn’t rely on Q-tables.                               | **REINFORCE**, **Policy Gradient** |\n",
    "| **3. Actor–Critic RL** | Combines both — **actor** (policy) + **critic** (value function).                        | **A3C**, **PPO**, **DDPG**         |\n"
   ]
  },
  {
   "cell_type": "markdown",
   "id": "0758cb3f",
   "metadata": {},
   "source": [
    "#### Based on Knowledge Type"
   ]
  },
  {
   "cell_type": "markdown",
   "id": "8b8ebe0c",
   "metadata": {},
   "source": [
    "based on how the agent understands the environment RL can be classified into 2 types:"
   ]
  },
  {
   "cell_type": "markdown",
   "id": "2050da14",
   "metadata": {},
   "source": [
    "| Type               | What it Means                                                                       | The Agent Knows / Learns                                                        | Analogy                                                                                    |\n",
    "| ------------------ | ----------------------------------------------------------------------------------- | ------------------------------------------------------------------------------- | ------------------------------------------------------------------------------------------ |\n",
    "| **Model-Based RL** | The agent **builds or uses a model** of the environment to plan actions.            | It knows the **state transitions** → “If I do A in state S, I’ll end up in S′.” | Like **playing chess** — you can “think ahead” and simulate future moves before acting.  |\n",
    "| **Model-Free RL**  | The agent **learns purely from experience** — no explicit model of the environment. | It doesn’t know what will happen next until it tries.                           | Like **learning to ride a bike** — you learn by falling and improving each time.        |\n"
   ]
  },
  {
   "cell_type": "markdown",
   "id": "2cb243df",
   "metadata": {},
   "source": [
    "### RL vs Supervised vs Unsupervised Learning"
   ]
  },
  {
   "cell_type": "markdown",
   "id": "4c767b0c",
   "metadata": {},
   "source": [
    "| Type              | Learns From               | Example                |\n",
    "| ----------------- | ------------------------- | ---------------------- |\n",
    "| **Supervised**    | Labeled data              | Email spam detection   |\n",
    "| **Unsupervised**  | Hidden patterns           | Customer segmentation  |\n",
    "| **Reinforcement** | Feedback from environment | Game playing, robotics |\n"
   ]
  },
  {
   "cell_type": "markdown",
   "id": "7a7bd45b",
   "metadata": {},
   "source": [
    "## How agents makes decision?"
   ]
  },
  {
   "cell_type": "markdown",
   "id": "97f41e36",
   "metadata": {},
   "source": [
    "In Reinforcement Learning, the Agent is the decision-maker.\n",
    "To decide what to do next, it uses two key tools:\n",
    "\n",
    "-  `Policy` ( $\\pi$ ) → its strategy\n",
    "-  `Q-Table` ($Q$) → its memory of experiences"
   ]
  },
  {
   "cell_type": "markdown",
   "id": "1bdbc4e9",
   "metadata": {},
   "source": [
    "| Concept         | Role                                                                       | Relationship                              |\n",
    "| --------------- | -------------------------------------------------------------------------- | ----------------------------------------- |\n",
    "| **Agent**       | Learner / decision maker                                                   | Uses both **Policy** and **Q-Table**      |\n",
    "| **Policy (π)**  | Strategy that decides which action to take                                 | Derived from the **Q-table**              |\n",
    "| **Q-Table (Q)** | Memory that stores the quality (expected reward) of each action-state pair | Helps to **improve** the policy over time |\n"
   ]
  },
  {
   "cell_type": "markdown",
   "id": "199665bb",
   "metadata": {},
   "source": [
    "`Analogy`:"
   ]
  },
  {
   "cell_type": "markdown",
   "id": "60535f8f",
   "metadata": {},
   "source": [
    "Think of the agent as a student learning to play chess:\n",
    "\n",
    "- **The Q-table** is its $notebook$ — where it writes down which moves worked well.\n",
    "\n",
    "- **The policy** is its playing $strategy$ — how it decides what move to play next.\n",
    "\n",
    "The agent reads from its notebook (Q-table) to guide its strategy (policy)."
   ]
  },
  {
   "cell_type": "markdown",
   "id": "bd621e92",
   "metadata": {},
   "source": [
    "`flow diagram`"
   ]
  },
  {
   "cell_type": "markdown",
   "id": "201ff55a",
   "metadata": {},
   "source": [
    "Agent → Policy → Action → Environment → Reward → Q-Table update → Policy improvement"
   ]
  },
  {
   "cell_type": "markdown",
   "id": "ed667045",
   "metadata": {},
   "source": [
    "### What is Policy ($\\pi$)?The Agent's Strategy"
   ]
  },
  {
   "cell_type": "markdown",
   "id": "fbe950b9",
   "metadata": {},
   "source": [
    "In the context of Reinforcement Learning, the Policy ($\\pi$) is the Agent's strategy or master plan for making decisions. It is the definitive rule that the Agent uses to determine what Action ($a$) to take when it is in a particular State ($s$).\n",
    "\n",
    "`Goal`: The Agent's entire training process is about finding the optimal policy ($\\pi^*$) that maximizes the expected cumulative reward over time."
   ]
  },
  {
   "cell_type": "markdown",
   "id": "e523fe0c",
   "metadata": {},
   "source": [
    "Think about a self-driving car (the Agent). The Policy is the set of rules it follows at every moment:"
   ]
  },
  {
   "cell_type": "markdown",
   "id": "385795b0",
   "metadata": {},
   "source": [
    "| State (s) (Observation) |Policy (π) (Rule/Strategy) |Action (a) (Decision)                        |\n",
    "|-------------------------|---------------------------|---------------------------------------------|\n",
    "|State: Red traffic light |Rule: Stop and wait.       |Action: Apply brakes.                        |\n",
    "|State: Clear road ahead  |Rule: Maintain speed limit.|Action: Press gas pedal lightly.             |\n",
    "|State: Car merging left  |Rule: Slightly steer right.|Action: Turn steering wheel 2 degrees right. |"
   ]
  },
  {
   "cell_type": "markdown",
   "id": "4e48d8de",
   "metadata": {},
   "source": [
    "In this analogy:\n",
    "\n",
    "The Policy is the entire, comprehensive driving manual that maps every possible road situation (state) to the correct driving response (action)."
   ]
  },
  {
   "cell_type": "markdown",
   "id": "301171f1",
   "metadata": {},
   "source": [
    "#### Types of policies"
   ]
  },
  {
   "cell_type": "markdown",
   "id": "5efbed29",
   "metadata": {},
   "source": [
    "| Type                        | Description                                                              | Behavior / Formula                         | Example                                                   |\n",
    "| --------------------------- | ------------------------------------------------------------------------ | ------------------------------------------ | --------------------------------------------------------- | \n",
    "| **1. Deterministic Policy** | Always picks **one fixed action** for each state                         | $( a = \\pi(s)$ )                   | If traffic light = red → always stop |                      \n",
    "| **2. Stochastic Policy**    | Picks **actions based on probabilities**                                 | $( \\pi(a\\|s) = P(a\\|s) )  $        |   80% go straight, 20% turn right |\n",
    "| **3. Random Policy**        | Chooses **actions completely at random**, regardless of state            | $( \\pi(a\\|s) = \\frac{1}{A} )$         | Agent explores blindly in the environment |\n",
    "| **4. Greedy Policy**        | Always picks the **action with the highest Q-value** (best known so far) | $( a = \\arg\\max_a Q(s,a) ) $       | Always chooses what seems best now |\n",
    "| **5. ε-Greedy Policy**      | Chooses the **best action most of the time**, but **explores sometimes** | With probability ε → explore, else exploit | 90% time take best move, 10% random                                                                 |    \n",
    "| **6. Softmax Policy**       | Selects actions **proportionally to their Q-values** using Softmax       | $( P(a\\|s) = \\frac{e^{Q(s,a)/\\tau}}{\\sum_{a'} e^{Q(s,a')/\\tau}} )$ | High-value actions = higher chance, not guaranteed|  \n",
    "| **7. Optimal Policy**       | The **final goal** — the policy that gives **maximum cumulative reward** | $( \\pi^*(a\\|s) ) $  | What your agent learns after training – the “best” strategy |\n"
   ]
  },
  {
   "cell_type": "markdown",
   "id": "4bf5bd02",
   "metadata": {},
   "source": [
    "### The Exploration vs. Exploitation Trade-off"
   ]
  },
  {
   "cell_type": "markdown",
   "id": "fc1bc469",
   "metadata": {},
   "source": [
    "This trade-off is the core dilemma in Reinforcement Learning, and the $\\epsilon$-greedy strategy is designed to manage it. We will talk about Epsilon-greedy policy in bit but first lets discuss what is exploration and exploitation?"
   ]
  },
  {
   "cell_type": "markdown",
   "id": "0a7f3d68",
   "metadata": {},
   "source": [
    "| **Term**         | **Definition**                                                                          | **Goal**                                                                      | **Analogy**                                                                           |\n",
    "| ---------------- | --------------------------------------------------------------------------------------- | ----------------------------------------------------------------------------- | ------------------------------------------------------------------------------------- |\n",
    "| **Exploitation** | Choosing the best known action based on current experience and knowledge (the Q-table). | To maximize reward immediately by using the current optimal strategy.         | Always eating at your favorite restaurant because you know it's good.               |\n",
    "| **Exploration**  | Choosing a random or sub-optimal action that hasn't been tried frequently.              | To discover new information that could lead to a higher reward in the future. | Trying a new, unknown restaurant to see if it's better than your current favorite.  |\n"
   ]
  },
  {
   "cell_type": "markdown",
   "id": "c0c7dbb8",
   "metadata": {},
   "source": [
    "The Exploration-Exploitation Trade-off is the core challenge. An Agent must balance these two activities:\n",
    "\n",
    "- If the Agent only exploits (acts Greedy), it risks getting stuck in a local optimum—a good path, but potentially missing out on a much better, undiscovered path.\n",
    "\n",
    "- If the Agent only explores (acts Random), it may spend too much time on poor actions and never consistently achieve a high reward, thus learning an inefficient policy.\n",
    "\n",
    "The **Epsilon-Greedy Policy** is the most common solution, allowing the Agent to explore frequently at the beginning of training (when knowledge is low) and exploit more frequently toward the end (when knowledge is high)."
   ]
  },
  {
   "cell_type": "markdown",
   "id": "d351ab33",
   "metadata": {},
   "source": [
    "### Epsilon-greedy policy"
   ]
  },
  {
   "cell_type": "markdown",
   "id": "e27d9e28",
   "metadata": {},
   "source": [
    "The Epsilon-Greedy Policy is a controlled mix of these two strategies:\n",
    "1. With a small probability $\\mathbf{\\epsilon}$ (epsilon): You Explore. You randomly pick a new restaurant you've never tried.\n",
    "2.  With a large probability $\\mathbf{1 - \\epsilon}$: You Exploit. You go to your current favorite restaurant (the one you believe is the best based on your experience)."
   ]
  },
  {
   "attachments": {
    "image.png": {
     "image/png": "[encoded data removed]"
    }
   },
   "cell_type": "markdown",
   "id": "a37a14ec",
   "metadata": {},
   "source": [
    "![image.png](attachment:image.png)"
   ]
  },
  {
   "cell_type": "markdown",
   "id": "d6f80b69",
   "metadata": {},
   "source": [
    "Example: If $\\epsilon = 0.1$ (10%):\n",
    "- $10\\%$ of the time, you try a random new place (Exploration).\n",
    "- $90\\%$ of the time, you go to your known best place (Exploitation)."
   ]
  },
  {
   "cell_type": "markdown",
   "id": "6f5af190",
   "metadata": {},
   "source": [
    "### What is a Q-Table?"
   ]
  },
  {
   "cell_type": "markdown",
   "id": "c4a2d7aa",
   "metadata": {},
   "source": [
    "A Q-table (Quality Table) is a lookup table that helps the agent decide what action to take in a given state."
   ]
  },
  {
   "cell_type": "markdown",
   "id": "b796fa43",
   "metadata": {},
   "source": [
    "It stores the expected future reward (Q-value) for each state–action pair.\n",
    "Formally:\n",
    "\n",
    "$ 𝑄(𝑠,𝑎)$ = expected total reward if the agent takes action $ 𝑎$ in state $ 𝑠 $\n",
    "\n",
    "\n",
    "The agent keeps updating these values during training using the Q-learning formula:\n",
    "\n",
    "$Q(s,a)=Q(s,a)+\\alpha[r +\\gamma max Q(s′,a′) − Q(s,a)]$\n",
    "\n",
    "Where\n",
    "\n",
    "- $s$: current state\n",
    "\n",
    "- $a$: action taken\n",
    "\n",
    "- $r$: reward\n",
    "\n",
    "- $\\alpha$: learning rate\n",
    "\n",
    "- $\\gamma$: discount factor"
   ]
  },
  {
   "cell_type": "markdown",
   "id": "528afd2f",
   "metadata": {},
   "source": [
    "## Code implementation:"
   ]
  },
  {
   "cell_type": "markdown",
   "id": "da573b26",
   "metadata": {},
   "source": [
    "We will use OpenAI Gymnasium (formerly OpenAI Gym) to implement Model-Free Reinforcement Learning using the Q-Learning algorithm. In RL an agent requires an environment that provides a simulation for learning optimal actions through trial and error."
   ]
  },
  {
   "cell_type": "code",
   "execution_count": null,
   "id": "7fb6283f",
   "metadata": {},
   "outputs": [
    {
     "name": "stdout",
     "output_type": "stream",
     "text": [
      "Requirement already satisfied: gymnasium in c:\\users\\amey9\\documents\\github\\datascience-100-days-of-data-science\\.venv\\lib\\site-packages (1.2.1)\n",
      "Requirement already satisfied: numpy>=1.21.0 in c:\\users\\amey9\\documents\\github\\datascience-100-days-of-data-science\\.venv\\lib\\site-packages (from gymnasium) (2.3.4)\n",
      "Requirement already satisfied: cloudpickle>=1.2.0 in c:\\users\\amey9\\documents\\github\\datascience-100-days-of-data-science\\.venv\\lib\\site-packages (from gymnasium) (3.1.1)\n",
      "Requirement already satisfied: typing-extensions>=4.3.0 in c:\\users\\amey9\\documents\\github\\datascience-100-days-of-data-science\\.venv\\lib\\site-packages (from gymnasium) (4.15.0)\n",
      "Requirement already satisfied: farama-notifications>=0.0.1 in c:\\users\\amey9\\documents\\github\\datascience-100-days-of-data-science\\.venv\\lib\\site-packages (from gymnasium) (0.0.4)\n"
     ]
    },
    {
     "name": "stderr",
     "output_type": "stream",
     "text": [
      "WARNING: There was an error checking the latest version of pip.\n"
     ]
    }
   ],
   "source": [
    "! pip install gymnasium"
   ]
  },
  {
   "cell_type": "markdown",
   "id": "50f8c058",
   "metadata": {},
   "source": [
    "### 1. Understand the Environment"
   ]
  },
  {
   "cell_type": "markdown",
   "id": "bf20ea6b",
   "metadata": {},
   "source": [
    "We will use the Taxi-v3 environment from OpenAI Gymnasium a classic RL problem designed to train an agent to navigate a grid world and transport passengers efficiently."
   ]
  },
  {
   "attachments": {
    "image.png": {
     "image/png": "[encoded data removed]"
    }
   },
   "cell_type": "markdown",
   "id": "d7ba9d67",
   "metadata": {},
   "source": [
    "![image.png](attachment:image.png)"
   ]
  },
  {
   "cell_type": "markdown",
   "id": "e54d1954",
   "metadata": {},
   "source": [
    "https://gymnasium.farama.org/environments/toy_text/taxi/"
   ]
  },
  {
   "cell_type": "code",
   "execution_count": 1,
   "id": "986f679a",
   "metadata": {},
   "outputs": [
    {
     "name": "stdout",
     "output_type": "stream",
     "text": [
      "+---------+\n",
      "|R: | : :\u001b[35mG\u001b[0m|\n",
      "| : | : : |\n",
      "| : : : : |\n",
      "| | : |\u001b[43m \u001b[0m: |\n",
      "|Y| : |\u001b[34;1mB\u001b[0m: |\n",
      "+---------+\n",
      "\n",
      "\n"
     ]
    }
   ],
   "source": [
    "import gymnasium as gym\n",
    "env = gym.make('Taxi-v3', render_mode='ansi')\n",
    "env.reset()\n",
    "\n",
    "print(env.render())"
   ]
  },
  {
   "cell_type": "markdown",
   "id": "1b584932",
   "metadata": {},
   "source": [
    "- That code snippet initializes the `Gymnasium Taxi-v3` environment and renders its initial state to the console using ANSI characters.\n",
    "- The output will be a textual representation of the 5x5 grid world. Since the environment is reset to a random state, the exact placement of the taxi, passenger, and destination will vary, but the structure remains the same."
   ]
  },
  {
   "cell_type": "markdown",
   "id": "09e94e4d",
   "metadata": {},
   "source": [
    "| **Symbol(s)**                            | **Description**                                               | **Role in Environment**                                 |\n",
    "| ---------------------------------------- | ------------------------------------------------------------- | ------------------------------------------------------- |\n",
    "| **+---+**                                | The boundary of the 5×5 grid world.                           | Defines the limits of the environment.                  |                                   |\n",
    "| **`                                      \\| `** and **`:`**                                               | Walls that block the Taxi’s movement.                   | Restrict where the Taxi can move. |\n",
    "| **R, G, Y, B**                           | The four designated landmarks.                                | Possible pickup and drop-off locations.                 |                                   |\n",
    "| **Blue Letter** (e.g., Blue **R**)       | The **current location** of the passenger.                    | Represents the passenger’s **state before pickup**.     |                                   |\n",
    "| **Magenta Letter** (e.g., Magenta **G**) | The **destination** for the passenger.                        | Represents the **target state for drop-off**.           |                                   |\n",
    "| **Yellow Taxi**                          | Taxi Agent is present and currently **empty** (no passenger). | Represents the agent’s **state (location and status)**. |                                   |\n",
    "| **Green Taxi**                           | Taxi Agent is present and currently **carrying a passenger**. | Represents the agent’s **state (location and status)**. |                                   |\n"
   ]
  },
  {
   "cell_type": "markdown",
   "id": "1ab3cd56",
   "metadata": {},
   "source": [
    "### 2. Getting state, action and Initializing Q-table"
   ]
  },
  {
   "cell_type": "code",
   "execution_count": 2,
   "id": "13ae4129",
   "metadata": {},
   "outputs": [
    {
     "name": "stdout",
     "output_type": "stream",
     "text": [
      "Total States: 500\n",
      "Total Actions: 6\n",
      "Q-Table Shape: (500, 6)\n"
     ]
    }
   ],
   "source": [
    "import numpy as np\n",
    "\n",
    "# 1. Get State/Action Space Sizes\n",
    "state_space_size = env.observation_space.n\n",
    "action_space_size = env.action_space.n\n",
    "\n",
    "# 2. Initialize the Q-table (500 rows x 6 columns)\n",
    "q_table = np.zeros((state_space_size, action_space_size))\n",
    "\n",
    "print(f\"Total States: {state_space_size}\")\n",
    "print(f\"Total Actions: {action_space_size}\")\n",
    "print(f\"Q-Table Shape: {q_table.shape}\")"
   ]
  },
  {
   "cell_type": "markdown",
   "id": "c0ac3b4b",
   "metadata": {},
   "source": [
    "There are 500 discrete states since there are 25 taxi positions, 5 possible locations of the passenger (including the case when the passenger is in the taxi), and 4 destination locations."
   ]
  },
  {
   "cell_type": "markdown",
   "id": "c2c5625d",
   "metadata": {},
   "source": [
    "The action shape is (1,) in the range {0, 5} indicating which direction to move the taxi or to pickup/drop off passengers.\n",
    "So, we have following 6 actions\n",
    "\n",
    "- 0: Move south (down)\n",
    "\n",
    "- 1: Move north (up)\n",
    "\n",
    "- 2: Move east (right)\n",
    "\n",
    "- 3: Move west (left)\n",
    "\n",
    "- 4: Pickup passenger\n",
    "\n",
    "- 5: Drop off passenger"
   ]
  },
  {
   "cell_type": "markdown",
   "id": "9c8c9d5a",
   "metadata": {},
   "source": [
    "### 3. Training"
   ]
  },
  {
   "cell_type": "markdown",
   "id": "4dd2ed43",
   "metadata": {},
   "source": [
    "Before we start with training. We have to clear some nomenclature which is related to RL."
   ]
  },
  {
   "cell_type": "markdown",
   "id": "ca7eccae",
   "metadata": {},
   "source": [
    "- `Episode`: A sequence of interactions between an agent and its environment, starting from an initial state and ending at a terminal state.\n",
    "- `Episode Steps`: An action taken in the environment leading to a state and reward. Part of the data generated during the sampling phase in reinforcement learning\n",
    "- `The Epsilon Solution (Decay)`:In Q-Learning, we start with a high $\\epsilon$ (e.g., $\\epsilon=1.0$) and gradually decay it over thousands of episodes.    \n",
    "    - **Start ($\\epsilon \\approx 1.0$)**: The Agent is mostly exploring (random movement) to gather initial knowledge and fill the $\\mathbf{Q}$-table.Middle: The Agent uses a good mix of both to refine the Q-values.\n",
    "    - **End ($\\epsilon \\approx 0.01$)**: The Agent is mostly exploiting the optimal path it has learned, only exploring occasionally to ensure it hasn't missed any last-minute improvements.\n",
    "\n",
    "By decaying $\\epsilon$, we ensure the Agent first gains comprehensive knowledge and then utilizes that knowledge effectively to find the ultimate optimal policy.\n",
    " "
   ]
  },
  {
   "cell_type": "code",
   "execution_count": null,
   "id": "0c3e7af0",
   "metadata": {},
   "outputs": [
    {
     "name": "stdout",
     "output_type": "stream",
     "text": [
      "Training finished. The Q-table now holds the optimal policy (estimated Q-values).\n",
      "Sample Q-table slice:\n",
      " [[  0.           0.           0.           0.           0.\n",
      "    0.        ]\n",
      " [ -2.41837066  -2.3639511   -2.41837066  -2.3639511   -2.27325184\n",
      "  -11.3639511 ]\n",
      " [ -1.870144    -1.45024     -1.870144    -1.45024     -0.7504\n",
      "  -10.45024   ]\n",
      " [ -2.3639511   -2.27325184  -2.3639511   -2.27325184  -2.1220864\n",
      "  -11.27325184]\n",
      " [ -2.49619087  -2.49625368  -2.49619092  -2.49650594 -11.49599254\n",
      "  -11.49514162]]\n"
     ]
    }
   ],
   "source": [
    "# 1. Define Hyperparameters\n",
    "alpha = 0.1     # Learning Rate\n",
    "gamma = 0.6     # Discount Factor\n",
    "epsilon = 1.0   # Initial Exploration Rate\n",
    "max_epsilon = 1.0   # The maximum value for epsilon \n",
    "min_epsilon = 0.01  # The minimum value for epsilon\n",
    "decay_rate = 0.0001\n",
    "total_episodes = 50000\n",
    "\n",
    "# Start Training\n",
    "for episode in range(total_episodes):\n",
    "    # Reset environment for a new episode\n",
    "    state, info = env.reset()\n",
    "    done = False\n",
    "    \n",
    "    while not done:\n",
    "        # 2. Epsilon-Greedy Strategy (Action Selection)\n",
    "        if np.random.random() < epsilon:\n",
    "            # Exploration: Choose a random action\n",
    "            action = env.action_space.sample() \n",
    "        else:\n",
    "            # Exploitation: Choose the best action based on the Q-table\n",
    "            action = np.argmax(q_table[state, :]) \n",
    "\n",
    "        # 3. Take Action and Observe\n",
    "        new_state, reward, terminated, truncated, info = env.step(action)\n",
    "        done = terminated or truncated\n",
    "\n",
    "        # 4. Apply the Q-Learning Update Rule\n",
    "        # The key step! Update the Q-value based on the Bellman equation\n",
    "        old_value = q_table[state, action]\n",
    "        max_future_q = np.max(q_table[new_state, :])\n",
    "        \n",
    "        new_q_value = old_value + alpha * (reward + gamma * max_future_q - old_value)\n",
    "        q_table[state, action] = new_q_value\n",
    "\n",
    "        # Transition to the new state\n",
    "        state = new_state\n",
    "\n",
    "    # 5. Decay Epsilon (Reduce exploration over time)\n",
    "    epsilon = min_epsilon + (max_epsilon - min_epsilon) * np.exp(-decay_rate * episode)\n",
    "\n",
    "# Final step: Close the environment\n",
    "env.close()\n",
    "\n",
    "print(\"Training finished. The Q-table now holds the optimal policy (estimated Q-values).\")\n",
    "# The trained q_table can now be used to run the agent optimally.\n",
    "print(\"Sample Q-table slice:\\n\", q_table[:5])"
   ]
  },
  {
   "cell_type": "markdown",
   "id": "670f8edd",
   "metadata": {},
   "source": [
    "### Interpreting the Trained Q-Table"
   ]
  },
  {
   "cell_type": "markdown",
   "id": "06d9b920",
   "metadata": {},
   "source": [
    "Above Q-table slice contains $Q(s, a)$ values, where each row is a State ($s$) and each column is an Action ($a$)."
   ]
  },
  {
   "cell_type": "markdown",
   "id": "11b5c57e",
   "metadata": {},
   "source": [
    "The Agent's Policy is to simply choose the action with the highest Q-value for its current state."
   ]
  },
  {
   "cell_type": "markdown",
   "id": "d8ac6c0f",
   "metadata": {},
   "source": [
    "#### Case-1: Row 2"
   ]
  },
  {
   "cell_type": "markdown",
   "id": "4c0b0078",
   "metadata": {},
   "source": [
    "| **State**    | **South (0)** | **North (1)** | **East (2)** | **West (3)** | **Pickup (4)** | **Drop off (5)** |\n",
    "| ------------ | ------------: | ------------: | -----------: | -----------: | -------------: | ---------------: |\n",
    "| **Q-Values** |     −1.870144 |     −1.450240 |    −1.870144 |    −1.450240 |      −0.750400 |       −10.450240 |\n"
   ]
  },
  {
   "cell_type": "markdown",
   "id": "be82a552",
   "metadata": {},
   "source": [
    "**Decision**: The largest (least negative) Q-value is $\\mathbf{-0.7504}$, which corresponds to Action 4 (Pickup passenger)."
   ]
  },
  {
   "cell_type": "markdown",
   "id": "3308a9fa",
   "metadata": {},
   "source": [
    "**Interpretation**: In this specific state, the Agent has figured out that the best move to maximize future reward is to pick up the passenger. This suggests the taxi is currently at the passenger's location"
   ]
  },
  {
   "cell_type": "markdown",
   "id": "bd4e3001",
   "metadata": {},
   "source": [
    "#### Case-2: Row 4"
   ]
  },
  {
   "cell_type": "markdown",
   "id": "ba3dea66",
   "metadata": {},
   "source": [
    "| **State**    | **South (0)** | **North (1)** | **East (2)** | **West (3)** | **Pickup (4)** | **Drop off (5)** |\n",
    "| ------------ | ------------: | ------------: | -----------: | -----------: | -------------: | ---------------: |\n",
    "| **Q-Values** |     −2.49619  |   −2.49625    |    −2.49619  |     −2.49650 |     −11.49599  |       −11.49514  |"
   ]
  },
  {
   "cell_type": "markdown",
   "id": "5841a35f",
   "metadata": {},
   "source": [
    "**Decision**: All movement values (Actions 0-3) are very close, but the actions for Pickup and Dropoff (4 and 5) have very large negative values (around -11.5). The largest value among the movement actions is $-2.49619$ (Action 0 or 2)."
   ]
  },
  {
   "cell_type": "markdown",
   "id": "0e6752d5",
   "metadata": {},
   "source": [
    "**Interpretation**: The large penalty for Pickup/Dropoff suggests the passenger is likely not in the taxi AND the taxi is not at the destination/pickup spot. The Agent is being penalized heavily for trying to perform an invalid action. The optimal action here is likely the one that moves the taxi closer to the target (which we can't tell without seeing the grid, but it avoids the severe penalty)."
   ]
  },
  {
   "cell_type": "markdown",
   "id": "a26816b5",
   "metadata": {},
   "source": [
    "### Running Trained Agent "
   ]
  },
  {
   "cell_type": "code",
   "execution_count": null,
   "id": "23203073",
   "metadata": {},
   "outputs": [
    {
     "name": "stdout",
     "output_type": "stream",
     "text": [
      "+---------+\n",
      "|R: | : :G|\n",
      "| : | : : |\n",
      "| : : : : |\n",
      "| | : | : |\n",
      "|Y| : |\u001b[35m\u001b[34;1m\u001b[43mB\u001b[0m\u001b[0m\u001b[0m: |\n",
      "+---------+\n",
      "  (Dropoff)\n",
      "\n",
      "Episode 10: Total Reward = 7\n",
      "\n",
      "Average penalties per run: 0.0\n"
     ]
    }
   ],
   "source": [
    "total_test_episodes = 10\n",
    "total_penalties = 0\n",
    "\n",
    "print(\"\\n--- Running the Trained Agent (Exploitation Only) ---\")\n",
    "\n",
    "for episode in range(total_test_episodes):\n",
    "    state, info = env.reset()\n",
    "    done = False\n",
    "    reward_sum = 0\n",
    "    \n",
    "    # Optional: Clear output for a smoother animation effect\n",
    "    from IPython.display import clear_output\n",
    "    from time import sleep\n",
    "\n",
    "    while not done:\n",
    "        # **Policy: Always choose the action with the highest Q-value**\n",
    "        action = np.argmax(q_table[state, :]) \n",
    "        \n",
    "        new_state, reward, terminated, truncated, info = env.step(action)\n",
    "        done = terminated or truncated\n",
    "        \n",
    "        reward_sum += reward\n",
    "        if reward == -10:\n",
    "            total_penalties += 1\n",
    "\n",
    "        # Render the step \n",
    "        clear_output(wait=True)\n",
    "        print(env.render())\n",
    "        sleep(0.05) # adjust it as per your understanding\n",
    "\n",
    "        state = new_state\n",
    "    \n",
    "    print(f\"Episode {episode + 1}: Total Reward = {reward_sum}\")\n",
    "\n",
    "print(f\"\\nAverage penalties per run: {total_penalties / total_test_episodes}\")\n"
   ]
  },
  {
   "cell_type": "markdown",
   "id": "43aace28",
   "metadata": {},
   "source": [
    "## Day 78 Summary:"
   ]
  },
  {
   "cell_type": "markdown",
   "id": "451bb264",
   "metadata": {},
   "source": [
    "On Day 78 we were introduced to Reinforcement Learning (RL), where an Agent learns to maximize Reward through trial and error using a Policy ($\\pi$).\n",
    "\n",
    "The core achievement was implementing Tabular Q-Learning on the Taxi-v3 environment:\n",
    "- **Q-Table**: A memory table used to store the estimated quality $Q(s, a)$ for every State-Action pair.\n",
    "- **$\\epsilon$-Greedy Policy**: The Agent balances Exploration (random action with probability $\\epsilon$) and Exploitation (best-known action with probability $1-\\epsilon$). $\\epsilon$ decays over time.\n",
    "- **Q-Learning Formula**: The Agent uses this formula to update the Q-table based on immediate reward ($r$) and discounted future reward:$$Q(s, a) \\leftarrow Q(s, a) + \\alpha \\cdot [r + \\gamma \\cdot \\max_{a'} Q(s', a') - Q(s, a)]$$The training was successful, resulting in a fully populated Q-table that defines the optimal policy for the Taxi Agent."
   ]
  },
  {
   "cell_type": "markdown",
   "id": "bd987621",
   "metadata": {},
   "source": [
    "## Whats Next: Day-79 - Deep Q-Networks (DQN)"
   ]
  },
  {
   "cell_type": "markdown",
   "id": "5ac6c140",
   "metadata": {},
   "source": [
    "\n",
    "Day 79 will address the major limitation of Q-Learning: the Curse of Dimensionality.\n",
    "\n",
    "- Problem: The Q-table cannot handle environments with huge, continuous state spaces (like video games or robotics) because the table would be too large to store.\n",
    "\n",
    "- Solution (DQN): You will replace the lookup Q-table with a Neural Network to approximate the Q-function.\n",
    "\n",
    "The network will take the State as input and output the Q-value for all possible actions, allowing the Agent to learn complex policies without explicitly storing every single state in a massive table."
   ]
  },
  {
   "cell_type": "markdown",
   "id": "030cb28e",
   "metadata": {},
   "source": []
  }
 ],
 "metadata": {
  "kernelspec": {
   "display_name": ".venv (3.11.0)",
   "language": "python",
   "name": "python3"
  },
  "language_info": {
   "codemirror_mode": {
    "name": "ipython",
    "version": 3
   },
   "file_extension": ".py",
   "mimetype": "text/x-python",
   "name": "python",
   "nbconvert_exporter": "python",
   "pygments_lexer": "ipython3",
   "version": "3.11.0"
  }
 },
 "nbformat": 4,
 "nbformat_minor": 5
}
