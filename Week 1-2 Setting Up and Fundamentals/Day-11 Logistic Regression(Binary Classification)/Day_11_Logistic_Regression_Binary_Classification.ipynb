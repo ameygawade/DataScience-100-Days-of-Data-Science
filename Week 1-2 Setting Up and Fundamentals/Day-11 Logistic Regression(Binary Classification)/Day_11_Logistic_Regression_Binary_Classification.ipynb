{
 "cells": [
  {
   "cell_type": "markdown",
   "metadata": {},
   "source": [
    "# Day 11: Logistic Regression (Binary Classification)"
   ]
  },
  {
   "cell_type": "markdown",
   "metadata": {},
   "source": [
    "Today, we will explore Logistic Regression, one of the most popular algorithms for binary classification problems. Unlike regression models that predict continuous values, logistic regression predicts the probability of a binary outcome."
   ]
  },
  {
   "cell_type": "markdown",
   "metadata": {},
   "source": [
    "# Topics Covered:\n",
    "- Introduction to Binary Classification\n",
    "- Theory of Logistic Regression\n",
    "- Differences Between Logistic and Linear Regression\n",
    "- Key Concepts: Odds Ratios and Probabilities\n",
    "- Example: Customer Churn Prediction\n",
    "- Evaluating Model Performance: Accuracy, Precision, Recall, F1-Score, ROC-AUC"
   ]
  },
  {
   "cell_type": "markdown",
   "metadata": {},
   "source": [
    "## 1. Introduction to Binary Classification"
   ]
  },
  {
   "cell_type": "markdown",
   "metadata": {},
   "source": [
    "Binary classification is a type of classification where the target variable can take one of two possible outcomes (often referred to as \"classes\"). Logistic Regression is particularly useful for this because it predicts the probability of an outcome falling into a specific class"
   ]
  },
  {
   "cell_type": "markdown",
   "metadata": {},
   "source": [
    "### Examples of Binary Classification:"
   ]
  },
  {
   "cell_type": "markdown",
   "metadata": {},
   "source": [
    "\n",
    "- Spam Detection: Classifying emails as \"spam\" or \"not spam\".\n",
    "- Customer Churn: Predicting whether a customer will leave a service (\"churn\") or stay.\n",
    "- Fraud Detection: Detecting if a transaction is \"fraudulent\" or \"legitimate\"."
   ]
  },
  {
   "cell_type": "markdown",
   "metadata": {},
   "source": [
    "In binary classification, the two classes are typically labeled as 0 and 1. Logistic regression estimates the probability that the target is 1, given the input features."
   ]
  },
  {
   "cell_type": "markdown",
   "metadata": {},
   "source": [
    "## 2. Theory Behind Logistic Regression"
   ]
  },
  {
   "cell_type": "markdown",
   "metadata": {},
   "source": [
    "Unlike linear regression, logistic regression does not predict continuous outcomes but rather the probability of a certain class. \n",
    "\n",
    "It uses the logistic (sigmoid) function to convert the output of the linear model into a probability between 0 and 1."
   ]
  },
  {
   "cell_type": "markdown",
   "metadata": {},
   "source": [
    "### Logistic (Sigmoid) Function"
   ]
  },
  {
   "cell_type": "markdown",
   "metadata": {},
   "source": [
    "$$\n",
    "P(y=1 \\mid X) = \\frac{1}{1 + e^{-(\\beta_0 + \\beta_1 X_1 + \\beta_2 X_2 + \\dots + \\beta_n X_n)}}\n",
    "$$\n"
   ]
  },
  {
   "cell_type": "markdown",
   "metadata": {},
   "source": [
    "Where:\n",
    "\n",
    "- $P(y=1 \\mid X)$ is the probability of the positive class (e.g., customer churning).\n",
    "- $\\beta_0, \\beta_1, ..., \\beta_n$ are the coefficients of the model.\n",
    "- $X_1, X_2, ..., X_n$ are the features (input variables)."
   ]
  },
  {
   "cell_type": "markdown",
   "metadata": {},
   "source": [
    "### Log Odds"
   ]
  },
  {
   "cell_type": "markdown",
   "metadata": {},
   "source": [
    "In logistic regression, the predicted probabilities are transformed into log-odds, which are then mapped to a probability:"
   ]
  },
  {
   "cell_type": "markdown",
   "metadata": {},
   "source": [
    "$$\n",
    "\\log\\left(\\frac{P(y=1)}{1 - P(y=1)}\\right) = \\beta_0 + \\beta_1 X_1 + \\beta_2 X_2 + \\dots + \\beta_n X_n\n",
    "$$\n"
   ]
  },
  {
   "cell_type": "markdown",
   "metadata": {},
   "source": [
    "This makes logistic regression a linear classifier at its core, but it outputs probabilities instead of continuous values."
   ]
  },
  {
   "cell_type": "markdown",
   "metadata": {},
   "source": [
    "## 3. Differences Between Logistic and Linear Regressio"
   ]
  },
  {
   "cell_type": "markdown",
   "metadata": {},
   "source": [
    "| Logistic Regression                            | Linear Regression                               |\n",
    "|------------------------------------------------|------------------------------------------------|\n",
    "| Used for binary classification problems (two outcomes: 0 or 1). | Used for regression problems (predicting continuous values). |\n",
    "| Outputs probabilities between 0 and 1.         | Outputs continuous numeric values.              |\n",
    "| Uses the sigmoid function to map the predictions to probabilities. | Uses a straight line to fit the data points.    |\n",
    "| Predictions are non-linear in nature.          | Predictions are linear in nature.               |\n",
    "| Loss function: Log Loss (Cross-Entropy).       | Loss function: Mean Squared Error (MSE).        |\n"
   ]
  },
  {
   "cell_type": "markdown",
   "metadata": {},
   "source": [
    "## 4. Key Concepts: Odds Ratios and Probabilities"
   ]
  },
  {
   "cell_type": "markdown",
   "metadata": {},
   "source": [
    "### Odds Ratio: \n",
    "- This measures the odds of an event happening versus not happening. \n",
    "\n",
    "In logistic regression, we model the logarithm of the odds (also called log-odds)."
   ]
  },
  {
   "cell_type": "markdown",
   "metadata": {},
   "source": [
    "Odds: The ratio of the probability of an event happening to the probability of it not happening."
   ]
  },
  {
   "cell_type": "markdown",
   "metadata": {},
   "source": [
    "$$ Odds = \\frac{P}{(1-P)} $$"
   ]
  },
  {
   "cell_type": "markdown",
   "metadata": {},
   "source": [
    "Where $ P $ is the probability of the event happening."
   ]
  },
  {
   "cell_type": "markdown",
   "metadata": {},
   "source": [
    "#### Example: "
   ]
  },
  {
   "cell_type": "markdown",
   "metadata": {},
   "source": [
    "If $ P $ = 0.8 (is chance of happening a event), "
   ]
  },
  {
   "cell_type": "markdown",
   "metadata": {},
   "source": [
    "then Odds will be \n",
    "\n",
    "$$ Odds = \\frac{0.8}{1-0.8} = 4 $$"
   ]
  },
  {
   "cell_type": "markdown",
   "metadata": {},
   "source": [
    "meaning that the Odds of happeing that event is 4 times compared to not happening "
   ]
  },
  {
   "cell_type": "markdown",
   "metadata": {},
   "source": [
    "### Probability"
   ]
  },
  {
   "cell_type": "markdown",
   "metadata": {},
   "source": [
    "Logistic regression outputs a probability between 0 and 1, representing the likelihood of an event happening. If the probability is:\n",
    "\n",
    "    - Greater than 0.5 → Predicts class 1 (event happens).\n",
    "    - Less than 0.5 → Predicts class 0 (event does not happen)."
   ]
  },
  {
   "cell_type": "markdown",
   "metadata": {},
   "source": [
    "### In simpler terms:\n",
    "\n",
    "- Logistic regression transforms odds into a probability.\n",
    "- Odds tell you how much more likely something is to happen compared to it not happening.\n",
    "- The probability (output of the logistic model) is what you use to make the final prediction:\n",
    "    - If it's over 0.5, the event is predicted to occur.\n",
    "    - If it's under 0.5, the event is predicted not to occur.\n"
   ]
  },
  {
   "cell_type": "markdown",
   "metadata": {},
   "source": []
  }
 ],
 "metadata": {
  "language_info": {
   "name": "python"
  }
 },
 "nbformat": 4,
 "nbformat_minor": 2
}
