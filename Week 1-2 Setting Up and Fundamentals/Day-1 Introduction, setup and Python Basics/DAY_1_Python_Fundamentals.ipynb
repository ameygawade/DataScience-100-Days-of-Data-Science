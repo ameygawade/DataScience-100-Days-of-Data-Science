{
 "cells": [
  {
   "cell_type": "markdown",
   "metadata": {},
   "source": [
    "# Reviewing Python Basics"
   ]
  },
  {
   "cell_type": "markdown",
   "metadata": {},
   "source": [
    "### Topics Covered:\n",
    "\n",
    "1. Data types and structures (lists, dictionaries, sets, tuples)\n",
    "2. Control flow (if statements, for loops, while loops)\n",
    "3. Functions and modules\n",
    "4. File handling\n",
    "5. Error and exception handling"
   ]
  },
  {
   "cell_type": "markdown",
   "metadata": {},
   "source": [
    "### Data types and structures"
   ]
  },
  {
   "cell_type": "code",
   "execution_count": 2,
   "metadata": {},
   "outputs": [],
   "source": [
    "# Lists\n",
    "my_list = [1, 2, 3, 4, 5]\n",
    "# Dictionaries\n",
    "my_dict = {'name': 'Amey', 'age': 30}\n",
    "# Sets\n",
    "my_set = {1, 2, 3, 4, 5}\n",
    "# Tuples\n",
    "my_tuple = (1, 2, 3, 4, 5)"
   ]
  },
  {
   "cell_type": "markdown",
   "metadata": {},
   "source": [
    "### Control Flow"
   ]
  },
  {
   "cell_type": "markdown",
   "metadata": {},
   "source": [
    "####  if statement"
   ]
  },
  {
   "cell_type": "code",
   "execution_count": 16,
   "metadata": {},
   "outputs": [],
   "source": [
    "number = 1"
   ]
  },
  {
   "cell_type": "markdown",
   "metadata": {},
   "source": [
    "#### Use in List"
   ]
  },
  {
   "cell_type": "code",
   "execution_count": 17,
   "metadata": {},
   "outputs": [
    {
     "name": "stdout",
     "output_type": "stream",
     "text": [
      "has 1 in the list\n"
     ]
    }
   ],
   "source": [
    "if number in my_list:\n",
    "    print(f\"has {number} in the list\")\n",
    "else:\n",
    "    print(f\"no, {number} is not there in the list\")"
   ]
  },
  {
   "cell_type": "markdown",
   "metadata": {},
   "source": [
    "##### Use in Dictionaires"
   ]
  },
  {
   "cell_type": "code",
   "execution_count": 18,
   "metadata": {},
   "outputs": [
    {
     "name": "stdout",
     "output_type": "stream",
     "text": [
      "my age is greater than 1 \n"
     ]
    }
   ],
   "source": [
    "if my_dict['age'] > number:\n",
    "    print(f\"my age is greater than {number} \")\n",
    "else:\n",
    "    print(f\"my age is less than {number}\")"
   ]
  },
  {
   "cell_type": "markdown",
   "metadata": {},
   "source": [
    "#### Use in Set"
   ]
  },
  {
   "cell_type": "code",
   "execution_count": 19,
   "metadata": {},
   "outputs": [
    {
     "name": "stdout",
     "output_type": "stream",
     "text": [
      "has 1 in the set\n"
     ]
    }
   ],
   "source": [
    "if number in my_set:\n",
    "    print(f\"has {number} in the set\")\n",
    "else:\n",
    "    print(f\"no, {number} is not there in the set\")"
   ]
  },
  {
   "cell_type": "markdown",
   "metadata": {},
   "source": [
    "#### Use in Tuple"
   ]
  },
  {
   "cell_type": "code",
   "execution_count": 20,
   "metadata": {},
   "outputs": [
    {
     "name": "stdout",
     "output_type": "stream",
     "text": [
      "has 1 in the tuple\n"
     ]
    }
   ],
   "source": [
    "if number in my_tuple:\n",
    "    print(f\"has {number} in the tuple\")\n",
    "else:\n",
    "    print(f\"no, {number} is not there in the tuple\")"
   ]
  },
  {
   "cell_type": "markdown",
   "metadata": {},
   "source": [
    "#### For loop"
   ]
  },
  {
   "cell_type": "markdown",
   "metadata": {},
   "source": [
    "#### Use in Dictionary"
   ]
  },
  {
   "cell_type": "code",
   "execution_count": 30,
   "metadata": {},
   "outputs": [
    {
     "name": "stdout",
     "output_type": "stream",
     "text": [
      "{'name': 'Amey', 'age': 30}\n",
      "My name is Amey\n",
      "My age is 30\n"
     ]
    }
   ],
   "source": [
    "print(my_dict)\n",
    "\n",
    "for key, value in my_dict.items():\n",
    "    print(f\"My {key} is {value}\")"
   ]
  },
  {
   "cell_type": "markdown",
   "metadata": {},
   "source": [
    "#### Use in List"
   ]
  },
  {
   "cell_type": "code",
   "execution_count": 21,
   "metadata": {},
   "outputs": [
    {
     "name": "stdout",
     "output_type": "stream",
     "text": [
      "number is 1\n",
      "number is 2\n",
      "number is 3\n",
      "number is 4\n",
      "number is 5\n"
     ]
    }
   ],
   "source": [
    "for number in my_list:\n",
    "    print(f\"number is {number}\")"
   ]
  },
  {
   "cell_type": "markdown",
   "metadata": {},
   "source": [
    "#### Use in Set"
   ]
  },
  {
   "cell_type": "code",
   "execution_count": 38,
   "metadata": {},
   "outputs": [
    {
     "name": "stdout",
     "output_type": "stream",
     "text": [
      "The set has 5 elements.\n",
      "Element 1: 1 (type: <class 'int'>)\n",
      "Element 2: 2 (type: <class 'int'>)\n",
      "Element 3: 3 (type: <class 'int'>)\n",
      "Element 4: 4 (type: <class 'int'>)\n",
      "Element 5: 5 (type: <class 'int'>)\n"
     ]
    }
   ],
   "source": [
    "print(f\"The set has {len(my_set)} elements.\")\n",
    "for i, content in enumerate(my_set, start=1):\n",
    "    print(f\"Element {i}: {content} (type: {type(content)})\")"
   ]
  },
  {
   "cell_type": "markdown",
   "metadata": {},
   "source": [
    "#### Use in Tuple"
   ]
  },
  {
   "cell_type": "code",
   "execution_count": 39,
   "metadata": {},
   "outputs": [
    {
     "name": "stdout",
     "output_type": "stream",
     "text": [
      "The tuple has 5 elements.\n",
      "Element 1: 1 (type: <class 'int'>)\n",
      "Element 2: 2 (type: <class 'int'>)\n",
      "Element 3: 3 (type: <class 'int'>)\n",
      "Element 4: 4 (type: <class 'int'>)\n",
      "Element 5: 5 (type: <class 'int'>)\n"
     ]
    }
   ],
   "source": [
    "print(f\"The tuple has {len(my_tuple)} elements.\")\n",
    "for i, content in enumerate(my_tuple, start=1):\n",
    "    print(f\"Element {i}: {content} (type: {type(content)})\")"
   ]
  },
  {
   "cell_type": "markdown",
   "metadata": {},
   "source": []
  },
  {
   "cell_type": "markdown",
   "metadata": {},
   "source": [
    "### While loop"
   ]
  },
  {
   "cell_type": "markdown",
   "metadata": {},
   "source": [
    "#### use in dict"
   ]
  },
  {
   "cell_type": "markdown",
   "metadata": {},
   "source": [
    "\n",
    "Using a while loop to iterate over a dictionary without converting it to a list or using an iterator is unconventional because dictionaries in Python are typically iterated over using for loops. However, you can use a while loop by manually managing the keys and using a counter. Here’s an example:"
   ]
  },
  {
   "cell_type": "code",
   "execution_count": 41,
   "metadata": {},
   "outputs": [
    {
     "name": "stdout",
     "output_type": "stream",
     "text": [
      "Key: name, Value: Amey\n",
      "Key: age, Value: 30\n"
     ]
    }
   ],
   "source": [
    "keys = list(my_dict.keys())\n",
    "i = 0\n",
    "\n",
    "while i < len(keys):\n",
    "    key = keys[i]\n",
    "    print(f\"Key: {key}, Value: {my_dict[key]}\")\n",
    "    i += 1"
   ]
  },
  {
   "cell_type": "markdown",
   "metadata": {},
   "source": [
    "use in "
   ]
  },
  {
   "cell_type": "code",
   "execution_count": null,
   "metadata": {},
   "outputs": [],
   "source": []
  }
 ],
 "metadata": {
  "kernelspec": {
   "display_name": "Python 3",
   "language": "python",
   "name": "python3"
  },
  "language_info": {
   "codemirror_mode": {
    "name": "ipython",
    "version": 3
   },
   "file_extension": ".py",
   "mimetype": "text/x-python",
   "name": "python",
   "nbconvert_exporter": "python",
   "pygments_lexer": "ipython3",
   "version": "3.11.0"
  }
 },
 "nbformat": 4,
 "nbformat_minor": 2
}
