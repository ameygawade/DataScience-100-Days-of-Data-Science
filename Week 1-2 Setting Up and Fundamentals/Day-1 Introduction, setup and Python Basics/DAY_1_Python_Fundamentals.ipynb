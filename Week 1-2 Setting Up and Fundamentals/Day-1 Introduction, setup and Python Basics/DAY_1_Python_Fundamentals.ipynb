{
 "cells": [
  {
   "cell_type": "markdown",
   "metadata": {},
   "source": [
    "# Day-1 Reviewing Python Basics"
   ]
  },
  {
   "cell_type": "markdown",
   "metadata": {},
   "source": [
    "# Topics Covered:\n",
    "\n",
    "1. Data types and structures (lists, dictionaries, sets, tuples)\n",
    "2. Control flow (if statements, for loops, while loops)\n",
    "3. Functions and modules\n",
    "4. File handling\n",
    "5. Error and exception handling"
   ]
  },
  {
   "cell_type": "markdown",
   "metadata": {},
   "source": [
    "# Data types and structures"
   ]
  },
  {
   "cell_type": "markdown",
   "metadata": {},
   "source": [
    "## List"
   ]
  },
  {
   "cell_type": "code",
   "execution_count": null,
   "metadata": {},
   "outputs": [],
   "source": [
    "# Lists\n",
    "my_list = [1, 2, 3, 4, 5]"
   ]
  },
  {
   "cell_type": "markdown",
   "metadata": {},
   "source": [
    "## Dictionaries"
   ]
  },
  {
   "cell_type": "code",
   "execution_count": null,
   "metadata": {},
   "outputs": [],
   "source": [
    "# Dictionaries\n",
    "my_dict = {'name': 'Amey', 'age': 30}"
   ]
  },
  {
   "cell_type": "markdown",
   "metadata": {},
   "source": [
    "## Sets"
   ]
  },
  {
   "cell_type": "code",
   "execution_count": null,
   "metadata": {},
   "outputs": [],
   "source": [
    "# Sets\n",
    "my_set = {1, 2, 3, 4, 5}"
   ]
  },
  {
   "cell_type": "markdown",
   "metadata": {},
   "source": [
    "## Tuples"
   ]
  },
  {
   "cell_type": "code",
   "execution_count": null,
   "metadata": {},
   "outputs": [],
   "source": [
    "# Tuples\n",
    "my_tuple = (1, 2, 3, 4, 5)"
   ]
  },
  {
   "cell_type": "markdown",
   "metadata": {},
   "source": [
    "# Control Flow"
   ]
  },
  {
   "cell_type": "markdown",
   "metadata": {},
   "source": [
    "##  if statement"
   ]
  },
  {
   "cell_type": "code",
   "execution_count": null,
   "metadata": {},
   "outputs": [],
   "source": [
    "number = 1"
   ]
  },
  {
   "cell_type": "markdown",
   "metadata": {},
   "source": [
    "### Use in List"
   ]
  },
  {
   "cell_type": "code",
   "execution_count": null,
   "metadata": {},
   "outputs": [],
   "source": [
    "if number in my_list:\n",
    "    print(f\"has {number} in the list\")\n",
    "else:\n",
    "    print(f\"no, {number} is not there in the list\")"
   ]
  },
  {
   "cell_type": "markdown",
   "metadata": {},
   "source": [
    "### Use in Dictionaires"
   ]
  },
  {
   "cell_type": "code",
   "execution_count": null,
   "metadata": {},
   "outputs": [],
   "source": [
    "if my_dict['age'] > number:\n",
    "    print(f\"my age is greater than {number} \")\n",
    "else:\n",
    "    print(f\"my age is less than {number}\")"
   ]
  },
  {
   "cell_type": "markdown",
   "metadata": {},
   "source": [
    "### Use in Set"
   ]
  },
  {
   "cell_type": "code",
   "execution_count": null,
   "metadata": {},
   "outputs": [],
   "source": [
    "if number in my_set:\n",
    "    print(f\"has {number} in the set\")\n",
    "else:\n",
    "    print(f\"no, {number} is not there in the set\")"
   ]
  },
  {
   "cell_type": "markdown",
   "metadata": {},
   "source": [
    "### Use in Tuple"
   ]
  },
  {
   "cell_type": "code",
   "execution_count": null,
   "metadata": {},
   "outputs": [],
   "source": [
    "if number in my_tuple:\n",
    "    print(f\"has {number} in the tuple\")\n",
    "else:\n",
    "    print(f\"no, {number} is not there in the tuple\")"
   ]
  },
  {
   "cell_type": "markdown",
   "metadata": {},
   "source": [
    "## For loop"
   ]
  },
  {
   "cell_type": "markdown",
   "metadata": {},
   "source": [
    "### Use in Dictionary"
   ]
  },
  {
   "cell_type": "code",
   "execution_count": null,
   "metadata": {},
   "outputs": [],
   "source": [
    "print(my_dict)\n",
    "\n",
    "for key, value in my_dict.items():\n",
    "    print(f\"My {key} is {value}\")"
   ]
  },
  {
   "cell_type": "markdown",
   "metadata": {},
   "source": [
    "### Use in List"
   ]
  },
  {
   "cell_type": "code",
   "execution_count": null,
   "metadata": {},
   "outputs": [],
   "source": [
    "for number in my_list:\n",
    "    print(f\"number is {number}\")"
   ]
  },
  {
   "cell_type": "markdown",
   "metadata": {},
   "source": [
    "### Use in Set"
   ]
  },
  {
   "cell_type": "code",
   "execution_count": null,
   "metadata": {},
   "outputs": [],
   "source": [
    "print(f\"The set has {len(my_set)} elements.\")\n",
    "for i, content in enumerate(my_set, start=1):\n",
    "    print(f\"Element {i}: {content} (type: {type(content)})\")"
   ]
  },
  {
   "cell_type": "markdown",
   "metadata": {},
   "source": [
    "### Use in Tuple"
   ]
  },
  {
   "cell_type": "code",
   "execution_count": null,
   "metadata": {},
   "outputs": [],
   "source": [
    "print(f\"The tuple has {len(my_tuple)} elements.\")\n",
    "for i, content in enumerate(my_tuple, start=1):\n",
    "    print(f\"Element {i}: {content} (type: {type(content)})\")"
   ]
  },
  {
   "cell_type": "markdown",
   "metadata": {},
   "source": [
    "## While loop"
   ]
  },
  {
   "cell_type": "markdown",
   "metadata": {},
   "source": [
    "### use in dict"
   ]
  },
  {
   "cell_type": "markdown",
   "metadata": {},
   "source": [
    "\n",
    "Using a while loop to iterate over a dictionary without converting it to a list or using an iterator is unconventional because dictionaries in Python are typically iterated over using for loops. However, you can use a while loop by manually managing the keys and using a counter. Here’s an example:"
   ]
  },
  {
   "cell_type": "code",
   "execution_count": null,
   "metadata": {},
   "outputs": [],
   "source": [
    "keys = list(my_dict.keys())\n",
    "i = 0\n",
    "\n",
    "while i < len(keys):\n",
    "    key = keys[i]\n",
    "    print(f\"Key: {key}, Value: {my_dict[key]}\")\n",
    "    i += 1"
   ]
  },
  {
   "cell_type": "markdown",
   "metadata": {},
   "source": [
    "### use in list"
   ]
  },
  {
   "cell_type": "code",
   "execution_count": null,
   "metadata": {},
   "outputs": [],
   "source": [
    "index = 0\n",
    "\n",
    "while index < len(my_list):\n",
    "    print(f\"List content is {my_list[index]}\")\n",
    "    index += 1"
   ]
  },
  {
   "cell_type": "markdown",
   "metadata": {},
   "source": [
    "### use in set"
   ]
  },
  {
   "cell_type": "code",
   "execution_count": null,
   "metadata": {},
   "outputs": [],
   "source": [
    "\n",
    "set_list = list(my_set)  # Convert set to list for indexing\n",
    "index = 0\n",
    "\n",
    "while index < len(set_list):\n",
    "    print(f\"Set content is {set_list[index]}\")\n",
    "    index += 1"
   ]
  },
  {
   "cell_type": "markdown",
   "metadata": {},
   "source": [
    "### Use in tuple "
   ]
  },
  {
   "cell_type": "code",
   "execution_count": null,
   "metadata": {},
   "outputs": [],
   "source": [
    "index = 0\n",
    "\n",
    "while index < len(my_tuple):\n",
    "    if my_tuple[index] % 2 == 0:\n",
    "        print(f\"Tuple content is {my_tuple[index]} (even)\")\n",
    "    else:\n",
    "        print(f\"Tuple content is {my_tuple[index]} (odd)\")\n",
    "    index += 1"
   ]
  },
  {
   "cell_type": "markdown",
   "metadata": {},
   "source": [
    "## Nested Control flow "
   ]
  },
  {
   "cell_type": "markdown",
   "metadata": {},
   "source": [
    "Nested control flow involves placing one or more control flow statements inside another. Here are examples for lists, sets, dictionaries, and tuples."
   ]
  },
  {
   "cell_type": "markdown",
   "metadata": {},
   "source": [
    "Finding and printing all pairs of numbers from a list that add up to a target value."
   ]
  },
  {
   "cell_type": "markdown",
   "metadata": {},
   "source": [
    "### Use in List"
   ]
  },
  {
   "cell_type": "code",
   "execution_count": null,
   "metadata": {},
   "outputs": [],
   "source": [
    "target = 5\n",
    "\n",
    "for i in range(len(my_list)):\n",
    "    for j in range(i + 1, len(my_list)):\n",
    "        if my_list[i] + my_list[j] == target:\n",
    "            print(f\"Pair found: ({my_list[i]}, {my_list[j]})\")"
   ]
  },
  {
   "cell_type": "markdown",
   "metadata": {},
   "source": [
    "### Use in Set"
   ]
  },
  {
   "cell_type": "markdown",
   "metadata": {},
   "source": [
    "Nested loops can be used to compare elements within a set or with elements from another set."
   ]
  },
  {
   "cell_type": "markdown",
   "metadata": {},
   "source": [
    "Finding common elements between two sets."
   ]
  },
  {
   "cell_type": "code",
   "execution_count": null,
   "metadata": {},
   "outputs": [],
   "source": [
    "set1 = {1, 2, 3, 4, 5}\n",
    "set2 = {4, 5, 6, 7, 8}\n",
    "\n",
    "common_elements = set()\n",
    "\n",
    "for elem1 in set1:\n",
    "    for elem2 in set2:\n",
    "        if elem1 == elem2:\n",
    "            common_elements.add(elem1)\n",
    "\n",
    "print(f\"Common elements: {common_elements}\")\n"
   ]
  },
  {
   "cell_type": "markdown",
   "metadata": {},
   "source": [
    "### Dictionary"
   ]
  },
  {
   "cell_type": "markdown",
   "metadata": {},
   "source": [
    "Nested loops and conditionals can be used to process dictionary keys and values."
   ]
  },
  {
   "cell_type": "markdown",
   "metadata": {},
   "source": [
    "Filtering a dictionary based on the values of nested dictionaries."
   ]
  },
  {
   "cell_type": "code",
   "execution_count": null,
   "metadata": {},
   "outputs": [],
   "source": [
    "my_dict = {\n",
    "    'item1': {'name': 'Apple', 'price': 50},\n",
    "    'item2': {'name': 'Banana', 'price': 30},\n",
    "    'item3': {'name': 'Cherry', 'price': 70}\n",
    "}\n",
    "\n",
    "filtered_dict = {}\n",
    "\n",
    "for key, value in my_dict.items():\n",
    "    if value['price'] > 40:\n",
    "        filtered_dict[key] = value\n",
    "\n",
    "print(f\"Filtered dictionary: {filtered_dict}\")\n"
   ]
  },
  {
   "cell_type": "markdown",
   "metadata": {},
   "source": [
    "### Tuple"
   ]
  },
  {
   "cell_type": "markdown",
   "metadata": {},
   "source": [
    "Nested loops can be used to process elements within a tuple or between multiple tuples."
   ]
  },
  {
   "cell_type": "markdown",
   "metadata": {},
   "source": [
    "Pairing elements from two tuples if their sum is even."
   ]
  },
  {
   "cell_type": "code",
   "execution_count": null,
   "metadata": {},
   "outputs": [],
   "source": [
    "tuple1 = (1, 2, 3)\n",
    "tuple2 = (4, 5, 6)\n",
    "\n",
    "pairs = []\n",
    "\n",
    "for elem1 in tuple1:\n",
    "    for elem2 in tuple2:\n",
    "        if (elem1 + elem2) % 2 == 0:\n",
    "            pairs.append((elem1, elem2))\n",
    "\n",
    "print(f\"Pairs with even sum: {pairs}\")\n"
   ]
  },
  {
   "cell_type": "markdown",
   "metadata": {},
   "source": [
    "## List Comprehensions"
   ]
  },
  {
   "cell_type": "markdown",
   "metadata": {},
   "source": [
    "List comprehensions provide a concise way to create lists. They can include conditional logic."
   ]
  },
  {
   "cell_type": "code",
   "execution_count": null,
   "metadata": {},
   "outputs": [],
   "source": [
    "squares = [x**2 for x in range(10) if x % 2 == 0]\n",
    "print(squares)"
   ]
  },
  {
   "cell_type": "markdown",
   "metadata": {},
   "source": [
    "## Dictionary and Set Comprehensions"
   ]
  },
  {
   "cell_type": "markdown",
   "metadata": {},
   "source": [
    "Similar to list comprehensions, but for dictionaries and sets."
   ]
  },
  {
   "cell_type": "code",
   "execution_count": null,
   "metadata": {},
   "outputs": [],
   "source": [
    "squares_dict = {x: x**2 for x in range(10)}\n",
    "even_squares_set = {x**2 for x in range(10) if x % 2 == 0}\n",
    "print(squares_dict)\n",
    "print(even_squares_set)"
   ]
  },
  {
   "cell_type": "markdown",
   "metadata": {},
   "source": [
    " ## Enumerate and Zip Functions"
   ]
  },
  {
   "cell_type": "markdown",
   "metadata": {},
   "source": [
    "The enumerate function adds a counter to an iterable, while zip can combine multiple iterables"
   ]
  },
  {
   "cell_type": "code",
   "execution_count": null,
   "metadata": {},
   "outputs": [],
   "source": [
    "names = [\"Alice\", \"Bob\", \"Charlie\"]\n",
    "for index, name in enumerate(names):\n",
    "    print(index, name)\n",
    "\n",
    "list1 = [1, 2, 3]\n",
    "list2 = ['a', 'b', 'c']\n",
    "for num, char in zip(list1, list2):\n",
    "    print(num, char)\n"
   ]
  },
  {
   "cell_type": "markdown",
   "metadata": {},
   "source": [
    "## Itertools Module"
   ]
  },
  {
   "cell_type": "markdown",
   "metadata": {},
   "source": [
    "The itertools module provides functions that create iterators for efficient looping."
   ]
  },
  {
   "cell_type": "code",
   "execution_count": null,
   "metadata": {},
   "outputs": [],
   "source": [
    "import itertools\n",
    "\n",
    "# Infinite counter\n",
    "counter = itertools.count(start=1, step=2)\n",
    "print(next(counter))  # 1\n",
    "print(next(counter))  # 3\n",
    "\n",
    "# Combinations\n",
    "combinations = itertools.combinations('ABCD', 2)\n",
    "for combo in combinations:\n",
    "    print(combo)\n"
   ]
  },
  {
   "cell_type": "markdown",
   "metadata": {},
   "source": [
    "## Break and Continue Statements"
   ]
  },
  {
   "cell_type": "markdown",
   "metadata": {},
   "source": [
    "These statements alter the flow of loops."
   ]
  },
  {
   "cell_type": "code",
   "execution_count": null,
   "metadata": {},
   "outputs": [],
   "source": [
    "for i in range(10):\n",
    "    if i == 5:\n",
    "        break  # Exit the loop\n",
    "    if i % 2 == 0:\n",
    "        continue  # Skip the rest of the loop\n",
    "    print(i)\n"
   ]
  },
  {
   "cell_type": "markdown",
   "metadata": {},
   "source": []
  },
  {
   "cell_type": "markdown",
   "metadata": {},
   "source": [
    "# Functions amd Modules"
   ]
  },
  {
   "cell_type": "markdown",
   "metadata": {},
   "source": [
    "Functions and modules are fundamental concepts in Python that help organize and reuse code efficiently. Here's an overview along with examples to illustrate their usage."
   ]
  },
  {
   "cell_type": "markdown",
   "metadata": {},
   "source": [
    "## Functions"
   ]
  },
  {
   "cell_type": "markdown",
   "metadata": {},
   "source": [
    "A function is a block of code which can be reused to perform specific task. The main use of function is to break down complex problems into simpler manageable tasks."
   ]
  },
  {
   "cell_type": "markdown",
   "metadata": {},
   "source": [
    "### Defining Functions"
   ]
  },
  {
   "cell_type": "markdown",
   "metadata": {},
   "source": [
    "Syntax:"
   ]
  },
  {
   "cell_type": "code",
   "execution_count": null,
   "metadata": {},
   "outputs": [],
   "source": [
    "def function_name(parameters):\n",
    "    # function body\n",
    "    return value\n"
   ]
  },
  {
   "cell_type": "markdown",
   "metadata": {},
   "source": [
    "Example:"
   ]
  },
  {
   "cell_type": "code",
   "execution_count": null,
   "metadata": {},
   "outputs": [],
   "source": [
    "def greet(name):\n",
    "    return f\"Hello, {name}!\"\n",
    "\n",
    "print(greet(\"Amey\"))\n"
   ]
  },
  {
   "cell_type": "markdown",
   "metadata": {},
   "source": []
  },
  {
   "cell_type": "markdown",
   "metadata": {},
   "source": [
    "### Function Parameters"
   ]
  },
  {
   "cell_type": "markdown",
   "metadata": {},
   "source": [
    "Functions can accept parameters to make them more flexible."
   ]
  },
  {
   "cell_type": "code",
   "execution_count": null,
   "metadata": {},
   "outputs": [],
   "source": [
    "def add(a, b):\n",
    "    return a + b\n",
    "\n",
    "result = add(5, 3)\n",
    "print(result)\n"
   ]
  },
  {
   "cell_type": "markdown",
   "metadata": {},
   "source": [
    "### Default Parameters"
   ]
  },
  {
   "cell_type": "markdown",
   "metadata": {},
   "source": [
    "You can define default values for parameters but by definging them with some other values you can make them flexible. Check below mentioned example:"
   ]
  },
  {
   "cell_type": "code",
   "execution_count": null,
   "metadata": {},
   "outputs": [],
   "source": [
    "def greet(name, greeting=\"Hello\"):\n",
    "    return f\"{greeting}, {name}!\"\n",
    "\n",
    "print(greet(\"Amey\"))\n",
    "print(greet(\"Amey\", \"Hi\"))\n"
   ]
  },
  {
   "cell_type": "markdown",
   "metadata": {},
   "source": [
    "### Keyword Arguments"
   ]
  },
  {
   "cell_type": "markdown",
   "metadata": {},
   "source": [
    "Keyword arguments allow you to specify parameter values by their name; which provides with option of calling specific parameter within function."
   ]
  },
  {
   "cell_type": "code",
   "execution_count": null,
   "metadata": {},
   "outputs": [],
   "source": [
    "def describe_pet(animal_type, pet_name):\n",
    "    print(f\"\\nI have a {animal_type}.\")\n",
    "    print(f\"My {animal_type}'s name is {pet_name}.\")\n",
    "\n",
    "describe_pet(animal_type='hamster', pet_name='Harry')\n"
   ]
  },
  {
   "cell_type": "markdown",
   "metadata": {},
   "source": [
    "### Variable-Length Arguments"
   ]
  },
  {
   "cell_type": "markdown",
   "metadata": {},
   "source": [
    "You can use *args and **kwargs to allow a function to accept an arbitrary number of positional and keyword arguments. Thus, rather than calling same datatype in infinate number of time you can club them once"
   ]
  },
  {
   "cell_type": "code",
   "execution_count": null,
   "metadata": {},
   "outputs": [],
   "source": [
    "def make_pizza(size, *toppings):\n",
    "    print(f\"\\nMaking a {size}-inch pizza with the following toppings:\")\n",
    "    for topping in toppings:\n",
    "        print(f\"- {topping}\")\n",
    "\n",
    "make_pizza(12, 'pepperoni')\n",
    "make_pizza(16, 'mushrooms', 'green peppers', 'extra cheese')\n"
   ]
  },
  {
   "cell_type": "markdown",
   "metadata": {},
   "source": [
    "## Lambda Functions"
   ]
  },
  {
   "cell_type": "markdown",
   "metadata": {},
   "source": [
    "Lambda functions, also known as anonymous functions, are small, unnamed functions defined using the lambda keyword. They are useful for creating short, throwaway functions without formally defining them using the def keyword. Lambda functions can take any number of arguments but can only have one expression."
   ]
  },
  {
   "cell_type": "markdown",
   "metadata": {},
   "source": [
    "Syntax:"
   ]
  },
  {
   "cell_type": "code",
   "execution_count": null,
   "metadata": {},
   "outputs": [],
   "source": [
    "lambda arguments: expression"
   ]
  },
  {
   "cell_type": "markdown",
   "metadata": {},
   "source": [
    "- arguments: A comma-separated list of arguments.\n",
    "- expression: An expression executed and returned when the function is called\n"
   ]
  },
  {
   "cell_type": "markdown",
   "metadata": {},
   "source": [
    "Key Characteristics:\n",
    " 1. Anonymous: Lambda functions do not have a name.\n",
    " 2. Single Expression: They consist of a single expression whose result is returned.\n",
    " 3. Inline Use: Often used in places where functions are used only once or for a short period."
   ]
  },
  {
   "cell_type": "markdown",
   "metadata": {},
   "source": [
    "### Basic Example\n"
   ]
  },
  {
   "cell_type": "code",
   "execution_count": null,
   "metadata": {},
   "outputs": [],
   "source": [
    "square = lambda x: x * x\n",
    "print(square(5))  # Output: 25"
   ]
  },
  {
   "cell_type": "markdown",
   "metadata": {},
   "source": [
    "In this example, lambda x: x * x creates an anonymous function that squares its input. The function is assigned to the variable square."
   ]
  },
  {
   "cell_type": "markdown",
   "metadata": {},
   "source": [
    "### Multiple Arguments"
   ]
  },
  {
   "cell_type": "code",
   "execution_count": null,
   "metadata": {},
   "outputs": [],
   "source": [
    "add = lambda x, y: x + y\n",
    "print(add(3, 5))  # Output: 8"
   ]
  },
  {
   "cell_type": "markdown",
   "metadata": {},
   "source": [
    "Here, the lambda function takes two arguments x and y and returns their sum."
   ]
  },
  {
   "cell_type": "markdown",
   "metadata": {},
   "source": [
    "### Using Lambda with Built-in Functions"
   ]
  },
  {
   "cell_type": "markdown",
   "metadata": {},
   "source": [
    "Lambda functions are often used with built-in functions like map(), filter(), and sorted()."
   ]
  },
  {
   "cell_type": "markdown",
   "metadata": {},
   "source": [
    "#### With map()"
   ]
  },
  {
   "cell_type": "code",
   "execution_count": null,
   "metadata": {},
   "outputs": [],
   "source": [
    "numbers = [1, 2, 3, 4, 5]\n",
    "squared_numbers = map(lambda x: x * x, numbers)\n",
    "print(list(squared_numbers))  # Output: [1, 4, 9, 16, 25]\n"
   ]
  },
  {
   "cell_type": "markdown",
   "metadata": {},
   "source": [
    "#### With filter()"
   ]
  },
  {
   "cell_type": "code",
   "execution_count": null,
   "metadata": {},
   "outputs": [],
   "source": [
    "numbers = [1, 2, 3, 4, 5]\n",
    "even_numbers = filter(lambda x: x % 2 == 0, numbers)\n",
    "print(list(even_numbers))  # Output: [2, 4]\n"
   ]
  },
  {
   "cell_type": "markdown",
   "metadata": {},
   "source": [
    "#### With sorted()"
   ]
  },
  {
   "cell_type": "code",
   "execution_count": null,
   "metadata": {},
   "outputs": [],
   "source": [
    "students = [('Alice', 25), ('Bob', 20), ('Charlie', 23)]\n",
    "sorted_students = sorted(students, key=lambda student: student[1])\n",
    "print(sorted_students)  # Output: [('Bob', 20), ('Charlie', 23), ('Alice', 25)]\n"
   ]
  },
  {
   "cell_type": "code",
   "execution_count": null,
   "metadata": {},
   "outputs": [],
   "source": []
  },
  {
   "cell_type": "markdown",
   "metadata": {},
   "source": [
    "## Modules"
   ]
  },
  {
   "cell_type": "markdown",
   "metadata": {},
   "source": [
    "A module is a file containing Python definitions and statements. Save the code you want to reuse in a file with a .py extension."
   ]
  },
  {
   "cell_type": "markdown",
   "metadata": {},
   "source": [
    "### Creating Module"
   ]
  },
  {
   "cell_type": "markdown",
   "metadata": {},
   "source": [
    "Example: mymodule.py"
   ]
  },
  {
   "cell_type": "code",
   "execution_count": null,
   "metadata": {},
   "outputs": [],
   "source": [
    "def greet(name):\n",
    "    return f\"Hello, {name}!\"\n",
    "\n",
    "def add(a, b):\n",
    "    return a + b\n"
   ]
  },
  {
   "cell_type": "markdown",
   "metadata": {},
   "source": [
    "### Importing Module"
   ]
  },
  {
   "cell_type": "code",
   "execution_count": null,
   "metadata": {},
   "outputs": [],
   "source": [
    "import mymodule\n",
    "\n",
    "name = mymodule.greet(name=\"Amey\")\n",
    "print(name)  # Output: Hello, Amey!\n",
    "print(mymodule.add(3, 5))  # Output: 8\n"
   ]
  },
  {
   "cell_type": "markdown",
   "metadata": {},
   "source": [
    "### Renaming Imports"
   ]
  },
  {
   "cell_type": "markdown",
   "metadata": {},
   "source": [
    "You can rename imported modules or functions using the as keyword."
   ]
  },
  {
   "cell_type": "code",
   "execution_count": null,
   "metadata": {},
   "outputs": [],
   "source": [
    "import mymodule as mm\n",
    "\n",
    "print(mm.greet(\"Amey\"))  # Output: Hello, Amey!\n",
    "print(mm.add(3, 5))  # Output: 8\n"
   ]
  },
  {
   "cell_type": "markdown",
   "metadata": {},
   "source": [
    "### Standard Library Modules"
   ]
  },
  {
   "cell_type": "markdown",
   "metadata": {},
   "source": [
    "Python comes with a rich standard library of modules. You can import and use these modules directly."
   ]
  },
  {
   "cell_type": "markdown",
   "metadata": {},
   "source": [
    "for example using math library"
   ]
  },
  {
   "cell_type": "code",
   "execution_count": null,
   "metadata": {},
   "outputs": [],
   "source": [
    "import math\n",
    "\n",
    "print(math.sqrt(16))  # Output: 4.0\n",
    "print(math.pi)  # Output: 3.141592653589793\n"
   ]
  },
  {
   "cell_type": "markdown",
   "metadata": {},
   "source": [
    "### Package"
   ]
  },
  {
   "cell_type": "markdown",
   "metadata": {},
   "source": [
    "A package is a way of organizing related modules into a single directory hierarchy. A package is typically a directory containing an __init__.py file."
   ]
  },
  {
   "cell_type": "code",
   "execution_count": null,
   "metadata": {},
   "outputs": [],
   "source": [
    "mypackage/\n",
    "    __init__.py\n",
    "    module1.py\n",
    "    module2.py"
   ]
  },
  {
   "cell_type": "markdown",
   "metadata": {},
   "source": [
    "from mypackage import module1, module2\n",
    "\n",
    "print(module1.function())\n",
    "print(module2.function())"
   ]
  },
  {
   "cell_type": "markdown",
   "metadata": {},
   "source": [
    "# File Handling "
   ]
  },
  {
   "cell_type": "markdown",
   "metadata": {},
   "source": [
    "File handling is an essential part of programming that involves reading from and writing to files. Python provides several built-in functions and methods to perform these operations efficiently. This section will cover the basics of file handling, including opening, reading, writing, and closing files, as well as handling different file modes and exceptions."
   ]
  },
  {
   "cell_type": "markdown",
   "metadata": {},
   "source": [
    "## Opening Files"
   ]
  },
  {
   "cell_type": "markdown",
   "metadata": {},
   "source": [
    "To open a file, use the open() function, which returns a file object. The open() function requires at least one argument: the file path. You can also specify the mode in which the file is opened."
   ]
  },
  {
   "cell_type": "markdown",
   "metadata": {},
   "source": [
    "file_object = open(file_path, mode)"
   ]
  },
  {
   "cell_type": "markdown",
   "metadata": {},
   "source": [
    "- Common Modes:\n",
    "\n",
    "    - 'r': Read (default)\n",
    "    - 'w': Write (creates a new file or truncates an existing file)\n",
    "    - 'a': Append (adds content to the end of the file)\n",
    "    - 'b': Binary mode (e.g., 'rb', 'wb')\n",
    "    - 't': Text mode (default, e.g., 'rt', 'wt')\n",
    "    - 'x': Exclusive creation (fails if the file already exists)"
   ]
  },
  {
   "cell_type": "markdown",
   "metadata": {},
   "source": [
    "Example: Opening and Closing a File"
   ]
  },
  {
   "cell_type": "code",
   "execution_count": 176,
   "metadata": {},
   "outputs": [
    {
     "name": "stdout",
     "output_type": "stream",
     "text": [
      "\n"
     ]
    }
   ],
   "source": [
    "file = open('example.txt', 'r')\n",
    "print(file.read())\n",
    "file.close()"
   ]
  },
  {
   "cell_type": "markdown",
   "metadata": {},
   "source": [
    "### Using the with Statement"
   ]
  },
  {
   "cell_type": "markdown",
   "metadata": {},
   "source": [
    "The with statement ensures that the file is properly closed after its suite finishes, even if an exception is raised. This is the recommended way to work with file objects."
   ]
  },
  {
   "cell_type": "code",
   "execution_count": 177,
   "metadata": {},
   "outputs": [
    {
     "name": "stdout",
     "output_type": "stream",
     "text": [
      "\n"
     ]
    }
   ],
   "source": [
    "with open('example.txt', 'r') as file:\n",
    "    contents = file.read()\n",
    "    print(contents)\n"
   ]
  },
  {
   "cell_type": "markdown",
   "metadata": {},
   "source": [
    "## Reading Files"
   ]
  },
  {
   "cell_type": "markdown",
   "metadata": {},
   "source": [
    "Reading the Entire File"
   ]
  },
  {
   "cell_type": "code",
   "execution_count": 182,
   "metadata": {},
   "outputs": [
    {
     "name": "stdout",
     "output_type": "stream",
     "text": [
      "sa 10\n",
      "    102\n",
      "    achieve\n"
     ]
    }
   ],
   "source": [
    "with open('example.txt', 'r') as file:\n",
    "    contents = file.read()\n",
    "    print(contents)\n"
   ]
  },
  {
   "cell_type": "markdown",
   "metadata": {},
   "source": [
    "Reading Line by Line"
   ]
  },
  {
   "cell_type": "code",
   "execution_count": 183,
   "metadata": {},
   "outputs": [
    {
     "name": "stdout",
     "output_type": "stream",
     "text": [
      "sa 10\n",
      "102\n",
      "achieve\n"
     ]
    }
   ],
   "source": [
    "with open('example.txt', 'r') as file:\n",
    "    for line in file:\n",
    "        print(line.strip())"
   ]
  },
  {
   "cell_type": "markdown",
   "metadata": {},
   "source": [
    "Reading Specific Number of Characters"
   ]
  },
  {
   "cell_type": "code",
   "execution_count": 184,
   "metadata": {},
   "outputs": [
    {
     "name": "stdout",
     "output_type": "stream",
     "text": [
      "sa 10\n",
      "    \n"
     ]
    }
   ],
   "source": [
    "with open('example.txt', 'r') as file:\n",
    "    contents = file.read(10)  # Reads the first 10 characters\n",
    "    print(contents)\n"
   ]
  },
  {
   "cell_type": "markdown",
   "metadata": {},
   "source": [
    "Reading Lines into a List"
   ]
  },
  {
   "cell_type": "code",
   "execution_count": 185,
   "metadata": {},
   "outputs": [
    {
     "name": "stdout",
     "output_type": "stream",
     "text": [
      "['sa 10\\n', '    102\\n', '    achieve']\n"
     ]
    }
   ],
   "source": [
    "with open('example.txt', 'r') as file:\n",
    "    lines = file.readlines()\n",
    "    print(lines)\n"
   ]
  },
  {
   "cell_type": "markdown",
   "metadata": {},
   "source": [
    "## Writing to Files"
   ]
  },
  {
   "cell_type": "markdown",
   "metadata": {},
   "source": [
    "Writing to a New File"
   ]
  },
  {
   "cell_type": "code",
   "execution_count": 186,
   "metadata": {},
   "outputs": [],
   "source": [
    "with open('newfile.txt', 'w') as file:\n",
    "    file.write(\"Hello, world!\\n\")\n",
    "    file.write(\"This is a new file.\")\n"
   ]
  },
  {
   "cell_type": "markdown",
   "metadata": {},
   "source": [
    "Appending to an Existing File"
   ]
  },
  {
   "cell_type": "code",
   "execution_count": 187,
   "metadata": {},
   "outputs": [],
   "source": [
    "with open('newfile.txt', 'a') as file:\n",
    "    file.write(\"\\Appending a new line.\")\n"
   ]
  },
  {
   "cell_type": "markdown",
   "metadata": {},
   "source": [
    "Writing a List to a File"
   ]
  },
  {
   "cell_type": "code",
   "execution_count": 188,
   "metadata": {},
   "outputs": [],
   "source": [
    "lines = [\"First line\", \"Second line\", \"Third line\"]\n",
    "\n",
    "with open('lines.txt', 'w') as file:\n",
    "    for line in lines:\n",
    "        file.write(line + \"\\n\")\n"
   ]
  },
  {
   "cell_type": "markdown",
   "metadata": {},
   "source": []
  },
  {
   "cell_type": "markdown",
   "metadata": {},
   "source": [
    "# Error and Exception Handling "
   ]
  },
  {
   "cell_type": "markdown",
   "metadata": {},
   "source": [
    "Error and exception handling is crucial in Python to manage and respond to runtime errors gracefully. Exceptions provide a way to transfer control from one part of a program to another when errors occur."
   ]
  },
  {
   "cell_type": "markdown",
   "metadata": {},
   "source": [
    "- Basic Concepts\n",
    "    - Exception: An event that disrupts the normal flow of the program.\n",
    "    - Try block: A block of code where exceptions can occur.\n",
    "    - Except block: A block of code that handles the exception.\n",
    "    - Finally block: A block of code that executes regardless of whether an exception occurred."
   ]
  },
  {
   "cell_type": "code",
   "execution_count": 191,
   "metadata": {},
   "outputs": [],
   "source": [
    "try:\n",
    "    # Code that may raise an exception\n",
    "    pass\n",
    "except ExceptionType:\n",
    "    # Code that runs if the exception occurs\n",
    "    pass\n",
    "finally:\n",
    "    # Code that runs no matter what\n",
    "    pass"
   ]
  },
  {
   "cell_type": "markdown",
   "metadata": {},
   "source": [
    "## Basic exception hadling \n"
   ]
  },
  {
   "cell_type": "code",
   "execution_count": 192,
   "metadata": {},
   "outputs": [
    {
     "name": "stdout",
     "output_type": "stream",
     "text": [
      "You can't divide by zero!\n"
     ]
    }
   ],
   "source": [
    "try:\n",
    "    x = 1 / 0\n",
    "except ZeroDivisionError:\n",
    "    print(\"You can't divide by zero!\")\n"
   ]
  },
  {
   "cell_type": "markdown",
   "metadata": {},
   "source": [
    "## Handling multiple exceptions"
   ]
  },
  {
   "cell_type": "code",
   "execution_count": 195,
   "metadata": {},
   "outputs": [],
   "source": [
    "try:\n",
    "    x = int(input(\"Enter a number: \"))\n",
    "    y = 1 / x\n",
    "except ValueError:\n",
    "    print(\"That's not a valid number!\")\n",
    "except ZeroDivisionError:\n",
    "    print(\"You can't divide by zero!\")"
   ]
  },
  {
   "cell_type": "markdown",
   "metadata": {},
   "source": [
    "## Using else"
   ]
  },
  {
   "cell_type": "code",
   "execution_count": 196,
   "metadata": {},
   "outputs": [
    {
     "name": "stdout",
     "output_type": "stream",
     "text": [
      "You can't divide by zero!\n"
     ]
    }
   ],
   "source": [
    "try:\n",
    "    x = int(input(\"Enter a number: \"))\n",
    "    y = 1 / x\n",
    "except ValueError:\n",
    "    print(\"That's not a valid number!\")\n",
    "except ZeroDivisionError:\n",
    "    print(\"You can't divide by zero!\")\n",
    "else:\n",
    "    print(\"The division was successful!\")"
   ]
  },
  {
   "cell_type": "markdown",
   "metadata": {},
   "source": [
    "## Using Finally"
   ]
  },
  {
   "cell_type": "code",
   "execution_count": 197,
   "metadata": {},
   "outputs": [
    {
     "name": "stdout",
     "output_type": "stream",
     "text": [
      "File closed.\n"
     ]
    }
   ],
   "source": [
    "try:\n",
    "    file = open('example.txt', 'r')\n",
    "    content = file.read()\n",
    "except FileNotFoundError:\n",
    "    print(\"The file was not found.\")\n",
    "finally:\n",
    "    file.close()\n",
    "    print(\"File closed.\")\n"
   ]
  },
  {
   "cell_type": "markdown",
   "metadata": {},
   "source": [
    "##  Raising exceptions"
   ]
  },
  {
   "cell_type": "code",
   "execution_count": 198,
   "metadata": {},
   "outputs": [
    {
     "name": "stdout",
     "output_type": "stream",
     "text": [
      "You must be at least 18 years old.\n"
     ]
    }
   ],
   "source": [
    "def check_age(age):\n",
    "    if age < 18:\n",
    "        raise ValueError(\"You must be at least 18 years old.\")\n",
    "    return \"Access granted.\"\n",
    "\n",
    "try:\n",
    "    print(check_age(15))\n",
    "except ValueError as e:\n",
    "    print(e)\n"
   ]
  },
  {
   "cell_type": "markdown",
   "metadata": {},
   "source": [
    "## Creating Custom Exceptions"
   ]
  },
  {
   "cell_type": "code",
   "execution_count": 199,
   "metadata": {},
   "outputs": [
    {
     "name": "stdout",
     "output_type": "stream",
     "text": [
      "Value cannot be negative.\n"
     ]
    }
   ],
   "source": [
    "class CustomError(Exception):\n",
    "    pass\n",
    "\n",
    "def check_value(value):\n",
    "    if value < 0:\n",
    "        raise CustomError(\"Value cannot be negative.\")\n",
    "\n",
    "try:\n",
    "    check_value(-10)\n",
    "except CustomError as e:\n",
    "    print(e)\n"
   ]
  },
  {
   "cell_type": "markdown",
   "metadata": {},
   "source": [
    "## Handling Multiple Exceptions with a Single Block"
   ]
  },
  {
   "cell_type": "code",
   "execution_count": 200,
   "metadata": {},
   "outputs": [],
   "source": [
    "try:\n",
    "    x = int(input(\"Enter a number: \"))\n",
    "    y = 1 / x\n",
    "except (ValueError, ZeroDivisionError) as e:\n",
    "    print(f\"An error occurred: {e}\")\n"
   ]
  },
  {
   "cell_type": "markdown",
   "metadata": {},
   "source": [
    "## Logging Exceptions"
   ]
  },
  {
   "cell_type": "code",
   "execution_count": 201,
   "metadata": {},
   "outputs": [],
   "source": [
    "import logging\n",
    "\n",
    "logging.basicConfig(filename='app.log', level=logging.ERROR)\n",
    "\n",
    "try:\n",
    "    x = 1 / 0\n",
    "except ZeroDivisionError as e:\n",
    "    logging.error(\"Exception occurred\", exc_info=True)\n"
   ]
  },
  {
   "cell_type": "markdown",
   "metadata": {},
   "source": [
    "## Nested Try-Except Blocks"
   ]
  },
  {
   "cell_type": "code",
   "execution_count": 202,
   "metadata": {},
   "outputs": [
    {
     "name": "stdout",
     "output_type": "stream",
     "text": [
      "Inner try block: Division by zero!\n",
      "Outer try block: Division by zero!\n"
     ]
    }
   ],
   "source": [
    "try:\n",
    "    try:\n",
    "        x = 1 / 0\n",
    "    except ZeroDivisionError:\n",
    "        print(\"Inner try block: Division by zero!\")\n",
    "        raise\n",
    "except ZeroDivisionError:\n",
    "    print(\"Outer try block: Division by zero!\")\n"
   ]
  },
  {
   "cell_type": "code",
   "execution_count": null,
   "metadata": {},
   "outputs": [],
   "source": []
  }
 ],
 "metadata": {
  "kernelspec": {
   "display_name": "Python 3",
   "language": "python",
   "name": "python3"
  },
  "language_info": {
   "codemirror_mode": {
    "name": "ipython",
    "version": 3
   },
   "file_extension": ".py",
   "mimetype": "text/x-python",
   "name": "python",
   "nbconvert_exporter": "python",
   "pygments_lexer": "ipython3",
   "version": "3.11.0"
  }
 },
 "nbformat": 4,
 "nbformat_minor": 2
}
