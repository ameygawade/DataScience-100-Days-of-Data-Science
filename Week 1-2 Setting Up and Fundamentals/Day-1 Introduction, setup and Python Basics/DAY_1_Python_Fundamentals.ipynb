{
 "cells": [
  {
   "cell_type": "markdown",
   "metadata": {},
   "source": [
    "# Day-1 Reviewing Python Basics"
   ]
  },
  {
   "cell_type": "markdown",
   "metadata": {},
   "source": [
    "Today, I am kicking off my 100-Day Data Science Portfolio Challenge. I will start by writing an introductory post outlining my goals and motivations for starting this challenge. I will explain the benefits of having a strong portfolio and how this challenge will help me achieve my career objectives in data science. I will also create a detailed introduction post on my website."
   ]
  },
  {
   "cell_type": "markdown",
   "metadata": {},
   "source": [
    "Today, I will review essential Python concepts that are crucial for data science. I will focus on core programming skills to ensure I have a strong foundation."
   ]
  },
  {
   "cell_type": "markdown",
   "metadata": {},
   "source": [
    "# Topics Covered:\n",
    "\n",
    "1. Data types and structures:\n",
    "    - lists, \n",
    "    - dictionaries, \n",
    "    - sets, \n",
    "    - tuples\n",
    "2. Control flow\n",
    "    - if statements, \n",
    "    - for loops, \n",
    "    - while loops,\n",
    "    - Nested control flow,\n",
    "    - List Comprehensions,\n",
    "    - Dictionary and Set Comprehensions,\n",
    "    - Enumerate and Zip Functions,\n",
    "    - Itertools Module,\n",
    "    - Break and Continue Statements\n",
    "3. Functions and modules\n",
    "4. File handling\n",
    "5. Error and exception handling"
   ]
  },
  {
   "cell_type": "markdown",
   "metadata": {},
   "source": [
    "# Data types and structures"
   ]
  },
  {
   "cell_type": "markdown",
   "metadata": {},
   "source": [
    "## List"
   ]
  },
  {
   "cell_type": "code",
   "execution_count": 41,
   "metadata": {},
   "outputs": [
    {
     "name": "stdout",
     "output_type": "stream",
     "text": [
      "This is the list we have saved: [1, 2, 3, 4, 5], and it is represented by the following datatype: <class 'list'>\n",
      "We can access specific data points in the list by mentioning the index. For example, the first element is 1, and a range of elements from index 0 to 2 (excluding 3) can be accessed as [1, 2, 3].\n",
      "After appending 6, the list becomes: [1, 2, 3, 4, 5, 6]\n",
      "After removing 3, the list becomes: [1, 2, 4, 5, 6]\n",
      "After inserting 'new' at index 2, the list becomes: [1, 2, 'new', 4, 5, 6]\n",
      "After changing the second element to 10, the list becomes: [1, 10, 'new', 4, 5, 6]\n",
      "The length of the list is: 6\n",
      "After sorting, the list becomes: [1, 2, 5, 6, 9]\n",
      "After reversing, the list becomes: [6, 5, 4, 'new', 10, 1]\n"
     ]
    }
   ],
   "source": [
    "my_list = [1, 2, 3, 4, 5]\n",
    "\n",
    "# Displaying the list and its type\n",
    "print(f\"This is the list we have saved: {my_list}, and it is represented by the following datatype: {type(my_list)}\")\n",
    "\n",
    "# Accessing specific elements using indexing\n",
    "print(f\"We can access specific data points in the list by mentioning the index. For example, the first element is {my_list[0]}, and a range of elements from index 0 to 2 (excluding 3) can be accessed as {my_list[0:3]}.\")\n",
    "\n",
    "# Demonstrating basic list operations:\n",
    "\n",
    "# 1. Adding an element to the list using append()\n",
    "my_list.append(6)\n",
    "print(f\"After appending 6, the list becomes: {my_list}\")\n",
    "\n",
    "# 2. Removing an element from the list using remove()\n",
    "my_list.remove(3)\n",
    "print(f\"After removing 3, the list becomes: {my_list}\")\n",
    "\n",
    "# 3. Inserting an element at a specific position using insert()\n",
    "my_list.insert(2, 'new')\n",
    "print(f\"After inserting 'new' at index 2, the list becomes: {my_list}\")\n",
    "\n",
    "# 4. Modifying an element by accessing it directly\n",
    "my_list[1] = 10\n",
    "print(f\"After changing the second element to 10, the list becomes: {my_list}\")\n",
    "\n",
    "# 5. Finding the length of the list using len()\n",
    "print(f\"The length of the list is: {len(my_list)}\")\n",
    "\n",
    "# 6. Sorting the list using sort()\n",
    "sorted_list = [2, 5, 1, 9, 6]\n",
    "sorted_list.sort()\n",
    "print(f\"After sorting, the list becomes: {sorted_list}\")\n",
    "\n",
    "# 7. Reversing the list using reverse()\n",
    "my_list.reverse()\n",
    "print(f\"After reversing, the list becomes: {my_list}\")"
   ]
  },
  {
   "cell_type": "markdown",
   "metadata": {},
   "source": [
    "### Key Characteristics of Lists:\n",
    "- Ordered: Lists maintain the order of elements, which means that elements can be accessed by their index. The first element is at index 0, the second at 1, and so on.\n",
    "\n",
    "- Mutable: Lists are mutable, meaning you can modify them after creation by adding, removing, or changing elements.\n",
    "\n",
    "- Allows Duplicates: Lists can contain multiple occurrences of the same element, so duplicates are allowed.\n",
    "\n",
    "- Dynamic Size: Lists can grow or shrink as elements are added or removed.\n",
    "\n",
    "- Heterogeneous Elements: Lists can hold different data types. For example, a list can contain integers, strings, and other objects all in one collection.\n",
    "\n",
    "- Indexable: Elements in a list can be accessed using their index. Slicing can also be used to get sublists.\n",
    "\n",
    "- Variable Performance: Accessing elements by index is fast (O(1)), but searching for an element, adding/removing elements in the middle, or resizing the list can be slower (O(n))."
   ]
  },
  {
   "cell_type": "markdown",
   "metadata": {},
   "source": [
    "## Dictionaries"
   ]
  },
  {
   "cell_type": "code",
   "execution_count": 24,
   "metadata": {},
   "outputs": [
    {
     "name": "stdout",
     "output_type": "stream",
     "text": [
      "This is the dictionary we have saved: {'name': 'Amey', 'age': 30}, and it is represented by the following datatype: <class 'dict'>\n",
      "We can access specific values in the dictionary by using the keys. For example, the value for 'name' is Amey and the value for 'age' is 30.\n",
      "After adding a new key-value pair (location: 'Mumbai'), the dictionary becomes: {'name': 'Amey', 'age': 30, 'location': 'Paris'}\n",
      "After updating the 'age' to 31, the dictionary becomes: {'name': 'Amey', 'age': 31, 'location': 'Paris'}\n",
      "After removing the key 'name', the dictionary becomes: {'age': 31, 'location': 'Paris'} and the removed value was: Amey\n"
     ]
    }
   ],
   "source": [
    "# Defining a dictionary\n",
    "my_dict = {'name': 'Amey', 'age': 30}\n",
    "\n",
    "# Displaying the dictionary and its type\n",
    "print(f\"This is the dictionary we have saved: {my_dict}, and it is represented by the following datatype: {type(my_dict)}\")\n",
    "\n",
    "# Accessing specific values using keys\n",
    "print(f\"We can access specific values in the dictionary by using the keys. For example, the value for 'name' is {my_dict['name']} and the value for 'age' is {my_dict['age']}.\")\n",
    "\n",
    "# Demonstrating basic dictionary operations:\n",
    "\n",
    "# 1. Adding a new key-value pair\n",
    "my_dict['location'] = 'Paris'\n",
    "print(f\"After adding a new key-value pair (location: 'Mumbai'), the dictionary becomes: {my_dict}\")\n",
    "\n",
    "# 2. Updating the value of an existing key\n",
    "my_dict['age'] = 31\n",
    "print(f\"After updating the 'age' to 31, the dictionary becomes: {my_dict}\")\n",
    "\n",
    "# 3. Removing a key-value pair using pop()\n",
    "removed_value = my_dict.pop('name')\n",
    "print(f\"After removing the key 'name', the dictionary becomes: {my_dict} and the removed value was: {removed_value}\")\n"
   ]
  },
  {
   "cell_type": "markdown",
   "metadata": {},
   "source": [
    "### Key Characteristics of Dictionaries:\n",
    "- Mutable: Dictionaries are mutable, allowing you to add, remove, or change key-value pairs after the dictionary has been created.\n",
    "\n",
    "- Unique Keys: Keys in a dictionary must be unique, meaning no two keys can be the same. If a key is duplicated, the most recent value for that key will overwrite the previous one.\n",
    "\n",
    "- Key-Value Pairs: Dictionaries store data in key-value pairs, where each key is associated with a value. You can access the values by referring to their respective keys.\n",
    "\n",
    "- Heterogeneous Keys and Values: Both keys and values in a dictionary can be of different data types, making dictionaries highly flexible.\n",
    "\n",
    "- Efficient Lookup: Dictionary lookups (i.e., accessing a value by its key) are very fast, typically O(1) on average.\n",
    "\n",
    "- Keys Must Be Immutable: Keys in a dictionary must be of immutable types such as strings, numbers, or tuples, meaning lists or other dictionaries cannot be used as keys. Values, however, can be of any type, including lists or other dictionaries."
   ]
  },
  {
   "cell_type": "markdown",
   "metadata": {},
   "source": [
    "## Sets"
   ]
  },
  {
   "cell_type": "code",
   "execution_count": 25,
   "metadata": {},
   "outputs": [
    {
     "name": "stdout",
     "output_type": "stream",
     "text": [
      "This is the set we have saved: {1, 2, 3, 4, 5}, and it is represented by the following datatype: <class 'set'>\n",
      "After adding 6, the set becomes: {1, 2, 3, 4, 5, 6}\n",
      "After removing 2, the set becomes: {1, 3, 4, 5, 6}\n",
      "The length of the set is: 5\n",
      "The union of my_set and other_set is: {1, 3, 4, 5, 6, 7, 8}\n",
      "The intersection of my_set and other_set is: {4, 5, 6}\n",
      "The difference of my_set and other_set is: {1, 3}\n",
      "After clearing, the set becomes: set()\n"
     ]
    }
   ],
   "source": [
    "# Defining a set\n",
    "my_set = {1, 2, 3, 4, 5}\n",
    "\n",
    "# Displaying the set and its type\n",
    "print(f\"This is the set we have saved: {my_set}, and it is represented by the following datatype: {type(my_set)}\")\n",
    "\n",
    "# Demonstrating basic set operations:\n",
    "\n",
    "# 1. Adding an element to the set using add()\n",
    "my_set.add(6)\n",
    "print(f\"After adding 6, the set becomes: {my_set}\")\n",
    "\n",
    "# 2. Removing an element from the set using remove()\n",
    "my_set.remove(2)\n",
    "print(f\"After removing 2, the set becomes: {my_set}\")\n",
    "\n",
    "# 3. Finding the length of the set using len()\n",
    "print(f\"The length of the set is: {len(my_set)}\")\n",
    "\n",
    "# 4. Performing union with another set using union()\n",
    "other_set = {4, 5, 6, 7, 8}\n",
    "union_set = my_set.union(other_set)\n",
    "print(f\"The union of my_set and other_set is: {union_set}\")\n",
    "\n",
    "# 5. Performing intersection with another set using intersection()\n",
    "intersection_set = my_set.intersection(other_set)\n",
    "print(f\"The intersection of my_set and other_set is: {intersection_set}\")\n",
    "\n",
    "# 6. Performing difference with another set using difference()\n",
    "difference_set = my_set.difference(other_set)\n",
    "print(f\"The difference of my_set and other_set is: {difference_set}\")\n",
    "\n",
    "# 7. Clearing the set using clear()\n",
    "my_set.clear()\n",
    "print(f\"After clearing, the set becomes: {my_set}\")\n"
   ]
  },
  {
   "cell_type": "markdown",
   "metadata": {},
   "source": [
    "### Key Characteristics of Sets:\n",
    "- Unordered: Sets do not maintain the order of elements.\n",
    "- Unique Elements: A set does not allow duplicate values.\n",
    "- Mutable: You can modify the set by adding or removing elements."
   ]
  },
  {
   "cell_type": "markdown",
   "metadata": {},
   "source": [
    "## Tuples"
   ]
  },
  {
   "cell_type": "code",
   "execution_count": 26,
   "metadata": {},
   "outputs": [
    {
     "name": "stdout",
     "output_type": "stream",
     "text": [
      "This is the tuple we have saved: (1, 2, 3, 4, 5), and it is represented by the following datatype: <class 'tuple'>\n",
      "We can access specific data points in the tuple by mentioning the index. For example, the first element is 1, and a range of elements from index 0 to 2 (excluding 3) is (1, 2, 3).\n",
      "The length of the tuple is: 5\n",
      "The element at index 2 is: 3\n",
      "After concatenating with (6, 7), the tuple becomes: (1, 2, 3, 4, 5, 6, 7)\n",
      "After repeating the tuple twice, it becomes: (1, 2, 3, 4, 5, 1, 2, 3, 4, 5)\n",
      "The index of element 3 is: 2\n",
      "The element 3 appears 1 times in the tuple.\n"
     ]
    }
   ],
   "source": [
    "# Defining a tuple\n",
    "my_tuple = (1, 2, 3, 4, 5)\n",
    "\n",
    "# Displaying the tuple and its type\n",
    "print(f\"This is the tuple we have saved: {my_tuple}, and it is represented by the following datatype: {type(my_tuple)}\")\n",
    "\n",
    "# Accessing specific values using indexing\n",
    "print(f\"We can access specific data points in the tuple by mentioning the index. For example, the first element is {my_tuple[0]}, and a range of elements from index 0 to 2 (excluding 3) is {my_tuple[0:3]}.\")\n",
    "\n",
    "# Demonstrating basic tuple operations:\n",
    "\n",
    "# 1. Finding the length of the tuple using len()\n",
    "print(f\"The length of the tuple is: {len(my_tuple)}\")\n",
    "\n",
    "# 2. Accessing an element by index\n",
    "print(f\"The element at index 2 is: {my_tuple[2]}\")\n",
    "\n",
    "# 3. Concatenating tuples using +\n",
    "new_tuple = my_tuple + (6, 7)\n",
    "print(f\"After concatenating with (6, 7), the tuple becomes: {new_tuple}\")\n",
    "\n",
    "# 4. Repeating a tuple using *\n",
    "repeated_tuple = my_tuple * 2\n",
    "print(f\"After repeating the tuple twice, it becomes: {repeated_tuple}\")\n",
    "\n",
    "# 5. Finding the index of an element using index()\n",
    "index_of_3 = my_tuple.index(3)\n",
    "print(f\"The index of element 3 is: {index_of_3}\")\n",
    "\n",
    "# 6. Counting occurrences of an element using count()\n",
    "count_of_3 = my_tuple.count(3)\n",
    "print(f\"The element 3 appears {count_of_3} times in the tuple.\")\n"
   ]
  },
  {
   "cell_type": "markdown",
   "metadata": {},
   "source": [
    "### Key Characteristics of Tuples:\n",
    "- Immutable: Once a tuple is created, you cannot change, add, or remove elements.\n",
    "- Ordered: Tuples maintain the order of elements.\n",
    "- Allows Duplicates: Unlike sets, tuples can have duplicate elements."
   ]
  },
  {
   "cell_type": "markdown",
   "metadata": {},
   "source": [
    "# Control Flow"
   ]
  },
  {
   "cell_type": "markdown",
   "metadata": {},
   "source": [
    "Now we dive into the core elements of Python programming, which form the foundation of any coding project.Control flow refers to the order in which the individual statements, instructions, or function calls are executed or evaluated."
   ]
  },
  {
   "cell_type": "markdown",
   "metadata": {},
   "source": [
    "In this section, we will explore key Python control flow structures, including if statements, loops (for and while), and more advanced constructs like nested control flow, comprehensions, and loop control statements (break, continue). These tools give programmers the ability to create more efficient and flexible code."
   ]
  },
  {
   "cell_type": "markdown",
   "metadata": {},
   "source": [
    "##  if statement"
   ]
  },
  {
   "cell_type": "markdown",
   "metadata": {},
   "source": [
    "The if statement is used to make decisions in your code. It allows you to execute specific blocks of code only if certain conditions are met."
   ]
  },
  {
   "cell_type": "markdown",
   "metadata": {},
   "source": [
    "lets define integer value 'number' to explain if loop with respect to Datatypes - List, Dictonaries, Sets and Tuples; which we have already learned in previous section"
   ]
  },
  {
   "cell_type": "code",
   "execution_count": 27,
   "metadata": {},
   "outputs": [],
   "source": [
    "number = 1"
   ]
  },
  {
   "cell_type": "markdown",
   "metadata": {},
   "source": [
    "### Use in List"
   ]
  },
  {
   "cell_type": "code",
   "execution_count": 42,
   "metadata": {},
   "outputs": [
    {
     "name": "stdout",
     "output_type": "stream",
     "text": [
      "has 1 in the list\n"
     ]
    }
   ],
   "source": [
    "if number in my_list:\n",
    "    print(f\"has {number} in the list\")\n",
    "else:\n",
    "    print(f\"no, {number} is not there in the list\")"
   ]
  },
  {
   "cell_type": "markdown",
   "metadata": {},
   "source": [
    "- In the above code, the if statement checks whether the value [number] is present in the list my_list. \n",
    "- The in keyword is used to check for membership in a collection (in this case, a list).It returns True if number is found in my_list, and False if it is not.\n",
    "- If the Condition is True\n",
    "    - If number exists in my_list, the program executes the code inside the if block. In the above case it will print message 'has {number} in the list'\n",
    "- if the Condition is false\n",
    "    - If number is not found in my_list (i.e., the if condition is False), the program executes the code inside the else block. Which means it will print message 'no, {number} is not there in the list'"
   ]
  },
  {
   "cell_type": "markdown",
   "metadata": {},
   "source": [
    "The if statement can be used in a wide range of applications with lists, such as:\n",
    "\n",
    "-   Checking for the existence of values.\n",
    "-   Determining the list's length.\n",
    "-   Identifying duplicates or verifying conditions for all elements.\n",
    "-   Comparing values using built-in functions like max(), min(), and more."
   ]
  },
  {
   "cell_type": "markdown",
   "metadata": {},
   "source": [
    "### Use in Dictionaires"
   ]
  },
  {
   "cell_type": "code",
   "execution_count": 29,
   "metadata": {},
   "outputs": [
    {
     "name": "stdout",
     "output_type": "stream",
     "text": [
      "my age is greater than 1 \n"
     ]
    }
   ],
   "source": [
    "if my_dict['age'] > number:\n",
    "    print(f\"my age is greater than {number} \")\n",
    "else:\n",
    "    print(f\"my age is less than {number}\")"
   ]
  },
  {
   "cell_type": "markdown",
   "metadata": {},
   "source": [
    "- We are checking a Specific Value in the Dictionary:\n",
    "    - The expression my_dict['age'] accesses the value associated with the key 'age' in the dictionary my_dict. \n",
    "    - The if statement compares this value with number using the greater than (>) operator.\n",
    "        - If the value of my_dict['age'] is greater than number,which means if conditiobn is True the program will execute the code inside the if block. In this case, it prints \"my age is greater than {number}\".\n",
    "        - If my_dict['age'] is less than or equal to number, which means if condition statement False the else block is executed. In this case, it prints \"my age is less than {number}\".\n",
    "        "
   ]
  },
  {
   "cell_type": "markdown",
   "metadata": {},
   "source": [
    "In dictionaries, the if statement is used to perform various checks:\n",
    "\n",
    "-   Verifying the presence of keys.\n",
    "-   Comparing and evaluating values.\n",
    "-   Conditionally updating the dictionary.\n",
    "-   Iterating through key-value pairs and performing specific actions based on conditions."
   ]
  },
  {
   "cell_type": "markdown",
   "metadata": {},
   "source": [
    "### Use in Set"
   ]
  },
  {
   "cell_type": "code",
   "execution_count": 30,
   "metadata": {},
   "outputs": [
    {
     "name": "stdout",
     "output_type": "stream",
     "text": [
      "no, 1 is not there in the set\n"
     ]
    }
   ],
   "source": [
    "if number in my_set:\n",
    "    print(f\"has {number} in the set\")\n",
    "else:\n",
    "    print(f\"no, {number} is not there in the set\")"
   ]
  },
  {
   "cell_type": "markdown",
   "metadata": {},
   "source": [
    "- We are checking for Membership in a Set in the above code; The in keyword is used to check whether the value of number exists in my_set. Since sets are unordered collections of unique elements, the check is done quickly and efficiently\n",
    "- If the Condition is True:\n",
    "    - If number exists in my_set, the code inside the if block is executed. It will print \"has {number} in the set\".\n",
    "- If the Condition is False:\n",
    "    - If number does not exist in my_set, the else block is executed. It will print \"no, {number} is not there in the set\".\n"
   ]
  },
  {
   "cell_type": "markdown",
   "metadata": {},
   "source": [
    "### Use in Tuple"
   ]
  },
  {
   "cell_type": "code",
   "execution_count": 31,
   "metadata": {},
   "outputs": [
    {
     "name": "stdout",
     "output_type": "stream",
     "text": [
      "has 1 in the tuple\n"
     ]
    }
   ],
   "source": [
    "if number in my_tuple:\n",
    "    print(f\"has {number} in the tuple\")\n",
    "else:\n",
    "    print(f\"no, {number} is not there in the tuple\")"
   ]
  },
  {
   "cell_type": "markdown",
   "metadata": {},
   "source": [
    "## For loop"
   ]
  },
  {
   "cell_type": "markdown",
   "metadata": {},
   "source": [
    "### Use in Dictionary"
   ]
  },
  {
   "cell_type": "code",
   "execution_count": 32,
   "metadata": {},
   "outputs": [
    {
     "name": "stdout",
     "output_type": "stream",
     "text": [
      "{'age': 31, 'location': 'Paris'}\n",
      "My age is 31\n",
      "My location is Paris\n"
     ]
    }
   ],
   "source": [
    "print(my_dict)\n",
    "\n",
    "for key, value in my_dict.items():\n",
    "    print(f\"My {key} is {value}\")"
   ]
  },
  {
   "cell_type": "markdown",
   "metadata": {},
   "source": [
    "### Use in List"
   ]
  },
  {
   "cell_type": "code",
   "execution_count": 33,
   "metadata": {},
   "outputs": [
    {
     "name": "stdout",
     "output_type": "stream",
     "text": [
      "number is 6\n",
      "number is 5\n",
      "number is 4\n",
      "number is new\n",
      "number is 10\n",
      "number is 1\n"
     ]
    }
   ],
   "source": [
    "for number in my_list:\n",
    "    print(f\"number is {number}\")"
   ]
  },
  {
   "cell_type": "markdown",
   "metadata": {},
   "source": [
    "### Use in Set"
   ]
  },
  {
   "cell_type": "code",
   "execution_count": 34,
   "metadata": {},
   "outputs": [
    {
     "name": "stdout",
     "output_type": "stream",
     "text": [
      "The set has 0 elements.\n"
     ]
    }
   ],
   "source": [
    "print(f\"The set has {len(my_set)} elements.\")\n",
    "for i, content in enumerate(my_set, start=1):\n",
    "    print(f\"Element {i}: {content} (type: {type(content)})\")"
   ]
  },
  {
   "cell_type": "markdown",
   "metadata": {},
   "source": [
    "### Use in Tuple"
   ]
  },
  {
   "cell_type": "code",
   "execution_count": 35,
   "metadata": {},
   "outputs": [
    {
     "name": "stdout",
     "output_type": "stream",
     "text": [
      "The tuple has 5 elements.\n",
      "Element 1: 1 (type: <class 'int'>)\n",
      "Element 2: 2 (type: <class 'int'>)\n",
      "Element 3: 3 (type: <class 'int'>)\n",
      "Element 4: 4 (type: <class 'int'>)\n",
      "Element 5: 5 (type: <class 'int'>)\n"
     ]
    }
   ],
   "source": [
    "print(f\"The tuple has {len(my_tuple)} elements.\")\n",
    "for i, content in enumerate(my_tuple, start=1):\n",
    "    print(f\"Element {i}: {content} (type: {type(content)})\")"
   ]
  },
  {
   "cell_type": "markdown",
   "metadata": {},
   "source": [
    "## While loop"
   ]
  },
  {
   "cell_type": "markdown",
   "metadata": {},
   "source": [
    "### use in dict"
   ]
  },
  {
   "cell_type": "markdown",
   "metadata": {},
   "source": [
    "\n",
    "Using a while loop to iterate over a dictionary without converting it to a list or using an iterator is unconventional because dictionaries in Python are typically iterated over using for loops. However, you can use a while loop by manually managing the keys and using a counter. Here’s an example:"
   ]
  },
  {
   "cell_type": "code",
   "execution_count": 36,
   "metadata": {},
   "outputs": [
    {
     "name": "stdout",
     "output_type": "stream",
     "text": [
      "Key: age, Value: 31\n",
      "Key: location, Value: Paris\n"
     ]
    }
   ],
   "source": [
    "keys = list(my_dict.keys())\n",
    "i = 0\n",
    "\n",
    "while i < len(keys):\n",
    "    key = keys[i]\n",
    "    print(f\"Key: {key}, Value: {my_dict[key]}\")\n",
    "    i += 1"
   ]
  },
  {
   "cell_type": "markdown",
   "metadata": {},
   "source": [
    "### use in list"
   ]
  },
  {
   "cell_type": "code",
   "execution_count": 37,
   "metadata": {},
   "outputs": [
    {
     "name": "stdout",
     "output_type": "stream",
     "text": [
      "List content is 6\n",
      "List content is 5\n",
      "List content is 4\n",
      "List content is new\n",
      "List content is 10\n",
      "List content is 1\n"
     ]
    }
   ],
   "source": [
    "index = 0\n",
    "\n",
    "while index < len(my_list):\n",
    "    print(f\"List content is {my_list[index]}\")\n",
    "    index += 1"
   ]
  },
  {
   "cell_type": "markdown",
   "metadata": {},
   "source": [
    "### use in set"
   ]
  },
  {
   "cell_type": "code",
   "execution_count": 38,
   "metadata": {},
   "outputs": [],
   "source": [
    "\n",
    "set_list = list(my_set)  # Convert set to list for indexing\n",
    "index = 0\n",
    "\n",
    "while index < len(set_list):\n",
    "    print(f\"Set content is {set_list[index]}\")\n",
    "    index += 1"
   ]
  },
  {
   "cell_type": "markdown",
   "metadata": {},
   "source": [
    "### Use in tuple "
   ]
  },
  {
   "cell_type": "code",
   "execution_count": 39,
   "metadata": {},
   "outputs": [
    {
     "name": "stdout",
     "output_type": "stream",
     "text": [
      "Tuple content is 1 (odd)\n",
      "Tuple content is 2 (even)\n",
      "Tuple content is 3 (odd)\n",
      "Tuple content is 4 (even)\n",
      "Tuple content is 5 (odd)\n"
     ]
    }
   ],
   "source": [
    "index = 0\n",
    "\n",
    "while index < len(my_tuple):\n",
    "    if my_tuple[index] % 2 == 0:\n",
    "        print(f\"Tuple content is {my_tuple[index]} (even)\")\n",
    "    else:\n",
    "        print(f\"Tuple content is {my_tuple[index]} (odd)\")\n",
    "    index += 1"
   ]
  },
  {
   "cell_type": "markdown",
   "metadata": {},
   "source": [
    "## Nested Control flow "
   ]
  },
  {
   "cell_type": "markdown",
   "metadata": {},
   "source": [
    "Nested control flow involves placing one or more control flow statements inside another. Here are examples for lists, sets, dictionaries, and tuples."
   ]
  },
  {
   "cell_type": "markdown",
   "metadata": {},
   "source": [
    "Finding and printing all pairs of numbers from a list that add up to a target value."
   ]
  },
  {
   "cell_type": "markdown",
   "metadata": {},
   "source": [
    "### Use in List"
   ]
  },
  {
   "cell_type": "code",
   "execution_count": 48,
   "metadata": {},
   "outputs": [],
   "source": [
    "target = 2\n",
    "my_list = [1, 2, 3, 4, 5]\n",
    "i=0\n",
    "for i in range(len(my_list)):\n",
    "    for j in range(i + 1, len(my_list)):\n",
    "        if my_list[i] + my_list[j] == target:\n",
    "            print(f\"Pair found: ({my_list[i]}, {my_list[j]})\")"
   ]
  },
  {
   "cell_type": "markdown",
   "metadata": {},
   "source": [
    "### Use in Set"
   ]
  },
  {
   "cell_type": "markdown",
   "metadata": {},
   "source": [
    "Nested loops can be used to compare elements within a set or with elements from another set."
   ]
  },
  {
   "cell_type": "markdown",
   "metadata": {},
   "source": [
    "Finding common elements between two sets."
   ]
  },
  {
   "cell_type": "code",
   "execution_count": null,
   "metadata": {},
   "outputs": [
    {
     "name": "stdout",
     "output_type": "stream",
     "text": [
      "Common elements: {4, 5}\n"
     ]
    }
   ],
   "source": [
    "set1 = {1, 2, 3, 4, 5}\n",
    "set2 = {4, 5, 6, 7, 8}\n",
    "\n",
    "common_elements = set()\n",
    "\n",
    "for elem1 in set1:\n",
    "    for elem2 in set2:\n",
    "        if elem1 == elem2:\n",
    "            common_elements.add(elem1)\n",
    "\n",
    "print(f\"Common elements: {common_elements}\")\n"
   ]
  },
  {
   "cell_type": "markdown",
   "metadata": {},
   "source": [
    "### Dictionary"
   ]
  },
  {
   "cell_type": "markdown",
   "metadata": {},
   "source": [
    "Nested loops and conditionals can be used to process dictionary keys and values."
   ]
  },
  {
   "cell_type": "markdown",
   "metadata": {},
   "source": [
    "Filtering a dictionary based on the values of nested dictionaries."
   ]
  },
  {
   "cell_type": "code",
   "execution_count": null,
   "metadata": {},
   "outputs": [
    {
     "name": "stdout",
     "output_type": "stream",
     "text": [
      "Filtered dictionary: {'item1': {'name': 'Apple', 'price': 50}, 'item3': {'name': 'Cherry', 'price': 70}}\n"
     ]
    }
   ],
   "source": [
    "my_dict = {\n",
    "    'item1': {'name': 'Apple', 'price': 50},\n",
    "    'item2': {'name': 'Banana', 'price': 30},\n",
    "    'item3': {'name': 'Cherry', 'price': 70}\n",
    "}\n",
    "\n",
    "filtered_dict = {}\n",
    "\n",
    "for key, value in my_dict.items():\n",
    "    if value['price'] > 40:\n",
    "        filtered_dict[key] = value\n",
    "\n",
    "print(f\"Filtered dictionary: {filtered_dict}\")\n"
   ]
  },
  {
   "cell_type": "markdown",
   "metadata": {},
   "source": [
    "### Tuple"
   ]
  },
  {
   "cell_type": "markdown",
   "metadata": {},
   "source": [
    "Nested loops can be used to process elements within a tuple or between multiple tuples."
   ]
  },
  {
   "cell_type": "markdown",
   "metadata": {},
   "source": [
    "Pairing elements from two tuples if their sum is even."
   ]
  },
  {
   "cell_type": "code",
   "execution_count": null,
   "metadata": {},
   "outputs": [
    {
     "name": "stdout",
     "output_type": "stream",
     "text": [
      "Pairs with even sum: [(1, 5), (2, 4), (2, 6), (3, 5)]\n"
     ]
    }
   ],
   "source": [
    "tuple1 = (1, 2, 3)\n",
    "tuple2 = (4, 5, 6)\n",
    "\n",
    "pairs = []\n",
    "\n",
    "for elem1 in tuple1:\n",
    "    for elem2 in tuple2:\n",
    "        if (elem1 + elem2) % 2 == 0:\n",
    "            pairs.append((elem1, elem2))\n",
    "\n",
    "print(f\"Pairs with even sum: {pairs}\")\n"
   ]
  },
  {
   "cell_type": "markdown",
   "metadata": {},
   "source": [
    "## List Comprehensions"
   ]
  },
  {
   "cell_type": "markdown",
   "metadata": {},
   "source": [
    "List comprehensions provide a concise way to create lists. They can include conditional logic."
   ]
  },
  {
   "cell_type": "code",
   "execution_count": null,
   "metadata": {},
   "outputs": [
    {
     "name": "stdout",
     "output_type": "stream",
     "text": [
      "[0, 4, 16, 36, 64]\n"
     ]
    }
   ],
   "source": [
    "squares = [x**2 for x in range(10) if x % 2 == 0]\n",
    "print(squares)"
   ]
  },
  {
   "cell_type": "markdown",
   "metadata": {},
   "source": [
    "## Dictionary and Set Comprehensions"
   ]
  },
  {
   "cell_type": "markdown",
   "metadata": {},
   "source": [
    "Similar to list comprehensions, but for dictionaries and sets."
   ]
  },
  {
   "cell_type": "code",
   "execution_count": null,
   "metadata": {},
   "outputs": [
    {
     "name": "stdout",
     "output_type": "stream",
     "text": [
      "{0: 0, 1: 1, 2: 4, 3: 9, 4: 16, 5: 25, 6: 36, 7: 49, 8: 64, 9: 81}\n",
      "{0, 64, 4, 36, 16}\n"
     ]
    }
   ],
   "source": [
    "squares_dict = {x: x**2 for x in range(10)}\n",
    "even_squares_set = {x**2 for x in range(10) if x % 2 == 0}\n",
    "print(squares_dict)\n",
    "print(even_squares_set)"
   ]
  },
  {
   "cell_type": "markdown",
   "metadata": {},
   "source": [
    " ## Enumerate and Zip Functions"
   ]
  },
  {
   "cell_type": "markdown",
   "metadata": {},
   "source": [
    "The enumerate function adds a counter to an iterable, while zip can combine multiple iterables"
   ]
  },
  {
   "cell_type": "code",
   "execution_count": null,
   "metadata": {},
   "outputs": [
    {
     "name": "stdout",
     "output_type": "stream",
     "text": [
      "0 Alice\n",
      "1 Bob\n",
      "2 Charlie\n",
      "1 a\n",
      "2 b\n",
      "3 c\n"
     ]
    }
   ],
   "source": [
    "names = [\"Alice\", \"Bob\", \"Charlie\"]\n",
    "for index, name in enumerate(names):\n",
    "    print(index, name)\n",
    "\n",
    "list1 = [1, 2, 3]\n",
    "list2 = ['a', 'b', 'c']\n",
    "for num, char in zip(list1, list2):\n",
    "    print(num, char)\n"
   ]
  },
  {
   "cell_type": "markdown",
   "metadata": {},
   "source": [
    "## Itertools Module"
   ]
  },
  {
   "cell_type": "markdown",
   "metadata": {},
   "source": [
    "The itertools module provides functions that create iterators for efficient looping."
   ]
  },
  {
   "cell_type": "code",
   "execution_count": null,
   "metadata": {},
   "outputs": [
    {
     "name": "stdout",
     "output_type": "stream",
     "text": [
      "1\n",
      "3\n",
      "('A', 'B')\n",
      "('A', 'C')\n",
      "('A', 'D')\n",
      "('B', 'C')\n",
      "('B', 'D')\n",
      "('C', 'D')\n"
     ]
    }
   ],
   "source": [
    "import itertools\n",
    "\n",
    "# Infinite counter\n",
    "counter = itertools.count(start=1, step=2)\n",
    "print(next(counter))  # 1\n",
    "print(next(counter))  # 3\n",
    "\n",
    "# Combinations\n",
    "combinations = itertools.combinations('ABCD', 2)\n",
    "for combo in combinations:\n",
    "    print(combo)\n"
   ]
  },
  {
   "cell_type": "markdown",
   "metadata": {},
   "source": [
    "## Break and Continue Statements"
   ]
  },
  {
   "cell_type": "markdown",
   "metadata": {},
   "source": [
    "These statements alter the flow of loops."
   ]
  },
  {
   "cell_type": "code",
   "execution_count": null,
   "metadata": {},
   "outputs": [
    {
     "name": "stdout",
     "output_type": "stream",
     "text": [
      "1\n",
      "3\n"
     ]
    }
   ],
   "source": [
    "for i in range(10):\n",
    "    if i == 5:\n",
    "        break  # Exit the loop\n",
    "    if i % 2 == 0:\n",
    "        continue  # Skip the rest of the loop\n",
    "    print(i)\n"
   ]
  },
  {
   "cell_type": "markdown",
   "metadata": {},
   "source": [
    "# Functions amd Modules"
   ]
  },
  {
   "cell_type": "markdown",
   "metadata": {},
   "source": [
    "Functions and modules are fundamental concepts in Python that help organize and reuse code efficiently. Here's an overview along with examples to illustrate their usage."
   ]
  },
  {
   "cell_type": "markdown",
   "metadata": {},
   "source": [
    "## Functions"
   ]
  },
  {
   "cell_type": "markdown",
   "metadata": {},
   "source": [
    "A function is a block of code which can be reused to perform specific task. The main use of function is to break down complex problems into simpler manageable tasks."
   ]
  },
  {
   "cell_type": "markdown",
   "metadata": {},
   "source": [
    "### Defining Functions"
   ]
  },
  {
   "cell_type": "markdown",
   "metadata": {},
   "source": [
    "Syntax:"
   ]
  },
  {
   "cell_type": "code",
   "execution_count": null,
   "metadata": {},
   "outputs": [],
   "source": [
    "def function_name(parameters):\n",
    "    # function body\n",
    "    return value\n"
   ]
  },
  {
   "cell_type": "markdown",
   "metadata": {},
   "source": [
    "Example:"
   ]
  },
  {
   "cell_type": "code",
   "execution_count": null,
   "metadata": {},
   "outputs": [
    {
     "name": "stdout",
     "output_type": "stream",
     "text": [
      "Hello, Amey!\n"
     ]
    }
   ],
   "source": [
    "def greet(name):\n",
    "    return f\"Hello, {name}!\"\n",
    "\n",
    "print(greet(\"Amey\"))\n"
   ]
  },
  {
   "cell_type": "markdown",
   "metadata": {},
   "source": [
    "### Function Parameters"
   ]
  },
  {
   "cell_type": "markdown",
   "metadata": {},
   "source": [
    "Functions can accept parameters to make them more flexible."
   ]
  },
  {
   "cell_type": "code",
   "execution_count": null,
   "metadata": {},
   "outputs": [
    {
     "name": "stdout",
     "output_type": "stream",
     "text": [
      "8\n"
     ]
    }
   ],
   "source": [
    "def add(a, b):\n",
    "    return a + b\n",
    "\n",
    "result = add(5, 3)\n",
    "print(result)\n"
   ]
  },
  {
   "cell_type": "markdown",
   "metadata": {},
   "source": [
    "### Default Parameters"
   ]
  },
  {
   "cell_type": "markdown",
   "metadata": {},
   "source": [
    "You can define default values for parameters but by definging them with some other values you can make them flexible. Check below mentioned example:"
   ]
  },
  {
   "cell_type": "code",
   "execution_count": null,
   "metadata": {},
   "outputs": [
    {
     "name": "stdout",
     "output_type": "stream",
     "text": [
      "Hello, Amey!\n",
      "Hi, Amey!\n"
     ]
    }
   ],
   "source": [
    "def greet(name, greeting=\"Hello\"):\n",
    "    return f\"{greeting}, {name}!\"\n",
    "\n",
    "print(greet(\"Amey\"))\n",
    "print(greet(\"Amey\", \"Hi\"))\n"
   ]
  },
  {
   "cell_type": "markdown",
   "metadata": {},
   "source": [
    "### Keyword Arguments"
   ]
  },
  {
   "cell_type": "markdown",
   "metadata": {},
   "source": [
    "Keyword arguments allow you to specify parameter values by their name; which provides with option of calling specific parameter within function."
   ]
  },
  {
   "cell_type": "code",
   "execution_count": null,
   "metadata": {},
   "outputs": [
    {
     "name": "stdout",
     "output_type": "stream",
     "text": [
      "\n",
      "I have a hamster.\n",
      "My hamster's name is Harry.\n"
     ]
    }
   ],
   "source": [
    "def describe_pet(animal_type, pet_name):\n",
    "    print(f\"\\nI have a {animal_type}.\")\n",
    "    print(f\"My {animal_type}'s name is {pet_name}.\")\n",
    "\n",
    "describe_pet(animal_type='hamster', pet_name='Harry')\n"
   ]
  },
  {
   "cell_type": "markdown",
   "metadata": {},
   "source": [
    "### Variable-Length Arguments"
   ]
  },
  {
   "cell_type": "markdown",
   "metadata": {},
   "source": [
    "You can use *args and **kwargs to allow a function to accept an arbitrary number of positional and keyword arguments. Thus, rather than calling same datatype in infinate number of time you can club them once"
   ]
  },
  {
   "cell_type": "code",
   "execution_count": null,
   "metadata": {},
   "outputs": [
    {
     "name": "stdout",
     "output_type": "stream",
     "text": [
      "\n",
      "Making a 12-inch pizza with the following toppings:\n",
      "- pepperoni\n",
      "\n",
      "Making a 16-inch pizza with the following toppings:\n",
      "- mushrooms\n",
      "- green peppers\n",
      "- extra cheese\n"
     ]
    }
   ],
   "source": [
    "def make_pizza(size, *toppings):\n",
    "    print(f\"\\nMaking a {size}-inch pizza with the following toppings:\")\n",
    "    for topping in toppings:\n",
    "        print(f\"- {topping}\")\n",
    "\n",
    "make_pizza(12, 'pepperoni')\n",
    "make_pizza(16, 'mushrooms', 'green peppers', 'extra cheese')\n"
   ]
  },
  {
   "cell_type": "markdown",
   "metadata": {},
   "source": [
    "## Lambda Functions"
   ]
  },
  {
   "cell_type": "markdown",
   "metadata": {},
   "source": [
    "Lambda functions, also known as anonymous functions, are small, unnamed functions defined using the lambda keyword. They are useful for creating short, throwaway functions without formally defining them using the def keyword. Lambda functions can take any number of arguments but can only have one expression."
   ]
  },
  {
   "cell_type": "markdown",
   "metadata": {},
   "source": [
    "Syntax:"
   ]
  },
  {
   "cell_type": "code",
   "execution_count": null,
   "metadata": {},
   "outputs": [
    {
     "data": {
      "text/plain": [
       "<function __main__.<lambda>(arguments)>"
      ]
     },
     "execution_count": 33,
     "metadata": {},
     "output_type": "execute_result"
    }
   ],
   "source": [
    "lambda arguments: expression"
   ]
  },
  {
   "cell_type": "markdown",
   "metadata": {},
   "source": [
    "- arguments: A comma-separated list of arguments.\n",
    "- expression: An expression executed and returned when the function is called\n"
   ]
  },
  {
   "cell_type": "markdown",
   "metadata": {},
   "source": [
    "Key Characteristics:\n",
    " 1. Anonymous: Lambda functions do not have a name.\n",
    " 2. Single Expression: They consist of a single expression whose result is returned.\n",
    " 3. Inline Use: Often used in places where functions are used only once or for a short period."
   ]
  },
  {
   "cell_type": "markdown",
   "metadata": {},
   "source": [
    "### Basic Example\n"
   ]
  },
  {
   "cell_type": "code",
   "execution_count": null,
   "metadata": {},
   "outputs": [
    {
     "name": "stdout",
     "output_type": "stream",
     "text": [
      "25\n"
     ]
    }
   ],
   "source": [
    "square = lambda x: x * x\n",
    "print(square(5))  # Output: 25"
   ]
  },
  {
   "cell_type": "markdown",
   "metadata": {},
   "source": [
    "In this example, lambda x: x * x creates an anonymous function that squares its input. The function is assigned to the variable square."
   ]
  },
  {
   "cell_type": "markdown",
   "metadata": {},
   "source": [
    "### Multiple Arguments"
   ]
  },
  {
   "cell_type": "code",
   "execution_count": null,
   "metadata": {},
   "outputs": [
    {
     "name": "stdout",
     "output_type": "stream",
     "text": [
      "8\n"
     ]
    }
   ],
   "source": [
    "add = lambda x, y: x + y\n",
    "print(add(3, 5))  # Output: 8"
   ]
  },
  {
   "cell_type": "markdown",
   "metadata": {},
   "source": [
    "Here, the lambda function takes two arguments x and y and returns their sum."
   ]
  },
  {
   "cell_type": "markdown",
   "metadata": {},
   "source": [
    "### Using Lambda with Built-in Functions"
   ]
  },
  {
   "cell_type": "markdown",
   "metadata": {},
   "source": [
    "Lambda functions are often used with built-in functions like map(), filter(), and sorted()."
   ]
  },
  {
   "cell_type": "markdown",
   "metadata": {},
   "source": [
    "#### With map()"
   ]
  },
  {
   "cell_type": "code",
   "execution_count": null,
   "metadata": {},
   "outputs": [
    {
     "name": "stdout",
     "output_type": "stream",
     "text": [
      "[1, 4, 9, 16, 25]\n"
     ]
    }
   ],
   "source": [
    "numbers = [1, 2, 3, 4, 5]\n",
    "squared_numbers = map(lambda x: x * x, numbers)\n",
    "print(list(squared_numbers))  # Output: [1, 4, 9, 16, 25]\n"
   ]
  },
  {
   "cell_type": "markdown",
   "metadata": {},
   "source": [
    "#### With filter()"
   ]
  },
  {
   "cell_type": "code",
   "execution_count": null,
   "metadata": {},
   "outputs": [
    {
     "name": "stdout",
     "output_type": "stream",
     "text": [
      "[2, 4]\n"
     ]
    }
   ],
   "source": [
    "numbers = [1, 2, 3, 4, 5]\n",
    "even_numbers = filter(lambda x: x % 2 == 0, numbers)\n",
    "print(list(even_numbers))  # Output: [2, 4]\n"
   ]
  },
  {
   "cell_type": "markdown",
   "metadata": {},
   "source": [
    "#### With sorted()"
   ]
  },
  {
   "cell_type": "code",
   "execution_count": null,
   "metadata": {},
   "outputs": [
    {
     "name": "stdout",
     "output_type": "stream",
     "text": [
      "[('Bob', 20), ('Charlie', 23), ('Alice', 25)]\n"
     ]
    }
   ],
   "source": [
    "students = [('Alice', 25), ('Bob', 20), ('Charlie', 23)]\n",
    "sorted_students = sorted(students, key=lambda student: student[1])\n",
    "print(sorted_students)  # Output: [('Bob', 20), ('Charlie', 23), ('Alice', 25)]\n"
   ]
  },
  {
   "cell_type": "code",
   "execution_count": null,
   "metadata": {},
   "outputs": [],
   "source": []
  },
  {
   "cell_type": "markdown",
   "metadata": {},
   "source": [
    "## Modules"
   ]
  },
  {
   "cell_type": "markdown",
   "metadata": {},
   "source": [
    "A module is a file containing Python definitions and statements. Save the code you want to reuse in a file with a .py extension."
   ]
  },
  {
   "cell_type": "markdown",
   "metadata": {},
   "source": [
    "### Creating Module"
   ]
  },
  {
   "cell_type": "markdown",
   "metadata": {},
   "source": [
    "Example: mymodule.py"
   ]
  },
  {
   "cell_type": "code",
   "execution_count": null,
   "metadata": {},
   "outputs": [],
   "source": [
    "def greet(name):\n",
    "    return f\"Hello, {name}!\"\n",
    "\n",
    "def add(a, b):\n",
    "    return a + b\n"
   ]
  },
  {
   "cell_type": "markdown",
   "metadata": {},
   "source": [
    "### Importing Module"
   ]
  },
  {
   "cell_type": "code",
   "execution_count": null,
   "metadata": {},
   "outputs": [
    {
     "name": "stdout",
     "output_type": "stream",
     "text": [
      "Hello, Amey!\n",
      "8\n"
     ]
    }
   ],
   "source": [
    "import mymodule\n",
    "\n",
    "name = mymodule.greet(name=\"Amey\")\n",
    "print(name)  # Output: Hello, Amey!\n",
    "print(mymodule.add(3, 5))  # Output: 8\n"
   ]
  },
  {
   "cell_type": "markdown",
   "metadata": {},
   "source": [
    "### Renaming Imports"
   ]
  },
  {
   "cell_type": "markdown",
   "metadata": {},
   "source": [
    "You can rename imported modules or functions using the as keyword."
   ]
  },
  {
   "cell_type": "code",
   "execution_count": null,
   "metadata": {},
   "outputs": [
    {
     "name": "stdout",
     "output_type": "stream",
     "text": [
      "Hello, Amey!\n",
      "8\n"
     ]
    }
   ],
   "source": [
    "import mymodule as mm\n",
    "\n",
    "print(mm.greet(\"Amey\"))  # Output: Hello, Amey!\n",
    "print(mm.add(3, 5))  # Output: 8\n"
   ]
  },
  {
   "cell_type": "markdown",
   "metadata": {},
   "source": [
    "### Standard Library Modules"
   ]
  },
  {
   "cell_type": "markdown",
   "metadata": {},
   "source": [
    "Python comes with a rich standard library of modules. You can import and use these modules directly."
   ]
  },
  {
   "cell_type": "markdown",
   "metadata": {},
   "source": [
    "for example using math library"
   ]
  },
  {
   "cell_type": "code",
   "execution_count": null,
   "metadata": {},
   "outputs": [
    {
     "name": "stdout",
     "output_type": "stream",
     "text": [
      "4.0\n",
      "3.141592653589793\n"
     ]
    }
   ],
   "source": [
    "import math\n",
    "\n",
    "print(math.sqrt(16))  # Output: 4.0\n",
    "print(math.pi)  # Output: 3.141592653589793\n"
   ]
  },
  {
   "cell_type": "markdown",
   "metadata": {},
   "source": [
    "### Package"
   ]
  },
  {
   "cell_type": "markdown",
   "metadata": {},
   "source": [
    "A package is a way of organizing related modules into a single directory hierarchy. A package is typically a directory containing an __init__.py file."
   ]
  },
  {
   "cell_type": "code",
   "execution_count": null,
   "metadata": {},
   "outputs": [
    {
     "ename": "SyntaxError",
     "evalue": "invalid syntax (3541555743.py, line 1)",
     "output_type": "error",
     "traceback": [
      "\u001b[1;36m  Cell \u001b[1;32mIn[43], line 1\u001b[1;36m\u001b[0m\n\u001b[1;33m    mypackage/\u001b[0m\n\u001b[1;37m              ^\u001b[0m\n\u001b[1;31mSyntaxError\u001b[0m\u001b[1;31m:\u001b[0m invalid syntax\n"
     ]
    }
   ],
   "source": [
    "mypackage/\n",
    "    __init__.py\n",
    "    module1.py\n",
    "    module2.py"
   ]
  },
  {
   "cell_type": "markdown",
   "metadata": {},
   "source": [
    "from mypackage import module1, module2\n",
    "\n",
    "print(module1.function())\n",
    "print(module2.function())"
   ]
  },
  {
   "cell_type": "markdown",
   "metadata": {},
   "source": [
    "# File Handling "
   ]
  },
  {
   "cell_type": "markdown",
   "metadata": {},
   "source": [
    "File handling is an essential part of programming that involves reading from and writing to files. Python provides several built-in functions and methods to perform these operations efficiently. This section will cover the basics of file handling, including opening, reading, writing, and closing files, as well as handling different file modes and exceptions."
   ]
  },
  {
   "cell_type": "markdown",
   "metadata": {},
   "source": [
    "## Opening Files"
   ]
  },
  {
   "cell_type": "markdown",
   "metadata": {},
   "source": [
    "To open a file, use the open() function, which returns a file object. The open() function requires at least one argument: the file path. You can also specify the mode in which the file is opened."
   ]
  },
  {
   "cell_type": "markdown",
   "metadata": {},
   "source": [
    "file_object = open(file_path, mode)"
   ]
  },
  {
   "cell_type": "markdown",
   "metadata": {},
   "source": [
    "- Common Modes:\n",
    "\n",
    "    - 'r': Read (default)\n",
    "    - 'w': Write (creates a new file or truncates an existing file)\n",
    "    - 'a': Append (adds content to the end of the file)\n",
    "    - 'b': Binary mode (e.g., 'rb', 'wb')\n",
    "    - 't': Text mode (default, e.g., 'rt', 'wt')\n",
    "    - 'x': Exclusive creation (fails if the file already exists)"
   ]
  },
  {
   "cell_type": "markdown",
   "metadata": {},
   "source": [
    "Example: Opening and Closing a File"
   ]
  },
  {
   "cell_type": "code",
   "execution_count": null,
   "metadata": {},
   "outputs": [
    {
     "name": "stdout",
     "output_type": "stream",
     "text": [
      "\n"
     ]
    }
   ],
   "source": [
    "file = open('example.txt', 'r')\n",
    "print(file.read())\n",
    "file.close()"
   ]
  },
  {
   "cell_type": "markdown",
   "metadata": {},
   "source": [
    "### Using the with Statement"
   ]
  },
  {
   "cell_type": "markdown",
   "metadata": {},
   "source": [
    "The with statement ensures that the file is properly closed after its suite finishes, even if an exception is raised. This is the recommended way to work with file objects."
   ]
  },
  {
   "cell_type": "code",
   "execution_count": null,
   "metadata": {},
   "outputs": [
    {
     "name": "stdout",
     "output_type": "stream",
     "text": [
      "\n"
     ]
    }
   ],
   "source": [
    "with open('example.txt', 'r') as file:\n",
    "    contents = file.read()\n",
    "    print(contents)\n"
   ]
  },
  {
   "cell_type": "markdown",
   "metadata": {},
   "source": [
    "## Reading Files"
   ]
  },
  {
   "cell_type": "markdown",
   "metadata": {},
   "source": [
    "Reading the Entire File"
   ]
  },
  {
   "cell_type": "code",
   "execution_count": null,
   "metadata": {},
   "outputs": [
    {
     "name": "stdout",
     "output_type": "stream",
     "text": [
      "sa 10\n",
      "    102\n",
      "    achieve\n"
     ]
    }
   ],
   "source": [
    "with open('example.txt', 'r') as file:\n",
    "    contents = file.read()\n",
    "    print(contents)\n"
   ]
  },
  {
   "cell_type": "markdown",
   "metadata": {},
   "source": [
    "Reading Line by Line"
   ]
  },
  {
   "cell_type": "code",
   "execution_count": null,
   "metadata": {},
   "outputs": [
    {
     "name": "stdout",
     "output_type": "stream",
     "text": [
      "sa 10\n",
      "102\n",
      "achieve\n"
     ]
    }
   ],
   "source": [
    "with open('example.txt', 'r') as file:\n",
    "    for line in file:\n",
    "        print(line.strip())"
   ]
  },
  {
   "cell_type": "markdown",
   "metadata": {},
   "source": [
    "Reading Specific Number of Characters"
   ]
  },
  {
   "cell_type": "code",
   "execution_count": null,
   "metadata": {},
   "outputs": [
    {
     "name": "stdout",
     "output_type": "stream",
     "text": [
      "sa 10\n",
      "    \n"
     ]
    }
   ],
   "source": [
    "with open('example.txt', 'r') as file:\n",
    "    contents = file.read(10)  # Reads the first 10 characters\n",
    "    print(contents)\n"
   ]
  },
  {
   "cell_type": "markdown",
   "metadata": {},
   "source": [
    "Reading Lines into a List"
   ]
  },
  {
   "cell_type": "code",
   "execution_count": null,
   "metadata": {},
   "outputs": [
    {
     "name": "stdout",
     "output_type": "stream",
     "text": [
      "['sa 10\\n', '    102\\n', '    achieve']\n"
     ]
    }
   ],
   "source": [
    "with open('example.txt', 'r') as file:\n",
    "    lines = file.readlines()\n",
    "    print(lines)\n"
   ]
  },
  {
   "cell_type": "markdown",
   "metadata": {},
   "source": [
    "## Writing to Files"
   ]
  },
  {
   "cell_type": "markdown",
   "metadata": {},
   "source": [
    "Writing to a New File"
   ]
  },
  {
   "cell_type": "code",
   "execution_count": null,
   "metadata": {},
   "outputs": [],
   "source": [
    "with open('newfile.txt', 'w') as file:\n",
    "    file.write(\"Hello, world!\\n\")\n",
    "    file.write(\"This is a new file.\")\n"
   ]
  },
  {
   "cell_type": "markdown",
   "metadata": {},
   "source": [
    "Appending to an Existing File"
   ]
  },
  {
   "cell_type": "code",
   "execution_count": null,
   "metadata": {},
   "outputs": [],
   "source": [
    "with open('newfile.txt', 'a') as file:\n",
    "    file.write(\"\\Appending a new line.\")\n"
   ]
  },
  {
   "cell_type": "markdown",
   "metadata": {},
   "source": [
    "Writing a List to a File"
   ]
  },
  {
   "cell_type": "code",
   "execution_count": null,
   "metadata": {},
   "outputs": [],
   "source": [
    "lines = [\"First line\", \"Second line\", \"Third line\"]\n",
    "\n",
    "with open('lines.txt', 'w') as file:\n",
    "    for line in lines:\n",
    "        file.write(line + \"\\n\")\n"
   ]
  },
  {
   "cell_type": "markdown",
   "metadata": {},
   "source": []
  },
  {
   "cell_type": "markdown",
   "metadata": {},
   "source": [
    "# Error and Exception Handling "
   ]
  },
  {
   "cell_type": "markdown",
   "metadata": {},
   "source": [
    "Error and exception handling is crucial in Python to manage and respond to runtime errors gracefully. Exceptions provide a way to transfer control from one part of a program to another when errors occur."
   ]
  },
  {
   "cell_type": "markdown",
   "metadata": {},
   "source": [
    "- Basic Concepts\n",
    "    - Exception: An event that disrupts the normal flow of the program.\n",
    "    - Try block: A block of code where exceptions can occur.\n",
    "    - Except block: A block of code that handles the exception.\n",
    "    - Finally block: A block of code that executes regardless of whether an exception occurred."
   ]
  },
  {
   "cell_type": "code",
   "execution_count": null,
   "metadata": {},
   "outputs": [],
   "source": [
    "try:\n",
    "    # Code that may raise an exception\n",
    "    pass\n",
    "except ExceptionType:\n",
    "    # Code that runs if the exception occurs\n",
    "    pass\n",
    "finally:\n",
    "    # Code that runs no matter what\n",
    "    pass"
   ]
  },
  {
   "cell_type": "markdown",
   "metadata": {},
   "source": [
    "## Basic exception hadling \n"
   ]
  },
  {
   "cell_type": "code",
   "execution_count": null,
   "metadata": {},
   "outputs": [
    {
     "name": "stdout",
     "output_type": "stream",
     "text": [
      "You can't divide by zero!\n"
     ]
    }
   ],
   "source": [
    "try:\n",
    "    x = 1 / 0\n",
    "except ZeroDivisionError:\n",
    "    print(\"You can't divide by zero!\")\n"
   ]
  },
  {
   "cell_type": "markdown",
   "metadata": {},
   "source": [
    "## Handling multiple exceptions"
   ]
  },
  {
   "cell_type": "code",
   "execution_count": null,
   "metadata": {},
   "outputs": [],
   "source": [
    "try:\n",
    "    x = int(input(\"Enter a number: \"))\n",
    "    y = 1 / x\n",
    "except ValueError:\n",
    "    print(\"That's not a valid number!\")\n",
    "except ZeroDivisionError:\n",
    "    print(\"You can't divide by zero!\")"
   ]
  },
  {
   "cell_type": "markdown",
   "metadata": {},
   "source": [
    "## Using else"
   ]
  },
  {
   "cell_type": "code",
   "execution_count": null,
   "metadata": {},
   "outputs": [
    {
     "name": "stdout",
     "output_type": "stream",
     "text": [
      "You can't divide by zero!\n"
     ]
    }
   ],
   "source": [
    "try:\n",
    "    x = int(input(\"Enter a number: \"))\n",
    "    y = 1 / x\n",
    "except ValueError:\n",
    "    print(\"That's not a valid number!\")\n",
    "except ZeroDivisionError:\n",
    "    print(\"You can't divide by zero!\")\n",
    "else:\n",
    "    print(\"The division was successful!\")"
   ]
  },
  {
   "cell_type": "markdown",
   "metadata": {},
   "source": [
    "## Using Finally"
   ]
  },
  {
   "cell_type": "code",
   "execution_count": null,
   "metadata": {},
   "outputs": [
    {
     "name": "stdout",
     "output_type": "stream",
     "text": [
      "File closed.\n"
     ]
    }
   ],
   "source": [
    "try:\n",
    "    file = open('example.txt', 'r')\n",
    "    content = file.read()\n",
    "except FileNotFoundError:\n",
    "    print(\"The file was not found.\")\n",
    "finally:\n",
    "    file.close()\n",
    "    print(\"File closed.\")\n"
   ]
  },
  {
   "cell_type": "markdown",
   "metadata": {},
   "source": [
    "##  Raising exceptions"
   ]
  },
  {
   "cell_type": "code",
   "execution_count": null,
   "metadata": {},
   "outputs": [
    {
     "name": "stdout",
     "output_type": "stream",
     "text": [
      "You must be at least 18 years old.\n"
     ]
    }
   ],
   "source": [
    "def check_age(age):\n",
    "    if age < 18:\n",
    "        raise ValueError(\"You must be at least 18 years old.\")\n",
    "    return \"Access granted.\"\n",
    "\n",
    "try:\n",
    "    print(check_age(15))\n",
    "except ValueError as e:\n",
    "    print(e)\n"
   ]
  },
  {
   "cell_type": "markdown",
   "metadata": {},
   "source": [
    "## Creating Custom Exceptions"
   ]
  },
  {
   "cell_type": "code",
   "execution_count": null,
   "metadata": {},
   "outputs": [
    {
     "name": "stdout",
     "output_type": "stream",
     "text": [
      "Value cannot be negative.\n"
     ]
    }
   ],
   "source": [
    "class CustomError(Exception):\n",
    "    pass\n",
    "\n",
    "def check_value(value):\n",
    "    if value < 0:\n",
    "        raise CustomError(\"Value cannot be negative.\")\n",
    "\n",
    "try:\n",
    "    check_value(-10)\n",
    "except CustomError as e:\n",
    "    print(e)\n"
   ]
  },
  {
   "cell_type": "markdown",
   "metadata": {},
   "source": [
    "## Handling Multiple Exceptions with a Single Block"
   ]
  },
  {
   "cell_type": "code",
   "execution_count": null,
   "metadata": {},
   "outputs": [],
   "source": [
    "try:\n",
    "    x = int(input(\"Enter a number: \"))\n",
    "    y = 1 / x\n",
    "except (ValueError, ZeroDivisionError) as e:\n",
    "    print(f\"An error occurred: {e}\")\n"
   ]
  },
  {
   "cell_type": "markdown",
   "metadata": {},
   "source": [
    "## Logging Exceptions"
   ]
  },
  {
   "cell_type": "code",
   "execution_count": null,
   "metadata": {},
   "outputs": [],
   "source": [
    "import logging\n",
    "\n",
    "logging.basicConfig(filename='app.log', level=logging.ERROR)\n",
    "\n",
    "try:\n",
    "    x = 1 / 0\n",
    "except ZeroDivisionError as e:\n",
    "    logging.error(\"Exception occurred\", exc_info=True)\n"
   ]
  },
  {
   "cell_type": "markdown",
   "metadata": {},
   "source": [
    "## Nested Try-Except Blocks"
   ]
  },
  {
   "cell_type": "code",
   "execution_count": null,
   "metadata": {},
   "outputs": [
    {
     "name": "stdout",
     "output_type": "stream",
     "text": [
      "Inner try block: Division by zero!\n",
      "Outer try block: Division by zero!\n"
     ]
    }
   ],
   "source": [
    "try:\n",
    "    try:\n",
    "        x = 1 / 0\n",
    "    except ZeroDivisionError:\n",
    "        print(\"Inner try block: Division by zero!\")\n",
    "        raise\n",
    "except ZeroDivisionError:\n",
    "    print(\"Outer try block: Division by zero!\")\n"
   ]
  }
 ],
 "metadata": {
  "kernelspec": {
   "display_name": ".venv (3.11.0)",
   "language": "python",
   "name": "python3"
  },
  "language_info": {
   "codemirror_mode": {
    "name": "ipython",
    "version": 3
   },
   "file_extension": ".py",
   "mimetype": "text/x-python",
   "name": "python",
   "nbconvert_exporter": "python",
   "pygments_lexer": "ipython3",
   "version": "3.11.0"
  }
 },
 "nbformat": 4,
 "nbformat_minor": 2
}
