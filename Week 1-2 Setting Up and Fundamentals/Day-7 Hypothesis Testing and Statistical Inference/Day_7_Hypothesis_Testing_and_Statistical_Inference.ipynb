{
 "cells": [
  {
   "cell_type": "markdown",
   "metadata": {},
   "source": [
    "# Day 7: Hypothesis Testing and Statistical Inference"
   ]
  },
  {
   "cell_type": "markdown",
   "metadata": {},
   "source": [
    "Today, we will explore hypothesis testing and statistical inference, two critical concepts in data science that allow us to make decisions and draw conclusions from data. These tools help us determine whether the patterns and relationships we observe in data are statistically significant or could have occurred by chance."
   ]
  },
  {
   "cell_type": "markdown",
   "metadata": {},
   "source": [
    "## Topics Covered:\n",
    "- Introduction to Hypothesis Testing\n",
    "- Types of Hypotheses\n",
    "- Test Statistics and p-Values\n",
    "- Confidence Intervals\n",
    "- Common Hypothesis Tests"
   ]
  },
  {
   "cell_type": "markdown",
   "metadata": {},
   "source": [
    "## Indroduction to hypothesis testing"
   ]
  },
  {
   "cell_type": "markdown",
   "metadata": {},
   "source": [
    "Hypothesis testing is a statistical method used to make decisions or inferences about a population based on sample data. \n",
    "It involves \n",
    "- formulating a hypothesis, \n",
    "- collecting data, \n",
    "- and determining whether the data supports or refutes the hypothesis. \n",
    "\n",
    "Hypothesis testing is a fundamental tool in data science, as it allows data scientists to make objective conclusions about their data and the models they build."
   ]
  },
  {
   "cell_type": "markdown",
   "metadata": {},
   "source": [
    "### Steps in Hypothesis Testing:\n",
    "1. Formulate the hypotheses:\n",
    "    - null hypothesis $ H_0 $:\n",
    "    - Alternative Hypothesis $ H_1 $ or $ H_A $\n",
    "\n",
    "2. Select a significance Level $ α $\n",
    "    -  The significance level is the probability of rejecting the null hypothesis when it is actually true. Common choices are 0.05 (5%) or 0.01 (1%).\n",
    "\n",
    "3. Choose the Appropriate Test:\n",
    "    - The choice of test depends on the type of data and the hypothesis being tested (e.g., t-test, chi-square test, ANOVA).\n",
    "\n",
    "4. Calculate the Test statistics:\n",
    "    -\n",
    "\n",
    "5. Make Decision:\n",
    "\n",
    "6. Draw Conclusion:\n",
    "    -   "
   ]
  },
  {
   "cell_type": "markdown",
   "metadata": {},
   "source": []
  }
 ],
 "metadata": {
  "language_info": {
   "name": "python"
  }
 },
 "nbformat": 4,
 "nbformat_minor": 2
}
