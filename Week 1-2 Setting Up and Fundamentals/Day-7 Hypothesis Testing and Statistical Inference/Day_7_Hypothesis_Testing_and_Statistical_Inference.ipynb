{
 "cells": [
  {
   "cell_type": "markdown",
   "metadata": {},
   "source": [
    "# Day 7: Hypothesis Testing and Statistical Inference"
   ]
  },
  {
   "cell_type": "markdown",
   "metadata": {},
   "source": [
    "Today, we will explore hypothesis testing and statistical inference, two critical concepts in data science that allow us to make decisions and draw conclusions from data. These tools help us determine whether the patterns and relationships we observe in data are statistically significant or could have occurred by chance."
   ]
  },
  {
   "cell_type": "markdown",
   "metadata": {},
   "source": [
    "## Topics Covered:\n",
    "- Introduction to Hypothesis Testing\n",
    "- Test Statistics\n",
    "- p-Values\n",
    "- Confidence Intervals\n"
   ]
  },
  {
   "cell_type": "markdown",
   "metadata": {},
   "source": [
    "## 1. Indroduction to hypothesis testing"
   ]
  },
  {
   "cell_type": "markdown",
   "metadata": {},
   "source": [
    "Hypothesis testing is a statistical method used to make decisions or inferences about a population based on sample data. \n",
    "It involves \n",
    "- formulating a hypothesis, \n",
    "- collecting data, \n",
    "- and determining whether the data supports or refutes the hypothesis. \n",
    "\n",
    "Hypothesis testing is a fundamental tool in data science, as it allows data scientists to make objective conclusions about their data and the models they build."
   ]
  },
  {
   "cell_type": "markdown",
   "metadata": {},
   "source": [
    "### Steps in Hypothesis Testing:\n",
    "1. Formulate the hypotheses:\n",
    "    - null hypothesis $ H_0 $:\n",
    "    - Alternative Hypothesis $ H_1 $ or $ H_A $\n",
    "\n",
    "2. Select a significance Level $ α $\n",
    "    -  The significance level is the probability of rejecting the null hypothesis when it is actually true. Common choices are 0.05 (5%) or 0.01 (1%).\n",
    "\n",
    "3. Choose the Appropriate Test:\n",
    "    - The choice of test depends on the type of data and the hypothesis being tested (e.g., t-test, chi-square test, ANOVA).\n",
    "\n",
    "4. Calculate the Test statistics:\n",
    "    - Use the sample data to calculate a test statistic, which will be compared to a critical value to determine whether to reject the null hypothesis.\n",
    "\n",
    "5. Make Decision:\n",
    "    - Compare the $ p-value $ (the probability of obtaining the observed data assuming the null hypothesis is true) to the significance level. If the p-value is less than $ 𝛼 $, reject the null hypothesis.\n",
    "\n",
    "6. Draw Conclusion:\n",
    "    -  Based on the decision, conclude whether there is sufficient evidence to support the alternative hypothesis."
   ]
  },
  {
   "cell_type": "markdown",
   "metadata": {},
   "source": [
    "#### Example: A/B Testing in Online Marketing"
   ]
  },
  {
   "cell_type": "markdown",
   "metadata": {},
   "source": [
    "Suppose you are working for an e-commerce company and want to test whether a new website design (Version B) leads to higher conversion rates (i.e., more purchases) compared to the current design (Version A)."
   ]
  },
  {
   "cell_type": "markdown",
   "metadata": {},
   "source": [
    "1. Formulate the hypotheses:\n",
    "    - null hypothesis $ H_0 $:\n",
    "        - The conversion rates for Version A and Version B are the same \n",
    "    - Alternative Hypothesis $ H_1 $ or $ H_A $ :\n",
    "        - The conversion rate for Version B is higher than that for Version A.\n",
    "\n",
    "2. Select a significance Level $ α $\n",
    "    -  Set $ 𝛼 $ = 0.05, meaning you are willing to accept a 5% chance of incorrectly rejecting the null hypothesis.\n",
    "\n",
    "3. Choose the Appropriate Test:\n",
    "    - Use a two-sample t-test to compare the conversion rates between the two versions of the website.\n",
    "\n",
    "4. Calculate the Test statistics:\n",
    "    - Collect data on the number of visitors and the number of conversions for both versions over a fixed period.\n",
    "    - Calculate the conversion rate for each version and use the t-test formula to calculate the test statistic.\n",
    "\n",
    "5. Make Decision:\n",
    "    - Compare the $ p-value $ based on the test statistic. If the p-value is less than 0.05, reject the null hypothesis.\n",
    "\n",
    "6. Draw Conclusion:\n",
    "    -  If the null hypothesis is rejected, conclude that the new website design (Version B) leads to higher conversion rates. If not, conclude that there is no significant difference between the two designs."
   ]
  },
  {
   "cell_type": "code",
   "execution_count": 1,
   "metadata": {},
   "outputs": [
    {
     "name": "stdout",
     "output_type": "stream",
     "text": [
      "t-Statistic: 2.00\n",
      "p-Value: 0.08\n",
      "Fail to reject the null hypothesis: There is no significant difference in conversion rates.\n"
     ]
    }
   ],
   "source": [
    "import numpy as np\n",
    "from scipy import stats\n",
    "\n",
    "# Conversion rates for Version A and Version B\n",
    "conversions_A = np.array([50, 55, 60, 65, 70])\n",
    "conversions_B = np.array([60, 65, 70, 75, 80])\n",
    "\n",
    "# Perform a two-sample t-test\n",
    "t_statistic, p_value = stats.ttest_ind(conversions_B, conversions_A)\n",
    "\n",
    "# Display the results\n",
    "print(f\"t-Statistic: {t_statistic:.2f}\")\n",
    "print(f\"p-Value: {p_value:.2f}\")\n",
    "\n",
    "# Decision rule\n",
    "if p_value < 0.05:\n",
    "    print(\"Reject the null hypothesis: The new design has a higher conversion rate.\")\n",
    "else:\n",
    "    print(\"Fail to reject the null hypothesis: There is no significant difference in conversion rates.\")\n"
   ]
  },
  {
   "cell_type": "markdown",
   "metadata": {},
   "source": [
    "## 2. Test Statistics"
   ]
  },
  {
   "cell_type": "markdown",
   "metadata": {},
   "source": [
    "In hypothesis testing, the test statistic is a standardized value that is calculated from the sample data during the hypothesis test. The type of test statistic depends on the hypothesis test being performed and the type of data involved (e.g., t-tests for means, chi-square for categorical data). The p-value is a measure of the probability of observing the sample results, or more extreme results, if the null hypothesis is true."
   ]
  },
  {
   "cell_type": "markdown",
   "metadata": {},
   "source": [
    "### Common Types of Statistical Tests\n",
    "Selecting the correct test depends on the type of data, the distribution of the data, and the hypothesis being tested. Here are some of the most commonly used tests in hypothesis testing"
   ]
  },
  {
   "cell_type": "markdown",
   "metadata": {},
   "source": [
    "#### T-test (Student t-test)"
   ]
  },
  {
   "cell_type": "markdown",
   "metadata": {},
   "source": [
    "- Purpose: \n",
    "    - The t-test compares the mean of two groups to see if they are statistically difffrent from each other."
   ]
  },
  {
   "cell_type": "markdown",
   "metadata": {},
   "source": [
    "- Types of t-test:\n",
    "    - One sample:\n",
    "        - Compares the sample mean to known population mean.\n",
    "    - Indepent (Two-sample) t-test:\n",
    "        - Compares the means of the two indepent groups.\n",
    "    - parired t-test:\n",
    "        - Compares means from the same group at two diffrent times"
   ]
  },
  {
   "cell_type": "markdown",
   "metadata": {},
   "source": [
    "- Test statistics:\n",
    "    - The t-statistic is used when the population variance is unknown and the sample size is relatively small"
   ]
  },
  {
   "cell_type": "markdown",
   "metadata": {},
   "source": [
    "##### When to Use:\n",
    "    - The data is approximately normally distributed.\n",
    "    - You are comparing means between one or two groups."
   ]
  },
  {
   "cell_type": "markdown",
   "metadata": {},
   "source": [
    "##### Example: Sales perfoamrnce comparison"
   ]
  },
  {
   "cell_type": "markdown",
   "metadata": {},
   "source": [
    "A company wants to compare the sales performance of two regions (A and B). The independent t-test is used to compare the average sales between the two regions."
   ]
  },
  {
   "cell_type": "code",
   "execution_count": 2,
   "metadata": {},
   "outputs": [
    {
     "name": "stdout",
     "output_type": "stream",
     "text": [
      "t-statistic: -5.86, p-value: 0.00\n"
     ]
    }
   ],
   "source": [
    "from scipy import stats\n",
    "\n",
    "# Sales data for Region A and Region B\n",
    "region_A = [100, 102, 105, 98, 97]\n",
    "region_B = [110, 108, 112, 115, 111]\n",
    "\n",
    "# Independent t-test\n",
    "t_statistic, p_value = stats.ttest_ind(region_A, region_B)\n",
    "print(f't-statistic: {t_statistic:.2f}, p-value: {p_value:.2f}')\n"
   ]
  },
  {
   "cell_type": "markdown",
   "metadata": {},
   "source": [
    "### ANOVA(Analysis of variance)"
   ]
  },
  {
   "cell_type": "markdown",
   "metadata": {},
   "source": [
    "- Purpose:\n",
    "    - ANOVA is used to compare the means of three or more groups to see if at least one group mean is dfferent from the others.\n",
    "    \n",
    "- Types\n",
    "    - One-way ANOVA\n",
    "        - Compares the means of three or more independent groups\n",
    "    - Two-way ANOVA\n",
    "        - Examines the effecr of two factors on the means of groups\n",
    "\n",
    "- Test Statistic\n",
    "    - The F-statistic is used to determine whether the variability between group means is larger than the variability within groups.\n",
    "\n",
    "##### When to Use\n",
    "    - You have more than two groups or conditions.\n",
    "    - The data is normally distributed.\n"
   ]
  },
  {
   "cell_type": "markdown",
   "metadata": {},
   "source": [
    "#### Example: Comparing ROI of marketing campaigns"
   ]
  },
  {
   "cell_type": "markdown",
   "metadata": {},
   "source": [
    "A company wants to test whether different marketing strategies (TV, online, and print) result in different sales outcomes. One-way ANOVA can be used to test for differences between the means of sales for the three strategies."
   ]
  },
  {
   "cell_type": "markdown",
   "metadata": {},
   "source": [
    "### Chi-Square Test"
   ]
  },
  {
   "cell_type": "markdown",
   "metadata": {},
   "source": [
    "- Purpose\n",
    "    - The chi-square test is used to test the association between two categorical variables.\n",
    "- Types\n",
    "    - Chi-square test of independence: \n",
    "        - Determines whether two categorical variables are independent.\n",
    "    - Chi-square goodness of fit test:\n",
    "        - Determines whether observed data fits an expected distribution.\n",
    "- Test statistics\n",
    "    - The chi-square $ x^2 $ statistic measures the discrepancy between observed and expected frequencies in categorical data.\n",
    "#### When to use\n",
    "    - Both variables are categorical.\n",
    "    - You want to test the independence or distribution of categorical data."
   ]
  },
  {
   "cell_type": "markdown",
   "metadata": {},
   "source": [
    "#### Example: Customer satisfaction analysis\n"
   ]
  },
  {
   "cell_type": "markdown",
   "metadata": {},
   "source": [
    "A survey is conducted to determine whether customer satisfaction (satisfied/unsatisfied) is associated with customer age group (young/middle-aged/old). A chi-square test can determine if there is a significant association between age group and satisfaction."
   ]
  },
  {
   "cell_type": "code",
   "execution_count": 3,
   "metadata": {},
   "outputs": [
    {
     "name": "stdout",
     "output_type": "stream",
     "text": [
      "Chi-square statistic: 13.18, p-value: 0.00\n"
     ]
    }
   ],
   "source": [
    "import scipy.stats as stats\n",
    "\n",
    "# Contingency table of observed frequencies\n",
    "data = [[30, 20], [20, 40], [50, 30]]  # Example counts for 3 groups and 2 categories\n",
    "\n",
    "# Chi-square test\n",
    "chi2_stat, p_value, _, _ = stats.chi2_contingency(data)\n",
    "print(f'Chi-square statistic: {chi2_stat:.2f}, p-value: {p_value:.2f}')\n"
   ]
  },
  {
   "cell_type": "markdown",
   "metadata": {},
   "source": [
    "### Z-Test"
   ]
  },
  {
   "cell_type": "markdown",
   "metadata": {},
   "source": [
    "- Purpose:\n",
    "    - The z-test compares sample and population means to determine if they are significantly different, assuming the population variance is known.\n",
    "\n",
    "- Types:\n",
    "    - One-sample z-test: \n",
    "        - Tests whether the sample mean differs from the population mean.\n",
    "    - Two-sample z-test: \n",
    "        - Compares means from two independent samples.\n",
    "\n",
    "- Test statistic:\n",
    "    -  The z-statistic is used when the population variance is known, and the sample size is large.\n",
    "\n",
    "#### When to use:\n",
    "    - The sample size is large (n > 30).\n",
    "    - Population variance is known.\n"
   ]
  },
  {
   "cell_type": "markdown",
   "metadata": {},
   "source": [
    "#### Example: Quality control"
   ]
  },
  {
   "cell_type": "markdown",
   "metadata": {},
   "source": [
    "A manufacturing company wants to test if the average weight of their product is equal to the advertised weight of 500 grams. A z-test can be used to check if the difference is statistically significant."
   ]
  },
  {
   "cell_type": "markdown",
   "metadata": {},
   "source": [
    "### Pearson Correlation Coefficient (r)"
   ]
  },
  {
   "cell_type": "markdown",
   "metadata": {},
   "source": [
    "- Purpose\n",
    "    - Measures the linear relationship between two continuous variables. The Pearson correlation coefficient ranges from -1 to 1, where:\n",
    "\n",
    "        - 1: A perfect positive linear relationship.\n",
    "        - 0: No linear relationship.\n",
    "        - -1: A perfect negative linear relationship.\n",
    "- Test Statistic: \n",
    "    - The Pearson correlation coefficient $ 𝑟 $ is used to measure the strength and direction of the relationship.\n",
    "\n",
    "#### When to Use:\n",
    "    - Both variables are continuous and normally distributed.\n",
    "    - The relationship between the variables is linear.\n"
   ]
  },
  {
   "cell_type": "markdown",
   "metadata": {},
   "source": [
    "#### Example: Optimum production analysis\n",
    "\n"
   ]
  },
  {
   "cell_type": "markdown",
   "metadata": {},
   "source": [
    "A manufacturing company wants to determine the relationship between the number of units produced and the total production time. The aim is to assess if more time invested in production increases the number of units produced"
   ]
  },
  {
   "cell_type": "code",
   "execution_count": 4,
   "metadata": {},
   "outputs": [
    {
     "name": "stdout",
     "output_type": "stream",
     "text": [
      "Pearson correlation: 1.00, p-value: 0.00\n"
     ]
    }
   ],
   "source": [
    "import numpy as np\n",
    "from scipy.stats import pearsonr\n",
    "\n",
    "# Production data: [production time in hours, units produced]\n",
    "production_time = [5, 6, 7, 8, 10]\n",
    "units_produced = [50, 60, 70, 80, 100]\n",
    "\n",
    "# Calculate Pearson correlation coefficient\n",
    "corr, p_value = pearsonr(production_time, units_produced)\n",
    "print(f'Pearson correlation: {corr:.2f}, p-value: {p_value:.2f}')\n"
   ]
  },
  {
   "cell_type": "markdown",
   "metadata": {},
   "source": [
    "## 3. p-Values"
   ]
  },
  {
   "cell_type": "markdown",
   "metadata": {},
   "source": [
    "The p-value is a crucial concept in hypothesis testing that helps determine the strength of evidence against the null hypothesis. It represents the probability of obtaining results as extreme as the observed data, assuming the null hypothesis is true. The smaller the p-value, the stronger the evidence against the null hypothesis.\n",
    "\n",
    "- Interpreting p-Values\n",
    "    -  p-value < α (significance level): \n",
    "        - If the p-value is less than the chosen significance level (typically 0.05), we reject the null hypothesis. This means there is strong evidence that the observed result did not occur by chance, and the alternative hypothesis may be true.\n",
    "\n",
    "    - p-value > α: \n",
    "        - If the p-value is greater than the significance level, we fail to reject the null hypothesis. This indicates insufficient evidence to conclude that the observed result is statistically significant."
   ]
  },
  {
   "cell_type": "markdown",
   "metadata": {},
   "source": [
    "### Example: Effectiveness of a New Drug"
   ]
  },
  {
   "cell_type": "markdown",
   "metadata": {},
   "source": [
    "Suppose a pharmaceutical company is testing whether a new drug reduces blood pressure more effectively than a placebo. They conduct a clinical trial where a group of patients receives the drug, and another group receives a placebo."
   ]
  },
  {
   "cell_type": "markdown",
   "metadata": {},
   "source": [
    "- Formulate the Hypothesis:\n",
    "\n",
    "    - Null Hypothesis (H₀): \n",
    "        - The new drug has the same effect on reducing blood pressure as the placebo.\n",
    "    - Alternative Hypothesis (H₁): \n",
    "        - The new drug reduces blood pressure more effectively than the placebo.\n",
    "- Collect Data: \n",
    "    - The company measures the change in blood pressure for patients in both groups.\n",
    "\n",
    "- Calculate the p-value: \n",
    "    - After collecting the data, the company uses a two-sample t-test to determine if there is a significant difference between the blood pressure reductions in the two groups.\n",
    "\n"
   ]
  },
  {
   "cell_type": "code",
   "execution_count": 5,
   "metadata": {},
   "outputs": [
    {
     "name": "stdout",
     "output_type": "stream",
     "text": [
      "p-Value: 0.000\n",
      "Reject the null hypothesis: The drug is more effective at reducing blood pressure.\n"
     ]
    }
   ],
   "source": [
    "from scipy import stats\n",
    "\n",
    "# Sample data: blood pressure reduction in the drug group and placebo group\n",
    "drug_group = [10, 12, 9, 15, 13, 10, 12]\n",
    "placebo_group = [5, 7, 6, 4, 6, 8, 7]\n",
    "\n",
    "# Perform a two-sample t-test\n",
    "t_statistic, p_value = stats.ttest_ind(drug_group, placebo_group)\n",
    "\n",
    "# Print the p-value\n",
    "print(f\"p-Value: {p_value:.3f}\")\n",
    "\n",
    "# Decision\n",
    "if p_value < 0.05:\n",
    "    print(\"Reject the null hypothesis: The drug is more effective at reducing blood pressure.\")\n",
    "else:\n",
    "    print(\"Fail to reject the null hypothesis: There is no significant difference between the drug and placebo.\")\n"
   ]
  },
  {
   "cell_type": "markdown",
   "metadata": {},
   "source": [
    "## 4. Confidence Intervals"
   ]
  },
  {
   "cell_type": "markdown",
   "metadata": {},
   "source": [
    "A confidence interval (CI) provides a range of values that is likely to contain the population parameter (such as a mean or proportion) with a certain level of confidence (e.g., 95%). Unlike point estimates, which give a single value (like a sample mean), confidence intervals offer a range within which the true population value is expected to lie, giving a better understanding of the parameter's uncertainty."
   ]
  },
  {
   "cell_type": "markdown",
   "metadata": {},
   "source": [
    "### How to interpret a confidence interval"
   ]
  },
  {
   "cell_type": "markdown",
   "metadata": {},
   "source": [
    "A 95% confidence interval means that if we were to repeat the sampling process 100 times, we would expect the true population parameter to fall within the calculated interval 95 times. It does not mean that there is a 95% chance the parameter is within the interval; instead, it’s a reflection of the method's reliability over many repeated samples."
   ]
  },
  {
   "cell_type": "markdown",
   "metadata": {},
   "source": [
    "### Key Concepts"
   ]
  },
  {
   "cell_type": "markdown",
   "metadata": {},
   "source": [
    "- Points Estimate\n",
    "    - The sample statistic (e.g., sample mean) used as a point estimate for the population parameter.\n",
    "\n",
    "- Margin of Error\n",
    "    - The range added and subtracted from the point estimate, accounting for the uncertainty in the estimate.\n",
    "\n",
    "- Confidence Level:\n",
    "    - The percentage (e.g., 95%) that expresses how confident we are that the interval contains the true parameter"
   ]
  },
  {
   "cell_type": "markdown",
   "metadata": {},
   "source": [
    "#### Formula for Confidence Interval:"
   ]
  },
  {
   "cell_type": "markdown",
   "metadata": {},
   "source": [
    "$ CI = \\bar{x} \\pm Z_{\\alpha/2} \\times \\frac{\\sigma}{\\sqrt{n}} $\n"
   ]
  },
  {
   "cell_type": "markdown",
   "metadata": {},
   "source": [
    "This formula represents the confidence interval (CI) where:\n",
    "\n",
    "- $ \\bar𝑥 $  is the sample mean,\n",
    "- $Z_{\\alpha/2}$ is the Z-value corresponding to the confidence level (e.g., 1.96 for 95% confidence),\n",
    "- σ is the population standard deviation (or sample standard deviation if the population standard deviation is unknown),\n",
    "- n is the sample size."
   ]
  },
  {
   "cell_type": "markdown",
   "metadata": {},
   "source": [
    "#### Example: Estimating the AVERAGE Sales per store"
   ]
  },
  {
   "cell_type": "markdown",
   "metadata": {},
   "source": [
    "lets assume carrefour wants to estimate the average daily sales of its stores across different locations. They take a random sample of 40 stores and find that the average daily sales are €5,000 with a standard deviation of €500. The company wants to calculate a 95% confidence interval to estimate the average sales across all stores."
   ]
  },
  {
   "cell_type": "markdown",
   "metadata": {},
   "source": [
    "- $ \\bar𝑥 $ sample mean = 5000,\n",
    "- $Z_{\\alpha/2}$ confidence level is 1.96% for 95% confidence level,\n",
    "- σ (standard deviation) = 500 ,\n",
    "- n the sample size = 40."
   ]
  },
  {
   "cell_type": "code",
   "execution_count": 7,
   "metadata": {},
   "outputs": [
    {
     "name": "stdout",
     "output_type": "stream",
     "text": [
      "95% Confidence Interval for Average Sales: (€4845.05, €5154.95)\n"
     ]
    }
   ],
   "source": [
    "import numpy as np\n",
    "import scipy.stats as stats\n",
    "\n",
    "# Sample data\n",
    "sample_mean = 5000  # Average sales in $\n",
    "sample_std = 500  # Standard deviation in $\n",
    "sample_size = 40  # Number of stores\n",
    "\n",
    "# Z-value for 95% confidence level\n",
    "z_value = 1.96\n",
    "\n",
    "# Calculate margin of error\n",
    "margin_of_error = z_value * (sample_std / np.sqrt(sample_size))\n",
    "\n",
    "# Calculate confidence interval\n",
    "lower_bound = sample_mean - margin_of_error\n",
    "upper_bound = sample_mean + margin_of_error\n",
    "\n",
    "# Display the result\n",
    "print(f\"95% Confidence Interval for Average Sales: (€{lower_bound:.2f}, €{upper_bound:.2f})\")\n"
   ]
  },
  {
   "cell_type": "markdown",
   "metadata": {},
   "source": [
    "This confidence interval will give a range of values within which the company can be 95% confident that the true average sales across all their stores fall. For example, if the calculated interval is (4845.05, 5154.95), this means the company can be 95% confident that the true average daily sales for all stores fall between €4845.05 and €5154.95)"
   ]
  },
  {
   "cell_type": "markdown",
   "metadata": {},
   "source": [
    "### Conclusion"
   ]
  },
  {
   "cell_type": "markdown",
   "metadata": {},
   "source": [
    "In Day 7, we've covered essential concepts such as Hypothesis Testing, Test Statistics, p-Values, and Confidence Intervals. These statistical tools are fundamental for analyzing data, drawing conclusions, and making decisions based on evidence in data science.\n",
    "\n",
    "Key Takeaways:\n",
    "- Hypothesis Testing: \n",
    "    - A method for making decisions or inferences about a population based on sample data.\n",
    "- Test Statistics: \n",
    "    - These are calculated values used to decide whether to reject the null hypothesis, depending on the hypothesis being tested.\n",
    "- p-Values: \n",
    "    - A measure of the strength of evidence against the null hypothesis. A smaller p-value (typically less than 0.05) indicates stronger evidence to reject the null hypothesis.\n",
    "- Confidence Intervals: \n",
    "    - Provide a range within which the true population parameter is likely to fall, giving more context to point estimates by showing uncertainty.\n",
    "\n",
    "\n",
    "\n",
    "This concludes our week 1 of 100 days data science challenge.\n",
    "\n",
    "In Week 1, we covered the foundational topics in data science to ensure a strong understanding of the essential tools and techniques for tackling data challenges. Here's a summary of what we've accomplished:\n",
    "\n",
    "#### Week 1 Overview\n",
    "    - Day 1: Introduction, Setup, and Python Basics\n",
    "\n",
    "        Introduced the challenge and set up the working environment.\n",
    "        Covered Python basics, including data types, control flow, and functions.\n",
    "\n",
    "    - Day 2: Data Science Libraries\n",
    "\n",
    "        Explored core data science libraries such as NumPy, Pandas, Matplotlib, and Seaborn.\n",
    "        Implemented basic operations for data manipulation, analysis, and visualization.\n",
    "\n",
    "    - Day 3: Data Cleaning and Exploration\n",
    "\n",
    "        Learned essential data cleaning techniques, such as handling missing data, removing duplicates, and data transformations.\n",
    "        Introduced exploratory data analysis (EDA) to summarize data, identify patterns, and visualize key insights.\n",
    "\n",
    "    - Day 4: Data Cleaning and Exploration Project\n",
    "\n",
    "        Applied data cleaning techniques to a real dataset (e.g., Titanic dataset).\n",
    "        Performed EDA to generate meaningful insights and documented the findings.\n",
    "\n",
    "    - Day 5: Introduction to Mathematics for Data Science\n",
    "\n",
    "        Introduced mathematical concepts essential for data science, such as linear equations, polynomials, and calculus.\n",
    "        Explored how these concepts are applied in real-life data science tasks, including house price predictions and product sales modeling.\n",
    "\n",
    "    - Day 6: Introduction to Statistics for Data Science\n",
    "\n",
    "        Covered basic statistics, including descriptive statistics, probability theory, and probability distributions.\n",
    "        Examples like customer purchase probability and analyzing age distributions in datasets were explored.\n",
    "\n",
    "    - Day 7: Hypothesis Testing and Statistical Inference\n",
    "\n",
    "        Introduced hypothesis testing, p-values, and confidence intervals.\n",
    "        Conducted hypothesis tests using real-world examples like A/B testing in marketing and product comparison using t-tests, ANOVA, and chi-square tests.\n",
    "\n",
    "\n",
    "\n",
    "#### What's Coming in Week 2:\n",
    "    In Week 2, we'll be diving deeper into more complex data science techniques, including supervised learning and its mathematical foundations. We'll cover:\n",
    "\n",
    "        - Regression Models:\n",
    "            Linear Regression, Multiple Regression, and their applications in predictive modeling.\n",
    "        - Classification Techniques:\n",
    "            Algorithms such as Logistic Regression, Decision Trees, and k-NN.\n",
    "        - Mathematical Foundations for Machine Learning:\n",
    "            Building on calculus and linear algebra concepts, with hands-on implementation.\n",
    "        - Model Evaluation:\n",
    "            Metrics like Accuracy, Precision, Recall, F1 Score, and ROC-AUC for understanding model performance.\n",
    "\n",
    "These topics will equip me with the essential tools to handle complex data and build models that solve real-world business problems. Looking forward to your progress!"
   ]
  },
  {
   "cell_type": "markdown",
   "metadata": {},
   "source": []
  }
 ],
 "metadata": {
  "kernelspec": {
   "display_name": "Python 3",
   "language": "python",
   "name": "python3"
  },
  "language_info": {
   "codemirror_mode": {
    "name": "ipython",
    "version": 3
   },
   "file_extension": ".py",
   "mimetype": "text/x-python",
   "name": "python",
   "nbconvert_exporter": "python",
   "pygments_lexer": "ipython3",
   "version": "3.11.0"
  }
 },
 "nbformat": 4,
 "nbformat_minor": 2
}
