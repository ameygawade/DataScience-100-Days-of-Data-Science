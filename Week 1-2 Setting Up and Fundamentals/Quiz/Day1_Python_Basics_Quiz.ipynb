{
 "cells": [
  {
   "cell_type": "markdown",
   "id": "be606fa5",
   "metadata": {},
   "source": [
    "\n",
    "# Day‑1 Python Basics — 10‑Question Quiz (Self‑Checking)\n",
    "\n",
    "**Time limit:** 10 minutes (self‑managed)  \n",
    "**Scoring:** 5 marks per correct question (max 50)  \n",
    "**Instructions:**  \n",
    "- Write your answers in the **solution cells** only (they are clearly marked).  \n",
    "- Do not rename variables or function names that the grader expects.  \n",
    "- When finished, scroll to the end and run **“Run Grader”** to see your score.  \n",
    "- You can re-run cells and the grader multiple times within your 10‑minute window.\n",
    "\n",
    "**Topics covered:** data types/structures, control flow, functions & modules, file handling, exceptions, comprehensions, enumerate/zip, itertools, break/continue, lambdas.\n"
   ]
  },
  {
   "cell_type": "markdown",
   "id": "fd9c6671",
   "metadata": {},
   "source": [
    "\n",
    "### Q1 — Lists (5 marks)\n",
    "Write a function `list_ops(lst)` that:\n",
    "1) Appends `6`, removes the first occurrence of `3` (if present),  \n",
    "2) Inserts the string `'new'` at index `2`,  \n",
    "3) Reverses the list and returns it.\n"
   ]
  },
  {
   "cell_type": "code",
   "execution_count": 42,
   "id": "8424bb66",
   "metadata": {},
   "outputs": [],
   "source": [
    "\n",
    "# === Q1 Solution Cell ===\n",
    "def list_ops(lst):\n",
    "    # Your code here\n",
    "    \n",
    "    if 3 in lst:\n",
    "        lst.remove(3)\n",
    "    \n",
    "    lst.append(6)\n",
    "    \n",
    "    lst.insert(2,'new')\n",
    "\n",
    "    lst = lst[::-1]\n",
    "    \n",
    "    return lst\n",
    "    "
   ]
  },
  {
   "cell_type": "markdown",
   "id": "c9495a1d",
   "metadata": {},
   "source": [
    "\n",
    "### Q2 — Dictionaries (5 marks)\n",
    "Write a function `dict_update(d)` that:\n",
    "- Adds a key `'location'` with value `'Paris'` (overwrite if exists),\n",
    "- Increments `'age'` by `1` (assume it exists and is an int),\n",
    "- Removes and returns the value for key `'name'` **if present**, else returns `None`.\n",
    "Return a tuple: `(updated_dict, removed_name)`.\n"
   ]
  },
  {
   "cell_type": "code",
   "execution_count": 45,
   "id": "858daf4f",
   "metadata": {},
   "outputs": [],
   "source": [
    "\n",
    "# === Q2 Solution Cell ===\n",
    "def dict_update(d):\n",
    "    # Your code here\n",
    "    d['location'] = 'Paris'\n",
    "    d['age'] = d['age'] + 1\n",
    "    removed = d.pop('name', None)\n",
    "    return d, removed\n"
   ]
  },
  {
   "cell_type": "markdown",
   "id": "ba670700",
   "metadata": {},
   "source": [
    "\n",
    "### Q3 — Sets (5 marks)\n",
    "Write a function `set_math(a, b)` that returns a tuple:  \n",
    "`(a_union_b, a_intersect_b, a_minus_b)` using set operations.\n"
   ]
  },
  {
   "cell_type": "code",
   "execution_count": 46,
   "id": "e2a9e4d8",
   "metadata": {},
   "outputs": [],
   "source": [
    "\n",
    "# === Q3 Solution Cell ===\n",
    "def set_math(a, b):\n",
    "    # Your code here\n",
    "    return a.union(b), a.intersection(b), a.difference(b)\n"
   ]
  },
  {
   "cell_type": "markdown",
   "id": "cbe3b68f",
   "metadata": {},
   "source": [
    "\n",
    "### Q4 — Tuples (5 marks)\n",
    "Given a tuple, write `tuple_stats(t)` that returns a tuple:  \n",
    "`(length, count_of_3, index_of_3_first)`  \n",
    "If `3` is not present, use `-1` for the index.\n"
   ]
  },
  {
   "cell_type": "code",
   "execution_count": 47,
   "id": "ac323709",
   "metadata": {},
   "outputs": [],
   "source": [
    "\n",
    "# === Q4 Solution Cell ===\n",
    "def tuple_stats(t):\n",
    "    # Your code here\n",
    "    length = len(t)\n",
    "    c = t.count(3)\n",
    "    idx = t.index(3) if 3 in t else -1\n",
    "    return length, c, idx\n"
   ]
  },
  {
   "cell_type": "markdown",
   "id": "5bbe07c5",
   "metadata": {},
   "source": [
    "\n",
    "### Q5 — Control Flow (if) (5 marks)\n",
    "Write `contains_even(lst)` that returns `True` if **any** even number exists in `lst`, else `False`.  \n",
    "Use an explicit `for` loop and `if` checks (no `any()`).\n"
   ]
  },
  {
   "cell_type": "code",
   "execution_count": 48,
   "id": "5bccf259",
   "metadata": {},
   "outputs": [],
   "source": [
    "\n",
    "# === Q5 Solution Cell ===\n",
    "def contains_even(lst):\n",
    "    # Your code here\n",
    "    for x in lst:\n",
    "        if isinstance(x, int) and x % 2 == 0:\n",
    "            return True\n",
    "    return False\n"
   ]
  },
  {
   "cell_type": "markdown",
   "id": "82981460",
   "metadata": {},
   "source": [
    "\n",
    "### Q6 — Loops (for/while) (5 marks)\n",
    "Write `sum_with_while(nums)` that uses a **while loop** (not for-loop) to return the sum of all items in `nums`.\n"
   ]
  },
  {
   "cell_type": "code",
   "execution_count": 49,
   "id": "e17161a8",
   "metadata": {},
   "outputs": [],
   "source": [
    "\n",
    "# === Q6 Solution Cell ===\n",
    "def sum_with_while(nums):\n",
    "    # Your code here\n",
    "    s = 0\n",
    "    i = 0\n",
    "    while i < len(nums):\n",
    "        s += nums[i]\n",
    "        i += 1\n",
    "    return s\n"
   ]
  },
  {
   "cell_type": "markdown",
   "id": "95b140ea",
   "metadata": {},
   "source": [
    "\n",
    "### Q7 — Comprehensions, enumerate & zip (5 marks)\n",
    "Using a single expression, create a dictionary `name_to_square` that maps each name to the square of the corresponding number:  \n",
    "```\n",
    "names = [\"Alice\", \"Bob\", \"Charlie\"]\n",
    "nums  = [2, 3, 4]\n",
    "```\n",
    "Result should be: `{\"Alice\":4, \"Bob\":9, \"Charlie\":16}`.  \n",
    "**Write your expression to assign `name_to_square`.**\n"
   ]
  },
  {
   "cell_type": "code",
   "execution_count": 50,
   "id": "71984a92",
   "metadata": {},
   "outputs": [],
   "source": [
    "\n",
    "# === Q7 Solution Cell ===\n",
    "names = [\"Alice\", \"Bob\", \"Charlie\"]\n",
    "nums  = [2, 3, 4]\n",
    "\n",
    "# Your one-line dict expression here:\n",
    "name_to_square = {n: x*x for n, x in zip(names, nums)}\n"
   ]
  },
  {
   "cell_type": "markdown",
   "id": "0c24c8a4",
   "metadata": {},
   "source": [
    "\n",
    "### Q8 — itertools (5 marks)\n",
    "Using `itertools.combinations`, create a **list** called `combos` containing all 2‑letter combinations of `'ABCD'` in lexicographic order.\n",
    "Expected start: `[('A','B'), ('A','C'), ('A','D'), ...]`\n"
   ]
  },
  {
   "cell_type": "code",
   "execution_count": 51,
   "id": "46485a4b",
   "metadata": {},
   "outputs": [],
   "source": [
    "\n",
    "# === Q8 Solution Cell ===\n",
    "import itertools\n",
    "\n",
    "# Your code here\n",
    "combos = list(itertools.combinations(list('ABCD'), 2))\n"
   ]
  },
  {
   "cell_type": "markdown",
   "id": "8827d5ff",
   "metadata": {},
   "source": [
    "\n",
    "### Q9 — Lambdas with map/filter (5 marks)\n",
    "Write `sum_even_squares(*args)` that:\n",
    "- Filters **even** integers from `args`,\n",
    "- Squares them with `map` and a `lambda`,\n",
    "- Returns the **sum** of the squares.\n"
   ]
  },
  {
   "cell_type": "code",
   "execution_count": 52,
   "id": "5d793a74",
   "metadata": {},
   "outputs": [],
   "source": [
    "\n",
    "# === Q9 Solution Cell ===\n",
    "def sum_even_squares(*args):\n",
    "    # Your code here\n",
    "    evens = filter(lambda x: isinstance(x, int) and x % 2 == 0, args)\n",
    "    squares = map(lambda x: x*x, evens)\n",
    "    return sum(squares)\n"
   ]
  },
  {
   "cell_type": "markdown",
   "id": "970e2df1",
   "metadata": {},
   "source": [
    "\n",
    "### Q10 — File Handling & Exceptions (5 marks)\n",
    "Write `read_first_10_chars(path)` that:\n",
    "- Opens the file in **text read** mode using a `with` statement,\n",
    "- Returns the **first 10 characters**,\n",
    "- If the file is not found, **catch** `FileNotFoundError` and return the string `\"NOT_FOUND\"`.\n"
   ]
  },
  {
   "cell_type": "code",
   "execution_count": 53,
   "id": "ead15633",
   "metadata": {},
   "outputs": [],
   "source": [
    "\n",
    "# === Q10 Solution Cell ===\n",
    "def read_first_10_chars(path):\n",
    "    # Your code here\n",
    "    try:\n",
    "        with open(path, 'r', encoding='utf-8') as f:\n",
    "            return f.read(10)\n",
    "    except FileNotFoundError:\n",
    "        return \"NOT_FOUND\"\n"
   ]
  },
  {
   "cell_type": "markdown",
   "id": "80826239",
   "metadata": {},
   "source": [
    "\n",
    "---\n",
    "## Run Grader\n",
    "Run the cell below to compute your score (5 marks per correct question).\n"
   ]
  },
  {
   "cell_type": "code",
   "execution_count": 54,
   "id": "ca57a6f9",
   "metadata": {},
   "outputs": [
    {
     "name": "stdout",
     "output_type": "stream",
     "text": [
      "[OK] Q1  (+5)\n",
      "[OK] Q2  (+5)\n",
      "[OK] Q3  (+5)\n",
      "[OK] Q4  (+5)\n",
      "[OK] Q5  (+5)\n",
      "[OK] Q6  (+5)\n",
      "[OK] Q7  (+5)\n",
      "[OK] Q8  (+5)\n",
      "[OK] Q9  (+5)\n",
      "[OK] Q10  (+5)\n",
      "\n",
      "TOTAL: 50 / 50\n"
     ]
    }
   ],
   "source": [
    "\n",
    "# === AUTO-GRADER (Do not modify) ===\n",
    "score = 0\n",
    "MAX = 50\n",
    "\n",
    "def t(name, ok):\n",
    "    global score\n",
    "    if ok:\n",
    "        score += 5\n",
    "        print(f\"[OK] {name}  (+5)\")\n",
    "    else:\n",
    "        print(f\"[X]  {name}  (+0)\")\n",
    "\n",
    "# Q1 tests\n",
    "try:\n",
    "    r = list_ops([1,2,3,4,5])\n",
    "    t(\"Q1\", r == [6, 5, 4, 'new', 2, 1])\n",
    "    \n",
    "except Exception as e:\n",
    "    t(\"Q1\", False)\n",
    "\n",
    "# Q2 tests\n",
    "try:\n",
    "    d = {'name':'Amey', 'age':30}\n",
    "    upd, removed = dict_update(d)\n",
    "    cond = (upd.get('location') == 'Paris' and upd.get('age') == 31 and removed == 'Amey' and 'name' not in upd)\n",
    "    t(\"Q2\", cond)\n",
    "except Exception as e:\n",
    "    t(\"Q2\", False)\n",
    "\n",
    "# Q3 tests\n",
    "try:\n",
    "    a, b = {1,2,3}, {3,4}\n",
    "    u, inter, diff = set_math(a,b)\n",
    "    t(\"Q3\", u == {1,2,3,4} and inter == {3} and diff == {1,2})\n",
    "except Exception as e:\n",
    "    t(\"Q3\", False)\n",
    "\n",
    "# Q4 tests\n",
    "try:\n",
    "    res = tuple_stats((1,2,3,4,3))\n",
    "    t(\"Q4\", res == (5, 2, 2))\n",
    "except Exception as e:\n",
    "    t(\"Q4\", False)\n",
    "\n",
    "# Q5 tests\n",
    "try:\n",
    "    t(\"Q5\", contains_even([1,3,5,8]) is True and contains_even([1,3,5]) is False)\n",
    "except Exception as e:\n",
    "    t(\"Q5\", False)\n",
    "\n",
    "# Q6 tests\n",
    "try:\n",
    "    t(\"Q6\", sum_with_while([1,2,3,4]) == 10)\n",
    "except Exception as e:\n",
    "    t(\"Q6\", False)\n",
    "\n",
    "# Q7 tests\n",
    "try:\n",
    "    t(\"Q7\", name_to_square == {\"Alice\":4, \"Bob\":9, \"Charlie\":16})\n",
    "except Exception as e:\n",
    "    t(\"Q7\", False)\n",
    "\n",
    "# Q8 tests\n",
    "try:\n",
    "    expected = [('A','B'),('A','C'),('A','D'),('B','C'),('B','D'),('C','D')]\n",
    "    t(\"Q8\", combos == expected)\n",
    "except Exception as e:\n",
    "    t(\"Q8\", False)\n",
    "\n",
    "# Q9 tests\n",
    "try:\n",
    "    t(\"Q9\", sum_even_squares(1,2,3,4,5) == 20)\n",
    "except Exception as e:\n",
    "    t(\"Q9\", False)\n",
    "\n",
    "# Q10 tests\n",
    "try:\n",
    "    # prepare a temp file\n",
    "    p = \"temp_example.txt\"\n",
    "    with open(p, \"w\", encoding=\"utf-8\") as f:\n",
    "        f.write(\"Hello, this is a sample text.\")\n",
    "    ok = (read_first_10_chars(p) == \"Hello, thi\") and (read_first_10_chars(\"nope.txt\") == \"NOT_FOUND\")\n",
    "    t(\"Q10\", ok)\n",
    "except Exception as e:\n",
    "    t(\"Q10\", False)\n",
    "\n",
    "print(\"\\nTOTAL:\", score, \"/\", MAX)\n"
   ]
  }
 ],
 "metadata": {
  "kernelspec": {
   "display_name": ".venv (3.11.0)",
   "language": "python",
   "name": "python3"
  },
  "language_info": {
   "codemirror_mode": {
    "name": "ipython",
    "version": 3
   },
   "file_extension": ".py",
   "mimetype": "text/x-python",
   "name": "python",
   "nbconvert_exporter": "python",
   "pygments_lexer": "ipython3",
   "version": "3.11.0"
  }
 },
 "nbformat": 4,
 "nbformat_minor": 5
}
