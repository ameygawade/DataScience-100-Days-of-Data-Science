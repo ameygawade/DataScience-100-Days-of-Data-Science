{
 "cells": [
  {
   "cell_type": "markdown",
   "metadata": {},
   "source": [
    "# Day-8 Introduction to Supervised Learning, Linear Regression"
   ]
  },
  {
   "cell_type": "markdown",
   "metadata": {},
   "source": [
    "Today, I am diving into supervised learning, one of the fundamental concepts in machine learning, and the basis for many predictive models. Supervised learning involves training a model on labeled data, where the goal is to map input data to the correct output. We'll start with understanding regression and classification models."
   ]
  },
  {
   "cell_type": "markdown",
   "metadata": {},
   "source": [
    "## Topics Covered:\n",
    "- Introduction to Supervised Learning\n",
    "- Linear Regression (Simple and Multiple Regression)\n",
    "- Introduction to Classification (Logistic Regression)"
   ]
  },
  {
   "cell_type": "markdown",
   "metadata": {},
   "source": [
    "## 1. Introduction to Supervised Learning"
   ]
  },
  {
   "cell_type": "markdown",
   "metadata": {},
   "source": [
    "Supervised learning refers to the use of labeled datasets to train algorithms that classify data or predict outcomes accurately. As the model learns from the training data, it makes predictions and is adjusted until it achieves the desired level of accuracy."
   ]
  },
  {
   "cell_type": "markdown",
   "metadata": {},
   "source": [
    "### Key Terms:\n",
    "    - Features (X): The input variables.\n",
    "    - Target (Y): The output or label associated with the input.\n",
    "    - Training Data: The dataset used to train the model.\n",
    "    - Testing Data: The dataset used to evaluate the model's performance."
   ]
  },
  {
   "cell_type": "markdown",
   "metadata": {},
   "source": [
    "### 1.Features(X)- The input Variables:"
   ]
  },
  {
   "cell_type": "markdown",
   "metadata": {},
   "source": [
    "Features are the input variables that you use to make predictions. In a dataset, they are the independent variables that influence the outcome."
   ]
  },
  {
   "cell_type": "markdown",
   "metadata": {},
   "source": [
    "#### Example: house price prediction model features"
   ]
  },
  {
   "cell_type": "markdown",
   "metadata": {},
   "source": [
    "In a house price prediction model, the features could be:\n",
    "- Size of the house (in square feet)\n",
    "- Number of bedrooms\n",
    "- Location (city, neighborhood)\n",
    "- Age of the house\n",
    "- Proximity to amenities (schools, hospitals)"
   ]
  },
  {
   "cell_type": "markdown",
   "metadata": {},
   "source": [
    "Features can be:\n",
    "\n",
    "- Single or Multiple Variables: \n",
    "    - Representing either simple or complex relationships.\n",
    "- Categorical: \n",
    "    - Like labels or categories without inherent numerical meaning (e.g., location, gender).\n",
    "- Quantitative: \n",
    "    - Numeric values representing measurable quantities (e.g., house size, age).\n",
    "- Qualitative:\n",
    "    - Descriptive attributes that can be converted into numbers (e.g., customer satisfaction levels).\n",
    "- Discrete: \n",
    "    - Countable values like the number of rooms or products.\n",
    "- Continuous: \n",
    "    - Values within a range, such as temperature or income.\n",
    "- Binary: \n",
    "    - Yes/No, True/False values often used in classification.\n",
    "- Textual: \n",
    "    - Converted text features used in language model\n"
   ]
  },
  {
   "cell_type": "markdown",
   "metadata": {},
   "source": []
  },
  {
   "cell_type": "markdown",
   "metadata": {},
   "source": [
    "### 2. Target (Y) - The Output or Label:"
   ]
  },
  {
   "cell_type": "markdown",
   "metadata": {},
   "source": [
    "The target is the variable you're trying to predict. It’s the dependent variable because it depends on the input features."
   ]
  },
  {
   "cell_type": "markdown",
   "metadata": {},
   "source": []
  }
 ],
 "metadata": {
  "language_info": {
   "name": "python"
  }
 },
 "nbformat": 4,
 "nbformat_minor": 2
}
