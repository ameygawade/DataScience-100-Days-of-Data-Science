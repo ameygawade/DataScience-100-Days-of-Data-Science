{
 "cells": [
  {
   "cell_type": "markdown",
   "metadata": {},
   "source": [
    "# Day-8 Introduction to Supervised Learning, Linear Regression"
   ]
  },
  {
   "cell_type": "markdown",
   "metadata": {},
   "source": [
    "Today, I am diving into supervised learning, one of the fundamental concepts in machine learning, and the basis for many predictive models. Supervised learning involves training a model on labeled data, where the goal is to map input data to the correct output. We'll start with understanding regression and classification models."
   ]
  },
  {
   "cell_type": "markdown",
   "metadata": {},
   "source": [
    "## Topics Covered:\n",
    "- Introduction to Supervised Learning\n",
    "- Linear Regression (Simple and Multiple Regression)\n",
    "- Introduction to Classification (Logistic Regression)"
   ]
  },
  {
   "cell_type": "markdown",
   "metadata": {},
   "source": [
    "## 1. Introduction to Supervised Learning"
   ]
  },
  {
   "cell_type": "markdown",
   "metadata": {},
   "source": [
    "Supervised learning refers to the use of labeled datasets to train algorithms that classify data or predict outcomes accurately. As the model learns from the training data, it makes predictions and is adjusted until it achieves the desired level of accuracy."
   ]
  },
  {
   "cell_type": "markdown",
   "metadata": {},
   "source": [
    "### Key Terms:\n",
    "    - Features (X): The input variables.\n",
    "    - Target (Y): The output or label associated with the input.\n",
    "    - Training Data: The dataset used to train the model.\n",
    "    - Testing Data: The dataset used to evaluate the model's performance."
   ]
  },
  {
   "cell_type": "markdown",
   "metadata": {},
   "source": [
    "### 1.1.Features(X)- The input Variables:"
   ]
  },
  {
   "cell_type": "markdown",
   "metadata": {},
   "source": [
    "Features are the input variables that you use to make predictions. In a dataset, they are the independent variables that influence the outcome."
   ]
  },
  {
   "cell_type": "markdown",
   "metadata": {},
   "source": [
    "#### Example: house price prediction model features"
   ]
  },
  {
   "cell_type": "markdown",
   "metadata": {},
   "source": [
    "In a house price prediction model, the features could be:\n",
    "- Size of the house (in square feet)\n",
    "- Number of bedrooms\n",
    "- Location (city, neighborhood)\n",
    "- Age of the house\n",
    "- Proximity to amenities (schools, hospitals)"
   ]
  },
  {
   "cell_type": "markdown",
   "metadata": {},
   "source": [
    "#### Features can be:\n"
   ]
  },
  {
   "cell_type": "markdown",
   "metadata": {},
   "source": [
    "- Single or Multiple Variables: \n",
    "    - Representing either simple or complex relationships.\n",
    "- Categorical: \n",
    "    - Like labels or categories without inherent numerical meaning (e.g., location, gender).\n",
    "- Quantitative: \n",
    "    - Numeric values representing measurable quantities (e.g., house size, age).\n",
    "- Qualitative:\n",
    "    - Descriptive attributes that can be converted into numbers (e.g., customer satisfaction levels).\n",
    "- Discrete: \n",
    "    - Countable values like the number of rooms or products.\n",
    "- Continuous: \n",
    "    - Values within a range, such as temperature or income.\n",
    "- Binary: \n",
    "    - Yes/No, True/False values often used in classification.\n",
    "- Textual: \n",
    "    - Converted text features used in language model"
   ]
  },
  {
   "cell_type": "markdown",
   "metadata": {},
   "source": [
    "### 1.2. Target (Y) - The Output or Label:"
   ]
  },
  {
   "cell_type": "markdown",
   "metadata": {},
   "source": [
    "The target is the variable you're trying to predict. It’s the dependent variable because it depends on the input features.It represents the value the model is trying to predict or classify based on the input features. Just like features, the target can vary in complexity, format, and type."
   ]
  },
  {
   "cell_type": "markdown",
   "metadata": {},
   "source": [
    "#### Example: Customer Churn Prediction Model - Target\n"
   ]
  },
  {
   "cell_type": "markdown",
   "metadata": {},
   "source": [
    "In a customer churn prediction model, the target variable could be:\n",
    "\n",
    "- Churn (Binary): Whether a customer will churn or not (1 for churn, 0 for no churn).\n",
    "- This model would predict whether a customer is likely to stop using a service based on features such as:\n",
    "- Usage Frequency: How often the customer uses the service.\n",
    "- Contract Length: Duration of the customer’s current contract.\n",
    "- Monthly Charges: The amount the customer pays each month.\n",
    "- Customer Support Interactions: Number of times the customer contacts support.\n",
    "- Tenure: How long the customer has been with the company."
   ]
  },
  {
   "cell_type": "markdown",
   "metadata": {},
   "source": [
    "Targets can be:\n",
    "\n",
    "- Single or Multiple Variables: \n",
    "    - Predicting one or more outputs simultaneously.\n",
    "- Categorical: \n",
    "    - Labels or categories such as binary labels (spam/not spam) or multi-class labels (types of products).\n",
    "- Quantitative: \n",
    "    - Numeric values such as house prices or customer spending.\n",
    "- Qualitative: \n",
    "    - Descriptive targets that can be encoded into numbers, like survey ratings.\n",
    "- Binary: \n",
    "    - Yes/No or True/False predictions (e.g., fraud detection).\n",
    "- Discrete: \n",
    "    - Predicting countable events such as the number of purchases.\n",
    "-  Continuous: \n",
    "    - Predicting any value within a range like temperature or stock prices.\n",
    "- Textual: \n",
    "    - Targeting text sequences in NLP tasks such as sentiment or translation."
   ]
  },
  {
   "cell_type": "markdown",
   "metadata": {},
   "source": [
    "### 1.3. Training Data:"
   ]
  },
  {
   "cell_type": "markdown",
   "metadata": {},
   "source": [
    "Training data is the dataset that is used to \"teach\" the machine learning model. The model learns the relationships between the input features (X) and the target output (Y) by identifying patterns within the training data. This dataset includes both the inputs and the known correct outputs, allowing the model to learn from the examples."
   ]
  },
  {
   "cell_type": "markdown",
   "metadata": {},
   "source": [
    "#### Characteristics of Training Data:"
   ]
  },
  {
   "cell_type": "markdown",
   "metadata": {},
   "source": [
    "\n",
    "- Labeled: \n",
    "    - In supervised learning, training data is labeled, meaning that both the input features and the corresponding target values are provided.\n",
    "- Comprehensive: \n",
    "    - The training dataset should be diverse and cover various scenarios that the model might encounter during real-world usage.\n",
    "- Represents Real-World Variations: \n",
    "    - The data should capture different kinds of variations to ensure the model learns how to generalize well."
   ]
  },
  {
   "cell_type": "markdown",
   "metadata": {},
   "source": [
    "#### Example: customer churn prediction"
   ]
  },
  {
   "cell_type": "code",
   "execution_count": 8,
   "metadata": {},
   "outputs": [
    {
     "name": "stdout",
     "output_type": "stream",
     "text": [
      "this is an example of labeled data set which can be used for training:\n",
      "   Age  Monthly_Charges  Tenure  Support_Tickets  Contract_Length  Churn\n",
      "0   45               70      12                1               24      0\n",
      "1   30               40       8                2               12      1\n",
      "2   55               90      36                0               36      0\n",
      "3   28               60       6                3               12      1\n",
      "4   40               55      18                1               24      0\n"
     ]
    }
   ],
   "source": [
    "import pandas as pd\n",
    "\n",
    "\n",
    "# Sample training data for customer churn prediction\n",
    "data = {\n",
    "    'Age': [45, 30, 55, 28, 40],\n",
    "    'Monthly_Charges': [70, 40, 90, 60, 55],\n",
    "    'Tenure': [12, 8, 36, 6, 18],\n",
    "    'Support_Tickets': [1, 2, 0, 3, 1],\n",
    "    'Contract_Length': [24, 12, 36, 12, 24],\n",
    "    'Churn': [0, 1, 0, 1, 0]  # Target variable: 0 for No, 1 for Yes\n",
    "}\n",
    "\n",
    "# Convert data to a pandas DataFrame\n",
    "df = pd.DataFrame(data)\n",
    "\n",
    "print(f\"this is an example of labeled data set which can be used for training:\\n{df}\" )\n",
    "\n",
    "# Features (X) and target (Y)\n",
    "X = df[['Age', 'Monthly_Charges', 'Tenure', 'Support_Tickets', 'Contract_Length']]\n",
    "\n",
    "y = df['Churn']\n"
   ]
  },
  {
   "cell_type": "markdown",
   "metadata": {},
   "source": [
    "Explanation of Features (X) in Training Data:\n",
    "- Age: The age of the customer.\n",
    "- Monthly Charges: The monthly amount billed to the customer.\n",
    "- Tenure (Months): The total time the customer has been with the company.\n",
    "- Support Tickets: The number of times the customer has contacted customer support.\n",
    "- Contract Length (Months): The length of the customer’s contract.\n",
    "\n",
    "Target (Y) – Churn:\n",
    "- 0: The customer did not churn.\n",
    "- 1: The customer churned.\n"
   ]
  },
  {
   "cell_type": "markdown",
   "metadata": {},
   "source": [
    "In this dataset, the model learns to identify patterns in customer behavior that lead to churn (target variable) based on the input features (age, monthly charges, tenure, etc.). After training, the model will be able to predict whether a new customer will churn based on these features."
   ]
  },
  {
   "cell_type": "markdown",
   "metadata": {},
   "source": [
    "### 1.4. Testing Data:"
   ]
  },
  {
   "cell_type": "markdown",
   "metadata": {},
   "source": [
    "Testing data is the dataset used to evaluate the performance of a trained machine learning model. It is kept separate from the training data to provide an unbiased evaluation of the model’s performance. The model’s predictions on the testing data are compared to the actual target values to assess how well it generalizes to new, unseen data."
   ]
  },
  {
   "cell_type": "markdown",
   "metadata": {},
   "source": [
    "Characteristics of Testing Data:\n",
    "- Unseen by the Model: \n",
    "    - Testing data should not overlap with the training data to ensure the model is evaluated on new, unseen data.\n",
    "- Used for Evaluation: \n",
    "    - It is used only after the model has been trained to measure how well the model performs.\n",
    "- Provides Insight: \n",
    "    - Helps identify issues like overfitting (where the model performs well on training data but poorly on unseen data)."
   ]
  },
  {
   "cell_type": "markdown",
   "metadata": {},
   "source": [
    "####  Example:Using the same customer churn prediction model"
   ]
  },
  {
   "cell_type": "markdown",
   "metadata": {},
   "source": [
    "- The model, after being trained on the training data, is tested on a new set of customer data (testing data).\n",
    "    - Features (X): The customer’s age, monthly charges, number of customer support tickets, etc.\n",
    "    - Target (Y): Whether the customer churned or not (1 for churn, 0 for not churn).\n",
    "The model’s predictions are then compared with the actual churn outcomes to evaluate its accuracy."
   ]
  },
  {
   "cell_type": "markdown",
   "metadata": {},
   "source": [
    "## 2. Linear regression"
   ]
  },
  {
   "cell_type": "markdown",
   "metadata": {},
   "source": [
    "Linear regression is one of the most fundamental and widely used algorithms in supervised learning. It models the relationship between the input features (independent variables) and the target variable (dependent variable) by fitting a linear equation to the data. The goal of linear regression is to predict the target variable based on the input features by finding the best-fitting line that minimizes the prediction error."
   ]
  },
  {
   "cell_type": "markdown",
   "metadata": {},
   "source": [
    "### 2.1 Simple Linear Regression"
   ]
  },
  {
   "cell_type": "markdown",
   "metadata": {},
   "source": [
    "Simple linear regression models the relationship between a single input feature (X) and the target variable (Y). It assumes that there is a linear relationship between the input feature and the target, and the equation for the regression line is represented as:\n",
    "\n",
    "$ 𝑌 = 𝑚𝑋 +𝑏 $"
   ]
  },
  {
   "cell_type": "markdown",
   "metadata": {},
   "source": [
    "Where:\n",
    "- $ Y$ is the predicted target value.\n",
    "- $ X $ is the input feature.\n",
    "- $ 𝑚 $ is the slope of the line, representing how much $ Y $ changes with a unit change in $ X $.\n",
    "- $ b $ is the y-intercept, the value of $ Y$ when $𝑋=0$."
   ]
  },
  {
   "cell_type": "markdown",
   "metadata": {},
   "source": [
    "#### Example: House Price Prediction"
   ]
  },
  {
   "cell_type": "markdown",
   "metadata": {},
   "source": [
    "let asssumne we want to predict the price of a house based on its size (square footage). In this case, the input feature $ X $ is the size of the house, and the target variable $ Y $ is the house price."
   ]
  },
  {
   "cell_type": "code",
   "execution_count": 9,
   "metadata": {},
   "outputs": [
    {
     "data": {
      "image/png": "[encoded data removed]",
      "text/plain": [
       "<Figure size 640x480 with 1 Axes>"
      ]
     },
     "metadata": {},
     "output_type": "display_data"
    }
   ],
   "source": [
    "import numpy as np\n",
    "import matplotlib.pyplot as plt\n",
    "from sklearn.linear_model import LinearRegression\n",
    "\n",
    "# Example data: size of the house (in square feet) and price (in dollars)\n",
    "X = np.array([1000, 1500, 2000, 2500, 3000]).reshape(-1, 1)\n",
    "Y = np.array([300000, 350000, 400000, 450000, 500000])\n",
    "\n",
    "# Create and train the model\n",
    "model = LinearRegression()\n",
    "model.fit(X, Y)\n",
    "\n",
    "# Make predictions\n",
    "predicted_prices = model.predict(X)\n",
    "\n",
    "# Plotting the data and the regression line\n",
    "plt.scatter(X, Y, color='blue', label='Actual Prices')\n",
    "plt.plot(X, predicted_prices, color='red', label='Regression Line')\n",
    "plt.xlabel('Size (Square Feet)')\n",
    "plt.ylabel('Price ($)')\n",
    "plt.title('House Price Prediction with Simple Linear Regression')\n",
    "plt.legend()\n",
    "plt.grid(True)\n",
    "plt.show()\n"
   ]
  },
  {
   "cell_type": "markdown",
   "metadata": {},
   "source": [
    "In this example, we trained a simple linear regression model to predict house prices based on the size of the house. \n",
    "The regression line represents the best fit, showing the relationship between house size and price.\n",
    "\n",
    "The slope $ 𝑚 $ represents the rate at which the house price changes for each additional square foot."
   ]
  },
  {
   "cell_type": "markdown",
   "metadata": {},
   "source": [
    "### 2.2 Multiple Linear Regression:"
   ]
  },
  {
   "cell_type": "markdown",
   "metadata": {},
   "source": [
    "Multiple linear regression extends the concept of simple linear regression by modeling the relationship between multiple input features $(X1, X2, X3, ...)$ and the target variable (Y). The equation for multiple linear regression is:\n",
    "\n",
    "$ Y= b_0 +b_1 X_1 +b_2  X_2 + \\dots +b_n X_n$\n",
    "​\n"
   ]
  },
  {
   "cell_type": "markdown",
   "metadata": {},
   "source": [
    "Where:\n",
    "\n",
    "- $Y$ is the predicted target variable.\n",
    "- $ 𝑋_1,𝑋_2,\\dots,𝑋𝑛 $  are the input features.\n",
    "- $ b_0 $ is the intercept (the value of $Y $ when all X's are zero).\n",
    "- $b_1 ,b_2,\\dots,b_n $ are the coefficients that represent the relationship between each feature and the target variable."
   ]
  },
  {
   "cell_type": "markdown",
   "metadata": {},
   "source": [
    "##### Example: House Price Prediction with Multiple Linear Regression"
   ]
  },
  {
   "cell_type": "markdown",
   "metadata": {},
   "source": [
    "Let’s now predict house prices using multiple features such as size, number of bedrooms, and age of the house."
   ]
  },
  {
   "cell_type": "code",
   "execution_count": 10,
   "metadata": {},
   "outputs": [
    {
     "name": "stdout",
     "output_type": "stream",
     "text": [
      "Predicted Prices: [350000.]\n",
      "Actual Prices: [350000]\n"
     ]
    }
   ],
   "source": [
    "import pandas as pd\n",
    "from sklearn.model_selection import train_test_split\n",
    "from sklearn.linear_model import LinearRegression\n",
    "\n",
    "# Example data: size, bedrooms, and age of the house, along with the corresponding price\n",
    "data = {\n",
    "    'Size': [1000, 1500, 2000, 2500, 3000],\n",
    "    'Bedrooms': [3, 4, 3, 4, 5],\n",
    "    'Age': [10, 5, 20, 15, 10],\n",
    "    'Price': [300000, 350000, 400000, 450000, 500000]\n",
    "}\n",
    "\n",
    "# Create a DataFrame\n",
    "df = pd.DataFrame(data)\n",
    "\n",
    "# Features (X) and target (Y)\n",
    "X = df[['Size', 'Bedrooms', 'Age']]\n",
    "Y = df['Price']\n",
    "\n",
    "# Split the data into training and testing sets\n",
    "X_train, X_test, Y_train, Y_test = train_test_split(X, Y, test_size=0.2, random_state=42)\n",
    "\n",
    "# Create and train the model\n",
    "model = LinearRegression()\n",
    "model.fit(X_train, Y_train)\n",
    "\n",
    "# Make predictions\n",
    "predicted_prices = model.predict(X_test)\n",
    "\n",
    "# Display the predictions\n",
    "print(f\"Predicted Prices: {predicted_prices}\")\n",
    "print(f\"Actual Prices: {Y_test.values}\")\n"
   ]
  },
  {
   "cell_type": "markdown",
   "metadata": {},
   "source": [
    "- Size, number of bedrooms, and age are the input features, and the target variable is the price.\n",
    "- The model learns how these features affect house prices and uses them to make predictions on unseen test data.\n",
    "- Each coefficient $b_1 ,b_2,\\dots$ represents the impact of the respective feature on the target variable. For example, if $𝑏_1 =200$, it means that for each additional square foot, the house price increases by $200, assuming other variables are constant."
   ]
  },
  {
   "cell_type": "markdown",
   "metadata": {},
   "source": [
    "Advantages of Linear Regression:\n",
    "- Simplicity: Easy to implement and interpret.\n",
    "- Performance: Works well for linear relationships between features and the target.\n",
    "- Widely used: A fundamental model that forms the basis for many other techniques.\n",
    "\n",
    "Limitations of Linear Regression:\n",
    "- Assumption of Linearity: Linear regression assumes a straight-line relationship between features and the target, which may not always be the case.\n",
    "- Sensitivity to Outliers: Linear regression is sensitive to outliers, which can distort the model."
   ]
  },
  {
   "cell_type": "markdown",
   "metadata": {},
   "source": [
    "## 3. Introduction to Classification (Logistic Regression)"
   ]
  },
  {
   "cell_type": "markdown",
   "metadata": {},
   "source": [
    "Classification is one of the primary tasks in supervised learning where the model is trained to predict categorical labels. Unlike regression, which predicts continuous values, classification predicts discrete outcomes (often binary or multi-class). Logistic regression is a widely used algorithm for binary classification tasks."
   ]
  },
  {
   "cell_type": "markdown",
   "metadata": {},
   "source": [
    "### 3.1 What is Logistic Regression?"
   ]
  },
  {
   "cell_type": "markdown",
   "metadata": {},
   "source": [
    "Logistic regression is a classification algorithm used to predict the probability of a binary outcome. It models the relationship between the input features (X) and a binary target variable (Y), where Y can take two possible outcomes (e.g., 0 and 1). Logistic regression is commonly used for problems such as email spam detection, customer churn prediction, and medical diagnosis.\n",
    "\n",
    "Unlike linear regression, where the output is a continuous value, logistic regression transforms the output using the sigmoid function to constrain the predictions between 0 and 1."
   ]
  },
  {
   "cell_type": "markdown",
   "metadata": {},
   "source": [
    "#### Logistic Regression Equation: "
   ]
  },
  {
   "cell_type": "markdown",
   "metadata": {},
   "source": [
    "The logistic regression model is defined by the following equation:\n",
    "\n",
    "$ P(Y=1∣X) = 1 \n",
    "/ 1+e−^(β_0 +β_1X_1 +β_2 X_2 +\\dots+β_n X_n )$\n"
   ]
  },
  {
   "cell_type": "markdown",
   "metadata": {},
   "source": [
    "Where:\n",
    "- $ P(Y=1∣X)$ is the probability that the target variable is 1 (i.e., the event of interest occurs).\n",
    "- β_0  is the intercept, and $ β_1 , β_2,\\dots,β_n$ are the coefficients (or weights) of the input features.\n",
    "- $ X_1,X_2,\\dots,X_n$ are the input features.\n",
    "- $ e $ is the base of the natural logarithm."
   ]
  },
  {
   "cell_type": "markdown",
   "metadata": {},
   "source": [
    "#### The Sigmoid Function:"
   ]
  },
  {
   "cell_type": "markdown",
   "metadata": {},
   "source": [
    "The key to logistic regression is the use of the sigmoid function (also called the logistic function), which squashes the output of a linear equation into a range between 0 and 1."
   ]
  },
  {
   "cell_type": "markdown",
   "metadata": {},
   "source": [
    "$ σ(z)= 1/ 1+e^ (-z) $\n",
    "​\n"
   ]
  },
  {
   "cell_type": "markdown",
   "metadata": {},
   "source": [
    "Where:\n",
    "- z is the linear combination of the input features.\n",
    "- The output of the sigmoid function represents the probability that the target variable belongs to the positive class (Y = 1)."
   ]
  },
  {
   "cell_type": "markdown",
   "metadata": {},
   "source": [
    "#### Example: Predicting Customer Churn with Logistic Regression\n"
   ]
  },
  {
   "cell_type": "markdown",
   "metadata": {},
   "source": [
    "In a customer churn prediction model, logistic regression can be used to predict whether a customer will churn (1) or stay (0) based on input features such as:\n",
    "\n",
    "Monthly Charges\n",
    "Tenure (months)\n",
    "Number of Customer Support Tickets\n",
    "Contract Length (months)"
   ]
  },
  {
   "cell_type": "code",
   "execution_count": 13,
   "metadata": {},
   "outputs": [
    {
     "name": "stdout",
     "output_type": "stream",
     "text": [
      "Accuracy: 100.00%\n",
      "Confusion Matrix:\n",
      "[[1]]\n"
     ]
    }
   ],
   "source": [
    "import pandas as pd\n",
    "from sklearn.model_selection import train_test_split\n",
    "from sklearn.linear_model import LogisticRegression\n",
    "from sklearn.metrics import accuracy_score, confusion_matrix\n",
    "\n",
    "# Sample data for customer churn prediction\n",
    "data = {\n",
    "    'Monthly_Charges': [70, 40, 90, 60, 55],\n",
    "    'Tenure': [12, 8, 36, 6, 18],\n",
    "    'Support_Tickets': [1, 2, 0, 3, 1],\n",
    "    'Contract_Length': [24, 12, 36, 12, 24],\n",
    "    'Churn': [0, 1, 0, 1, 0]  # Target variable: 0 for No, 1 for Yes\n",
    "}\n",
    "\n",
    "# Convert data to a pandas DataFrame\n",
    "df = pd.DataFrame(data)\n",
    "\n",
    "# Define features (X) and target (y)\n",
    "X = df[['Monthly_Charges', 'Tenure', 'Support_Tickets', 'Contract_Length']]\n",
    "y = df['Churn']\n",
    "\n",
    "# Split the data into training and testing sets\n",
    "X_train, X_test, y_train, y_test = train_test_split(X, y, test_size=0.2, random_state=42)\n",
    "\n",
    "# Create and train the logistic regression model\n",
    "model = LogisticRegression()\n",
    "model.fit(X_train, y_train)\n",
    "\n",
    "# Predict on the test set\n",
    "y_pred = model.predict(X_test)\n",
    "\n",
    "# Evaluate the model's performance\n",
    "accuracy = accuracy_score(y_test, y_pred)\n",
    "conf_matrix = confusion_matrix(y_test, y_pred)\n",
    "\n",
    "print(f\"Accuracy: {accuracy * 100:.2f}%\")\n",
    "print(f\"Confusion Matrix:\\n{conf_matrix}\")\n"
   ]
  },
  {
   "cell_type": "markdown",
   "metadata": {},
   "source": [
    "In this example:\n",
    "\n",
    "- Features (X): Monthly Charges, Tenure, Number of Support Tickets, and Contract Length.\n",
    "- Target (Y): Churn (1 for churn, 0 for no churn).\n",
    "- The logistic regression model learns the relationship between the features and the probability of customer churn."
   ]
  },
  {
   "cell_type": "markdown",
   "metadata": {},
   "source": [
    "#### Advantages of Logistic Regression:"
   ]
  },
  {
   "cell_type": "markdown",
   "metadata": {},
   "source": [
    "- Simple and Efficient: Easy to implement and interpret.\n",
    "- Probability Estimates: Outputs probabilities for class membership.\n",
    "- Interpretability: Coefficients are easy to understand and explain."
   ]
  },
  {
   "cell_type": "markdown",
   "metadata": {},
   "source": [
    "#### Limitations of Logistic Regression:"
   ]
  },
  {
   "cell_type": "markdown",
   "metadata": {},
   "source": [
    "- Linearity Assumption: \n",
    "    - Assumes a linear relationship between the input features and the log-odds of the target.\n",
    "- Sensitive to Outliers: \n",
    "    - Logistic regression can be sensitive to outliers in the data.\n",
    "- Binary Outcomes: \n",
    "    - It is primarily designed for binary classification, although it can be extended to multi-class classification using techniques like \"one-vs-all.\""
   ]
  },
  {
   "cell_type": "markdown",
   "metadata": {},
   "source": [
    "## Conclusion"
   ]
  },
  {
   "cell_type": "markdown",
   "metadata": {},
   "source": [
    "On Day 8, we explored the foundation of supervised learning and dove into two important techniques: Linear Regression for regression tasks and Logistic Regression for classification tasks."
   ]
  },
  {
   "cell_type": "markdown",
   "metadata": {},
   "source": [
    "\n",
    "### Key Takeaways:"
   ]
  },
  {
   "cell_type": "markdown",
   "metadata": {},
   "source": [
    "- Supervised Learning:\n",
    "\n",
    "     - Models are trained on labeled datasets to predict or classify outcomes.\n",
    "     - Features (X) represent input variables, and Target (Y) is the output or label the model aims to predict.\n",
    "\n",
    "- Linear Regression:\n",
    "\n",
    "     - Simple linear regression uses one independent variable to predict a continuous outcome.\n",
    "     - Multiple linear regression uses several independent variables to predict a continuous target.\n",
    "\n",
    "- Logistic Regression:\n",
    "     - A classification algorithm used for binary outcomes (e.g., churn vs. no churn).\n",
    "     - Logistic regression outputs probabilities and classifies data into categories.\n"
   ]
  },
  {
   "cell_type": "markdown",
   "metadata": {},
   "source": [
    "On DAY 9 we will cover Polynomial and Ridge Regression. \n",
    "- Where we will see the applications of polynomial regression in non-linear relationships.\n",
    "- Ridge Regression for handling multicollinearity and overfitting.\n",
    "- Hands-on code examples using Python libraries.\n",
    "- How to model non-linear relationships using Polynomial Regression.\n",
    "- The importance of regularization and how Ridge Regression works.\n"
   ]
  },
  {
   "cell_type": "markdown",
   "metadata": {},
   "source": [
    "Looking forward to diving deeper into these advanced topics on Day 9!"
   ]
  },
  {
   "cell_type": "markdown",
   "metadata": {},
   "source": []
  }
 ],
 "metadata": {
  "kernelspec": {
   "display_name": "Python 3",
   "language": "python",
   "name": "python3"
  },
  "language_info": {
   "codemirror_mode": {
    "name": "ipython",
    "version": 3
   },
   "file_extension": ".py",
   "mimetype": "text/x-python",
   "name": "python",
   "nbconvert_exporter": "python",
   "pygments_lexer": "ipython3",
   "version": "3.11.0"
  }
 },
 "nbformat": 4,
 "nbformat_minor": 2
}
