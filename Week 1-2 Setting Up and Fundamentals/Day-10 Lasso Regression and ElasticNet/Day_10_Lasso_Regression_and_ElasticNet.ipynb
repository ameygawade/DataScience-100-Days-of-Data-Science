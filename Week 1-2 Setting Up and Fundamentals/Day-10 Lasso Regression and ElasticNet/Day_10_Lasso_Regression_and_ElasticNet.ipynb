{
 "cells": [
  {
   "cell_type": "markdown",
   "metadata": {},
   "source": [
    "# Day 10: Lasso Regression and ElasticNet"
   ]
  },
  {
   "cell_type": "markdown",
   "metadata": {},
   "source": [
    "In today's session, we will cover Lasso Regression and ElasticNet, two powerful linear regression techniques that extend Ridge Regression by adding more regularization. These methods are designed to handle situations where some features are less important or even irrelevant, improving model performance and interpretability."
   ]
  },
  {
   "cell_type": "markdown",
   "metadata": {},
   "source": [
    "## Topics Covered:\n",
    "- Introduction to Lasso Regression\n",
    "- Introduction to ElasticNet\n",
    "- When to use Lasso and ElasticNet\n",
    "- Comparison: Lasso, Ridge, and ElasticNet\n",
    "- Regularization and Model Performance"
   ]
  },
  {
   "cell_type": "markdown",
   "metadata": {},
   "source": [
    "## 1. Lasso Regrssion"
   ]
  },
  {
   "cell_type": "markdown",
   "metadata": {},
   "source": [
    "Lasso (Least Absolute Shrinkage and Selection Operator) is a type of linear regression that performs both variable selection and regularization. It adds a penalty equal to the absolute value of the magnitude of coefficients. As a result, Lasso forces some of the regression coefficients to be exactly zero, which helps in feature selection."
   ]
  },
  {
   "cell_type": "code",
   "execution_count": 2,
   "metadata": {},
   "outputs": [
    {
     "name": "stdout",
     "output_type": "stream",
     "text": [
      "Mean Squared Error (Lasso): 0.00013061224476111177\n"
     ]
    }
   ],
   "source": [
    "import numpy as np\n",
    "from sklearn.linear_model import Lasso\n",
    "from sklearn.model_selection import train_test_split\n",
    "from sklearn.metrics import mean_squared_error\n",
    "\n",
    "# Sample data (house sizes and prices)\n",
    "X = np.array([1000, 1500, 2000, 2500, 3000]).reshape(-1, 1)\n",
    "y = np.array([200000, 300000, 400000, 500000, 600000])\n",
    "\n",
    "# Splitting data into training and testing sets\n",
    "X_train, X_test, y_train, y_test = train_test_split(X, y, test_size=0.2, random_state=42)\n",
    "\n",
    "# Applying Lasso Regression\n",
    "lasso_model = Lasso(alpha=10)  # Alpha is the regularization strength\n",
    "lasso_model.fit(X_train, y_train)\n",
    "\n",
    "# Predicting and evaluating the model\n",
    "y_pred = lasso_model.predict(X_test)\n",
    "mse = mean_squared_error(y_test, y_pred)\n",
    "\n",
    "print(f\"Mean Squared Error (Lasso): {mse}\")\n"
   ]
  },
  {
   "cell_type": "markdown",
   "metadata": {},
   "source": [
    "## 2. ElasticNet Regression (L1 and L2 Regularization)"
   ]
  },
  {
   "cell_type": "markdown",
   "metadata": {},
   "source": [
    "ElasticNet is a combination of both Lasso and Ridge regression. It introduces both L1 (absolute) and L2 (squared) penalties. This is useful when dealing with datasets that have high-dimensionality or correlated features."
   ]
  },
  {
   "cell_type": "markdown",
   "metadata": {},
   "source": [
    "- $ \\lambda_1 $ is the L1 regularization parameter (Lasso).\n",
    "- $ \\lambda_2 $ is the L2 regularization parameter (Ridge).\n",
    "- $ \\beta_i $ are the coefficients of the model."
   ]
  },
  {
   "cell_type": "markdown",
   "metadata": {},
   "source": [
    "\n",
    "### Key Characteristics:\n",
    "- Combines the strengths of both Lasso and Ridge, making it more flexible.\n",
    "- Useful for feature selection when Lasso alone is too aggressive, and Ridge alone is too lenient.\n",
    "- Handles correlated features better than Lasso."
   ]
  },
  {
   "cell_type": "code",
   "execution_count": 4,
   "metadata": {},
   "outputs": [
    {
     "name": "stdout",
     "output_type": "stream",
     "text": [
      "Mean Squared Error (ElasticNet): 0.013192139142008464\n"
     ]
    }
   ],
   "source": [
    "from sklearn.linear_model import ElasticNet\n",
    "\n",
    "\n",
    "# Sample data (house sizes and prices)\n",
    "X = np.array([1000, 1500, 2000, 2500, 3000]).reshape(-1, 1)\n",
    "y = np.array([200000, 300000, 400000, 500000, 600000])\n",
    "\n",
    "# Splitting data into training and testing sets\n",
    "X_train, X_test, y_train, y_test = train_test_split(X, y, test_size=0.2, random_state=42)\n",
    "\n",
    "# Applying ElasticNet Regression\n",
    "elasticnet_model = ElasticNet(alpha=1.0, l1_ratio=0.5)\n",
    "elasticnet_model.fit(X_train, y_train)\n",
    "\n",
    "# Predicting and evaluating the model\n",
    "y_pred = elasticnet_model.predict(X_test)\n",
    "mse = mean_squared_error(y_test, y_pred)\n",
    "print(f\"Mean Squared Error (ElasticNet): {mse}\")\n"
   ]
  },
  {
   "cell_type": "markdown",
   "metadata": {},
   "source": [
    "## 3. When to Use Lasso and ElasticNet"
   ]
  },
  {
   "cell_type": "markdown",
   "metadata": {},
   "source": [
    "Lasso is best when you suspect that many of your features are irrelevant. It helps with feature selection by shrinking some coefficients to zero.\n",
    "\n",
    "### ElasticNet is ideal when:\n",
    "    - You have many highly correlated predictors.\n",
    "    - Lasso is too aggressive in shrinking coefficients, leading to underfitting.\n",
    "    - You want a balance between L1 and L2 regularization.\n"
   ]
  },
  {
   "cell_type": "markdown",
   "metadata": {},
   "source": [
    "### Choosing Between Lasso and ElasticNet:"
   ]
  },
  {
   "cell_type": "markdown",
   "metadata": {},
   "source": [
    "\n",
    "- If your features are independent and you want sparse solutions, Lasso is preferred.\n",
    "- If your features are correlated or if you need flexibility in regularization, ElasticNet works better."
   ]
  },
  {
   "cell_type": "markdown",
   "metadata": {},
   "source": [
    "### How to check if features are related or not ?"
   ]
  },
  {
   "cell_type": "markdown",
   "metadata": {},
   "source": [
    "To check if the features in your dataset are correlated or related, you can calculate the correlation coefficient between the features. The most commonly used method to measure correlation between numerical features is the Pearson correlation coefficient, which ranges from -1 to 1:"
   ]
  },
  {
   "cell_type": "markdown",
   "metadata": {},
   "source": [
    "- +1: Perfect positive correlation (as one feature increases, the other increases proportionally).\n",
    "- 0: No correlation (the features are independent).\n",
    "- -1: Perfect negative correlation (as one feature increases, the other decreases)."
   ]
  },
  {
   "cell_type": "markdown",
   "metadata": {},
   "source": [
    "### Example: House price prediction model  "
   ]
  },
  {
   "cell_type": "markdown",
   "metadata": {},
   "source": [
    "In the context of the house price prediction model, we can check for correlation between features like size of the house, number of bedrooms, and age of the house."
   ]
  },
  {
   "cell_type": "markdown",
   "metadata": {},
   "source": [
    "Steps to Check Correlation:\n",
    "- Collect your data (e.g., house features like size, number of bedrooms, and age).\n",
    "- Calculate the Pearson correlation coefficient for each pair of features.\n",
    "- Visualize the correlation matrix to understand the relationships between the features."
   ]
  },
  {
   "cell_type": "code",
   "execution_count": 5,
   "metadata": {},
   "outputs": [
    {
     "name": "stdout",
     "output_type": "stream",
     "text": [
      "              House_Size  Num_Bedrooms  Age_of_House  House_Price\n",
      "House_Size      1.000000      0.960432      0.119865     0.997429\n",
      "Num_Bedrooms    0.960432      1.000000     -0.136426     0.977157\n",
      "Age_of_House    0.119865     -0.136426      1.000000     0.059244\n",
      "House_Price     0.997429      0.977157      0.059244     1.000000\n"
     ]
    },
    {
     "data": {
      "image/png": "[encoded data removed]",
      "text/plain": [
       "<Figure size 800x600 with 2 Axes>"
      ]
     },
     "metadata": {},
     "output_type": "display_data"
    }
   ],
   "source": [
    "import numpy as np\n",
    "import pandas as pd\n",
    "import seaborn as sns\n",
    "import matplotlib.pyplot as plt\n",
    "\n",
    "# Sample data for house price prediction model\n",
    "data = {\n",
    "    'House_Size': [1500, 1800, 2400, 3000, 3500],\n",
    "    'Num_Bedrooms': [3, 4, 4, 5, 6],\n",
    "    'Age_of_House': [10, 5, 20, 15, 7],\n",
    "    'House_Price': [250000, 320000, 400000, 500000, 600000]\n",
    "}\n",
    "\n",
    "# Convert the data into a DataFrame\n",
    "df = pd.DataFrame(data)\n",
    "\n",
    "# Calculate the correlation matrix\n",
    "correlation_matrix = df.corr()\n",
    "\n",
    "# Display the correlation matrix\n",
    "print(correlation_matrix)\n",
    "\n",
    "# Plot the correlation matrix\n",
    "plt.figure(figsize=(8, 6))\n",
    "sns.heatmap(correlation_matrix, annot=True, cmap='coolwarm', vmin=-1, vmax=1)\n",
    "plt.title('Correlation Matrix for House Price Prediction Features')\n",
    "plt.show()\n"
   ]
  },
  {
   "cell_type": "markdown",
   "metadata": {},
   "source": [
    "- Highly Correlated Features: \n",
    "    - House_Size and Num_Bedrooms are highly correlated with each other (0.96). When features are highly correlated, it may cause multicollinearity, making it difficult for the model to assign importance to each feature. In such cases, Ridge Regression or ElasticNet can help regularize the model and mitigate multicollinearity.\n",
    "- House_Price is Strongly Influenced by House_Size and Num_Bedrooms: Both the house size and number of bedrooms are strongly correlated with the house price. These are good features for a predictive model.\n",
    "- Age_of_House is Not Correlated: \n",
    "    The age of the house does not have a significant relationship with other features or the house price in this dataset.\n",
    "This correlation matrix gives insights into which features are most impactful and which may not contribute much to the model."
   ]
  },
  {
   "cell_type": "markdown",
   "metadata": {},
   "source": [
    "## 4. Comparison: Lasso, Ridge, and ElasticNet"
   ]
  },
  {
   "cell_type": "markdown",
   "metadata": {},
   "source": [
    "\n",
    "- Model : Lasso \n",
    "    - Penalty\n",
    "        - L1 (absolute)\n",
    "    - Key Use\n",
    "        - Feature selection, sparse models\n",
    "\n",
    "- Model : Ridge\t\n",
    "    - Penalty\n",
    "        - L2 (squared)\n",
    "    - Key use\n",
    "        - Handles multicollinearity, prevents overfitting\n",
    "\n",
    "- Model : ElasticNet\n",
    "    - Penalty\n",
    "        - L1 + L2 (combined)\n",
    "    - Key use\n",
    "        - Feature selection + multicollinearity handling\t"
   ]
  },
  {
   "cell_type": "markdown",
   "metadata": {},
   "source": [
    "### Choosing the Right Model:\n",
    "- Lasso is preferred when feature selection is important, and you expect some features to be irrelevant.\n",
    "- Ridge is better when all features are useful, but you want to regularize and reduce overfitting.\n",
    "- ElasticNet is a balance between both approaches and is useful when dealing with high-dimensional data or correlated features."
   ]
  },
  {
   "cell_type": "markdown",
   "metadata": {},
   "source": [
    "## 5. Regularization and Model Performance"
   ]
  },
  {
   "cell_type": "markdown",
   "metadata": {},
   "source": [
    "Regularization techniques like Ridge and Lasso help prevent overfitting by penalizing large coefficients. They are especially useful when the dataset has more features than observations or when multicollinearity is an issue."
   ]
  },
  {
   "cell_type": "markdown",
   "metadata": {},
   "source": [
    "### Detecting Overfitting:"
   ]
  },
  {
   "cell_type": "markdown",
   "metadata": {},
   "source": [
    "- Overfitting occurs when a model performs well on training data but poorly on unseen test data.\n",
    "- Train MSE < Test MSE: A significant gap between training and test MSE is a sign of overfitting."
   ]
  },
  {
   "cell_type": "markdown",
   "metadata": {},
   "source": [
    "### Regularization to Prevent Overfitting:"
   ]
  },
  {
   "cell_type": "markdown",
   "metadata": {},
   "source": [
    "- Ridge and ElasticNet introduce penalties that reduce the flexibility of the model, improving its generalization ability."
   ]
  },
  {
   "cell_type": "markdown",
   "metadata": {},
   "source": [
    "## Conclusion"
   ]
  },
  {
   "cell_type": "markdown",
   "metadata": {},
   "source": [
    "To conclude Day 10 on Lasso Regression and ElasticNet, we explored the following key concepts:\n",
    "\n",
    "### Day 10: Lasso Regression and ElasticNet\n",
    "- Lasso Regression (L1 Regularization):\n",
    "    - Lasso applies an L1 penalty, which encourages sparsity in the model by reducing some coefficients to zero.\n",
    "    - This makes Lasso useful for feature selection, as it retains only the most relevant features.\n",
    "    - Example: If we have many features and want to select the most important ones, Lasso can automatically exclude irrelevant features by shrinking their coefficients to zero.\n",
    "- ElasticNet:\n",
    "    - ElasticNet combines both L1 (Lasso) and L2 (Ridge) penalties, balancing between feature selection and handling multicollinearity.\n",
    "    - It is especially useful when there are correlated features, and neither Lasso nor Ridge alone is sufficient.\n",
    "    - Example: When dealing with a dataset where features are highly correlated, ElasticNet helps to select important features while preventing overfitting.\n",
    "\n",
    "- Model Evaluation:\n",
    "    - We evaluated Lasso and ElasticNet models using Mean Squared Error (MSE) and observed how they performed on datasets, especially with correlated features."
   ]
  },
  {
   "cell_type": "markdown",
   "metadata": {},
   "source": [
    "    - Key Takeaways:\n",
    "        - Lasso is ideal for models where you want feature selection and sparse solutions, as it shrinks coefficients of less important features to zero.\n",
    "        - ElasticNet is preferred when you have correlated features and need both feature selection and regularization.\n",
    "        - Model Performance: Regularization helps improve model performance by preventing overfitting and improving generalization to unseen data."
   ]
  },
  {
   "cell_type": "markdown",
   "metadata": {},
   "source": [
    "## What's Next:"
   ]
  },
  {
   "cell_type": "markdown",
   "metadata": {},
   "source": [
    "Tomorrow, on Day 11, we will delve into advanced model tuning techniques. Specifically, we will focus on:\n",
    "\n",
    "-   Regularization Techniques: \n",
    "    - Expanding our understanding of regularization methods beyond Lasso, Ridge, and ElasticNet, and how to fine-tune the regularization strength for better model performance.\n",
    "- Model Tuning and Hyperparameter Optimization: \n",
    "    - We will explore grid search and random search for selecting optimal hyperparameters, including the regularization strength (alpha) for Ridge, Lasso, and ElasticNet models.\n",
    "- Cross-Validation: \n",
    "    - Learning how to use cross-validation to evaluate model performance and prevent overfitting during the training process."
   ]
  },
  {
   "cell_type": "markdown",
   "metadata": {},
   "source": [
    "This will help us in improving model generalization and performance while ensuring robust predictions on unseen data. Looking forward to diving deeper into these critical topics!"
   ]
  }
 ],
 "metadata": {
  "kernelspec": {
   "display_name": "Python 3",
   "language": "python",
   "name": "python3"
  },
  "language_info": {
   "codemirror_mode": {
    "name": "ipython",
    "version": 3
   },
   "file_extension": ".py",
   "mimetype": "text/x-python",
   "name": "python",
   "nbconvert_exporter": "python",
   "pygments_lexer": "ipython3",
   "version": "3.11.0"
  }
 },
 "nbformat": 4,
 "nbformat_minor": 2
}
