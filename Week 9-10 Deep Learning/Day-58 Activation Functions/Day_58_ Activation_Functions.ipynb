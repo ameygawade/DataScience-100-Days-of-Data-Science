{
 "cells": [
  {
   "cell_type": "markdown",
   "id": "5b5727fb",
   "metadata": {},
   "source": [
    "# Day-58: Activation Functions"
   ]
  },
  {
   "cell_type": "markdown",
   "id": "a69354d8",
   "metadata": {},
   "source": [
    "In the last session, we talked about Introduction to Neural Networks — we covered how biological neurons inspire artificial neurons, what perceptrons are, and how they come together in feedforward neural networks."
   ]
  },
  {
   "cell_type": "markdown",
   "id": "74832307",
   "metadata": {},
   "source": [
    "Today, we’re diving into one of the most important topics that gives life to neural networks — Activation Functions!\n",
    "Without activation functions, your network is just a linear equation machine — no matter how many layers you add, it’ll still act like a single linear model.\n",
    "So let’s break down why we need them, how they work, and when to use which one."
   ]
  },
  {
   "cell_type": "markdown",
   "id": "2f283945",
   "metadata": {},
   "source": [
    "## Topics Covered:\n",
    "- The Need for Non-Linearity\n",
    "- Activation Functions\n",
    "- Types of Activation Functions\n",
    "    - ReLU\n",
    "    - Sigmoid\n",
    "    - Tanh\n",
    "    - Softmax\n",
    "- Why and when to Use Each Activation Functions"
   ]
  },
  {
   "cell_type": "markdown",
   "id": "2490dd28",
   "metadata": {},
   "source": [
    "## The Need for Non-Linearity"
   ]
  },
  {
   "cell_type": "markdown",
   "id": "0a383036",
   "metadata": {},
   "source": [
    "Picture this: If $ y=(x_1.w_1)+(x_2.w_2) $ is your neuron's output, stacking another layer just gives you another linear equation. The network remains linear!\n",
    "\n",
    "Thus,the Activation Function, $A(z)$, transforms the linear output z into a non-linear one, allowing the network to map complex inputs to complex outputs"
   ]
  },
  {
   "cell_type": "markdown",
   "id": "b67a559f",
   "metadata": {},
   "source": [
    "- `Analogy`:\n",
    "    - Imagine you’re trying to teach a robot to recognize a circle using only rulers — no curves allowed! That’s what a linear network does.\n",
    "    - To make it “see” curves and complex shapes, we introduce non-linearity through activation functions. They allow each neuron to bend, squash, or amplify the signal — letting the network learn non-linear decision boundaries.\n",
    "\n",
    "In short:\n",
    "\n",
    "Without non-linearity → your model is a fancy linear regression.\n",
    "\n",
    "With non-linearity → your model becomes a universal function approximator!"
   ]
  },
  {
   "cell_type": "markdown",
   "id": "02bbc403",
   "metadata": {},
   "source": [
    "## Types of Activation Functions"
   ]
  },
  {
   "cell_type": "markdown",
   "id": "ee12df3e",
   "metadata": {},
   "source": [
    "### ReLU (Rectified Linear Unit)"
   ]
  },
  {
   "cell_type": "markdown",
   "id": "a95294b3",
   "metadata": {},
   "source": [
    "$$ ReLU(z) = max(0,x) $$"
   ]
  },
  {
   "cell_type": "markdown",
   "id": "48104472",
   "metadata": {},
   "source": [
    "- `Analogy`: A simple light switch:\n",
    "\n",
    "    - If the input (z) is negative, the light is off (output is 0).\n",
    "\n",
    "    - If the input (z) is positive, the light is on (output is z)."
   ]
  },
  {
   "cell_type": "markdown",
   "id": "781fc5a6",
   "metadata": {},
   "source": [
    "| Input (x) | Calculation       | Output (ReLU(x)) |\n",
    "| :-------- | :---------------- | :--------------: |\n",
    "| -5        | max(0, -5) → 0    |         0        |\n",
    "| -2        | max(0, -2) → 0    |         0        |\n",
    "| -0.5      | max(0, -0.5) → 0  |         0        |\n",
    "| 0         | max(0, 0) → 0     |         0        |\n",
    "| 0.5       | max(0, 0.5) → 0.5 |        0.5       |\n",
    "| 1         | max(0, 1) → 1     |         1        |\n",
    "| 3         | max(0, 3) → 3     |         3        |\n",
    "| 5         | max(0, 5) → 5     |         5        |\n"
   ]
  },
  {
   "cell_type": "markdown",
   "id": "9fcf0fee",
   "metadata": {},
   "source": [
    "#### Advantage:\n",
    "- **Solves Vanishing Gradient**: For positive values, the derivative is always 1 (a constant slope), which keeps the gradients healthy and allows deep networks to train fast.\n",
    "- **Computational Efficiency**: It involves only a simple max operation—super fast to compute!"
   ]
  },
  {
   "cell_type": "markdown",
   "id": "e7ef0b41",
   "metadata": {},
   "source": [
    "#### Limitation"
   ]
  },
  {
   "cell_type": "markdown",
   "id": "f8e8ff50",
   "metadata": {},
   "source": [
    "**The Small Catch (Dying ReLU)**: If a neuron's input consistently stays negative, the ReLU output will always be zero, and its gradient will also be zero. The neuron effectively \"dies\" and stops learning. Variants like Leaky ReLU help fix this."
   ]
  },
  {
   "cell_type": "markdown",
   "id": "ace1883e",
   "metadata": {},
   "source": [
    "### Sigmoid Function"
   ]
  },
  {
   "cell_type": "markdown",
   "id": "ffa0a41f",
   "metadata": {},
   "source": [
    "$$ \\sigma(z) =\\frac{1}{1+e^{-z}} $$"
   ]
  },
  {
   "cell_type": "markdown",
   "id": "36a0687d",
   "metadata": {},
   "source": [
    "- `Analogy`: Like a dimmer switch — smoothly controls the brightness."
   ]
  },
  {
   "cell_type": "markdown",
   "id": "82fe99fd",
   "metadata": {},
   "source": [
    "| Input (x) | Calculation                    | Output (Sigmoid(x)) |\n",
    "| :-------- | :----------------------------- | :-----------------: |\n",
    "| -5        | $\\frac{1}{1 + e^{(-(-5))}}$ → 0.006693   |       0.006693      |\n",
    "| -2        | 1/(1 + e^(-(-2))) → 0.119203   |       0.119203      |\n",
    "| -0.5      | 1/(1 + e^(-(-0.5))) → 0.377541 |       0.377541      |\n",
    "| 0         | 1/(1 + e^(-(0))) → 0.500000    |       0.500000      |\n",
    "| 0.5       | 1/(1 + e^(-(0.5))) → 0.622459  |       0.622459      |\n",
    "| 1         | 1/(1 + e^(-(1))) → 0.731059    |       0.731059      |\n",
    "| 3         | 1/(1 + e^(-(3))) → 0.952574    |       0.952574      |\n",
    "| 5         | 1/(1 + e^(-(5))) → 0.993307    |       0.993307      |\n"
   ]
  },
  {
   "cell_type": "markdown",
   "id": "1002909c",
   "metadata": {},
   "source": [
    "#### Limitation: \n",
    "Gradients become tiny for extreme values → slow learning (vanishing gradients).\n"
   ]
  },
  {
   "cell_type": "markdown",
   "id": "ff56add1",
   "metadata": {},
   "source": [
    "### Tanh Function"
   ]
  },
  {
   "cell_type": "markdown",
   "id": "aa7dc4cf",
   "metadata": {},
   "source": [
    "$$ tanh(x)= \\frac{e^x + e^{−x}}{e^x−e^{−x}} $$"
   ]
  },
  {
   "cell_type": "markdown",
   "id": "5369af1e",
   "metadata": {},
   "source": [
    "| Input (x) | Calculation                                             | Output (tanh(x)) |\n",
    "| :-------- | :------------------------------------------------------ | :--------------: |\n",
    "| -5        | (e^(-5) - e^(5)) / (e^(-5) + e^(5)) → -0.999909         |     -0.999909    |\n",
    "| -2        | (e^(-2) - e^(2)) / (e^(-2) + e^(2)) → -0.964028         |     -0.964028    |\n",
    "| -0.5      | (e^(-0.5) - e^(0.5)) / (e^(-0.5) + e^(0.5)) → -0.462117 |     -0.462117    |\n",
    "| 0         | (e^(0) - e^(0)) / (e^(0) + e^(0)) → 0.000000            |     0.000000     |\n",
    "| 0.5       | (e^(0.5) - e^(-0.5)) / (e^(0.5) + e^(-0.5)) → 0.462117  |     0.462117     |\n",
    "| 1         | (e^(1) - e^(-1)) / (e^(1) + e^(-1)) → 0.761594          |     0.761594     |\n",
    "| 3         | (e^(3) - e^(-3)) / (e^(3) + e^(-3)) → 0.995055          |     0.995055     |\n",
    "| 5         | (e^(5) - e^(-5)) / (e^(5) + e^(-5)) → 0.999909          |     0.999909     |\n"
   ]
  },
  {
   "cell_type": "markdown",
   "id": "be758404",
   "metadata": {},
   "source": [
    "- `Analogy`: A thermostat that can swing both positive and negative."
   ]
  },
  {
   "cell_type": "markdown",
   "id": "a9e28def",
   "metadata": {},
   "source": [
    "#### Limitation:"
   ]
  },
  {
   "cell_type": "markdown",
   "id": "5b685d9a",
   "metadata": {},
   "source": [
    "Still saturates for large |x| values → vanishing gradient persists."
   ]
  },
  {
   "cell_type": "markdown",
   "id": "729f41e2",
   "metadata": {},
   "source": [
    "### Softmax"
   ]
  },
  {
   "cell_type": "markdown",
   "id": "2466df93",
   "metadata": {},
   "source": [
    "$$ \\text{Softmax}(z_i) = \\frac{e^{z_i}}{\\sum_{j} e^{z_j}} $$"
   ]
  },
  {
   "cell_type": "markdown",
   "id": "9eb3d8e7",
   "metadata": {},
   "source": [
    "- `Analogy`: Converts exam marks into normalized probabilities that sum to 100%."
   ]
  },
  {
   "cell_type": "markdown",
   "id": "71a5611f",
   "metadata": {},
   "source": [
    "| Input (xᵢ) | Calculation                             | Output (Softmax(xᵢ)) |\n",
    "| :--------- | :-------------------------------------- | :------------------: |\n",
    "| -2         | e^(-2)/Σ(e^x) = 0.1353 / 21.19 → 0.0064 |        0.0064        |\n",
    "| 0          | e^(0)/Σ(e^x) = 1.0000 / 21.19 → 0.0472  |        0.0472        |\n",
    "| 1          | e^(1)/Σ(e^x) = 2.7183 / 21.19 → 0.1282  |        0.1282        |\n",
    "| 3          | e^(3)/Σ(e^x) = 20.0855 / 21.19 → 0.8182 |        0.8182        |\n"
   ]
  },
  {
   "cell_type": "markdown",
   "id": "54e02ae4",
   "metadata": {},
   "source": [
    "Σ(Softmax outputs) ≈ 1.000"
   ]
  },
  {
   "cell_type": "code",
   "execution_count": 1,
   "id": "f4cb307e",
   "metadata": {},
   "outputs": [
    {
     "data": {
      "image/png": "[encoded data removed]",
      "text/plain": [
       "<Figure size 1000x600 with 1 Axes>"
      ]
     },
     "metadata": {},
     "output_type": "display_data"
    }
   ],
   "source": [
    "import numpy as np\n",
    "import matplotlib.pyplot as plt\n",
    "\n",
    "x = np.linspace(-10, 10, 100)\n",
    "\n",
    "sigmoid = 1 / (1 + np.exp(-x))\n",
    "tanh = np.tanh(x)\n",
    "relu = np.maximum(0, x)\n",
    "softmax = np.exp(x) / np.sum(np.exp(x))\n",
    "\n",
    "plt.figure(figsize=(10,6))\n",
    "plt.plot(x, sigmoid, label='Sigmoid')\n",
    "plt.plot(x, tanh, label='Tanh')\n",
    "plt.plot(x, relu, label='ReLU')\n",
    "plt.plot(x, softmax, label='Softmax')\n",
    "plt.title('Activation Functions')\n",
    "plt.legend()\n",
    "plt.grid(True)\n",
    "plt.show()\n"
   ]
  },
  {
   "cell_type": "markdown",
   "id": "2d7a71bd",
   "metadata": {},
   "source": [
    "| Activation Function             | Why We Use It                                                                               | When to Use It                                                                                    | Key Pros                                                             | Common Cons                                                             |   |                         |\n",
    "| :------------------------------ | :------------------------------------------------------------------------------------------ | :------------------------------------------------------------------------------------------------ | :------------------------------------------------------------------- | :---------------------------------------------------------------------- | - | ----------------------- |\n",
    "| **Sigmoid**                     | Smoothly maps values between 0 and 1, mimicking probability; useful for binary output.      | ✅ Output layer of **binary classification** models.<br>✅ Logistic regression, simple neural nets. | • Interpretable probabilistic output<br>• Differentiable everywhere  | • **Vanishing gradients** for large                                     | x | <br>• Not zero-centered |\n",
    "| **Tanh**                        | Scales inputs between −1 and 1 and centers data; better convergence than sigmoid.           | ✅ Hidden layers in **small networks** where negative activations help learning.                   | • Zero-centered output<br>• Strong gradient near 0                   | • Still suffers from vanishing gradients<br>• Slower training than ReLU |   |                         |\n",
    "| **ReLU**                        | Adds non-linearity and sparsity; keeps positive values, zeroes negatives — fast and simple. | ✅ **Default choice for hidden layers** in most deep networks (CNNs, MLPs).                        | • Efficient, fast convergence<br>• Reduces vanishing gradient issues | • “**Dead ReLU**” for negative inputs<br>• Not zero-centered            |   |                         |\n",
    "| **Leaky ReLU / ELU (Variants)** | Allow small slope for negative x to fix dead neurons.                                       | ✅ When ReLU neurons die or data has many negatives.                                               | • Keeps gradient alive for x < 0                                     | • Slightly slower computation                                           |   |                         |\n",
    "| **Softmax**                     | Converts raw scores (logits) into **probabilities that sum to 1**.                          | ✅ **Output layer for multi-class classification** problems.                                       | • Probabilistic interpretation<br>• Highlights strongest class       | • Not used in hidden layers<br>• Sensitive to large logits              |   |                         |\n"
   ]
  },
  {
   "cell_type": "code",
   "execution_count": 2,
   "id": "db122e09",
   "metadata": {},
   "outputs": [
    {
     "name": "stdout",
     "output_type": "stream",
     "text": [
      "--- 1. Activation Function Output Demonstration ---\n",
      "\n",
      "--- Outputs for Hidden/Binary Layers ---\n",
      "| Input (z)   |   -3.0 |   -1.0 |   0.0 |   1.0 |   3.0 |\n",
      "|-------------|--------|--------|-------|-------|-------|\n",
      "| Sigmoid(z)  |  0.047 |  0.269 |   0.5 | 0.731 | 0.953 |\n",
      "| Tanh(z)     | -0.995 | -0.762 |   0   | 0.762 | 0.995 |\n",
      "| ReLU(z)     |  0     |  0     |   0   | 1     | 3     |\n",
      "\n",
      "--- 2. Softmax for Multi-Class Output ---\n",
      "Raw Scores (Logits): [1.5 0.5 0.1]\n",
      "Softmax Probabilities: [0.619 0.228 0.153]\n",
      "Sum of Probabilities: 1.000\n"
     ]
    }
   ],
   "source": [
    "import numpy as np\n",
    "from tabulate import tabulate\n",
    "\n",
    "# --- Core Activation Function Definitions ---\n",
    "\n",
    "def sigmoid(z):\n",
    "    \"\"\"Sigmoid: Used for binary classification (0 to 1).\"\"\"\n",
    "    return 1 / (1 + np.exp(-z))\n",
    "\n",
    "def tanh(z):\n",
    "    \"\"\"Tanh: Used in hidden layers historically (-1 to 1).\"\"\"\n",
    "    return np.tanh(z)\n",
    "\n",
    "def relu(z):\n",
    "    \"\"\"ReLU: Standard for hidden layers (0 or z).\"\"\"\n",
    "    return np.maximum(0, z)\n",
    "\n",
    "def softmax(z):\n",
    "    \"\"\"Softmax: Used for multi-class classification (probabilities sum to 1).\"\"\"\n",
    "    # Exponentiate the inputs\n",
    "    exp_z = np.exp(z - np.max(z, axis=-1, keepdims=True)) \n",
    "    # Subtracting max(z) is done for numerical stability against large inputs\n",
    "    \n",
    "    # Calculate probability distribution\n",
    "    return exp_z / np.sum(exp_z, axis=-1, keepdims=True)\n",
    "\n",
    "\n",
    "# --- Demonstration ---\n",
    "# Sample linear inputs (z) from a neuron\n",
    "Z_single = np.array([-3.0, -1.0, 0.0, 1.0, 3.0])\n",
    "\n",
    "# Sample outputs from the final layer of a 3-class model\n",
    "Z_multi_class = np.array([1.5, 0.5, 0.1]) # Represents scores for [Negative, Neutral, Positive]\n",
    "\n",
    "print(\"--- 1. Activation Function Output Demonstration ---\")\n",
    "\n",
    "results = [\n",
    "    [\"Input (z)\"] + Z_single.tolist(),\n",
    "    [\"Sigmoid(z)\"] + np.round(sigmoid(Z_single), 3).tolist(),\n",
    "    [\"Tanh(z)\"] + np.round(tanh(Z_single), 3).tolist(),\n",
    "    [\"ReLU(z)\"] + np.round(relu(Z_single), 3).tolist(),\n",
    "]\n",
    "\n",
    "print(\"\\n--- Outputs for Hidden/Binary Layers ---\")\n",
    "print(tabulate(results, headers=\"firstrow\", tablefmt=\"github\"))\n",
    "\n",
    "\n",
    "print(\"\\n--- 2. Softmax for Multi-Class Output ---\")\n",
    "softmax_output = softmax(Z_multi_class)\n",
    "\n",
    "print(f\"Raw Scores (Logits): {np.round(Z_multi_class, 2)}\")\n",
    "print(f\"Softmax Probabilities: {np.round(softmax_output, 3)}\")\n",
    "print(f\"Sum of Probabilities: {np.sum(softmax_output):.3f}\")\n",
    "\n",
    "# Interpreting Softmax:\n",
    "# If this was our YouTube Sentiment classifier, the model predicts:\n",
    "# Class 1 (Negative): {softmax_output[0]*100:.1f}% probability\n",
    "# Class 2 (Neutral): {softmax_output[1]*100:.1f}% probability\n",
    "# Class 3 (Positive): {softmax_output[2]*100:.1f}% probability\n"
   ]
  },
  {
   "cell_type": "code",
   "execution_count": null,
   "id": "67f8389f",
   "metadata": {},
   "outputs": [],
   "source": []
  }
 ],
 "metadata": {
  "kernelspec": {
   "display_name": ".venv (3.11.0)",
   "language": "python",
   "name": "python3"
  },
  "language_info": {
   "codemirror_mode": {
    "name": "ipython",
    "version": 3
   },
   "file_extension": ".py",
   "mimetype": "text/x-python",
   "name": "python",
   "nbconvert_exporter": "python",
   "pygments_lexer": "ipython3",
   "version": "3.11.0"
  }
 },
 "nbformat": 4,
 "nbformat_minor": 5
}
