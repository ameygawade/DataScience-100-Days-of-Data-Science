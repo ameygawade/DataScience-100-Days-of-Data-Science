{
 "cells": [
  {
   "cell_type": "markdown",
   "id": "e8e0b47b",
   "metadata": {},
   "source": [
    "# Day-49: Time Series Forecasting Projet"
   ]
  },
  {
   "cell_type": "markdown",
   "id": "12413584",
   "metadata": {},
   "source": [
    "## Step-1 ENV setup"
   ]
  },
  {
   "cell_type": "code",
   "execution_count": null,
   "id": "ec913e3e",
   "metadata": {},
   "outputs": [],
   "source": [
    "import pandas as pd\n",
    "import numpy as np"
   ]
  },
  {
   "cell_type": "markdown",
   "id": "51eed525",
   "metadata": {},
   "source": [
    "## Step-2 Dataset Loading"
   ]
  },
  {
   "cell_type": "code",
   "execution_count": null,
   "id": "2380efe3",
   "metadata": {},
   "outputs": [],
   "source": [
    "df = pd.read_csv('BKB_WaterQualityData_2020084.csv')\n",
    "df.head()"
   ]
  },
  {
   "cell_type": "code",
   "execution_count": null,
   "id": "9b9e3c7c",
   "metadata": {},
   "outputs": [],
   "source": [
    "df.shape"
   ]
  },
  {
   "cell_type": "markdown",
   "id": "397c657d",
   "metadata": {},
   "source": [
    "## Step-3 EDA and Data Cleaning"
   ]
  },
  {
   "cell_type": "code",
   "execution_count": null,
   "id": "d80a9c74",
   "metadata": {},
   "outputs": [],
   "source": [
    "df.info()"
   ]
  },
  {
   "cell_type": "markdown",
   "id": "566e519e",
   "metadata": {},
   "source": [
    "### Site Id"
   ]
  },
  {
   "cell_type": "code",
   "execution_count": null,
   "id": "36c43645",
   "metadata": {},
   "outputs": [],
   "source": [
    "df[df['Site_Id'].isnull()]"
   ]
  },
  {
   "cell_type": "code",
   "execution_count": null,
   "id": "da5e510b",
   "metadata": {},
   "outputs": [],
   "source": [
    "df['Site_Id'].value_counts()"
   ]
  },
  {
   "cell_type": "code",
   "execution_count": null,
   "id": "5d0bb452",
   "metadata": {},
   "outputs": [],
   "source": [
    "df[df['Site_Id'] == 'd']"
   ]
  },
  {
   "cell_type": "markdown",
   "id": "5fefeb4e",
   "metadata": {},
   "source": [
    "#### Correcting Case error from Site_Id"
   ]
  },
  {
   "cell_type": "code",
   "execution_count": null,
   "id": "631833e8",
   "metadata": {},
   "outputs": [],
   "source": [
    "df['Site_Id'] = df['Site_Id'].str.upper()"
   ]
  },
  {
   "cell_type": "code",
   "execution_count": null,
   "id": "59e59f08",
   "metadata": {},
   "outputs": [],
   "source": [
    "df['Site_Id'].value_counts()"
   ]
  },
  {
   "cell_type": "code",
   "execution_count": null,
   "id": "1e15035a",
   "metadata": {},
   "outputs": [],
   "source": [
    "df[df['Site_Id'].isnull()]"
   ]
  },
  {
   "cell_type": "markdown",
   "id": "427e442a",
   "metadata": {},
   "source": [
    "### Droping invalid Site_Id entries"
   ]
  },
  {
   "cell_type": "code",
   "execution_count": null,
   "id": "467c8afb",
   "metadata": {},
   "outputs": [],
   "source": [
    "df.dropna(subset=['Site_Id'], inplace=True)"
   ]
  },
  {
   "cell_type": "code",
   "execution_count": null,
   "id": "4453a5ce",
   "metadata": {},
   "outputs": [],
   "source": [
    "df.isnull().sum()"
   ]
  },
  {
   "cell_type": "markdown",
   "id": "7354ca1e",
   "metadata": {},
   "source": [
    "### Unit Id"
   ]
  },
  {
   "cell_type": "code",
   "execution_count": null,
   "id": "3123386d",
   "metadata": {},
   "outputs": [],
   "source": [
    "df['Unit_Id'].value_counts()"
   ]
  },
  {
   "cell_type": "markdown",
   "id": "46c1b95d",
   "metadata": {},
   "source": [
    "unit_id consist of only 1 type of data points with typo error and also not for all data points which we can drop it."
   ]
  },
  {
   "cell_type": "code",
   "execution_count": null,
   "id": "dea65e8a",
   "metadata": {},
   "outputs": [],
   "source": [
    "df[df['Read_Date'].isnull()]"
   ]
  },
  {
   "cell_type": "markdown",
   "id": "0a4dd32e",
   "metadata": {},
   "source": [
    "#### WhoVerified"
   ]
  },
  {
   "cell_type": "code",
   "execution_count": null,
   "id": "672a50fa",
   "metadata": {},
   "outputs": [],
   "source": [
    "df['WhoVerified'].value_counts()"
   ]
  },
  {
   "cell_type": "markdown",
   "id": "40e6c69f",
   "metadata": {},
   "source": [
    "we can drop WhoVerified column as its are not useful for our analysis"
   ]
  },
  {
   "cell_type": "markdown",
   "id": "5b4d5d10",
   "metadata": {},
   "source": [
    "### Field_Tech"
   ]
  },
  {
   "cell_type": "code",
   "execution_count": null,
   "id": "0cb5f675",
   "metadata": {},
   "outputs": [],
   "source": [
    "df['Field_Tech'].value_counts()"
   ]
  },
  {
   "cell_type": "markdown",
   "id": "add3bf5e",
   "metadata": {},
   "source": [
    "we can drop Field_Tech column as its are not useful for our analysis"
   ]
  },
  {
   "cell_type": "markdown",
   "id": "dedfe947",
   "metadata": {},
   "source": [
    "### Salinity (ppt)"
   ]
  },
  {
   "cell_type": "code",
   "execution_count": null,
   "id": "7301a7b2",
   "metadata": {},
   "outputs": [],
   "source": [
    "df[df['Salinity (ppt)'].isna()].shape"
   ]
  },
  {
   "cell_type": "code",
   "execution_count": null,
   "id": "d5c3ee4d",
   "metadata": {},
   "outputs": [],
   "source": [
    "salinity = pd.to_numeric(df['Salinity (ppt)'], errors='coerce')\n",
    "salinity.describe()"
   ]
  },
  {
   "cell_type": "code",
   "execution_count": null,
   "id": "2240af25",
   "metadata": {},
   "outputs": [],
   "source": [
    "salinity.hist(bins=50)"
   ]
  },
  {
   "cell_type": "code",
   "execution_count": null,
   "id": "0d8d13c3",
   "metadata": {},
   "outputs": [],
   "source": [
    "s = pd.to_numeric(df['Salinity (ppt)'], errors='coerce')\n",
    "miss_rate = s.isna().mean()\n",
    "by_site = df.groupby('Site_Id')['Salinity (ppt)'].apply(lambda x: x.isna().mean()).sort_values(ascending=False)\n",
    "print(\"Overall missing rate:\", round(100*miss_rate,2), \"%\")\n",
    "print(by_site.head(10))"
   ]
  },
  {
   "cell_type": "code",
   "execution_count": null,
   "id": "c7d2207b",
   "metadata": {},
   "outputs": [],
   "source": [
    "salinity.isna().sum()"
   ]
  },
  {
   "cell_type": "markdown",
   "id": "91f65bed",
   "metadata": {},
   "source": [
    "#### Air Temprature"
   ]
  },
  {
   "cell_type": "code",
   "execution_count": null,
   "id": "4305a26f",
   "metadata": {},
   "outputs": [],
   "source": [
    "import pandas as pd\n",
    "import matplotlib.pyplot as plt\n",
    "\n",
    "tmp = df.copy()\n",
    "tmp['Read_Date'] = pd.to_datetime(tmp['Read_Date'], errors='coerce')\n",
    "tmp = tmp.sort_values('Read_Date')\n",
    "\n",
    "s = pd.to_numeric(tmp['AirTemp (C)'], errors='coerce')\n",
    "\n",
    "plt.figure()\n",
    "plt.plot(tmp['Read_Date'], s, marker='o', linestyle='-')\n",
    "plt.title('AirTemp (C) over time')\n",
    "plt.xlabel('Read_Date')\n",
    "plt.ylabel('AirTemp (C)')\n",
    "plt.tight_layout()\n",
    "plt.show()\n",
    "plt.close()"
   ]
  },
  {
   "cell_type": "code",
   "execution_count": null,
   "id": "f9648369",
   "metadata": {},
   "outputs": [],
   "source": [
    "import numpy as np\n",
    "import pandas as pd\n",
    "\n",
    "# Parse both columns as numbers\n",
    "air_temp_cel = pd.to_numeric(df['Air Temp-Celsius'], errors='coerce')   # supposed Celsius, but may contain °F\n",
    "air_temp_c = pd.to_numeric(df['AirTemp (C)'], errors='coerce')        # Celsius\n",
    "air_temp_f = pd.to_numeric(df['Air Temp (?F)'], errors='coerce')        # Fahrenheit\n",
    "\n",
    "# Helper: treat rows where both are present\n",
    "both = air_temp_cel.notna() & air_temp_c.notna()\n",
    "\n",
    "# 1) Rows where the two columns disagree (as-entered)\n",
    "mismatch = both & ~np.isclose(air_temp_cel, air_temp_c, atol=0.5)\n",
    "\n",
    "mismatch_count = mismatch.sum()\n",
    "print(f\"Number of rows where both columns are present but disagree: {mismatch_count}\")\n",
    "\n",
    "df[mismatch][['Air Temp-Celsius','Air Temp (?F)', 'AirTemp (C)']].head()\n"
   ]
  },
  {
   "cell_type": "code",
   "execution_count": null,
   "id": "1ba1ecbd",
   "metadata": {},
   "outputs": [],
   "source": [
    "df[mismatch][['Air Temp-Celsius','Air Temp (?F)','Water Temp (?C)', 'AirTemp (C)']]"
   ]
  },
  {
   "cell_type": "code",
   "execution_count": null,
   "id": "66dedb3f",
   "metadata": {},
   "outputs": [],
   "source": [
    "negative_temp = df['AirTemp (C)'] <= 0\n",
    "\n",
    "negative_temp_count = negative_temp.sum()\n",
    "print(f\"Number of rows where 'AirTemp (C)' is less than or equal to 0: {negative_temp_count}\")\n",
    "\n",
    "df[negative_temp][['Air Temp-Celsius','Air Temp (?F)','Water Temp (?C)', 'AirTemp (C)']]"
   ]
  },
  {
   "cell_type": "code",
   "execution_count": null,
   "id": "f7c82a0d",
   "metadata": {},
   "outputs": [],
   "source": [
    "df[negative_temp & both]"
   ]
  },
  {
   "cell_type": "markdown",
   "id": "2b2c370f",
   "metadata": {},
   "source": [
    "#### comparing air_temp in c and air_temp in f"
   ]
  },
  {
   "cell_type": "code",
   "execution_count": null,
   "id": "6fa27a07",
   "metadata": {},
   "outputs": [],
   "source": [
    "convert_f_to_c = (air_temp_f - 32.0) * (5.0/9.0)\n",
    "\n",
    "# Helper: treat rows where both are present\n",
    "both = convert_f_to_c.notna() & air_temp_c.notna()\n",
    "\n",
    "mismatch_convert_temp = both & ~np.isclose(convert_f_to_c, air_temp_c, rtol=0, atol=0.5)\n",
    "\n",
    "mismatch_convert_temp_count = mismatch_convert_temp.sum()\n",
    "match_count = (both & ~mismatch_convert_temp).sum()\n",
    "\n",
    "print(f\"Rows with both F and C present: {both.sum()}\")\n",
    "print(f\"Matches (F→C ≈ AirTemp (C)): {match_count}\")\n",
    "print(f\"Mismatches: {mismatch_convert_temp_count}\")"
   ]
  },
  {
   "cell_type": "code",
   "execution_count": null,
   "id": "fde5b856",
   "metadata": {},
   "outputs": [],
   "source": [
    "# Define buckets (°C) and labels\n",
    "bins    = [-np.inf, -10, 5, 25, 35, np.inf]   # [-inf,-10), [-10,5), [5,25), [25,35), [35,inf)\n",
    "labels  = ['extreme cold', 'cold', 'normal', 'hot', 'extreme hot']\n",
    "\n",
    "# Categorize (right=False means left-inclusive, right-exclusive)\n",
    "cats = pd.cut(air_temp_c, bins=bins, labels=labels, right=False)\n",
    "\n",
    "# Overall counts (ordered)\n",
    "counts = cats.value_counts().reindex(labels, fill_value=0)\n",
    "print(counts)"
   ]
  },
  {
   "cell_type": "code",
   "execution_count": null,
   "id": "5caacb96",
   "metadata": {},
   "outputs": [],
   "source": [
    "# just extreme cold\n",
    "extreme_cold_temp = df.loc[cats == 'extreme cold']\n",
    "\n",
    "# extreme cold AND 'Air Temp-Celsius' is not null\n",
    "extreme_cold_temp = df.loc[(cats == 'extreme cold') & (air_temp_cel.notna())]\n",
    "extreme_cold_temp[['Air Temp-Celsius','Air Temp (?F)','Water Temp (?C)', 'AirTemp (C)']]"
   ]
  },
  {
   "cell_type": "code",
   "execution_count": null,
   "id": "3c000a03",
   "metadata": {},
   "outputs": [],
   "source": [
    "# just extreme cold\n",
    "extreme_cold_temp = df.loc[cats == 'extreme cold']\n",
    "\n",
    "# extreme cold AND 'Air Temp-Celsius' is not null\n",
    "extreme_cold_temp_f = df.loc[(cats == 'extreme cold') & (air_temp_f.notna())]\n",
    "extreme_cold_temp_f[['Air Temp-Celsius','Air Temp (?F)','Water Temp (?C)', 'AirTemp (C)']]"
   ]
  },
  {
   "cell_type": "code",
   "execution_count": null,
   "id": "ce8ced30",
   "metadata": {},
   "outputs": [],
   "source": [
    "# just extreme cold\n",
    "extreme_cold_temp = df.loc[cats == 'extreme cold']\n",
    "\n",
    "# extreme cold AND 'Air Temp-Celsius' is not null\n",
    "extreme_cold_temp_na = df.loc[(cats == 'extreme cold') & (air_temp_f.isna())]\n",
    "print(extreme_cold_temp_na.count().sum())\n",
    "avg_extreme_cold_temp_na = pd.to_numeric(extreme_cold_temp_na['AirTemp (C)'], errors='coerce')\n",
    "print(avg_extreme_cold_temp_na.mean())\n",
    "\n",
    "extreme_cold_temp_na[['Air Temp-Celsius','Air Temp (?F)','Water Temp (?C)', 'AirTemp (C)']]"
   ]
  },
  {
   "cell_type": "code",
   "execution_count": null,
   "id": "77657768",
   "metadata": {},
   "outputs": [],
   "source": [
    "df.drop(columns=['Unit_Id','Air Temp-Celsius','Air Temp (?F)','WhoVerified','Field_Tech'], inplace=True)"
   ]
  },
  {
   "cell_type": "markdown",
   "id": "474a780e",
   "metadata": {},
   "source": []
  },
  {
   "cell_type": "code",
   "execution_count": null,
   "id": "f97301cd",
   "metadata": {},
   "outputs": [],
   "source": [
    "df.isnull().sum()"
   ]
  },
  {
   "cell_type": "code",
   "execution_count": null,
   "id": "6ad5bd2b",
   "metadata": {},
   "outputs": [],
   "source": [
    "df[df['Read_Date'].isnull()]"
   ]
  },
  {
   "cell_type": "code",
   "execution_count": null,
   "id": "a1d86c9f",
   "metadata": {},
   "outputs": [],
   "source": [
    "df['Read_Date'].dropna(inplace=True)"
   ]
  },
  {
   "cell_type": "code",
   "execution_count": null,
   "id": "bff51428",
   "metadata": {},
   "outputs": [],
   "source": [
    "df.dropna(subset=['Read_Date'], inplace=True)"
   ]
  },
  {
   "cell_type": "code",
   "execution_count": null,
   "id": "8f6cbe37",
   "metadata": {},
   "outputs": [],
   "source": [
    "df.isnull().sum()"
   ]
  },
  {
   "cell_type": "code",
   "execution_count": null,
   "id": "aadd362f",
   "metadata": {},
   "outputs": [],
   "source": []
  },
  {
   "cell_type": "code",
   "execution_count": null,
   "id": "a9aa8842",
   "metadata": {},
   "outputs": [],
   "source": []
  }
 ],
 "metadata": {
  "kernelspec": {
   "display_name": ".venv (3.11.0)",
   "language": "python",
   "name": "python3"
  },
  "language_info": {
   "codemirror_mode": {
    "name": "ipython",
    "version": 3
   },
   "file_extension": ".py",
   "mimetype": "text/x-python",
   "name": "python",
   "nbconvert_exporter": "python",
   "pygments_lexer": "ipython3",
   "version": "3.11.0"
  }
 },
 "nbformat": 4,
 "nbformat_minor": 5
}
