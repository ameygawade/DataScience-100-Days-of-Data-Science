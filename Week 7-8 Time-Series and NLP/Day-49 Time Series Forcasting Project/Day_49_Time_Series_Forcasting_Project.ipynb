{
 "cells": [
  {
   "cell_type": "markdown",
   "id": "e8e0b47b",
   "metadata": {},
   "source": [
    "# Day-49: Time Series Forecasting Projet"
   ]
  },
  {
   "cell_type": "markdown",
   "id": "12413584",
   "metadata": {},
   "source": [
    "## Step-1 ENV setup"
   ]
  },
  {
   "cell_type": "code",
   "execution_count": 70,
   "id": "ec913e3e",
   "metadata": {},
   "outputs": [],
   "source": [
    "import pandas as pd\n",
    "import numpy as np"
   ]
  },
  {
   "cell_type": "markdown",
   "id": "51eed525",
   "metadata": {},
   "source": [
    "## Step-2 Dataset Loading"
   ]
  },
  {
   "cell_type": "code",
   "execution_count": 71,
   "id": "2380efe3",
   "metadata": {},
   "outputs": [
    {
     "data": {
      "text/html": [
       "<div>\n",
       "<style scoped>\n",
       "    .dataframe tbody tr th:only-of-type {\n",
       "        vertical-align: middle;\n",
       "    }\n",
       "\n",
       "    .dataframe tbody tr th {\n",
       "        vertical-align: top;\n",
       "    }\n",
       "\n",
       "    .dataframe thead th {\n",
       "        text-align: right;\n",
       "    }\n",
       "</style>\n",
       "<table border=\"1\" class=\"dataframe\">\n",
       "  <thead>\n",
       "    <tr style=\"text-align: right;\">\n",
       "      <th></th>\n",
       "      <th>Site_Id</th>\n",
       "      <th>Unit_Id</th>\n",
       "      <th>Read_Date</th>\n",
       "      <th>Salinity (ppt)</th>\n",
       "      <th>Dissolved Oxygen (mg/L)</th>\n",
       "      <th>pH (standard units)</th>\n",
       "      <th>Secchi Depth (m)</th>\n",
       "      <th>Water Depth (m)</th>\n",
       "      <th>Water Temp (?C)</th>\n",
       "      <th>Air Temp-Celsius</th>\n",
       "      <th>Air Temp (?F)</th>\n",
       "      <th>Time (24:00)</th>\n",
       "      <th>Field_Tech</th>\n",
       "      <th>DateVerified</th>\n",
       "      <th>WhoVerified</th>\n",
       "      <th>AirTemp (C)</th>\n",
       "      <th>Year</th>\n",
       "    </tr>\n",
       "  </thead>\n",
       "  <tbody>\n",
       "    <tr>\n",
       "      <th>0</th>\n",
       "      <td>Bay</td>\n",
       "      <td>NaN</td>\n",
       "      <td>1/3/1994</td>\n",
       "      <td>1.3</td>\n",
       "      <td>11.7</td>\n",
       "      <td>7.3</td>\n",
       "      <td>0.40</td>\n",
       "      <td>0.40</td>\n",
       "      <td>5.9</td>\n",
       "      <td>8.0</td>\n",
       "      <td>46.40</td>\n",
       "      <td>11:00</td>\n",
       "      <td>NaN</td>\n",
       "      <td>NaN</td>\n",
       "      <td>NaN</td>\n",
       "      <td>8.0</td>\n",
       "      <td>1994</td>\n",
       "    </tr>\n",
       "    <tr>\n",
       "      <th>1</th>\n",
       "      <td>Bay</td>\n",
       "      <td>NaN</td>\n",
       "      <td>1/31/1994</td>\n",
       "      <td>1.5</td>\n",
       "      <td>12.0</td>\n",
       "      <td>7.4</td>\n",
       "      <td>0.20</td>\n",
       "      <td>0.35</td>\n",
       "      <td>3.0</td>\n",
       "      <td>2.6</td>\n",
       "      <td>36.68</td>\n",
       "      <td>11:30</td>\n",
       "      <td>NaN</td>\n",
       "      <td>NaN</td>\n",
       "      <td>NaN</td>\n",
       "      <td>2.6</td>\n",
       "      <td>1994</td>\n",
       "    </tr>\n",
       "    <tr>\n",
       "      <th>2</th>\n",
       "      <td>Bay</td>\n",
       "      <td>NaN</td>\n",
       "      <td>2/7/1994</td>\n",
       "      <td>1.0</td>\n",
       "      <td>10.5</td>\n",
       "      <td>7.2</td>\n",
       "      <td>0.25</td>\n",
       "      <td>0.60</td>\n",
       "      <td>5.9</td>\n",
       "      <td>7.6</td>\n",
       "      <td>45.68</td>\n",
       "      <td>9:45</td>\n",
       "      <td>NaN</td>\n",
       "      <td>NaN</td>\n",
       "      <td>NaN</td>\n",
       "      <td>7.6</td>\n",
       "      <td>1994</td>\n",
       "    </tr>\n",
       "    <tr>\n",
       "      <th>3</th>\n",
       "      <td>Bay</td>\n",
       "      <td>NaN</td>\n",
       "      <td>2/23/1994</td>\n",
       "      <td>1.0</td>\n",
       "      <td>10.1</td>\n",
       "      <td>7.4</td>\n",
       "      <td>0.35</td>\n",
       "      <td>0.50</td>\n",
       "      <td>10.0</td>\n",
       "      <td>2.7</td>\n",
       "      <td>36.86</td>\n",
       "      <td>NaN</td>\n",
       "      <td>NaN</td>\n",
       "      <td>NaN</td>\n",
       "      <td>NaN</td>\n",
       "      <td>2.7</td>\n",
       "      <td>1994</td>\n",
       "    </tr>\n",
       "    <tr>\n",
       "      <th>4</th>\n",
       "      <td>Bay</td>\n",
       "      <td>NaN</td>\n",
       "      <td>2/28/1994</td>\n",
       "      <td>1.0</td>\n",
       "      <td>12.6</td>\n",
       "      <td>7.2</td>\n",
       "      <td>0.20</td>\n",
       "      <td>0.40</td>\n",
       "      <td>1.6</td>\n",
       "      <td>0.0</td>\n",
       "      <td>32.00</td>\n",
       "      <td>10:30</td>\n",
       "      <td>NaN</td>\n",
       "      <td>NaN</td>\n",
       "      <td>NaN</td>\n",
       "      <td>0.0</td>\n",
       "      <td>1994</td>\n",
       "    </tr>\n",
       "  </tbody>\n",
       "</table>\n",
       "</div>"
      ],
      "text/plain": [
       "  Site_Id Unit_Id  Read_Date  Salinity (ppt)  Dissolved Oxygen (mg/L)  \\\n",
       "0     Bay     NaN   1/3/1994             1.3                     11.7   \n",
       "1     Bay     NaN  1/31/1994             1.5                     12.0   \n",
       "2     Bay     NaN   2/7/1994             1.0                     10.5   \n",
       "3     Bay     NaN  2/23/1994             1.0                     10.1   \n",
       "4     Bay     NaN  2/28/1994             1.0                     12.6   \n",
       "\n",
       "   pH (standard units)  Secchi Depth (m)  Water Depth (m)  Water Temp (?C)  \\\n",
       "0                  7.3              0.40             0.40              5.9   \n",
       "1                  7.4              0.20             0.35              3.0   \n",
       "2                  7.2              0.25             0.60              5.9   \n",
       "3                  7.4              0.35             0.50             10.0   \n",
       "4                  7.2              0.20             0.40              1.6   \n",
       "\n",
       "   Air Temp-Celsius  Air Temp (?F) Time (24:00) Field_Tech DateVerified  \\\n",
       "0               8.0          46.40        11:00        NaN          NaN   \n",
       "1               2.6          36.68        11:30        NaN          NaN   \n",
       "2               7.6          45.68         9:45        NaN          NaN   \n",
       "3               2.7          36.86          NaN        NaN          NaN   \n",
       "4               0.0          32.00        10:30        NaN          NaN   \n",
       "\n",
       "  WhoVerified  AirTemp (C)  Year  \n",
       "0         NaN          8.0  1994  \n",
       "1         NaN          2.6  1994  \n",
       "2         NaN          7.6  1994  \n",
       "3         NaN          2.7  1994  \n",
       "4         NaN          0.0  1994  "
      ]
     },
     "execution_count": 71,
     "metadata": {},
     "output_type": "execute_result"
    }
   ],
   "source": [
    "df = pd.read_csv('BKB_WaterQualityData_2020084.csv')\n",
    "df.head()"
   ]
  },
  {
   "cell_type": "code",
   "execution_count": 72,
   "id": "9b9e3c7c",
   "metadata": {},
   "outputs": [
    {
     "data": {
      "text/plain": [
       "(2371, 17)"
      ]
     },
     "execution_count": 72,
     "metadata": {},
     "output_type": "execute_result"
    }
   ],
   "source": [
    "df.shape"
   ]
  },
  {
   "cell_type": "markdown",
   "id": "397c657d",
   "metadata": {},
   "source": [
    "## Step-3 EDA and Data Cleaning"
   ]
  },
  {
   "cell_type": "code",
   "execution_count": 73,
   "id": "d80a9c74",
   "metadata": {},
   "outputs": [
    {
     "name": "stdout",
     "output_type": "stream",
     "text": [
      "<class 'pandas.core.frame.DataFrame'>\n",
      "RangeIndex: 2371 entries, 0 to 2370\n",
      "Data columns (total 17 columns):\n",
      " #   Column                   Non-Null Count  Dtype  \n",
      "---  ------                   --------------  -----  \n",
      " 0   Site_Id                  2370 non-null   object \n",
      " 1   Unit_Id                  32 non-null     object \n",
      " 2   Read_Date                2366 non-null   object \n",
      " 3   Salinity (ppt)           2241 non-null   float64\n",
      " 4   Dissolved Oxygen (mg/L)  1520 non-null   float64\n",
      " 5   pH (standard units)      2276 non-null   float64\n",
      " 6   Secchi Depth (m)         2298 non-null   float64\n",
      " 7   Water Depth (m)          2300 non-null   float64\n",
      " 8   Water Temp (?C)          2250 non-null   float64\n",
      " 9   Air Temp-Celsius         85 non-null     float64\n",
      " 10  Air Temp (?F)            2300 non-null   float64\n",
      " 11  Time (24:00)             2308 non-null   object \n",
      " 12  Field_Tech               2332 non-null   object \n",
      " 13  DateVerified             453 non-null    object \n",
      " 14  WhoVerified              453 non-null    object \n",
      " 15  AirTemp (C)              2371 non-null   float64\n",
      " 16  Year                     2371 non-null   int64  \n",
      "dtypes: float64(9), int64(1), object(7)\n",
      "memory usage: 315.0+ KB\n"
     ]
    }
   ],
   "source": [
    "df.info()"
   ]
  },
  {
   "cell_type": "markdown",
   "id": "c35e3deb",
   "metadata": {},
   "source": [
    "### Read_Date"
   ]
  },
  {
   "cell_type": "code",
   "execution_count": 74,
   "id": "11d81a98",
   "metadata": {},
   "outputs": [
    {
     "name": "stdout",
     "output_type": "stream",
     "text": [
      "<class 'pandas.core.frame.DataFrame'>\n",
      "RangeIndex: 2371 entries, 0 to 2370\n",
      "Data columns (total 17 columns):\n",
      " #   Column                   Non-Null Count  Dtype         \n",
      "---  ------                   --------------  -----         \n",
      " 0   Site_Id                  2370 non-null   object        \n",
      " 1   Unit_Id                  32 non-null     object        \n",
      " 2   Read_Date                2366 non-null   datetime64[ns]\n",
      " 3   Salinity (ppt)           2241 non-null   float64       \n",
      " 4   Dissolved Oxygen (mg/L)  1520 non-null   float64       \n",
      " 5   pH (standard units)      2276 non-null   float64       \n",
      " 6   Secchi Depth (m)         2298 non-null   float64       \n",
      " 7   Water Depth (m)          2300 non-null   float64       \n",
      " 8   Water Temp (?C)          2250 non-null   float64       \n",
      " 9   Air Temp-Celsius         85 non-null     float64       \n",
      " 10  Air Temp (?F)            2300 non-null   float64       \n",
      " 11  Time (24:00)             2308 non-null   object        \n",
      " 12  Field_Tech               2332 non-null   object        \n",
      " 13  DateVerified             453 non-null    object        \n",
      " 14  WhoVerified              453 non-null    object        \n",
      " 15  AirTemp (C)              2371 non-null   float64       \n",
      " 16  Year                     2371 non-null   int64         \n",
      "dtypes: datetime64[ns](1), float64(9), int64(1), object(6)\n",
      "memory usage: 315.0+ KB\n"
     ]
    }
   ],
   "source": [
    "# Convert 'Read_Date' to datetime, coerce errors to NaT\n",
    "df['Read_Date'] = pd.to_datetime(df['Read_Date'], errors='coerce')\n",
    "df.info()"
   ]
  },
  {
   "cell_type": "code",
   "execution_count": 75,
   "id": "1d9600d6",
   "metadata": {},
   "outputs": [
    {
     "data": {
      "text/plain": [
       "<Axes: >"
      ]
     },
     "execution_count": 75,
     "metadata": {},
     "output_type": "execute_result"
    },
    {
     "data": {
      "image/png": "[encoded data removed]",
      "text/plain": [
       "<Figure size 1200x600 with 1 Axes>"
      ]
     },
     "metadata": {},
     "output_type": "display_data"
    }
   ],
   "source": [
    "df['Read_Date'].hist(bins=100, figsize=(12, 6))"
   ]
  },
  {
   "cell_type": "code",
   "execution_count": 76,
   "id": "7bcbda76",
   "metadata": {},
   "outputs": [],
   "source": [
    "df[\"Read_year\"] = df[\"Read_Date\"].dt.year\n",
    "df[\"Read_month\"] = df[\"Read_Date\"].dt.month\n",
    "df[\"Read_day\"] = df[\"Read_Date\"].dt.day"
   ]
  },
  {
   "cell_type": "code",
   "execution_count": 77,
   "id": "8e8ba2b9",
   "metadata": {},
   "outputs": [
    {
     "data": {
      "text/plain": [
       "Read_year\n",
       "2009.0    120\n",
       "2004.0    119\n",
       "2006.0    118\n",
       "2008.0    117\n",
       "2001.0    115\n",
       "2007.0    114\n",
       "2000.0    109\n",
       "2010.0    109\n",
       "2002.0    108\n",
       "2005.0    107\n",
       "2003.0     98\n",
       "2011.0     97\n",
       "2013.0     91\n",
       "2012.0     88\n",
       "2015.0     88\n",
       "2014.0     87\n",
       "2017.0     85\n",
       "2018.0     82\n",
       "2019.0     65\n",
       "2016.0     59\n",
       "1992.0     45\n",
       "1999.0     45\n",
       "1991.0     43\n",
       "1995.0     42\n",
       "1993.0     42\n",
       "1994.0     38\n",
       "1990.0     37\n",
       "1996.0     35\n",
       "1997.0     31\n",
       "1989.0     17\n",
       "1998.0     15\n",
       "Name: count, dtype: int64"
      ]
     },
     "execution_count": 77,
     "metadata": {},
     "output_type": "execute_result"
    }
   ],
   "source": [
    "df[\"Read_year\"].value_counts()"
   ]
  },
  {
   "cell_type": "code",
   "execution_count": 78,
   "id": "5e103886",
   "metadata": {},
   "outputs": [
    {
     "data": {
      "text/plain": [
       "np.int64(5)"
      ]
     },
     "execution_count": 78,
     "metadata": {},
     "output_type": "execute_result"
    }
   ],
   "source": [
    "df['Read_year'].isnull().sum()"
   ]
  },
  {
   "cell_type": "code",
   "execution_count": 79,
   "id": "38b77c52",
   "metadata": {},
   "outputs": [
    {
     "data": {
      "text/html": [
       "<div>\n",
       "<style scoped>\n",
       "    .dataframe tbody tr th:only-of-type {\n",
       "        vertical-align: middle;\n",
       "    }\n",
       "\n",
       "    .dataframe tbody tr th {\n",
       "        vertical-align: top;\n",
       "    }\n",
       "\n",
       "    .dataframe thead th {\n",
       "        text-align: right;\n",
       "    }\n",
       "</style>\n",
       "<table border=\"1\" class=\"dataframe\">\n",
       "  <thead>\n",
       "    <tr style=\"text-align: right;\">\n",
       "      <th></th>\n",
       "      <th>Site_Id</th>\n",
       "      <th>Unit_Id</th>\n",
       "      <th>Read_Date</th>\n",
       "      <th>Salinity (ppt)</th>\n",
       "      <th>Dissolved Oxygen (mg/L)</th>\n",
       "      <th>pH (standard units)</th>\n",
       "      <th>Secchi Depth (m)</th>\n",
       "      <th>Water Depth (m)</th>\n",
       "      <th>Water Temp (?C)</th>\n",
       "      <th>Air Temp-Celsius</th>\n",
       "      <th>Air Temp (?F)</th>\n",
       "      <th>Time (24:00)</th>\n",
       "      <th>Field_Tech</th>\n",
       "      <th>DateVerified</th>\n",
       "      <th>WhoVerified</th>\n",
       "      <th>AirTemp (C)</th>\n",
       "      <th>Year</th>\n",
       "      <th>Read_year</th>\n",
       "      <th>Read_month</th>\n",
       "      <th>Read_day</th>\n",
       "    </tr>\n",
       "  </thead>\n",
       "  <tbody>\n",
       "    <tr>\n",
       "      <th>2049</th>\n",
       "      <td>Bay</td>\n",
       "      <td>NaN</td>\n",
       "      <td>NaT</td>\n",
       "      <td>0.0</td>\n",
       "      <td>NaN</td>\n",
       "      <td>7.0</td>\n",
       "      <td>0.3</td>\n",
       "      <td>0.5</td>\n",
       "      <td>14.0</td>\n",
       "      <td>NaN</td>\n",
       "      <td>52.0</td>\n",
       "      <td>09:20</td>\n",
       "      <td>Susan Poe</td>\n",
       "      <td>NaN</td>\n",
       "      <td>NaN</td>\n",
       "      <td>11.111111</td>\n",
       "      <td>1899</td>\n",
       "      <td>NaN</td>\n",
       "      <td>NaN</td>\n",
       "      <td>NaN</td>\n",
       "    </tr>\n",
       "    <tr>\n",
       "      <th>2090</th>\n",
       "      <td>NaN</td>\n",
       "      <td>NaN</td>\n",
       "      <td>NaT</td>\n",
       "      <td>NaN</td>\n",
       "      <td>NaN</td>\n",
       "      <td>NaN</td>\n",
       "      <td>NaN</td>\n",
       "      <td>NaN</td>\n",
       "      <td>NaN</td>\n",
       "      <td>NaN</td>\n",
       "      <td>NaN</td>\n",
       "      <td>NaN</td>\n",
       "      <td>NaN</td>\n",
       "      <td>NaN</td>\n",
       "      <td>NaN</td>\n",
       "      <td>-17.777778</td>\n",
       "      <td>1899</td>\n",
       "      <td>NaN</td>\n",
       "      <td>NaN</td>\n",
       "      <td>NaN</td>\n",
       "    </tr>\n",
       "    <tr>\n",
       "      <th>2101</th>\n",
       "      <td>D</td>\n",
       "      <td>NaN</td>\n",
       "      <td>NaT</td>\n",
       "      <td>0.0</td>\n",
       "      <td>3.9</td>\n",
       "      <td>6.5</td>\n",
       "      <td>0.3</td>\n",
       "      <td>1.8</td>\n",
       "      <td>22.0</td>\n",
       "      <td>NaN</td>\n",
       "      <td>70.0</td>\n",
       "      <td>10:00</td>\n",
       "      <td>Sue Poe</td>\n",
       "      <td>NaN</td>\n",
       "      <td>NaN</td>\n",
       "      <td>21.111111</td>\n",
       "      <td>1899</td>\n",
       "      <td>NaN</td>\n",
       "      <td>NaN</td>\n",
       "      <td>NaN</td>\n",
       "    </tr>\n",
       "    <tr>\n",
       "      <th>2212</th>\n",
       "      <td>A</td>\n",
       "      <td>NaN</td>\n",
       "      <td>NaT</td>\n",
       "      <td>1.0</td>\n",
       "      <td>NaN</td>\n",
       "      <td>7.0</td>\n",
       "      <td>0.6</td>\n",
       "      <td>1.0</td>\n",
       "      <td>17.0</td>\n",
       "      <td>NaN</td>\n",
       "      <td>70.0</td>\n",
       "      <td>4/4/18</td>\n",
       "      <td>Sue Poe</td>\n",
       "      <td>10/29/2019</td>\n",
       "      <td>Christine Folks</td>\n",
       "      <td>21.111111</td>\n",
       "      <td>1899</td>\n",
       "      <td>NaN</td>\n",
       "      <td>NaN</td>\n",
       "      <td>NaN</td>\n",
       "    </tr>\n",
       "    <tr>\n",
       "      <th>2257</th>\n",
       "      <td>D</td>\n",
       "      <td>NaN</td>\n",
       "      <td>NaT</td>\n",
       "      <td>0.0</td>\n",
       "      <td>NaN</td>\n",
       "      <td>NaN</td>\n",
       "      <td>NaN</td>\n",
       "      <td>NaN</td>\n",
       "      <td>NaN</td>\n",
       "      <td>37.0</td>\n",
       "      <td>NaN</td>\n",
       "      <td>NaN</td>\n",
       "      <td>Sue Poe</td>\n",
       "      <td>10/30/2019</td>\n",
       "      <td>Christine Folks</td>\n",
       "      <td>-17.777778</td>\n",
       "      <td>1899</td>\n",
       "      <td>NaN</td>\n",
       "      <td>NaN</td>\n",
       "      <td>NaN</td>\n",
       "    </tr>\n",
       "  </tbody>\n",
       "</table>\n",
       "</div>"
      ],
      "text/plain": [
       "     Site_Id Unit_Id Read_Date  Salinity (ppt)  Dissolved Oxygen (mg/L)  \\\n",
       "2049     Bay     NaN       NaT             0.0                      NaN   \n",
       "2090     NaN     NaN       NaT             NaN                      NaN   \n",
       "2101       D     NaN       NaT             0.0                      3.9   \n",
       "2212       A     NaN       NaT             1.0                      NaN   \n",
       "2257       D     NaN       NaT             0.0                      NaN   \n",
       "\n",
       "      pH (standard units)  Secchi Depth (m)  Water Depth (m)  Water Temp (?C)  \\\n",
       "2049                  7.0               0.3              0.5             14.0   \n",
       "2090                  NaN               NaN              NaN              NaN   \n",
       "2101                  6.5               0.3              1.8             22.0   \n",
       "2212                  7.0               0.6              1.0             17.0   \n",
       "2257                  NaN               NaN              NaN              NaN   \n",
       "\n",
       "      Air Temp-Celsius  Air Temp (?F) Time (24:00) Field_Tech DateVerified  \\\n",
       "2049               NaN           52.0        09:20  Susan Poe          NaN   \n",
       "2090               NaN            NaN          NaN        NaN          NaN   \n",
       "2101               NaN           70.0        10:00    Sue Poe          NaN   \n",
       "2212               NaN           70.0       4/4/18    Sue Poe   10/29/2019   \n",
       "2257              37.0            NaN          NaN    Sue Poe   10/30/2019   \n",
       "\n",
       "          WhoVerified  AirTemp (C)  Year  Read_year  Read_month  Read_day  \n",
       "2049              NaN    11.111111  1899        NaN         NaN       NaN  \n",
       "2090              NaN   -17.777778  1899        NaN         NaN       NaN  \n",
       "2101              NaN    21.111111  1899        NaN         NaN       NaN  \n",
       "2212  Christine Folks    21.111111  1899        NaN         NaN       NaN  \n",
       "2257  Christine Folks   -17.777778  1899        NaN         NaN       NaN  "
      ]
     },
     "execution_count": 79,
     "metadata": {},
     "output_type": "execute_result"
    }
   ],
   "source": [
    "read_date_null = df['Read_Date'].isna()\n",
    "\n",
    "df[read_date_null].head()"
   ]
  },
  {
   "cell_type": "code",
   "execution_count": 80,
   "id": "7dfdb49b",
   "metadata": {},
   "outputs": [],
   "source": [
    "df[\"DateVerified\"]  = pd.to_datetime(df[\"DateVerified\"], errors=\"coerce\")\n"
   ]
  },
  {
   "cell_type": "code",
   "execution_count": 81,
   "id": "39f3d9cf",
   "metadata": {},
   "outputs": [],
   "source": [
    "df[\"Read_Date\"] = df[\"Read_Date\"].fillna(df[\"DateVerified\"])"
   ]
  },
  {
   "cell_type": "code",
   "execution_count": 82,
   "id": "3e7ca153",
   "metadata": {},
   "outputs": [
    {
     "data": {
      "text/html": [
       "<div>\n",
       "<style scoped>\n",
       "    .dataframe tbody tr th:only-of-type {\n",
       "        vertical-align: middle;\n",
       "    }\n",
       "\n",
       "    .dataframe tbody tr th {\n",
       "        vertical-align: top;\n",
       "    }\n",
       "\n",
       "    .dataframe thead th {\n",
       "        text-align: right;\n",
       "    }\n",
       "</style>\n",
       "<table border=\"1\" class=\"dataframe\">\n",
       "  <thead>\n",
       "    <tr style=\"text-align: right;\">\n",
       "      <th></th>\n",
       "      <th>Site_Id</th>\n",
       "      <th>Unit_Id</th>\n",
       "      <th>Read_Date</th>\n",
       "      <th>Salinity (ppt)</th>\n",
       "      <th>Dissolved Oxygen (mg/L)</th>\n",
       "      <th>pH (standard units)</th>\n",
       "      <th>Secchi Depth (m)</th>\n",
       "      <th>Water Depth (m)</th>\n",
       "      <th>Water Temp (?C)</th>\n",
       "      <th>Air Temp-Celsius</th>\n",
       "      <th>Air Temp (?F)</th>\n",
       "      <th>Time (24:00)</th>\n",
       "      <th>Field_Tech</th>\n",
       "      <th>DateVerified</th>\n",
       "      <th>WhoVerified</th>\n",
       "      <th>AirTemp (C)</th>\n",
       "      <th>Year</th>\n",
       "      <th>Read_year</th>\n",
       "      <th>Read_month</th>\n",
       "      <th>Read_day</th>\n",
       "    </tr>\n",
       "  </thead>\n",
       "  <tbody>\n",
       "    <tr>\n",
       "      <th>2049</th>\n",
       "      <td>Bay</td>\n",
       "      <td>NaN</td>\n",
       "      <td>NaT</td>\n",
       "      <td>0.0</td>\n",
       "      <td>NaN</td>\n",
       "      <td>7.0</td>\n",
       "      <td>0.3</td>\n",
       "      <td>0.5</td>\n",
       "      <td>14.0</td>\n",
       "      <td>NaN</td>\n",
       "      <td>52.0</td>\n",
       "      <td>09:20</td>\n",
       "      <td>Susan Poe</td>\n",
       "      <td>NaT</td>\n",
       "      <td>NaN</td>\n",
       "      <td>11.111111</td>\n",
       "      <td>1899</td>\n",
       "      <td>NaN</td>\n",
       "      <td>NaN</td>\n",
       "      <td>NaN</td>\n",
       "    </tr>\n",
       "    <tr>\n",
       "      <th>2090</th>\n",
       "      <td>NaN</td>\n",
       "      <td>NaN</td>\n",
       "      <td>NaT</td>\n",
       "      <td>NaN</td>\n",
       "      <td>NaN</td>\n",
       "      <td>NaN</td>\n",
       "      <td>NaN</td>\n",
       "      <td>NaN</td>\n",
       "      <td>NaN</td>\n",
       "      <td>NaN</td>\n",
       "      <td>NaN</td>\n",
       "      <td>NaN</td>\n",
       "      <td>NaN</td>\n",
       "      <td>NaT</td>\n",
       "      <td>NaN</td>\n",
       "      <td>-17.777778</td>\n",
       "      <td>1899</td>\n",
       "      <td>NaN</td>\n",
       "      <td>NaN</td>\n",
       "      <td>NaN</td>\n",
       "    </tr>\n",
       "    <tr>\n",
       "      <th>2101</th>\n",
       "      <td>D</td>\n",
       "      <td>NaN</td>\n",
       "      <td>NaT</td>\n",
       "      <td>0.0</td>\n",
       "      <td>3.9</td>\n",
       "      <td>6.5</td>\n",
       "      <td>0.3</td>\n",
       "      <td>1.8</td>\n",
       "      <td>22.0</td>\n",
       "      <td>NaN</td>\n",
       "      <td>70.0</td>\n",
       "      <td>10:00</td>\n",
       "      <td>Sue Poe</td>\n",
       "      <td>NaT</td>\n",
       "      <td>NaN</td>\n",
       "      <td>21.111111</td>\n",
       "      <td>1899</td>\n",
       "      <td>NaN</td>\n",
       "      <td>NaN</td>\n",
       "      <td>NaN</td>\n",
       "    </tr>\n",
       "  </tbody>\n",
       "</table>\n",
       "</div>"
      ],
      "text/plain": [
       "     Site_Id Unit_Id Read_Date  Salinity (ppt)  Dissolved Oxygen (mg/L)  \\\n",
       "2049     Bay     NaN       NaT             0.0                      NaN   \n",
       "2090     NaN     NaN       NaT             NaN                      NaN   \n",
       "2101       D     NaN       NaT             0.0                      3.9   \n",
       "\n",
       "      pH (standard units)  Secchi Depth (m)  Water Depth (m)  Water Temp (?C)  \\\n",
       "2049                  7.0               0.3              0.5             14.0   \n",
       "2090                  NaN               NaN              NaN              NaN   \n",
       "2101                  6.5               0.3              1.8             22.0   \n",
       "\n",
       "      Air Temp-Celsius  Air Temp (?F) Time (24:00) Field_Tech DateVerified  \\\n",
       "2049               NaN           52.0        09:20  Susan Poe          NaT   \n",
       "2090               NaN            NaN          NaN        NaN          NaT   \n",
       "2101               NaN           70.0        10:00    Sue Poe          NaT   \n",
       "\n",
       "     WhoVerified  AirTemp (C)  Year  Read_year  Read_month  Read_day  \n",
       "2049         NaN    11.111111  1899        NaN         NaN       NaN  \n",
       "2090         NaN   -17.777778  1899        NaN         NaN       NaN  \n",
       "2101         NaN    21.111111  1899        NaN         NaN       NaN  "
      ]
     },
     "execution_count": 82,
     "metadata": {},
     "output_type": "execute_result"
    }
   ],
   "source": [
    "read_date_null = df['Read_Date'].isna()\n",
    "df[read_date_null].head()"
   ]
  },
  {
   "cell_type": "markdown",
   "id": "61dcd652",
   "metadata": {},
   "source": [
    "#### drop rows where Read_Date is still NaT"
   ]
  },
  {
   "cell_type": "code",
   "execution_count": 83,
   "id": "bc6709ac",
   "metadata": {},
   "outputs": [],
   "source": [
    "# drop rows where Read_Date is still NaT\n",
    "df = df.dropna(subset=[\"Read_Date\"])"
   ]
  },
  {
   "cell_type": "code",
   "execution_count": 84,
   "id": "fcb855db",
   "metadata": {},
   "outputs": [],
   "source": [
    "df[\"Read_year\"] = df[\"Read_Date\"].dt.year\n",
    "df[\"Read_month\"] = df[\"Read_Date\"].dt.month\n",
    "df[\"Read_day\"] = df[\"Read_Date\"].dt.day"
   ]
  },
  {
   "cell_type": "code",
   "execution_count": 85,
   "id": "efd4f3e5",
   "metadata": {},
   "outputs": [
    {
     "data": {
      "text/plain": [
       "(2368, 20)"
      ]
     },
     "execution_count": 85,
     "metadata": {},
     "output_type": "execute_result"
    }
   ],
   "source": [
    "df.shape"
   ]
  },
  {
   "cell_type": "code",
   "execution_count": 86,
   "id": "221d1eae",
   "metadata": {},
   "outputs": [
    {
     "name": "stdout",
     "output_type": "stream",
     "text": [
      "<class 'pandas.core.frame.DataFrame'>\n",
      "Index: 2368 entries, 0 to 2370\n",
      "Data columns (total 20 columns):\n",
      " #   Column                   Non-Null Count  Dtype         \n",
      "---  ------                   --------------  -----         \n",
      " 0   Site_Id                  2368 non-null   object        \n",
      " 1   Unit_Id                  32 non-null     object        \n",
      " 2   Read_Date                2368 non-null   datetime64[ns]\n",
      " 3   Salinity (ppt)           2239 non-null   float64       \n",
      " 4   Dissolved Oxygen (mg/L)  1519 non-null   float64       \n",
      " 5   pH (standard units)      2274 non-null   float64       \n",
      " 6   Secchi Depth (m)         2296 non-null   float64       \n",
      " 7   Water Depth (m)          2298 non-null   float64       \n",
      " 8   Water Temp (?C)          2248 non-null   float64       \n",
      " 9   Air Temp-Celsius         85 non-null     float64       \n",
      " 10  Air Temp (?F)            2298 non-null   float64       \n",
      " 11  Time (24:00)             2306 non-null   object        \n",
      " 12  Field_Tech               2330 non-null   object        \n",
      " 13  DateVerified             453 non-null    datetime64[ns]\n",
      " 14  WhoVerified              453 non-null    object        \n",
      " 15  AirTemp (C)              2368 non-null   float64       \n",
      " 16  Year                     2368 non-null   int64         \n",
      " 17  Read_year                2368 non-null   int32         \n",
      " 18  Read_month               2368 non-null   int32         \n",
      " 19  Read_day                 2368 non-null   int32         \n",
      "dtypes: datetime64[ns](2), float64(9), int32(3), int64(1), object(5)\n",
      "memory usage: 360.8+ KB\n"
     ]
    }
   ],
   "source": [
    "df.info()"
   ]
  },
  {
   "cell_type": "code",
   "execution_count": 87,
   "id": "6c411792",
   "metadata": {},
   "outputs": [
    {
     "name": "stdout",
     "output_type": "stream",
     "text": [
      "count read_year is not equal to Year: 2\n"
     ]
    }
   ],
   "source": [
    "# count read_year is not equal to Year\n",
    "mismatch_year = (df[\"Read_year\"] != df[\"Year\"])\n",
    "print(f\"count read_year is not equal to Year: {mismatch_year.sum()}\")"
   ]
  },
  {
   "cell_type": "code",
   "execution_count": 88,
   "id": "3c25321a",
   "metadata": {},
   "outputs": [
    {
     "data": {
      "text/html": [
       "<div>\n",
       "<style scoped>\n",
       "    .dataframe tbody tr th:only-of-type {\n",
       "        vertical-align: middle;\n",
       "    }\n",
       "\n",
       "    .dataframe tbody tr th {\n",
       "        vertical-align: top;\n",
       "    }\n",
       "\n",
       "    .dataframe thead th {\n",
       "        text-align: right;\n",
       "    }\n",
       "</style>\n",
       "<table border=\"1\" class=\"dataframe\">\n",
       "  <thead>\n",
       "    <tr style=\"text-align: right;\">\n",
       "      <th></th>\n",
       "      <th>Site_Id</th>\n",
       "      <th>Unit_Id</th>\n",
       "      <th>Read_Date</th>\n",
       "      <th>Salinity (ppt)</th>\n",
       "      <th>Dissolved Oxygen (mg/L)</th>\n",
       "      <th>pH (standard units)</th>\n",
       "      <th>Secchi Depth (m)</th>\n",
       "      <th>Water Depth (m)</th>\n",
       "      <th>Water Temp (?C)</th>\n",
       "      <th>Air Temp-Celsius</th>\n",
       "      <th>Air Temp (?F)</th>\n",
       "      <th>Time (24:00)</th>\n",
       "      <th>Field_Tech</th>\n",
       "      <th>DateVerified</th>\n",
       "      <th>WhoVerified</th>\n",
       "      <th>AirTemp (C)</th>\n",
       "      <th>Year</th>\n",
       "      <th>Read_year</th>\n",
       "      <th>Read_month</th>\n",
       "      <th>Read_day</th>\n",
       "    </tr>\n",
       "  </thead>\n",
       "  <tbody>\n",
       "    <tr>\n",
       "      <th>2212</th>\n",
       "      <td>A</td>\n",
       "      <td>NaN</td>\n",
       "      <td>2019-10-29</td>\n",
       "      <td>1.0</td>\n",
       "      <td>NaN</td>\n",
       "      <td>7.0</td>\n",
       "      <td>0.6</td>\n",
       "      <td>1.0</td>\n",
       "      <td>17.0</td>\n",
       "      <td>NaN</td>\n",
       "      <td>70.0</td>\n",
       "      <td>4/4/18</td>\n",
       "      <td>Sue Poe</td>\n",
       "      <td>2019-10-29</td>\n",
       "      <td>Christine Folks</td>\n",
       "      <td>21.111111</td>\n",
       "      <td>1899</td>\n",
       "      <td>2019</td>\n",
       "      <td>10</td>\n",
       "      <td>29</td>\n",
       "    </tr>\n",
       "    <tr>\n",
       "      <th>2257</th>\n",
       "      <td>D</td>\n",
       "      <td>NaN</td>\n",
       "      <td>2019-10-30</td>\n",
       "      <td>0.0</td>\n",
       "      <td>NaN</td>\n",
       "      <td>NaN</td>\n",
       "      <td>NaN</td>\n",
       "      <td>NaN</td>\n",
       "      <td>NaN</td>\n",
       "      <td>37.0</td>\n",
       "      <td>NaN</td>\n",
       "      <td>NaN</td>\n",
       "      <td>Sue Poe</td>\n",
       "      <td>2019-10-30</td>\n",
       "      <td>Christine Folks</td>\n",
       "      <td>-17.777778</td>\n",
       "      <td>1899</td>\n",
       "      <td>2019</td>\n",
       "      <td>10</td>\n",
       "      <td>30</td>\n",
       "    </tr>\n",
       "  </tbody>\n",
       "</table>\n",
       "</div>"
      ],
      "text/plain": [
       "     Site_Id Unit_Id  Read_Date  Salinity (ppt)  Dissolved Oxygen (mg/L)  \\\n",
       "2212       A     NaN 2019-10-29             1.0                      NaN   \n",
       "2257       D     NaN 2019-10-30             0.0                      NaN   \n",
       "\n",
       "      pH (standard units)  Secchi Depth (m)  Water Depth (m)  Water Temp (?C)  \\\n",
       "2212                  7.0               0.6              1.0             17.0   \n",
       "2257                  NaN               NaN              NaN              NaN   \n",
       "\n",
       "      Air Temp-Celsius  Air Temp (?F) Time (24:00) Field_Tech DateVerified  \\\n",
       "2212               NaN           70.0       4/4/18    Sue Poe   2019-10-29   \n",
       "2257              37.0            NaN          NaN    Sue Poe   2019-10-30   \n",
       "\n",
       "          WhoVerified  AirTemp (C)  Year  Read_year  Read_month  Read_day  \n",
       "2212  Christine Folks    21.111111  1899       2019          10        29  \n",
       "2257  Christine Folks   -17.777778  1899       2019          10        30  "
      ]
     },
     "execution_count": 88,
     "metadata": {},
     "output_type": "execute_result"
    }
   ],
   "source": [
    "df[mismatch_year]"
   ]
  },
  {
   "cell_type": "code",
   "execution_count": 89,
   "id": "1eec0450",
   "metadata": {},
   "outputs": [
    {
     "name": "stdout",
     "output_type": "stream",
     "text": [
      "count Year is null: 0\n"
     ]
    }
   ],
   "source": [
    "# check null values in Year\n",
    "year_null = df[\"Year\"].isnull()\n",
    "print(f\"count Year is null: {year_null.sum()}\")"
   ]
  },
  {
   "cell_type": "code",
   "execution_count": 90,
   "id": "396f14d0",
   "metadata": {},
   "outputs": [
    {
     "data": {
      "text/plain": [
       "Year\n",
       "2009    120\n",
       "2004    119\n",
       "2006    118\n",
       "2008    117\n",
       "2001    115\n",
       "2007    114\n",
       "2000    109\n",
       "2010    109\n",
       "2002    108\n",
       "2005    107\n",
       "2003     98\n",
       "2011     97\n",
       "2013     91\n",
       "2012     88\n",
       "2015     88\n",
       "2014     87\n",
       "2017     85\n",
       "2018     82\n",
       "2019     65\n",
       "2016     59\n",
       "1992     45\n",
       "1999     45\n",
       "1991     43\n",
       "1995     42\n",
       "1993     42\n",
       "1994     38\n",
       "1990     37\n",
       "1996     35\n",
       "1997     31\n",
       "1989     17\n",
       "1998     15\n",
       "1899      2\n",
       "Name: count, dtype: int64"
      ]
     },
     "execution_count": 90,
     "metadata": {},
     "output_type": "execute_result"
    }
   ],
   "source": [
    "df['Year'].value_counts()"
   ]
  },
  {
   "cell_type": "code",
   "execution_count": 91,
   "id": "2d2b93f4",
   "metadata": {},
   "outputs": [],
   "source": [
    "# drop column Year\n",
    "df = df.drop(columns=[\"Year\"])"
   ]
  },
  {
   "cell_type": "code",
   "execution_count": 92,
   "id": "9f3d572a",
   "metadata": {},
   "outputs": [
    {
     "name": "stdout",
     "output_type": "stream",
     "text": [
      "<class 'pandas.core.frame.DataFrame'>\n",
      "Index: 2368 entries, 0 to 2370\n",
      "Data columns (total 19 columns):\n",
      " #   Column                   Non-Null Count  Dtype         \n",
      "---  ------                   --------------  -----         \n",
      " 0   Site_Id                  2368 non-null   object        \n",
      " 1   Unit_Id                  32 non-null     object        \n",
      " 2   Read_Date                2368 non-null   datetime64[ns]\n",
      " 3   Salinity (ppt)           2239 non-null   float64       \n",
      " 4   Dissolved Oxygen (mg/L)  1519 non-null   float64       \n",
      " 5   pH (standard units)      2274 non-null   float64       \n",
      " 6   Secchi Depth (m)         2296 non-null   float64       \n",
      " 7   Water Depth (m)          2298 non-null   float64       \n",
      " 8   Water Temp (?C)          2248 non-null   float64       \n",
      " 9   Air Temp-Celsius         85 non-null     float64       \n",
      " 10  Air Temp (?F)            2298 non-null   float64       \n",
      " 11  Time (24:00)             2306 non-null   object        \n",
      " 12  Field_Tech               2330 non-null   object        \n",
      " 13  DateVerified             453 non-null    datetime64[ns]\n",
      " 14  WhoVerified              453 non-null    object        \n",
      " 15  AirTemp (C)              2368 non-null   float64       \n",
      " 16  Read_year                2368 non-null   int32         \n",
      " 17  Read_month               2368 non-null   int32         \n",
      " 18  Read_day                 2368 non-null   int32         \n",
      "dtypes: datetime64[ns](2), float64(9), int32(3), object(5)\n",
      "memory usage: 342.2+ KB\n"
     ]
    }
   ],
   "source": [
    "df.info()"
   ]
  },
  {
   "cell_type": "markdown",
   "id": "f07a938a",
   "metadata": {},
   "source": [
    "### Time"
   ]
  },
  {
   "cell_type": "code",
   "execution_count": 93,
   "id": "adcb08b0",
   "metadata": {},
   "outputs": [
    {
     "data": {
      "text/plain": [
       "Time (24:00)\n",
       "0:00       1440\n",
       "14:24        52\n",
       "19:12        47\n",
       "4:48         46\n",
       "9:36         44\n",
       "           ... \n",
       "11:03         1\n",
       "10:52         1\n",
       "09:55         1\n",
       "0938          1\n",
       "5/23/19       1\n",
       "Name: count, Length: 99, dtype: int64"
      ]
     },
     "execution_count": 93,
     "metadata": {},
     "output_type": "execute_result"
    }
   ],
   "source": [
    "df['Time (24:00)'].value_counts()"
   ]
  },
  {
   "cell_type": "code",
   "execution_count": 98,
   "id": "f974b4eb",
   "metadata": {},
   "outputs": [
    {
     "name": "stdout",
     "output_type": "stream",
     "text": [
      "mean time: 04:15\n",
      "count Time is not null: 2368\n"
     ]
    },
    {
     "data": {
      "text/html": [
       "<div>\n",
       "<style scoped>\n",
       "    .dataframe tbody tr th:only-of-type {\n",
       "        vertical-align: middle;\n",
       "    }\n",
       "\n",
       "    .dataframe tbody tr th {\n",
       "        vertical-align: top;\n",
       "    }\n",
       "\n",
       "    .dataframe thead th {\n",
       "        text-align: right;\n",
       "    }\n",
       "</style>\n",
       "<table border=\"1\" class=\"dataframe\">\n",
       "  <thead>\n",
       "    <tr style=\"text-align: right;\">\n",
       "      <th></th>\n",
       "      <th>Site_Id</th>\n",
       "      <th>Unit_Id</th>\n",
       "      <th>Read_Date</th>\n",
       "      <th>Salinity (ppt)</th>\n",
       "      <th>Dissolved Oxygen (mg/L)</th>\n",
       "      <th>pH (standard units)</th>\n",
       "      <th>Secchi Depth (m)</th>\n",
       "      <th>Water Depth (m)</th>\n",
       "      <th>Water Temp (?C)</th>\n",
       "      <th>Air Temp-Celsius</th>\n",
       "      <th>Air Temp (?F)</th>\n",
       "      <th>Time (24:00)</th>\n",
       "      <th>Field_Tech</th>\n",
       "      <th>DateVerified</th>\n",
       "      <th>WhoVerified</th>\n",
       "      <th>AirTemp (C)</th>\n",
       "      <th>Read_year</th>\n",
       "      <th>Read_month</th>\n",
       "      <th>Read_day</th>\n",
       "      <th>Time_clean</th>\n",
       "    </tr>\n",
       "  </thead>\n",
       "  <tbody>\n",
       "    <tr>\n",
       "      <th>0</th>\n",
       "      <td>Bay</td>\n",
       "      <td>NaN</td>\n",
       "      <td>1994-01-03</td>\n",
       "      <td>1.3</td>\n",
       "      <td>11.7</td>\n",
       "      <td>7.3</td>\n",
       "      <td>0.40</td>\n",
       "      <td>0.40</td>\n",
       "      <td>5.9</td>\n",
       "      <td>8.0</td>\n",
       "      <td>46.40</td>\n",
       "      <td>11:00</td>\n",
       "      <td>NaN</td>\n",
       "      <td>NaT</td>\n",
       "      <td>NaN</td>\n",
       "      <td>8.000000</td>\n",
       "      <td>1994</td>\n",
       "      <td>1</td>\n",
       "      <td>3</td>\n",
       "      <td>11:00</td>\n",
       "    </tr>\n",
       "    <tr>\n",
       "      <th>1</th>\n",
       "      <td>Bay</td>\n",
       "      <td>NaN</td>\n",
       "      <td>1994-01-31</td>\n",
       "      <td>1.5</td>\n",
       "      <td>12.0</td>\n",
       "      <td>7.4</td>\n",
       "      <td>0.20</td>\n",
       "      <td>0.35</td>\n",
       "      <td>3.0</td>\n",
       "      <td>2.6</td>\n",
       "      <td>36.68</td>\n",
       "      <td>11:30</td>\n",
       "      <td>NaN</td>\n",
       "      <td>NaT</td>\n",
       "      <td>NaN</td>\n",
       "      <td>2.600000</td>\n",
       "      <td>1994</td>\n",
       "      <td>1</td>\n",
       "      <td>31</td>\n",
       "      <td>11:30</td>\n",
       "    </tr>\n",
       "    <tr>\n",
       "      <th>2</th>\n",
       "      <td>Bay</td>\n",
       "      <td>NaN</td>\n",
       "      <td>1994-02-07</td>\n",
       "      <td>1.0</td>\n",
       "      <td>10.5</td>\n",
       "      <td>7.2</td>\n",
       "      <td>0.25</td>\n",
       "      <td>0.60</td>\n",
       "      <td>5.9</td>\n",
       "      <td>7.6</td>\n",
       "      <td>45.68</td>\n",
       "      <td>9:45</td>\n",
       "      <td>NaN</td>\n",
       "      <td>NaT</td>\n",
       "      <td>NaN</td>\n",
       "      <td>7.600000</td>\n",
       "      <td>1994</td>\n",
       "      <td>2</td>\n",
       "      <td>7</td>\n",
       "      <td>09:45</td>\n",
       "    </tr>\n",
       "    <tr>\n",
       "      <th>3</th>\n",
       "      <td>Bay</td>\n",
       "      <td>NaN</td>\n",
       "      <td>1994-02-23</td>\n",
       "      <td>1.0</td>\n",
       "      <td>10.1</td>\n",
       "      <td>7.4</td>\n",
       "      <td>0.35</td>\n",
       "      <td>0.50</td>\n",
       "      <td>10.0</td>\n",
       "      <td>2.7</td>\n",
       "      <td>36.86</td>\n",
       "      <td>04:15</td>\n",
       "      <td>NaN</td>\n",
       "      <td>NaT</td>\n",
       "      <td>NaN</td>\n",
       "      <td>2.700000</td>\n",
       "      <td>1994</td>\n",
       "      <td>2</td>\n",
       "      <td>23</td>\n",
       "      <td>04:15</td>\n",
       "    </tr>\n",
       "    <tr>\n",
       "      <th>4</th>\n",
       "      <td>Bay</td>\n",
       "      <td>NaN</td>\n",
       "      <td>1994-02-28</td>\n",
       "      <td>1.0</td>\n",
       "      <td>12.6</td>\n",
       "      <td>7.2</td>\n",
       "      <td>0.20</td>\n",
       "      <td>0.40</td>\n",
       "      <td>1.6</td>\n",
       "      <td>0.0</td>\n",
       "      <td>32.00</td>\n",
       "      <td>10:30</td>\n",
       "      <td>NaN</td>\n",
       "      <td>NaT</td>\n",
       "      <td>NaN</td>\n",
       "      <td>0.000000</td>\n",
       "      <td>1994</td>\n",
       "      <td>2</td>\n",
       "      <td>28</td>\n",
       "      <td>10:30</td>\n",
       "    </tr>\n",
       "    <tr>\n",
       "      <th>...</th>\n",
       "      <td>...</td>\n",
       "      <td>...</td>\n",
       "      <td>...</td>\n",
       "      <td>...</td>\n",
       "      <td>...</td>\n",
       "      <td>...</td>\n",
       "      <td>...</td>\n",
       "      <td>...</td>\n",
       "      <td>...</td>\n",
       "      <td>...</td>\n",
       "      <td>...</td>\n",
       "      <td>...</td>\n",
       "      <td>...</td>\n",
       "      <td>...</td>\n",
       "      <td>...</td>\n",
       "      <td>...</td>\n",
       "      <td>...</td>\n",
       "      <td>...</td>\n",
       "      <td>...</td>\n",
       "      <td>...</td>\n",
       "    </tr>\n",
       "    <tr>\n",
       "      <th>2366</th>\n",
       "      <td>Bay</td>\n",
       "      <td>NaN</td>\n",
       "      <td>2018-10-11</td>\n",
       "      <td>1.9</td>\n",
       "      <td>5.0</td>\n",
       "      <td>7.0</td>\n",
       "      <td>4.00</td>\n",
       "      <td>1.20</td>\n",
       "      <td>25.0</td>\n",
       "      <td>NaN</td>\n",
       "      <td>78.00</td>\n",
       "      <td>09:30</td>\n",
       "      <td>Sue Poe</td>\n",
       "      <td>2019-11-13</td>\n",
       "      <td>Christine Folks</td>\n",
       "      <td>25.555556</td>\n",
       "      <td>2018</td>\n",
       "      <td>10</td>\n",
       "      <td>11</td>\n",
       "      <td>09:30</td>\n",
       "    </tr>\n",
       "    <tr>\n",
       "      <th>2367</th>\n",
       "      <td>Bay</td>\n",
       "      <td>NaN</td>\n",
       "      <td>2018-10-24</td>\n",
       "      <td>0.0</td>\n",
       "      <td>9.0</td>\n",
       "      <td>7.0</td>\n",
       "      <td>0.30</td>\n",
       "      <td>0.60</td>\n",
       "      <td>18.0</td>\n",
       "      <td>NaN</td>\n",
       "      <td>58.00</td>\n",
       "      <td>09:30</td>\n",
       "      <td>Sue Poe</td>\n",
       "      <td>2019-11-13</td>\n",
       "      <td>Christine Folks</td>\n",
       "      <td>14.444444</td>\n",
       "      <td>2018</td>\n",
       "      <td>10</td>\n",
       "      <td>24</td>\n",
       "      <td>09:30</td>\n",
       "    </tr>\n",
       "    <tr>\n",
       "      <th>2368</th>\n",
       "      <td>Bay</td>\n",
       "      <td>NaN</td>\n",
       "      <td>2018-10-28</td>\n",
       "      <td>0.9</td>\n",
       "      <td>2.9</td>\n",
       "      <td>7.0</td>\n",
       "      <td>0.40</td>\n",
       "      <td>0.90</td>\n",
       "      <td>13.0</td>\n",
       "      <td>NaN</td>\n",
       "      <td>49.00</td>\n",
       "      <td>09:20</td>\n",
       "      <td>Sue Poe</td>\n",
       "      <td>2019-11-13</td>\n",
       "      <td>Christine Folks</td>\n",
       "      <td>9.444444</td>\n",
       "      <td>2018</td>\n",
       "      <td>10</td>\n",
       "      <td>28</td>\n",
       "      <td>09:20</td>\n",
       "    </tr>\n",
       "    <tr>\n",
       "      <th>2369</th>\n",
       "      <td>Bay</td>\n",
       "      <td>NaN</td>\n",
       "      <td>2018-11-07</td>\n",
       "      <td>1.7</td>\n",
       "      <td>NaN</td>\n",
       "      <td>7.0</td>\n",
       "      <td>0.45</td>\n",
       "      <td>0.90</td>\n",
       "      <td>20.0</td>\n",
       "      <td>NaN</td>\n",
       "      <td>65.00</td>\n",
       "      <td>09:45</td>\n",
       "      <td>Sue Poe</td>\n",
       "      <td>2019-11-13</td>\n",
       "      <td>Christine Folks</td>\n",
       "      <td>18.333333</td>\n",
       "      <td>2018</td>\n",
       "      <td>11</td>\n",
       "      <td>7</td>\n",
       "      <td>09:45</td>\n",
       "    </tr>\n",
       "    <tr>\n",
       "      <th>2370</th>\n",
       "      <td>Bay</td>\n",
       "      <td>NaN</td>\n",
       "      <td>2018-12-11</td>\n",
       "      <td>0.1</td>\n",
       "      <td>NaN</td>\n",
       "      <td>7.0</td>\n",
       "      <td>0.10</td>\n",
       "      <td>0.10</td>\n",
       "      <td>10.0</td>\n",
       "      <td>NaN</td>\n",
       "      <td>42.00</td>\n",
       "      <td>09:40</td>\n",
       "      <td>Sue Poe</td>\n",
       "      <td>2019-11-13</td>\n",
       "      <td>Christine Folks</td>\n",
       "      <td>5.555556</td>\n",
       "      <td>2018</td>\n",
       "      <td>12</td>\n",
       "      <td>11</td>\n",
       "      <td>09:40</td>\n",
       "    </tr>\n",
       "  </tbody>\n",
       "</table>\n",
       "<p>2368 rows × 20 columns</p>\n",
       "</div>"
      ],
      "text/plain": [
       "     Site_Id Unit_Id  Read_Date  Salinity (ppt)  Dissolved Oxygen (mg/L)  \\\n",
       "0        Bay     NaN 1994-01-03             1.3                     11.7   \n",
       "1        Bay     NaN 1994-01-31             1.5                     12.0   \n",
       "2        Bay     NaN 1994-02-07             1.0                     10.5   \n",
       "3        Bay     NaN 1994-02-23             1.0                     10.1   \n",
       "4        Bay     NaN 1994-02-28             1.0                     12.6   \n",
       "...      ...     ...        ...             ...                      ...   \n",
       "2366     Bay     NaN 2018-10-11             1.9                      5.0   \n",
       "2367     Bay     NaN 2018-10-24             0.0                      9.0   \n",
       "2368     Bay     NaN 2018-10-28             0.9                      2.9   \n",
       "2369     Bay     NaN 2018-11-07             1.7                      NaN   \n",
       "2370     Bay     NaN 2018-12-11             0.1                      NaN   \n",
       "\n",
       "      pH (standard units)  Secchi Depth (m)  Water Depth (m)  Water Temp (?C)  \\\n",
       "0                     7.3              0.40             0.40              5.9   \n",
       "1                     7.4              0.20             0.35              3.0   \n",
       "2                     7.2              0.25             0.60              5.9   \n",
       "3                     7.4              0.35             0.50             10.0   \n",
       "4                     7.2              0.20             0.40              1.6   \n",
       "...                   ...               ...              ...              ...   \n",
       "2366                  7.0              4.00             1.20             25.0   \n",
       "2367                  7.0              0.30             0.60             18.0   \n",
       "2368                  7.0              0.40             0.90             13.0   \n",
       "2369                  7.0              0.45             0.90             20.0   \n",
       "2370                  7.0              0.10             0.10             10.0   \n",
       "\n",
       "      Air Temp-Celsius  Air Temp (?F) Time (24:00) Field_Tech DateVerified  \\\n",
       "0                  8.0          46.40        11:00        NaN          NaT   \n",
       "1                  2.6          36.68        11:30        NaN          NaT   \n",
       "2                  7.6          45.68         9:45        NaN          NaT   \n",
       "3                  2.7          36.86        04:15        NaN          NaT   \n",
       "4                  0.0          32.00        10:30        NaN          NaT   \n",
       "...                ...            ...          ...        ...          ...   \n",
       "2366               NaN          78.00        09:30    Sue Poe   2019-11-13   \n",
       "2367               NaN          58.00        09:30    Sue Poe   2019-11-13   \n",
       "2368               NaN          49.00        09:20    Sue Poe   2019-11-13   \n",
       "2369               NaN          65.00        09:45    Sue Poe   2019-11-13   \n",
       "2370               NaN          42.00        09:40    Sue Poe   2019-11-13   \n",
       "\n",
       "          WhoVerified  AirTemp (C)  Read_year  Read_month  Read_day Time_clean  \n",
       "0                 NaN     8.000000       1994           1         3      11:00  \n",
       "1                 NaN     2.600000       1994           1        31      11:30  \n",
       "2                 NaN     7.600000       1994           2         7      09:45  \n",
       "3                 NaN     2.700000       1994           2        23      04:15  \n",
       "4                 NaN     0.000000       1994           2        28      10:30  \n",
       "...               ...          ...        ...         ...       ...        ...  \n",
       "2366  Christine Folks    25.555556       2018          10        11      09:30  \n",
       "2367  Christine Folks    14.444444       2018          10        24      09:30  \n",
       "2368  Christine Folks     9.444444       2018          10        28      09:20  \n",
       "2369  Christine Folks    18.333333       2018          11         7      09:45  \n",
       "2370  Christine Folks     5.555556       2018          12        11      09:40  \n",
       "\n",
       "[2368 rows x 20 columns]"
      ]
     },
     "execution_count": 98,
     "metadata": {},
     "output_type": "execute_result"
    }
   ],
   "source": [
    "\n",
    "str_time = df[\"Time (24:00)\"].astype(str).str.strip()\n",
    "\n",
    "# 1) Drop obvious dates (e.g., 5/23/19)\n",
    "str_time = str_time.mask(str_time.str.contains(r\"\\d{1,2}/\\d{1,2}/\\d{2,4}\", na=False))\n",
    "\n",
    "# 2) Fix HHMM / HMM without colon: e.g., \"0938\" -> \"09:38\", \"938\" -> \"09:38\"\n",
    "mask_hhmm = str_time.str.fullmatch(r\"\\d{3,4}\", na=False)\n",
    "str_time.loc[mask_hhmm] = (\n",
    "    str_time.loc[mask_hhmm].str.zfill(4).str.replace(r\"(\\d{2})(\\d{2})\", r\"\\1:\\2\", regex=True)\n",
    ")\n",
    "\n",
    "# 3) Normalize one-digit minutes like \"9:6\" -> \"9:06\"\n",
    "str_time = str_time.str.replace(r\"^(\\d{1,2}):(\\d{1})$\", r\"\\1:0\\2\", regex=True)\n",
    "\n",
    "# 4) Parse as datetimes anchored to an arbitrary date\n",
    "time = pd.to_datetime(str_time, format=\"%H:%M\", errors=\"coerce\")\n",
    "\n",
    "# Save cleaned times to a new column\n",
    "df[\"Time_clean\"] = time.dt.strftime(\"%H:%M\")\n",
    "\n",
    "# 5) Mean time (straight mean; good if times don’t straddle midnight)\n",
    "mean_ts = time.dropna().mean()\n",
    "mean_time = mean_ts.strftime(\"%H:%M\") if pd.notna(mean_ts) else None\n",
    "\n",
    "print(f\"mean time: {mean_time}\")\n",
    "\n",
    "# fill null values in Time (24:00) with mean_time\n",
    "time_null = df[\"Time_clean\"].isnull()\n",
    "df.loc[time_null, \"Time (24:00)\"] = mean_time\n",
    "time_not_null = df[\"Time_clean\"].notnull()\n",
    "print(f\"count Time is not null: {time_not_null.sum()}\")\n",
    "\n",
    "df\n"
   ]
  },
  {
   "cell_type": "code",
   "execution_count": 100,
   "id": "af899d6d",
   "metadata": {},
   "outputs": [],
   "source": [
    "df.drop(columns=[\"Time (24:00)\"], inplace=True)"
   ]
  },
  {
   "cell_type": "code",
   "execution_count": 101,
   "id": "ef0fddc9",
   "metadata": {},
   "outputs": [
    {
     "name": "stdout",
     "output_type": "stream",
     "text": [
      "<class 'pandas.core.frame.DataFrame'>\n",
      "Index: 2368 entries, 0 to 2370\n",
      "Data columns (total 19 columns):\n",
      " #   Column                   Non-Null Count  Dtype         \n",
      "---  ------                   --------------  -----         \n",
      " 0   Site_Id                  2368 non-null   object        \n",
      " 1   Unit_Id                  32 non-null     object        \n",
      " 2   Read_Date                2368 non-null   datetime64[ns]\n",
      " 3   Salinity (ppt)           2239 non-null   float64       \n",
      " 4   Dissolved Oxygen (mg/L)  1519 non-null   float64       \n",
      " 5   pH (standard units)      2274 non-null   float64       \n",
      " 6   Secchi Depth (m)         2296 non-null   float64       \n",
      " 7   Water Depth (m)          2298 non-null   float64       \n",
      " 8   Water Temp (?C)          2248 non-null   float64       \n",
      " 9   Air Temp-Celsius         85 non-null     float64       \n",
      " 10  Air Temp (?F)            2298 non-null   float64       \n",
      " 11  Field_Tech               2330 non-null   object        \n",
      " 12  DateVerified             453 non-null    datetime64[ns]\n",
      " 13  WhoVerified              453 non-null    object        \n",
      " 14  AirTemp (C)              2368 non-null   float64       \n",
      " 15  Read_year                2368 non-null   int32         \n",
      " 16  Read_month               2368 non-null   int32         \n",
      " 17  Read_day                 2368 non-null   int32         \n",
      " 18  Time_clean               2368 non-null   object        \n",
      "dtypes: datetime64[ns](2), float64(9), int32(3), object(5)\n",
      "memory usage: 342.2+ KB\n"
     ]
    }
   ],
   "source": [
    "df.info()"
   ]
  },
  {
   "cell_type": "markdown",
   "id": "eec4a4ad",
   "metadata": {},
   "source": [
    "### DateVerified"
   ]
  },
  {
   "cell_type": "code",
   "execution_count": 103,
   "id": "be77772e",
   "metadata": {},
   "outputs": [
    {
     "name": "stdout",
     "output_type": "stream",
     "text": [
      "count of missing in date verified:1915\n"
     ]
    },
    {
     "data": {
      "text/plain": [
       "DateVerified\n",
       "2019-10-30    60\n",
       "2019-11-12    49\n",
       "2017-04-11    40\n",
       "2017-08-07    30\n",
       "2016-01-04    26\n",
       "2014-03-27    24\n",
       "2019-11-05    21\n",
       "2015-05-08    16\n",
       "2017-10-17    15\n",
       "2019-10-29    15\n",
       "2017-11-17     8\n",
       "2014-07-10     8\n",
       "2016-02-29     8\n",
       "2019-11-06     8\n",
       "2015-02-10     8\n",
       "2015-01-13     8\n",
       "2019-10-31     8\n",
       "2014-09-11     7\n",
       "2016-03-28     6\n",
       "2019-11-13     5\n",
       "2014-04-14     4\n",
       "2014-11-18     4\n",
       "2014-10-14     4\n",
       "2014-09-25     4\n",
       "2014-07-24     4\n",
       "2014-08-13     4\n",
       "2014-05-16     4\n",
       "2014-05-21     4\n",
       "2016-05-06     4\n",
       "2016-04-19     4\n",
       "2014-10-21     4\n",
       "2016-01-15     4\n",
       "2015-06-03     4\n",
       "2015-02-24     4\n",
       "2015-06-12     4\n",
       "2016-01-11     4\n",
       "2019-11-01     4\n",
       "2016-08-31     4\n",
       "2014-12-04     3\n",
       "2014-06-23     3\n",
       "2016-03-22     2\n",
       "2014-06-16     1\n",
       "2014-12-02     1\n",
       "2019-10-23     1\n",
       "Name: count, dtype: int64"
      ]
     },
     "execution_count": 103,
     "metadata": {},
     "output_type": "execute_result"
    }
   ],
   "source": [
    "df['DateVerified'] = pd.to_datetime(df['DateVerified'], errors='coerce')\n",
    "print(f\"count of missing in date verified:{df['DateVerified'].isna().sum()}\")\n",
    "df['DateVerified'].value_counts()"
   ]
  },
  {
   "cell_type": "code",
   "execution_count": 115,
   "id": "b85ab175",
   "metadata": {},
   "outputs": [
    {
     "data": {
      "text/plain": [
       "count     453.000000\n",
       "mean      191.754967\n",
       "std       310.033690\n",
       "min         0.000000\n",
       "25%        12.000000\n",
       "50%        58.000000\n",
       "75%       243.000000\n",
       "max      1552.000000\n",
       "Name: DateDiff, dtype: float64"
      ]
     },
     "execution_count": 115,
     "metadata": {},
     "output_type": "execute_result"
    }
   ],
   "source": [
    "dateverified_not_null = df['DateVerified'].notna()\n",
    "\n",
    "## difference between DateVerified and read_date in days\n",
    "df['DateDiff'] = (df.loc[dateverified_not_null, 'DateVerified'] - df.loc[dateverified_not_null, 'Read_Date']).dt.days\n",
    "df['DateDiff'].describe()"
   ]
  },
  {
   "cell_type": "code",
   "execution_count": 116,
   "id": "9369fb93",
   "metadata": {},
   "outputs": [
    {
     "data": {
      "text/plain": [
       "<Axes: >"
      ]
     },
     "execution_count": 116,
     "metadata": {},
     "output_type": "execute_result"
    },
    {
     "data": {
      "image/png": "[encoded data removed]",
      "text/plain": [
       "<Figure size 1200x600 with 1 Axes>"
      ]
     },
     "metadata": {},
     "output_type": "display_data"
    }
   ],
   "source": [
    "df['DateDiff'].hist(bins=50, figsize=(12, 6))"
   ]
  },
  {
   "cell_type": "code",
   "execution_count": 117,
   "id": "b0871eaa",
   "metadata": {},
   "outputs": [],
   "source": [
    "# to many outliers in DateDiff column and Date verified, so we will drop it and not use it for analysis\n",
    "df.drop(columns=['DateDiff','DateVerified'], inplace=True)"
   ]
  },
  {
   "cell_type": "code",
   "execution_count": 119,
   "id": "7f42a8eb",
   "metadata": {},
   "outputs": [
    {
     "name": "stdout",
     "output_type": "stream",
     "text": [
      "<class 'pandas.core.frame.DataFrame'>\n",
      "Index: 2368 entries, 0 to 2370\n",
      "Data columns (total 18 columns):\n",
      " #   Column                   Non-Null Count  Dtype         \n",
      "---  ------                   --------------  -----         \n",
      " 0   Site_Id                  2368 non-null   object        \n",
      " 1   Unit_Id                  32 non-null     object        \n",
      " 2   Read_Date                2368 non-null   datetime64[ns]\n",
      " 3   Salinity (ppt)           2239 non-null   float64       \n",
      " 4   Dissolved Oxygen (mg/L)  1519 non-null   float64       \n",
      " 5   pH (standard units)      2274 non-null   float64       \n",
      " 6   Secchi Depth (m)         2296 non-null   float64       \n",
      " 7   Water Depth (m)          2298 non-null   float64       \n",
      " 8   Water Temp (?C)          2248 non-null   float64       \n",
      " 9   Air Temp-Celsius         85 non-null     float64       \n",
      " 10  Air Temp (?F)            2298 non-null   float64       \n",
      " 11  Field_Tech               2330 non-null   object        \n",
      " 12  WhoVerified              453 non-null    object        \n",
      " 13  AirTemp (C)              2368 non-null   float64       \n",
      " 14  Read_year                2368 non-null   int32         \n",
      " 15  Read_month               2368 non-null   int32         \n",
      " 16  Read_day                 2368 non-null   int32         \n",
      " 17  Time_clean               2368 non-null   object        \n",
      "dtypes: datetime64[ns](1), float64(9), int32(3), object(5)\n",
      "memory usage: 323.8+ KB\n"
     ]
    }
   ],
   "source": [
    "df.info()"
   ]
  },
  {
   "cell_type": "markdown",
   "id": "566e519e",
   "metadata": {},
   "source": [
    "### Site Id"
   ]
  },
  {
   "cell_type": "code",
   "execution_count": 120,
   "id": "36c43645",
   "metadata": {},
   "outputs": [
    {
     "data": {
      "text/html": [
       "<div>\n",
       "<style scoped>\n",
       "    .dataframe tbody tr th:only-of-type {\n",
       "        vertical-align: middle;\n",
       "    }\n",
       "\n",
       "    .dataframe tbody tr th {\n",
       "        vertical-align: top;\n",
       "    }\n",
       "\n",
       "    .dataframe thead th {\n",
       "        text-align: right;\n",
       "    }\n",
       "</style>\n",
       "<table border=\"1\" class=\"dataframe\">\n",
       "  <thead>\n",
       "    <tr style=\"text-align: right;\">\n",
       "      <th></th>\n",
       "      <th>Site_Id</th>\n",
       "      <th>Unit_Id</th>\n",
       "      <th>Read_Date</th>\n",
       "      <th>Salinity (ppt)</th>\n",
       "      <th>Dissolved Oxygen (mg/L)</th>\n",
       "      <th>pH (standard units)</th>\n",
       "      <th>Secchi Depth (m)</th>\n",
       "      <th>Water Depth (m)</th>\n",
       "      <th>Water Temp (?C)</th>\n",
       "      <th>Air Temp-Celsius</th>\n",
       "      <th>Air Temp (?F)</th>\n",
       "      <th>Field_Tech</th>\n",
       "      <th>WhoVerified</th>\n",
       "      <th>AirTemp (C)</th>\n",
       "      <th>Read_year</th>\n",
       "      <th>Read_month</th>\n",
       "      <th>Read_day</th>\n",
       "      <th>Time_clean</th>\n",
       "    </tr>\n",
       "  </thead>\n",
       "  <tbody>\n",
       "  </tbody>\n",
       "</table>\n",
       "</div>"
      ],
      "text/plain": [
       "Empty DataFrame\n",
       "Columns: [Site_Id, Unit_Id, Read_Date, Salinity (ppt), Dissolved Oxygen (mg/L), pH (standard units), Secchi Depth (m), Water Depth (m), Water Temp (?C), Air Temp-Celsius, Air Temp (?F), Field_Tech, WhoVerified, AirTemp (C), Read_year, Read_month, Read_day, Time_clean]\n",
       "Index: []"
      ]
     },
     "execution_count": 120,
     "metadata": {},
     "output_type": "execute_result"
    }
   ],
   "source": [
    "df[df['Site_Id'].isnull()]"
   ]
  },
  {
   "cell_type": "code",
   "execution_count": 121,
   "id": "da5e510b",
   "metadata": {},
   "outputs": [
    {
     "data": {
      "text/plain": [
       "Site_Id\n",
       "Bay    793\n",
       "D      439\n",
       "B      437\n",
       "A      434\n",
       "C      264\n",
       "d        1\n",
       "Name: count, dtype: int64"
      ]
     },
     "execution_count": 121,
     "metadata": {},
     "output_type": "execute_result"
    }
   ],
   "source": [
    "df['Site_Id'].value_counts()"
   ]
  },
  {
   "cell_type": "code",
   "execution_count": 122,
   "id": "5d0bb452",
   "metadata": {},
   "outputs": [
    {
     "data": {
      "text/html": [
       "<div>\n",
       "<style scoped>\n",
       "    .dataframe tbody tr th:only-of-type {\n",
       "        vertical-align: middle;\n",
       "    }\n",
       "\n",
       "    .dataframe tbody tr th {\n",
       "        vertical-align: top;\n",
       "    }\n",
       "\n",
       "    .dataframe thead th {\n",
       "        text-align: right;\n",
       "    }\n",
       "</style>\n",
       "<table border=\"1\" class=\"dataframe\">\n",
       "  <thead>\n",
       "    <tr style=\"text-align: right;\">\n",
       "      <th></th>\n",
       "      <th>Site_Id</th>\n",
       "      <th>Unit_Id</th>\n",
       "      <th>Read_Date</th>\n",
       "      <th>Salinity (ppt)</th>\n",
       "      <th>Dissolved Oxygen (mg/L)</th>\n",
       "      <th>pH (standard units)</th>\n",
       "      <th>Secchi Depth (m)</th>\n",
       "      <th>Water Depth (m)</th>\n",
       "      <th>Water Temp (?C)</th>\n",
       "      <th>Air Temp-Celsius</th>\n",
       "      <th>Air Temp (?F)</th>\n",
       "      <th>Field_Tech</th>\n",
       "      <th>WhoVerified</th>\n",
       "      <th>AirTemp (C)</th>\n",
       "      <th>Read_year</th>\n",
       "      <th>Read_month</th>\n",
       "      <th>Read_day</th>\n",
       "      <th>Time_clean</th>\n",
       "    </tr>\n",
       "  </thead>\n",
       "  <tbody>\n",
       "    <tr>\n",
       "      <th>2027</th>\n",
       "      <td>d</td>\n",
       "      <td>01csv</td>\n",
       "      <td>2015-07-23</td>\n",
       "      <td>0.0</td>\n",
       "      <td>NaN</td>\n",
       "      <td>7.0</td>\n",
       "      <td>0.8</td>\n",
       "      <td>1.2</td>\n",
       "      <td>30.5</td>\n",
       "      <td>NaN</td>\n",
       "      <td>82.0</td>\n",
       "      <td>Sue Poe</td>\n",
       "      <td>NaN</td>\n",
       "      <td>27.777778</td>\n",
       "      <td>2015</td>\n",
       "      <td>7</td>\n",
       "      <td>23</td>\n",
       "      <td>10:55</td>\n",
       "    </tr>\n",
       "  </tbody>\n",
       "</table>\n",
       "</div>"
      ],
      "text/plain": [
       "     Site_Id Unit_Id  Read_Date  Salinity (ppt)  Dissolved Oxygen (mg/L)  \\\n",
       "2027       d   01csv 2015-07-23             0.0                      NaN   \n",
       "\n",
       "      pH (standard units)  Secchi Depth (m)  Water Depth (m)  Water Temp (?C)  \\\n",
       "2027                  7.0               0.8              1.2             30.5   \n",
       "\n",
       "      Air Temp-Celsius  Air Temp (?F) Field_Tech WhoVerified  AirTemp (C)  \\\n",
       "2027               NaN           82.0    Sue Poe         NaN    27.777778   \n",
       "\n",
       "      Read_year  Read_month  Read_day Time_clean  \n",
       "2027       2015           7        23      10:55  "
      ]
     },
     "execution_count": 122,
     "metadata": {},
     "output_type": "execute_result"
    }
   ],
   "source": [
    "df[df['Site_Id'] == 'd']"
   ]
  },
  {
   "cell_type": "markdown",
   "id": "5fefeb4e",
   "metadata": {},
   "source": [
    "#### Correcting Case error from Site_Id"
   ]
  },
  {
   "cell_type": "code",
   "execution_count": 123,
   "id": "631833e8",
   "metadata": {},
   "outputs": [],
   "source": [
    "df['Site_Id'] = df['Site_Id'].str.upper()"
   ]
  },
  {
   "cell_type": "code",
   "execution_count": 124,
   "id": "59e59f08",
   "metadata": {},
   "outputs": [
    {
     "data": {
      "text/plain": [
       "Site_Id\n",
       "BAY    793\n",
       "D      440\n",
       "B      437\n",
       "A      434\n",
       "C      264\n",
       "Name: count, dtype: int64"
      ]
     },
     "execution_count": 124,
     "metadata": {},
     "output_type": "execute_result"
    }
   ],
   "source": [
    "df['Site_Id'].value_counts()"
   ]
  },
  {
   "cell_type": "markdown",
   "id": "427e442a",
   "metadata": {},
   "source": [
    "### Droping invalid Site_Id entries"
   ]
  },
  {
   "cell_type": "code",
   "execution_count": 126,
   "id": "467c8afb",
   "metadata": {},
   "outputs": [],
   "source": [
    "df.dropna(subset=['Site_Id'], inplace=True)"
   ]
  },
  {
   "cell_type": "code",
   "execution_count": 127,
   "id": "4453a5ce",
   "metadata": {},
   "outputs": [
    {
     "data": {
      "text/plain": [
       "Site_Id                       0\n",
       "Unit_Id                    2336\n",
       "Read_Date                     0\n",
       "Salinity (ppt)              129\n",
       "Dissolved Oxygen (mg/L)     849\n",
       "pH (standard units)          94\n",
       "Secchi Depth (m)             72\n",
       "Water Depth (m)              70\n",
       "Water Temp (?C)             120\n",
       "Air Temp-Celsius           2283\n",
       "Air Temp (?F)                70\n",
       "Field_Tech                   38\n",
       "WhoVerified                1915\n",
       "AirTemp (C)                   0\n",
       "Read_year                     0\n",
       "Read_month                    0\n",
       "Read_day                      0\n",
       "Time_clean                    0\n",
       "dtype: int64"
      ]
     },
     "execution_count": 127,
     "metadata": {},
     "output_type": "execute_result"
    }
   ],
   "source": [
    "df.isnull().sum()"
   ]
  },
  {
   "cell_type": "markdown",
   "id": "7354ca1e",
   "metadata": {},
   "source": [
    "### Unit Id"
   ]
  },
  {
   "cell_type": "code",
   "execution_count": 128,
   "id": "3123386d",
   "metadata": {},
   "outputs": [
    {
     "data": {
      "text/plain": [
       "Unit_Id\n",
       "01csv    28\n",
       "01CSV     4\n",
       "Name: count, dtype: int64"
      ]
     },
     "execution_count": 128,
     "metadata": {},
     "output_type": "execute_result"
    }
   ],
   "source": [
    "\n",
    "df['Unit_Id'].value_counts()"
   ]
  },
  {
   "cell_type": "markdown",
   "id": "46c1b95d",
   "metadata": {},
   "source": [
    "unit_id consist of only 1 type of data points with typo error and also not for all data points which we can drop it."
   ]
  },
  {
   "cell_type": "code",
   "execution_count": 131,
   "id": "dea65e8a",
   "metadata": {},
   "outputs": [
    {
     "data": {
      "text/html": [
       "<div>\n",
       "<style scoped>\n",
       "    .dataframe tbody tr th:only-of-type {\n",
       "        vertical-align: middle;\n",
       "    }\n",
       "\n",
       "    .dataframe tbody tr th {\n",
       "        vertical-align: top;\n",
       "    }\n",
       "\n",
       "    .dataframe thead th {\n",
       "        text-align: right;\n",
       "    }\n",
       "</style>\n",
       "<table border=\"1\" class=\"dataframe\">\n",
       "  <thead>\n",
       "    <tr style=\"text-align: right;\">\n",
       "      <th></th>\n",
       "      <th>Site_Id</th>\n",
       "      <th>Unit_Id</th>\n",
       "      <th>Read_Date</th>\n",
       "      <th>Salinity (ppt)</th>\n",
       "      <th>Dissolved Oxygen (mg/L)</th>\n",
       "      <th>pH (standard units)</th>\n",
       "      <th>Secchi Depth (m)</th>\n",
       "      <th>Water Depth (m)</th>\n",
       "      <th>Water Temp (?C)</th>\n",
       "      <th>Air Temp-Celsius</th>\n",
       "      <th>Air Temp (?F)</th>\n",
       "      <th>Field_Tech</th>\n",
       "      <th>WhoVerified</th>\n",
       "      <th>AirTemp (C)</th>\n",
       "      <th>Read_year</th>\n",
       "      <th>Read_month</th>\n",
       "      <th>Read_day</th>\n",
       "      <th>Time_clean</th>\n",
       "    </tr>\n",
       "  </thead>\n",
       "  <tbody>\n",
       "    <tr>\n",
       "      <th>0</th>\n",
       "      <td>BAY</td>\n",
       "      <td>NaN</td>\n",
       "      <td>1994-01-03</td>\n",
       "      <td>1.3</td>\n",
       "      <td>11.7</td>\n",
       "      <td>7.3</td>\n",
       "      <td>0.40</td>\n",
       "      <td>0.40</td>\n",
       "      <td>5.9</td>\n",
       "      <td>8.0</td>\n",
       "      <td>46.40</td>\n",
       "      <td>NaN</td>\n",
       "      <td>NaN</td>\n",
       "      <td>8.000000</td>\n",
       "      <td>1994</td>\n",
       "      <td>1</td>\n",
       "      <td>3</td>\n",
       "      <td>11:00</td>\n",
       "    </tr>\n",
       "    <tr>\n",
       "      <th>1</th>\n",
       "      <td>BAY</td>\n",
       "      <td>NaN</td>\n",
       "      <td>1994-01-31</td>\n",
       "      <td>1.5</td>\n",
       "      <td>12.0</td>\n",
       "      <td>7.4</td>\n",
       "      <td>0.20</td>\n",
       "      <td>0.35</td>\n",
       "      <td>3.0</td>\n",
       "      <td>2.6</td>\n",
       "      <td>36.68</td>\n",
       "      <td>NaN</td>\n",
       "      <td>NaN</td>\n",
       "      <td>2.600000</td>\n",
       "      <td>1994</td>\n",
       "      <td>1</td>\n",
       "      <td>31</td>\n",
       "      <td>11:30</td>\n",
       "    </tr>\n",
       "    <tr>\n",
       "      <th>2</th>\n",
       "      <td>BAY</td>\n",
       "      <td>NaN</td>\n",
       "      <td>1994-02-07</td>\n",
       "      <td>1.0</td>\n",
       "      <td>10.5</td>\n",
       "      <td>7.2</td>\n",
       "      <td>0.25</td>\n",
       "      <td>0.60</td>\n",
       "      <td>5.9</td>\n",
       "      <td>7.6</td>\n",
       "      <td>45.68</td>\n",
       "      <td>NaN</td>\n",
       "      <td>NaN</td>\n",
       "      <td>7.600000</td>\n",
       "      <td>1994</td>\n",
       "      <td>2</td>\n",
       "      <td>7</td>\n",
       "      <td>09:45</td>\n",
       "    </tr>\n",
       "    <tr>\n",
       "      <th>3</th>\n",
       "      <td>BAY</td>\n",
       "      <td>NaN</td>\n",
       "      <td>1994-02-23</td>\n",
       "      <td>1.0</td>\n",
       "      <td>10.1</td>\n",
       "      <td>7.4</td>\n",
       "      <td>0.35</td>\n",
       "      <td>0.50</td>\n",
       "      <td>10.0</td>\n",
       "      <td>2.7</td>\n",
       "      <td>36.86</td>\n",
       "      <td>NaN</td>\n",
       "      <td>NaN</td>\n",
       "      <td>2.700000</td>\n",
       "      <td>1994</td>\n",
       "      <td>2</td>\n",
       "      <td>23</td>\n",
       "      <td>04:15</td>\n",
       "    </tr>\n",
       "    <tr>\n",
       "      <th>4</th>\n",
       "      <td>BAY</td>\n",
       "      <td>NaN</td>\n",
       "      <td>1994-02-28</td>\n",
       "      <td>1.0</td>\n",
       "      <td>12.6</td>\n",
       "      <td>7.2</td>\n",
       "      <td>0.20</td>\n",
       "      <td>0.40</td>\n",
       "      <td>1.6</td>\n",
       "      <td>0.0</td>\n",
       "      <td>32.00</td>\n",
       "      <td>NaN</td>\n",
       "      <td>NaN</td>\n",
       "      <td>0.000000</td>\n",
       "      <td>1994</td>\n",
       "      <td>2</td>\n",
       "      <td>28</td>\n",
       "      <td>10:30</td>\n",
       "    </tr>\n",
       "    <tr>\n",
       "      <th>...</th>\n",
       "      <td>...</td>\n",
       "      <td>...</td>\n",
       "      <td>...</td>\n",
       "      <td>...</td>\n",
       "      <td>...</td>\n",
       "      <td>...</td>\n",
       "      <td>...</td>\n",
       "      <td>...</td>\n",
       "      <td>...</td>\n",
       "      <td>...</td>\n",
       "      <td>...</td>\n",
       "      <td>...</td>\n",
       "      <td>...</td>\n",
       "      <td>...</td>\n",
       "      <td>...</td>\n",
       "      <td>...</td>\n",
       "      <td>...</td>\n",
       "      <td>...</td>\n",
       "    </tr>\n",
       "    <tr>\n",
       "      <th>2366</th>\n",
       "      <td>BAY</td>\n",
       "      <td>NaN</td>\n",
       "      <td>2018-10-11</td>\n",
       "      <td>1.9</td>\n",
       "      <td>5.0</td>\n",
       "      <td>7.0</td>\n",
       "      <td>4.00</td>\n",
       "      <td>1.20</td>\n",
       "      <td>25.0</td>\n",
       "      <td>NaN</td>\n",
       "      <td>78.00</td>\n",
       "      <td>Sue Poe</td>\n",
       "      <td>Christine Folks</td>\n",
       "      <td>25.555556</td>\n",
       "      <td>2018</td>\n",
       "      <td>10</td>\n",
       "      <td>11</td>\n",
       "      <td>09:30</td>\n",
       "    </tr>\n",
       "    <tr>\n",
       "      <th>2367</th>\n",
       "      <td>BAY</td>\n",
       "      <td>NaN</td>\n",
       "      <td>2018-10-24</td>\n",
       "      <td>0.0</td>\n",
       "      <td>9.0</td>\n",
       "      <td>7.0</td>\n",
       "      <td>0.30</td>\n",
       "      <td>0.60</td>\n",
       "      <td>18.0</td>\n",
       "      <td>NaN</td>\n",
       "      <td>58.00</td>\n",
       "      <td>Sue Poe</td>\n",
       "      <td>Christine Folks</td>\n",
       "      <td>14.444444</td>\n",
       "      <td>2018</td>\n",
       "      <td>10</td>\n",
       "      <td>24</td>\n",
       "      <td>09:30</td>\n",
       "    </tr>\n",
       "    <tr>\n",
       "      <th>2368</th>\n",
       "      <td>BAY</td>\n",
       "      <td>NaN</td>\n",
       "      <td>2018-10-28</td>\n",
       "      <td>0.9</td>\n",
       "      <td>2.9</td>\n",
       "      <td>7.0</td>\n",
       "      <td>0.40</td>\n",
       "      <td>0.90</td>\n",
       "      <td>13.0</td>\n",
       "      <td>NaN</td>\n",
       "      <td>49.00</td>\n",
       "      <td>Sue Poe</td>\n",
       "      <td>Christine Folks</td>\n",
       "      <td>9.444444</td>\n",
       "      <td>2018</td>\n",
       "      <td>10</td>\n",
       "      <td>28</td>\n",
       "      <td>09:20</td>\n",
       "    </tr>\n",
       "    <tr>\n",
       "      <th>2369</th>\n",
       "      <td>BAY</td>\n",
       "      <td>NaN</td>\n",
       "      <td>2018-11-07</td>\n",
       "      <td>1.7</td>\n",
       "      <td>NaN</td>\n",
       "      <td>7.0</td>\n",
       "      <td>0.45</td>\n",
       "      <td>0.90</td>\n",
       "      <td>20.0</td>\n",
       "      <td>NaN</td>\n",
       "      <td>65.00</td>\n",
       "      <td>Sue Poe</td>\n",
       "      <td>Christine Folks</td>\n",
       "      <td>18.333333</td>\n",
       "      <td>2018</td>\n",
       "      <td>11</td>\n",
       "      <td>7</td>\n",
       "      <td>09:45</td>\n",
       "    </tr>\n",
       "    <tr>\n",
       "      <th>2370</th>\n",
       "      <td>BAY</td>\n",
       "      <td>NaN</td>\n",
       "      <td>2018-12-11</td>\n",
       "      <td>0.1</td>\n",
       "      <td>NaN</td>\n",
       "      <td>7.0</td>\n",
       "      <td>0.10</td>\n",
       "      <td>0.10</td>\n",
       "      <td>10.0</td>\n",
       "      <td>NaN</td>\n",
       "      <td>42.00</td>\n",
       "      <td>Sue Poe</td>\n",
       "      <td>Christine Folks</td>\n",
       "      <td>5.555556</td>\n",
       "      <td>2018</td>\n",
       "      <td>12</td>\n",
       "      <td>11</td>\n",
       "      <td>09:40</td>\n",
       "    </tr>\n",
       "  </tbody>\n",
       "</table>\n",
       "<p>2336 rows × 18 columns</p>\n",
       "</div>"
      ],
      "text/plain": [
       "     Site_Id Unit_Id  Read_Date  Salinity (ppt)  Dissolved Oxygen (mg/L)  \\\n",
       "0        BAY     NaN 1994-01-03             1.3                     11.7   \n",
       "1        BAY     NaN 1994-01-31             1.5                     12.0   \n",
       "2        BAY     NaN 1994-02-07             1.0                     10.5   \n",
       "3        BAY     NaN 1994-02-23             1.0                     10.1   \n",
       "4        BAY     NaN 1994-02-28             1.0                     12.6   \n",
       "...      ...     ...        ...             ...                      ...   \n",
       "2366     BAY     NaN 2018-10-11             1.9                      5.0   \n",
       "2367     BAY     NaN 2018-10-24             0.0                      9.0   \n",
       "2368     BAY     NaN 2018-10-28             0.9                      2.9   \n",
       "2369     BAY     NaN 2018-11-07             1.7                      NaN   \n",
       "2370     BAY     NaN 2018-12-11             0.1                      NaN   \n",
       "\n",
       "      pH (standard units)  Secchi Depth (m)  Water Depth (m)  Water Temp (?C)  \\\n",
       "0                     7.3              0.40             0.40              5.9   \n",
       "1                     7.4              0.20             0.35              3.0   \n",
       "2                     7.2              0.25             0.60              5.9   \n",
       "3                     7.4              0.35             0.50             10.0   \n",
       "4                     7.2              0.20             0.40              1.6   \n",
       "...                   ...               ...              ...              ...   \n",
       "2366                  7.0              4.00             1.20             25.0   \n",
       "2367                  7.0              0.30             0.60             18.0   \n",
       "2368                  7.0              0.40             0.90             13.0   \n",
       "2369                  7.0              0.45             0.90             20.0   \n",
       "2370                  7.0              0.10             0.10             10.0   \n",
       "\n",
       "      Air Temp-Celsius  Air Temp (?F) Field_Tech      WhoVerified  \\\n",
       "0                  8.0          46.40        NaN              NaN   \n",
       "1                  2.6          36.68        NaN              NaN   \n",
       "2                  7.6          45.68        NaN              NaN   \n",
       "3                  2.7          36.86        NaN              NaN   \n",
       "4                  0.0          32.00        NaN              NaN   \n",
       "...                ...            ...        ...              ...   \n",
       "2366               NaN          78.00    Sue Poe  Christine Folks   \n",
       "2367               NaN          58.00    Sue Poe  Christine Folks   \n",
       "2368               NaN          49.00    Sue Poe  Christine Folks   \n",
       "2369               NaN          65.00    Sue Poe  Christine Folks   \n",
       "2370               NaN          42.00    Sue Poe  Christine Folks   \n",
       "\n",
       "      AirTemp (C)  Read_year  Read_month  Read_day Time_clean  \n",
       "0        8.000000       1994           1         3      11:00  \n",
       "1        2.600000       1994           1        31      11:30  \n",
       "2        7.600000       1994           2         7      09:45  \n",
       "3        2.700000       1994           2        23      04:15  \n",
       "4        0.000000       1994           2        28      10:30  \n",
       "...           ...        ...         ...       ...        ...  \n",
       "2366    25.555556       2018          10        11      09:30  \n",
       "2367    14.444444       2018          10        24      09:30  \n",
       "2368     9.444444       2018          10        28      09:20  \n",
       "2369    18.333333       2018          11         7      09:45  \n",
       "2370     5.555556       2018          12        11      09:40  \n",
       "\n",
       "[2336 rows x 18 columns]"
      ]
     },
     "execution_count": 131,
     "metadata": {},
     "output_type": "execute_result"
    }
   ],
   "source": [
    "df[df['Unit_Id'].isnull()]"
   ]
  },
  {
   "cell_type": "markdown",
   "id": "0a4dd32e",
   "metadata": {},
   "source": [
    "#### WhoVerified"
   ]
  },
  {
   "cell_type": "code",
   "execution_count": 132,
   "id": "672a50fa",
   "metadata": {},
   "outputs": [
    {
     "data": {
      "text/plain": [
       "WhoVerified\n",
       "Christine Folks       171\n",
       "Kayla Braasch          62\n",
       "Carly Sibilia          53\n",
       "Rebecca Walawender     51\n",
       "Erin Bailey            40\n",
       "Karen Beatty           28\n",
       "Amy Keiler             23\n",
       "Karen Callaway         12\n",
       "K Beatty                5\n",
       "Trenton Miller          4\n",
       "K. Beatty               3\n",
       "amy keiler              1\n",
       "Name: count, dtype: int64"
      ]
     },
     "execution_count": 132,
     "metadata": {},
     "output_type": "execute_result"
    }
   ],
   "source": [
    "df['WhoVerified'].value_counts()"
   ]
  },
  {
   "cell_type": "markdown",
   "id": "40e6c69f",
   "metadata": {},
   "source": [
    "we can drop WhoVerified column as its are not useful for our analysis"
   ]
  },
  {
   "cell_type": "markdown",
   "id": "5b4d5d10",
   "metadata": {},
   "source": [
    "### Field_Tech"
   ]
  },
  {
   "cell_type": "code",
   "execution_count": 138,
   "id": "0cb5f675",
   "metadata": {},
   "outputs": [
    {
     "ename": "KeyError",
     "evalue": "'Field_Tech'",
     "output_type": "error",
     "traceback": [
      "\u001b[31m---------------------------------------------------------------------------\u001b[39m",
      "\u001b[31mKeyError\u001b[39m                                  Traceback (most recent call last)",
      "\u001b[36mFile \u001b[39m\u001b[32mc:\\Users\\amey9\\Documents\\GitHub\\DataScience-100-Days-of-Data-Science\\.venv\\Lib\\site-packages\\pandas\\core\\indexes\\base.py:3812\u001b[39m, in \u001b[36mIndex.get_loc\u001b[39m\u001b[34m(self, key)\u001b[39m\n\u001b[32m   3811\u001b[39m \u001b[38;5;28;01mtry\u001b[39;00m:\n\u001b[32m-> \u001b[39m\u001b[32m3812\u001b[39m     \u001b[38;5;28;01mreturn\u001b[39;00m \u001b[38;5;28;43mself\u001b[39;49m\u001b[43m.\u001b[49m\u001b[43m_engine\u001b[49m\u001b[43m.\u001b[49m\u001b[43mget_loc\u001b[49m\u001b[43m(\u001b[49m\u001b[43mcasted_key\u001b[49m\u001b[43m)\u001b[49m\n\u001b[32m   3813\u001b[39m \u001b[38;5;28;01mexcept\u001b[39;00m \u001b[38;5;167;01mKeyError\u001b[39;00m \u001b[38;5;28;01mas\u001b[39;00m err:\n",
      "\u001b[36mFile \u001b[39m\u001b[32mpandas/_libs/index.pyx:167\u001b[39m, in \u001b[36mpandas._libs.index.IndexEngine.get_loc\u001b[39m\u001b[34m()\u001b[39m\n",
      "\u001b[36mFile \u001b[39m\u001b[32mpandas/_libs/index.pyx:196\u001b[39m, in \u001b[36mpandas._libs.index.IndexEngine.get_loc\u001b[39m\u001b[34m()\u001b[39m\n",
      "\u001b[36mFile \u001b[39m\u001b[32mpandas/_libs/hashtable_class_helper.pxi:7088\u001b[39m, in \u001b[36mpandas._libs.hashtable.PyObjectHashTable.get_item\u001b[39m\u001b[34m()\u001b[39m\n",
      "\u001b[36mFile \u001b[39m\u001b[32mpandas/_libs/hashtable_class_helper.pxi:7096\u001b[39m, in \u001b[36mpandas._libs.hashtable.PyObjectHashTable.get_item\u001b[39m\u001b[34m()\u001b[39m\n",
      "\u001b[31mKeyError\u001b[39m: 'Field_Tech'",
      "\nThe above exception was the direct cause of the following exception:\n",
      "\u001b[31mKeyError\u001b[39m                                  Traceback (most recent call last)",
      "\u001b[36mCell\u001b[39m\u001b[36m \u001b[39m\u001b[32mIn[138]\u001b[39m\u001b[32m, line 1\u001b[39m\n\u001b[32m----> \u001b[39m\u001b[32m1\u001b[39m \u001b[43mdf\u001b[49m\u001b[43m[\u001b[49m\u001b[33;43m'\u001b[39;49m\u001b[33;43mField_Tech\u001b[39;49m\u001b[33;43m'\u001b[39;49m\u001b[43m]\u001b[49m.value_counts()\n",
      "\u001b[36mFile \u001b[39m\u001b[32mc:\\Users\\amey9\\Documents\\GitHub\\DataScience-100-Days-of-Data-Science\\.venv\\Lib\\site-packages\\pandas\\core\\frame.py:4107\u001b[39m, in \u001b[36mDataFrame.__getitem__\u001b[39m\u001b[34m(self, key)\u001b[39m\n\u001b[32m   4105\u001b[39m \u001b[38;5;28;01mif\u001b[39;00m \u001b[38;5;28mself\u001b[39m.columns.nlevels > \u001b[32m1\u001b[39m:\n\u001b[32m   4106\u001b[39m     \u001b[38;5;28;01mreturn\u001b[39;00m \u001b[38;5;28mself\u001b[39m._getitem_multilevel(key)\n\u001b[32m-> \u001b[39m\u001b[32m4107\u001b[39m indexer = \u001b[38;5;28;43mself\u001b[39;49m\u001b[43m.\u001b[49m\u001b[43mcolumns\u001b[49m\u001b[43m.\u001b[49m\u001b[43mget_loc\u001b[49m\u001b[43m(\u001b[49m\u001b[43mkey\u001b[49m\u001b[43m)\u001b[49m\n\u001b[32m   4108\u001b[39m \u001b[38;5;28;01mif\u001b[39;00m is_integer(indexer):\n\u001b[32m   4109\u001b[39m     indexer = [indexer]\n",
      "\u001b[36mFile \u001b[39m\u001b[32mc:\\Users\\amey9\\Documents\\GitHub\\DataScience-100-Days-of-Data-Science\\.venv\\Lib\\site-packages\\pandas\\core\\indexes\\base.py:3819\u001b[39m, in \u001b[36mIndex.get_loc\u001b[39m\u001b[34m(self, key)\u001b[39m\n\u001b[32m   3814\u001b[39m     \u001b[38;5;28;01mif\u001b[39;00m \u001b[38;5;28misinstance\u001b[39m(casted_key, \u001b[38;5;28mslice\u001b[39m) \u001b[38;5;129;01mor\u001b[39;00m (\n\u001b[32m   3815\u001b[39m         \u001b[38;5;28misinstance\u001b[39m(casted_key, abc.Iterable)\n\u001b[32m   3816\u001b[39m         \u001b[38;5;129;01mand\u001b[39;00m \u001b[38;5;28many\u001b[39m(\u001b[38;5;28misinstance\u001b[39m(x, \u001b[38;5;28mslice\u001b[39m) \u001b[38;5;28;01mfor\u001b[39;00m x \u001b[38;5;129;01min\u001b[39;00m casted_key)\n\u001b[32m   3817\u001b[39m     ):\n\u001b[32m   3818\u001b[39m         \u001b[38;5;28;01mraise\u001b[39;00m InvalidIndexError(key)\n\u001b[32m-> \u001b[39m\u001b[32m3819\u001b[39m     \u001b[38;5;28;01mraise\u001b[39;00m \u001b[38;5;167;01mKeyError\u001b[39;00m(key) \u001b[38;5;28;01mfrom\u001b[39;00m\u001b[38;5;250m \u001b[39m\u001b[34;01merr\u001b[39;00m\n\u001b[32m   3820\u001b[39m \u001b[38;5;28;01mexcept\u001b[39;00m \u001b[38;5;167;01mTypeError\u001b[39;00m:\n\u001b[32m   3821\u001b[39m     \u001b[38;5;66;03m# If we have a listlike key, _check_indexing_error will raise\u001b[39;00m\n\u001b[32m   3822\u001b[39m     \u001b[38;5;66;03m#  InvalidIndexError. Otherwise we fall through and re-raise\u001b[39;00m\n\u001b[32m   3823\u001b[39m     \u001b[38;5;66;03m#  the TypeError.\u001b[39;00m\n\u001b[32m   3824\u001b[39m     \u001b[38;5;28mself\u001b[39m._check_indexing_error(key)\n",
      "\u001b[31mKeyError\u001b[39m: 'Field_Tech'"
     ]
    }
   ],
   "source": [
    "df['Field_Tech'].value_counts()"
   ]
  },
  {
   "cell_type": "markdown",
   "id": "add3bf5e",
   "metadata": {},
   "source": [
    "we can drop Field_Tech column as its are not useful for our analysis"
   ]
  },
  {
   "cell_type": "code",
   "execution_count": null,
   "id": "014e3c0e",
   "metadata": {},
   "outputs": [],
   "source": [
    "# remove columns which are not required for analysis\n",
    "df.drop(columns=['Unit_Id','WhoVerified','Field_Tech'], inplace=True)"
   ]
  },
  {
   "cell_type": "code",
   "execution_count": 141,
   "id": "7e9b5a71",
   "metadata": {},
   "outputs": [
    {
     "name": "stdout",
     "output_type": "stream",
     "text": [
      "<class 'pandas.core.frame.DataFrame'>\n",
      "Index: 2368 entries, 0 to 2370\n",
      "Data columns (total 15 columns):\n",
      " #   Column                   Non-Null Count  Dtype         \n",
      "---  ------                   --------------  -----         \n",
      " 0   Site_Id                  2368 non-null   object        \n",
      " 1   Read_Date                2368 non-null   datetime64[ns]\n",
      " 2   Salinity (ppt)           2239 non-null   float64       \n",
      " 3   Dissolved Oxygen (mg/L)  1519 non-null   float64       \n",
      " 4   pH (standard units)      2274 non-null   float64       \n",
      " 5   Secchi Depth (m)         2296 non-null   float64       \n",
      " 6   Water Depth (m)          2298 non-null   float64       \n",
      " 7   Water Temp (?C)          2248 non-null   float64       \n",
      " 8   Air Temp-Celsius         85 non-null     float64       \n",
      " 9   Air Temp (?F)            2298 non-null   float64       \n",
      " 10  AirTemp (C)              2368 non-null   float64       \n",
      " 11  Read_year                2368 non-null   int32         \n",
      " 12  Read_month               2368 non-null   int32         \n",
      " 13  Read_day                 2368 non-null   int32         \n",
      " 14  Time_clean               2368 non-null   object        \n",
      "dtypes: datetime64[ns](1), float64(9), int32(3), object(2)\n",
      "memory usage: 268.2+ KB\n"
     ]
    }
   ],
   "source": [
    "df.info()"
   ]
  },
  {
   "cell_type": "markdown",
   "id": "dedfe947",
   "metadata": {},
   "source": [
    "### Salinity (ppt)"
   ]
  },
  {
   "cell_type": "code",
   "execution_count": 142,
   "id": "7301a7b2",
   "metadata": {},
   "outputs": [
    {
     "data": {
      "text/plain": [
       "(129, 15)"
      ]
     },
     "execution_count": 142,
     "metadata": {},
     "output_type": "execute_result"
    }
   ],
   "source": [
    "df[df['Salinity (ppt)'].isna()].shape"
   ]
  },
  {
   "cell_type": "code",
   "execution_count": 143,
   "id": "d5c3ee4d",
   "metadata": {},
   "outputs": [
    {
     "data": {
      "text/plain": [
       "count    2239.000000\n",
       "mean        0.717709\n",
       "std         1.231182\n",
       "min         0.000000\n",
       "25%         0.000000\n",
       "50%         0.000000\n",
       "75%         1.000000\n",
       "max         9.000000\n",
       "Name: Salinity (ppt), dtype: float64"
      ]
     },
     "execution_count": 143,
     "metadata": {},
     "output_type": "execute_result"
    }
   ],
   "source": [
    "salinity = pd.to_numeric(df['Salinity (ppt)'], errors='coerce')\n",
    "salinity.describe()"
   ]
  },
  {
   "cell_type": "code",
   "execution_count": 144,
   "id": "2240af25",
   "metadata": {},
   "outputs": [
    {
     "data": {
      "text/plain": [
       "<Axes: >"
      ]
     },
     "execution_count": 144,
     "metadata": {},
     "output_type": "execute_result"
    },
    {
     "data": {
      "image/png": "[encoded data removed]",
      "text/plain": [
       "<Figure size 640x480 with 1 Axes>"
      ]
     },
     "metadata": {},
     "output_type": "display_data"
    }
   ],
   "source": [
    "salinity.hist(bins=50)"
   ]
  },
  {
   "cell_type": "code",
   "execution_count": 150,
   "id": "0d8d13c3",
   "metadata": {},
   "outputs": [
    {
     "name": "stdout",
     "output_type": "stream",
     "text": [
      "Overall missing rate: 5.45 %\n",
      "Site_Id\n",
      "BAY    0.065574\n",
      "C      0.064394\n",
      "A      0.046083\n",
      "B      0.045767\n",
      "D      0.045455\n",
      "Name: Salinity (ppt), dtype: float64\n"
     ]
    }
   ],
   "source": [
    "\n",
    "miss_rate = salinity.isna().mean()\n",
    "by_site = df.groupby('Site_Id')['Salinity (ppt)'].apply(lambda x: x.isna().mean()).sort_values(ascending=False)\n",
    "print(\"Overall missing rate:\", round(100*miss_rate,2), \"%\")\n",
    "print(by_site.head(10))"
   ]
  },
  {
   "cell_type": "code",
   "execution_count": null,
   "id": "5f4f9dd6",
   "metadata": {},
   "outputs": [],
   "source": [
    "# replace missinf values with mean salinity based on site and month\n",
    "df[\"Salinity_clean_ppt\"] = df.groupby([\"Site_Id\", \"Read_month\"])[\"Salinity (ppt)\"].transform(\n",
    "    lambda x: x.fillna(x.mean())\n",
    ")\n"
   ]
  },
  {
   "cell_type": "code",
   "execution_count": 152,
   "id": "c7d2207b",
   "metadata": {},
   "outputs": [
    {
     "data": {
      "text/html": [
       "<div>\n",
       "<style scoped>\n",
       "    .dataframe tbody tr th:only-of-type {\n",
       "        vertical-align: middle;\n",
       "    }\n",
       "\n",
       "    .dataframe tbody tr th {\n",
       "        vertical-align: top;\n",
       "    }\n",
       "\n",
       "    .dataframe thead th {\n",
       "        text-align: right;\n",
       "    }\n",
       "</style>\n",
       "<table border=\"1\" class=\"dataframe\">\n",
       "  <thead>\n",
       "    <tr style=\"text-align: right;\">\n",
       "      <th></th>\n",
       "      <th>Read_Date</th>\n",
       "      <th>Salinity (ppt)</th>\n",
       "      <th>Dissolved Oxygen (mg/L)</th>\n",
       "      <th>pH (standard units)</th>\n",
       "      <th>Secchi Depth (m)</th>\n",
       "      <th>Water Depth (m)</th>\n",
       "      <th>Water Temp (?C)</th>\n",
       "      <th>Air Temp-Celsius</th>\n",
       "      <th>Air Temp (?F)</th>\n",
       "      <th>AirTemp (C)</th>\n",
       "      <th>Read_year</th>\n",
       "      <th>Read_month</th>\n",
       "      <th>Read_day</th>\n",
       "      <th>salinity_clean</th>\n",
       "    </tr>\n",
       "  </thead>\n",
       "  <tbody>\n",
       "    <tr>\n",
       "      <th>count</th>\n",
       "      <td>2368</td>\n",
       "      <td>2239.000000</td>\n",
       "      <td>1519.000000</td>\n",
       "      <td>2274.000000</td>\n",
       "      <td>2296.000000</td>\n",
       "      <td>2298.000000</td>\n",
       "      <td>2248.000000</td>\n",
       "      <td>85.000000</td>\n",
       "      <td>2298.000000</td>\n",
       "      <td>2368.000000</td>\n",
       "      <td>2368.000000</td>\n",
       "      <td>2368.000000</td>\n",
       "      <td>2368.000000</td>\n",
       "      <td>2368.000000</td>\n",
       "    </tr>\n",
       "    <tr>\n",
       "      <th>mean</th>\n",
       "      <td>2006-10-13 16:14:47.837837824</td>\n",
       "      <td>0.717709</td>\n",
       "      <td>6.648071</td>\n",
       "      <td>7.168580</td>\n",
       "      <td>0.525094</td>\n",
       "      <td>0.762221</td>\n",
       "      <td>18.062193</td>\n",
       "      <td>16.437647</td>\n",
       "      <td>62.052552</td>\n",
       "      <td>15.676793</td>\n",
       "      <td>2006.286318</td>\n",
       "      <td>6.545186</td>\n",
       "      <td>14.153294</td>\n",
       "      <td>0.724246</td>\n",
       "    </tr>\n",
       "    <tr>\n",
       "      <th>min</th>\n",
       "      <td>1989-05-11 00:00:00</td>\n",
       "      <td>0.000000</td>\n",
       "      <td>0.000000</td>\n",
       "      <td>0.300000</td>\n",
       "      <td>0.000000</td>\n",
       "      <td>0.010000</td>\n",
       "      <td>0.000000</td>\n",
       "      <td>0.000000</td>\n",
       "      <td>10.500000</td>\n",
       "      <td>-17.777778</td>\n",
       "      <td>1989.000000</td>\n",
       "      <td>1.000000</td>\n",
       "      <td>1.000000</td>\n",
       "      <td>0.000000</td>\n",
       "    </tr>\n",
       "    <tr>\n",
       "      <th>25%</th>\n",
       "      <td>2001-10-02 00:00:00</td>\n",
       "      <td>0.000000</td>\n",
       "      <td>4.800000</td>\n",
       "      <td>6.500000</td>\n",
       "      <td>0.300000</td>\n",
       "      <td>0.400000</td>\n",
       "      <td>11.000000</td>\n",
       "      <td>9.000000</td>\n",
       "      <td>49.000000</td>\n",
       "      <td>8.888889</td>\n",
       "      <td>2001.000000</td>\n",
       "      <td>4.000000</td>\n",
       "      <td>7.000000</td>\n",
       "      <td>0.000000</td>\n",
       "    </tr>\n",
       "    <tr>\n",
       "      <th>50%</th>\n",
       "      <td>2007-03-01 00:00:00</td>\n",
       "      <td>0.000000</td>\n",
       "      <td>6.500000</td>\n",
       "      <td>7.000000</td>\n",
       "      <td>0.400000</td>\n",
       "      <td>0.650000</td>\n",
       "      <td>19.000000</td>\n",
       "      <td>15.000000</td>\n",
       "      <td>63.000000</td>\n",
       "      <td>16.666667</td>\n",
       "      <td>2007.000000</td>\n",
       "      <td>7.000000</td>\n",
       "      <td>14.000000</td>\n",
       "      <td>0.000000</td>\n",
       "    </tr>\n",
       "    <tr>\n",
       "      <th>75%</th>\n",
       "      <td>2012-08-09 00:00:00</td>\n",
       "      <td>1.000000</td>\n",
       "      <td>8.500000</td>\n",
       "      <td>7.500000</td>\n",
       "      <td>0.650000</td>\n",
       "      <td>0.950000</td>\n",
       "      <td>25.000000</td>\n",
       "      <td>21.700000</td>\n",
       "      <td>75.000000</td>\n",
       "      <td>23.888889</td>\n",
       "      <td>2012.000000</td>\n",
       "      <td>9.250000</td>\n",
       "      <td>21.000000</td>\n",
       "      <td>1.000000</td>\n",
       "    </tr>\n",
       "    <tr>\n",
       "      <th>max</th>\n",
       "      <td>2019-11-05 00:00:00</td>\n",
       "      <td>9.000000</td>\n",
       "      <td>15.100000</td>\n",
       "      <td>9.900000</td>\n",
       "      <td>9.000000</td>\n",
       "      <td>12.000000</td>\n",
       "      <td>74.000000</td>\n",
       "      <td>74.000000</td>\n",
       "      <td>92.300000</td>\n",
       "      <td>33.500000</td>\n",
       "      <td>2019.000000</td>\n",
       "      <td>12.000000</td>\n",
       "      <td>31.000000</td>\n",
       "      <td>9.000000</td>\n",
       "    </tr>\n",
       "    <tr>\n",
       "      <th>std</th>\n",
       "      <td>NaN</td>\n",
       "      <td>1.231182</td>\n",
       "      <td>2.506441</td>\n",
       "      <td>0.788699</td>\n",
       "      <td>0.473823</td>\n",
       "      <td>0.621009</td>\n",
       "      <td>8.301080</td>\n",
       "      <td>11.754138</td>\n",
       "      <td>15.496673</td>\n",
       "      <td>10.297299</td>\n",
       "      <td>7.551426</td>\n",
       "      <td>3.390833</td>\n",
       "      <td>8.453890</td>\n",
       "      <td>1.205892</td>\n",
       "    </tr>\n",
       "  </tbody>\n",
       "</table>\n",
       "</div>"
      ],
      "text/plain": [
       "                           Read_Date  Salinity (ppt)  Dissolved Oxygen (mg/L)  \\\n",
       "count                           2368     2239.000000              1519.000000   \n",
       "mean   2006-10-13 16:14:47.837837824        0.717709                 6.648071   \n",
       "min              1989-05-11 00:00:00        0.000000                 0.000000   \n",
       "25%              2001-10-02 00:00:00        0.000000                 4.800000   \n",
       "50%              2007-03-01 00:00:00        0.000000                 6.500000   \n",
       "75%              2012-08-09 00:00:00        1.000000                 8.500000   \n",
       "max              2019-11-05 00:00:00        9.000000                15.100000   \n",
       "std                              NaN        1.231182                 2.506441   \n",
       "\n",
       "       pH (standard units)  Secchi Depth (m)  Water Depth (m)  \\\n",
       "count          2274.000000       2296.000000      2298.000000   \n",
       "mean              7.168580          0.525094         0.762221   \n",
       "min               0.300000          0.000000         0.010000   \n",
       "25%               6.500000          0.300000         0.400000   \n",
       "50%               7.000000          0.400000         0.650000   \n",
       "75%               7.500000          0.650000         0.950000   \n",
       "max               9.900000          9.000000        12.000000   \n",
       "std               0.788699          0.473823         0.621009   \n",
       "\n",
       "       Water Temp (?C)  Air Temp-Celsius  Air Temp (?F)  AirTemp (C)  \\\n",
       "count      2248.000000         85.000000    2298.000000  2368.000000   \n",
       "mean         18.062193         16.437647      62.052552    15.676793   \n",
       "min           0.000000          0.000000      10.500000   -17.777778   \n",
       "25%          11.000000          9.000000      49.000000     8.888889   \n",
       "50%          19.000000         15.000000      63.000000    16.666667   \n",
       "75%          25.000000         21.700000      75.000000    23.888889   \n",
       "max          74.000000         74.000000      92.300000    33.500000   \n",
       "std           8.301080         11.754138      15.496673    10.297299   \n",
       "\n",
       "         Read_year   Read_month     Read_day  salinity_clean  \n",
       "count  2368.000000  2368.000000  2368.000000     2368.000000  \n",
       "mean   2006.286318     6.545186    14.153294        0.724246  \n",
       "min    1989.000000     1.000000     1.000000        0.000000  \n",
       "25%    2001.000000     4.000000     7.000000        0.000000  \n",
       "50%    2007.000000     7.000000    14.000000        0.000000  \n",
       "75%    2012.000000     9.250000    21.000000        1.000000  \n",
       "max    2019.000000    12.000000    31.000000        9.000000  \n",
       "std       7.551426     3.390833     8.453890        1.205892  "
      ]
     },
     "execution_count": 152,
     "metadata": {},
     "output_type": "execute_result"
    }
   ],
   "source": [
    "df.describe()"
   ]
  },
  {
   "cell_type": "code",
   "execution_count": 153,
   "id": "64bbb8d9",
   "metadata": {},
   "outputs": [],
   "source": [
    "# drop salinity column\n",
    "df.drop(columns=['Salinity (ppt)'], inplace=True)"
   ]
  },
  {
   "cell_type": "code",
   "execution_count": 154,
   "id": "20152f54",
   "metadata": {},
   "outputs": [
    {
     "name": "stdout",
     "output_type": "stream",
     "text": [
      "<class 'pandas.core.frame.DataFrame'>\n",
      "Index: 2368 entries, 0 to 2370\n",
      "Data columns (total 15 columns):\n",
      " #   Column                   Non-Null Count  Dtype         \n",
      "---  ------                   --------------  -----         \n",
      " 0   Site_Id                  2368 non-null   object        \n",
      " 1   Read_Date                2368 non-null   datetime64[ns]\n",
      " 2   Dissolved Oxygen (mg/L)  1519 non-null   float64       \n",
      " 3   pH (standard units)      2274 non-null   float64       \n",
      " 4   Secchi Depth (m)         2296 non-null   float64       \n",
      " 5   Water Depth (m)          2298 non-null   float64       \n",
      " 6   Water Temp (?C)          2248 non-null   float64       \n",
      " 7   Air Temp-Celsius         85 non-null     float64       \n",
      " 8   Air Temp (?F)            2298 non-null   float64       \n",
      " 9   AirTemp (C)              2368 non-null   float64       \n",
      " 10  Read_year                2368 non-null   int32         \n",
      " 11  Read_month               2368 non-null   int32         \n",
      " 12  Read_day                 2368 non-null   int32         \n",
      " 13  Time_clean               2368 non-null   object        \n",
      " 14  salinity_clean           2368 non-null   float64       \n",
      "dtypes: datetime64[ns](1), float64(9), int32(3), object(2)\n",
      "memory usage: 268.2+ KB\n"
     ]
    }
   ],
   "source": [
    "df.info()"
   ]
  },
  {
   "cell_type": "markdown",
   "id": "91f65bed",
   "metadata": {},
   "source": [
    "#### Air Temprature"
   ]
  },
  {
   "cell_type": "code",
   "execution_count": null,
   "id": "4305a26f",
   "metadata": {},
   "outputs": [],
   "source": [
    "import pandas as pd\n",
    "import matplotlib.pyplot as plt\n",
    "\n",
    "tmp = df.copy()\n",
    "tmp['Read_Date'] = pd.to_datetime(tmp['Read_Date'], errors='coerce')\n",
    "tmp = tmp.sort_values('Read_Date')\n",
    "\n",
    "s = pd.to_numeric(tmp['AirTemp (C)'], errors='coerce')\n",
    "\n",
    "plt.figure()\n",
    "plt.plot(tmp['Read_Date'], s, marker='o', linestyle='-')\n",
    "plt.title('AirTemp (C) over time')\n",
    "plt.xlabel('Read_Date')\n",
    "plt.ylabel('AirTemp (C)')\n",
    "plt.tight_layout()\n",
    "plt.show()\n",
    "plt.close()"
   ]
  },
  {
   "cell_type": "code",
   "execution_count": null,
   "id": "f9648369",
   "metadata": {},
   "outputs": [],
   "source": [
    "import numpy as np\n",
    "import pandas as pd\n",
    "\n",
    "# Parse both columns as numbers\n",
    "air_temp_cel = pd.to_numeric(df['Air Temp-Celsius'], errors='coerce')   # supposed Celsius, but may contain °F\n",
    "air_temp_c = pd.to_numeric(df['AirTemp (C)'], errors='coerce')        # Celsius\n",
    "air_temp_f = pd.to_numeric(df['Air Temp (?F)'], errors='coerce')        # Fahrenheit\n",
    "\n",
    "# Helper: treat rows where both are present\n",
    "both = air_temp_cel.notna() & air_temp_c.notna()\n",
    "\n",
    "# 1) Rows where the two columns disagree (as-entered)\n",
    "mismatch = both & ~np.isclose(air_temp_cel, air_temp_c, atol=0.5)\n",
    "\n",
    "mismatch_count = mismatch.sum()\n",
    "print(f\"Number of rows where both columns are present but disagree: {mismatch_count}\")\n",
    "\n",
    "df[mismatch][['Air Temp-Celsius','Air Temp (?F)', 'AirTemp (C)']].head()\n"
   ]
  },
  {
   "cell_type": "code",
   "execution_count": null,
   "id": "1ba1ecbd",
   "metadata": {},
   "outputs": [],
   "source": [
    "df[mismatch][['Air Temp-Celsius','Air Temp (?F)','Water Temp (?C)', 'AirTemp (C)']]"
   ]
  },
  {
   "cell_type": "code",
   "execution_count": null,
   "id": "66dedb3f",
   "metadata": {},
   "outputs": [],
   "source": [
    "negative_temp = df['AirTemp (C)'] <= 0\n",
    "\n",
    "negative_temp_count = negative_temp.sum()\n",
    "print(f\"Number of rows where 'AirTemp (C)' is less than or equal to 0: {negative_temp_count}\")\n",
    "\n",
    "df[negative_temp][['Air Temp-Celsius','Air Temp (?F)','Water Temp (?C)', 'AirTemp (C)']]"
   ]
  },
  {
   "cell_type": "code",
   "execution_count": null,
   "id": "f7c82a0d",
   "metadata": {},
   "outputs": [],
   "source": [
    "df[negative_temp & both]"
   ]
  },
  {
   "cell_type": "markdown",
   "id": "2b2c370f",
   "metadata": {},
   "source": [
    "#### comparing air_temp in c and air_temp in f"
   ]
  },
  {
   "cell_type": "code",
   "execution_count": null,
   "id": "6fa27a07",
   "metadata": {},
   "outputs": [],
   "source": [
    "convert_f_to_c = (air_temp_f - 32.0) * (5.0/9.0)\n",
    "\n",
    "# Helper: treat rows where both are present\n",
    "both = convert_f_to_c.notna() & air_temp_c.notna()\n",
    "\n",
    "mismatch_convert_temp = both & ~np.isclose(convert_f_to_c, air_temp_c, rtol=0, atol=0.5)\n",
    "\n",
    "mismatch_convert_temp_count = mismatch_convert_temp.sum()\n",
    "match_count = (both & ~mismatch_convert_temp).sum()\n",
    "\n",
    "print(f\"Rows with both F and C present: {both.sum()}\")\n",
    "print(f\"Matches (F→C ≈ AirTemp (C)): {match_count}\")\n",
    "print(f\"Mismatches: {mismatch_convert_temp_count}\")"
   ]
  },
  {
   "cell_type": "code",
   "execution_count": null,
   "id": "fde5b856",
   "metadata": {},
   "outputs": [],
   "source": [
    "# Define buckets (°C) and labels\n",
    "bins    = [-np.inf, -10, 5, 25, 35, np.inf]   # [-inf,-10), [-10,5), [5,25), [25,35), [35,inf)\n",
    "labels  = ['extreme cold', 'cold', 'normal', 'hot', 'extreme hot']\n",
    "\n",
    "# Categorize (right=False means left-inclusive, right-exclusive)\n",
    "cats = pd.cut(air_temp_c, bins=bins, labels=labels, right=False)\n",
    "\n",
    "# Overall counts (ordered)\n",
    "counts = cats.value_counts().reindex(labels, fill_value=0)\n",
    "print(counts)"
   ]
  },
  {
   "cell_type": "code",
   "execution_count": null,
   "id": "5caacb96",
   "metadata": {},
   "outputs": [],
   "source": [
    "# just extreme cold\n",
    "extreme_cold_temp = df.loc[cats == 'extreme cold']\n",
    "\n",
    "# extreme cold AND 'Air Temp-Celsius' is not null\n",
    "extreme_cold_temp = df.loc[(cats == 'extreme cold') & (air_temp_cel.notna())]\n",
    "extreme_cold_temp[['Air Temp-Celsius','Air Temp (?F)','Water Temp (?C)', 'AirTemp (C)']]"
   ]
  },
  {
   "cell_type": "code",
   "execution_count": null,
   "id": "3c000a03",
   "metadata": {},
   "outputs": [],
   "source": [
    "# just extreme cold\n",
    "extreme_cold_temp = df.loc[cats == 'extreme cold']\n",
    "\n",
    "# extreme cold AND 'Air Temp-Celsius' is not null\n",
    "extreme_cold_temp_f = df.loc[(cats == 'extreme cold') & (air_temp_f.notna())]\n",
    "extreme_cold_temp_f[['Air Temp-Celsius','Air Temp (?F)','Water Temp (?C)', 'AirTemp (C)']]"
   ]
  },
  {
   "cell_type": "code",
   "execution_count": null,
   "id": "ce8ced30",
   "metadata": {},
   "outputs": [],
   "source": [
    "# just extreme cold\n",
    "extreme_cold_temp = df.loc[cats == 'extreme cold']\n",
    "\n",
    "# extreme cold AND 'Air Temp-Celsius' is not null\n",
    "extreme_cold_temp_na = df.loc[(cats == 'extreme cold') & (air_temp_f.isna())]\n",
    "print(extreme_cold_temp_na.count().sum())\n",
    "avg_extreme_cold_temp_na = pd.to_numeric(extreme_cold_temp_na['AirTemp (C)'], errors='coerce')\n",
    "print(avg_extreme_cold_temp_na.mean())\n",
    "\n",
    "extreme_cold_temp_na[['Air Temp-Celsius','Air Temp (?F)','Water Temp (?C)', 'AirTemp (C)']]"
   ]
  },
  {
   "cell_type": "code",
   "execution_count": null,
   "id": "77657768",
   "metadata": {},
   "outputs": [],
   "source": [
    "df.drop(columns=['Unit_Id','Air Temp-Celsius','Air Temp (?F)','WhoVerified','Field_Tech'], inplace=True)"
   ]
  },
  {
   "cell_type": "markdown",
   "id": "474a780e",
   "metadata": {},
   "source": []
  },
  {
   "cell_type": "code",
   "execution_count": null,
   "id": "f97301cd",
   "metadata": {},
   "outputs": [],
   "source": [
    "df.isnull().sum()"
   ]
  },
  {
   "cell_type": "code",
   "execution_count": null,
   "id": "6ad5bd2b",
   "metadata": {},
   "outputs": [],
   "source": [
    "df[df['Read_Date'].isnull()]"
   ]
  },
  {
   "cell_type": "code",
   "execution_count": null,
   "id": "a1d86c9f",
   "metadata": {},
   "outputs": [],
   "source": [
    "df['Read_Date'].dropna(inplace=True)"
   ]
  },
  {
   "cell_type": "code",
   "execution_count": null,
   "id": "bff51428",
   "metadata": {},
   "outputs": [],
   "source": [
    "df.dropna(subset=['Read_Date'], inplace=True)"
   ]
  },
  {
   "cell_type": "code",
   "execution_count": null,
   "id": "8f6cbe37",
   "metadata": {},
   "outputs": [],
   "source": [
    "df.isnull().sum()"
   ]
  },
  {
   "cell_type": "code",
   "execution_count": null,
   "id": "aadd362f",
   "metadata": {},
   "outputs": [],
   "source": []
  },
  {
   "cell_type": "code",
   "execution_count": null,
   "id": "a9aa8842",
   "metadata": {},
   "outputs": [],
   "source": []
  }
 ],
 "metadata": {
  "kernelspec": {
   "display_name": ".venv (3.11.0)",
   "language": "python",
   "name": "python3"
  },
  "language_info": {
   "codemirror_mode": {
    "name": "ipython",
    "version": 3
   },
   "file_extension": ".py",
   "mimetype": "text/x-python",
   "name": "python",
   "nbconvert_exporter": "python",
   "pygments_lexer": "ipython3",
   "version": "3.11.0"
  }
 },
 "nbformat": 4,
 "nbformat_minor": 5
}
