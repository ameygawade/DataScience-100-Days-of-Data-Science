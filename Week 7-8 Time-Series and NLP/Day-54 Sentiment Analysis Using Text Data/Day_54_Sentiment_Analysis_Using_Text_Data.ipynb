{
 "cells": [
  {
   "cell_type": "markdown",
   "id": "bc1e69df",
   "metadata": {},
   "source": [
    "# Day-54: Sentiment Analysis Using Text Data"
   ]
  },
  {
   "cell_type": "markdown",
   "id": "d124261d",
   "metadata": {},
   "source": [
    "We've spent the last few days structuring text and extracting core entities. Today, we move into one of the most commercially valuable areas of NLP: Sentiment Analysis. We're going to determine the emotional tone or attitude (positive, negative, or neutral) expressed in a piece of text. We'll cover a powerful lexicon-based tool, VADER, and a fundamental machine learning approach, Logistic Regression."
   ]
  },
  {
   "cell_type": "markdown",
   "id": "14c13a41",
   "metadata": {},
   "source": [
    "## Topic Covered\n",
    "- VADER, \n",
    "- Logistic Regression for Polarity Detection\n"
   ]
  },
  {
   "cell_type": "markdown",
   "id": "f36218d7",
   "metadata": {},
   "source": [
    "## VADER: The Lexicon-Based Approach"
   ]
  },
  {
   "cell_type": "markdown",
   "id": "9ff71820",
   "metadata": {},
   "source": [
    "VADER (Valence Aware Dictionary and sEntiment Reasoner) is a popular lexicon- and rule-based sentiment analysis tool specifically attuned to sentiments expressed in social media. It doesn't require any training data; it works by looking up words in a dictionary."
   ]
  },
  {
   "cell_type": "markdown",
   "id": "b6da46c0",
   "metadata": {},
   "source": [
    "- `How it Works`: VADER uses a dictionary where words are pre-labeled as positive or negative (e.g., \"amazing\" is +3.7, \"awful\" is −2.5). \n",
    "\n",
    "It also incorporates grammatical rules for context:\n",
    "\n",
    "    - Punctuation: Increases intensity (e.g., \"Great!!\" is more positive than \"Great.\").\n",
    "\n",
    "    - Capitalization: Increases intensity (e.g., \"GREAT\" is more positive than \"great\").\n",
    "\n",
    "    - Degree Modifiers (Adverbs): Adjust intensity (e.g., \"slightly good\" vs. \"extremely good\").\n",
    "\n",
    "    - Negation: Inverts the sentiment (e.g., \"not good\").\n",
    "\n",
    "- `Analogy`: The Scorecard. VADER assigns a numerical score to every word and then uses a simple formula to combine those scores, adjust for context, and produce a final, quantifiable sentiment score for the entire sentence.\n",
    "\n",
    "- `Output`: VADER outputs four scores for each text: Negative, Neutral, Positive, and the Compound score (a single, normalized metric between −1 and +1 that summarizes the overall sentiment)."
   ]
  },
  {
   "cell_type": "markdown",
   "id": "cb886c96",
   "metadata": {},
   "source": [
    "## Logistic Regression: The Machine Learning Approach "
   ]
  },
  {
   "cell_type": "markdown",
   "id": "f9a0f9e6",
   "metadata": {},
   "source": [
    "For many real-world applications, you need a custom model trained on your specific data (e.g., reviews about your specific product). This is where supervised machine learning comes in. Logistic Regression is the perfect baseline classification algorithm for sentiment analysis."
   ]
  },
  {
   "cell_type": "markdown",
   "id": "f6a27e71",
   "metadata": {},
   "source": [
    "- `How it Works`:Feature Extraction: Text is converted into numerical features, typically using TF-IDF vectors (from Day 51).\n",
    "\n",
    "- `Training`: The Logistic Regression algorithm learns a linear relationship between the TF-IDF features and the corresponding labeled sentiment (e.g., a \"Positive\" label or a \"Negative\" label).\n",
    "\n",
    "- `Prediction`: When a new piece of text is fed into the model, it outputs a probability (between 0 and 1) that the text belongs to a certain class (e.g., 0.95 probability of being positive).\n",
    "\n",
    "- `Analogy` : The Opinion Pollster. Instead of relying on a pre-written dictionary (like VADER), the model learns from thousands of previous opinions (training data) to predict the outcome of a new one. It uses context to understand that certain words are positive only in the context of the training data (e.g., \"slow\" might be positive for a coffee brewer, but negative for a computer).\n",
    "\n",
    "- `Advantage over VADER`: It adapts to domain-specific language (e.g., \"sick\" meaning \"good\" in a teenage slang dataset)."
   ]
  },
  {
   "cell_type": "markdown",
   "id": "f18d3e4b",
   "metadata": {},
   "source": [
    "## Code Example: VADER and Logistic Regression (BoW)"
   ]
  },
  {
   "cell_type": "markdown",
   "id": "61c876b5",
   "metadata": {},
   "source": [
    "We use VADER (from nltk.sentiment) and scikit-learn for machine learning classification."
   ]
  },
  {
   "cell_type": "code",
   "execution_count": 1,
   "id": "6d41ddf1",
   "metadata": {},
   "outputs": [
    {
     "name": "stdout",
     "output_type": "stream",
     "text": [
      "Requirement already satisfied: nltk in c:\\users\\amey9\\documents\\github\\datascience-100-days-of-data-science\\.venv\\lib\\site-packages (3.9.2)\n",
      "Requirement already satisfied: click in c:\\users\\amey9\\documents\\github\\datascience-100-days-of-data-science\\.venv\\lib\\site-packages (from nltk) (8.2.1)\n",
      "Requirement already satisfied: joblib in c:\\users\\amey9\\documents\\github\\datascience-100-days-of-data-science\\.venv\\lib\\site-packages (from nltk) (1.5.1)\n",
      "Requirement already satisfied: regex>=2021.8.3 in c:\\users\\amey9\\documents\\github\\datascience-100-days-of-data-science\\.venv\\lib\\site-packages (from nltk) (2025.9.18)\n",
      "Requirement already satisfied: tqdm in c:\\users\\amey9\\documents\\github\\datascience-100-days-of-data-science\\.venv\\lib\\site-packages (from nltk) (4.67.1)\n",
      "Requirement already satisfied: colorama in c:\\users\\amey9\\documents\\github\\datascience-100-days-of-data-science\\.venv\\lib\\site-packages (from click->nltk) (0.4.6)\n"
     ]
    }
   ],
   "source": [
    "! pip install nltk"
   ]
  },
  {
   "cell_type": "code",
   "execution_count": 2,
   "id": "041157d6",
   "metadata": {},
   "outputs": [
    {
     "name": "stderr",
     "output_type": "stream",
     "text": [
      "c:\\Users\\amey9\\Documents\\GitHub\\DataScience-100-Days-of-Data-Science\\.venv\\Lib\\site-packages\\nltk\\metrics\\association.py:26: UserWarning: A NumPy version >=1.22.4 and <2.3.0 is required for this version of SciPy (detected version 2.3.3)\n",
      "  from scipy.stats import fisher_exact\n",
      "[nltk_data] Downloading package vader_lexicon to\n",
      "[nltk_data]     C:\\Users\\amey9\\AppData\\Roaming\\nltk_data...\n"
     ]
    },
    {
     "data": {
      "text/plain": [
       "True"
      ]
     },
     "execution_count": 2,
     "metadata": {},
     "output_type": "execute_result"
    }
   ],
   "source": [
    "# Ensure VADER lexicon is downloaded (run once)\n",
    "import nltk\n",
    "nltk.download('vader_lexicon')"
   ]
  },
  {
   "cell_type": "code",
   "execution_count": 3,
   "id": "86b41537",
   "metadata": {},
   "outputs": [
    {
     "name": "stdout",
     "output_type": "stream",
     "text": [
      "--- VADER Sentiment Analysis ---\n",
      "Text: 'The food was absolutely fantastic, but the service was extremely slow.'\n",
      "VADER Scores: {'neg': 0.0, 'neu': 0.803, 'pos': 0.197, 'compound': 0.3499}\n",
      "Overall Sentiment: Positive\n",
      "\n",
      "--- Logistic Regression (ML-Based) ---\n",
      "Predicted Labels on Test Set: [1 1]\n",
      "Accuracy: 0.00\n"
     ]
    }
   ],
   "source": [
    "import pandas as pd\n",
    "from nltk.sentiment.vader import SentimentIntensityAnalyzer\n",
    "from sklearn.feature_extraction.text import CountVectorizer\n",
    "from sklearn.linear_model import LogisticRegression\n",
    "from sklearn.model_selection import train_test_split\n",
    "from sklearn.metrics import accuracy_score\n",
    "import numpy as np\n",
    "\n",
    "\n",
    "\n",
    "# --- 1. VADER Example (Lexicon-Based) ---\n",
    "print(\"--- VADER Sentiment Analysis ---\")\n",
    "vader_analyzer = SentimentIntensityAnalyzer()\n",
    "sentence = \"The food was absolutely fantastic, but the service was extremely slow.\"\n",
    "\n",
    "# VADER analysis\n",
    "vs = vader_analyzer.polarity_scores(sentence)\n",
    "print(f\"Text: '{sentence}'\")\n",
    "print(f\"VADER Scores: {vs}\")\n",
    "\n",
    "# Interpret the compound score\n",
    "if vs['compound'] >= 0.05:\n",
    "    sentiment = \"Positive\"\n",
    "elif vs['compound'] <= -0.05:\n",
    "    sentiment = \"Negative\"\n",
    "else:\n",
    "    sentiment = \"Neutral\"\n",
    "\n",
    "print(f\"Overall Sentiment: {sentiment}\\n\")\n",
    "# Note: VADER handles the 'but' and balances the positive and negative phrases.\n",
    "\n",
    "# --- 2. Logistic Regression Example (Machine Learning) ---\n",
    "print(\"--- Logistic Regression (ML-Based) ---\")\n",
    "\n",
    "# Simulated Training Data (Must be labeled 0=Negative, 1=Positive)\n",
    "data = {\n",
    "    'text': ['I love this product', 'This is awful, terrible service', 'Great job, highly recommend', 'The quality is disappointing', 'It works fine but nothing special'],\n",
    "    'label': [1, 0, 1, 0, 0]\n",
    "}\n",
    "df = pd.DataFrame(data)\n",
    "\n",
    "# A. Feature Extraction (Count Vectorizer / BoW)\n",
    "vectorizer = CountVectorizer()\n",
    "X = vectorizer.fit_transform(df['text'])\n",
    "y = df['label']\n",
    "\n",
    "# B. Train/Test Split\n",
    "X_train, X_test, y_train, y_test = train_test_split(X, y, test_size=0.4, random_state=42)\n",
    "\n",
    "# C. Model Training\n",
    "lr_model = LogisticRegression(max_iter=1000)\n",
    "lr_model.fit(X_train, y_train)\n",
    "\n",
    "# D. Prediction and Evaluation\n",
    "y_pred = lr_model.predict(X_test)\n",
    "print(f\"Predicted Labels on Test Set: {y_pred}\")\n",
    "print(f\"Accuracy: {accuracy_score(y_test, y_pred):.2f}\")"
   ]
  },
  {
   "cell_type": "markdown",
   "id": "e3cb96c2",
   "metadata": {},
   "source": [
    "# Summary of Day 54"
   ]
  },
  {
   "cell_type": "markdown",
   "id": "55bcb73e",
   "metadata": {},
   "source": [
    "Today, you learned two key approaches to Sentiment Analysis:\n",
    "1. VADER: A fast, lexicon-based tool that is excellent for social media text and provides granular positive, negative, and compound scores without any training.\n",
    "\n",
    "2. Logistic Regression: A fundamental machine learning classifier that requires labeled training data but can be customized to detect domain-specific sentiment by using TF-IDF or BoW features"
   ]
  },
  {
   "cell_type": "markdown",
   "id": "0bd7aa10",
   "metadata": {},
   "source": [
    "## What's Next (Day 55)"
   ]
  },
  {
   "cell_type": "markdown",
   "id": "bc519940",
   "metadata": {},
   "source": [
    "We've covered what text is (words), what text means (vectors), and what text feels (sentiment). Tomorrow, on Day 55, we look at what text is about by exploring Topic Modeling using Latent Dirichlet Allocation (LDA). You'll learn how to automatically discover the hidden themes and subjects within large collections of documents."
   ]
  }
 ],
 "metadata": {
  "kernelspec": {
   "display_name": ".venv (3.11.0)",
   "language": "python",
   "name": "python3"
  },
  "language_info": {
   "codemirror_mode": {
    "name": "ipython",
    "version": 3
   },
   "file_extension": ".py",
   "mimetype": "text/x-python",
   "name": "python",
   "nbconvert_exporter": "python",
   "pygments_lexer": "ipython3",
   "version": "3.11.0"
  }
 },
 "nbformat": 4,
 "nbformat_minor": 5
}
