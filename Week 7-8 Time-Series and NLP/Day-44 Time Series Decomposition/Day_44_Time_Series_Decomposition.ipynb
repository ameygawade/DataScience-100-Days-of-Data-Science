{
 "cells": [
  {
   "cell_type": "markdown",
   "id": "da2f4971",
   "metadata": {},
   "source": [
    "# Day-44 Time Series Decomposition"
   ]
  },
  {
   "cell_type": "markdown",
   "id": "0db64e49",
   "metadata": {},
   "source": [
    "Welcome to Day 44! In day 43, we broke down a time series into its core components: \n",
    "- Trend, \n",
    "- Seasonality, \n",
    "- and Noise. \n",
    "\n",
    "Today, we're going to get practical: we'll learn how to formally separate those components using a powerful technique called Time Series Decomposition.\n",
    "\n",
    "Understanding decomposition is critical because it allows us to analyze each component individually, which is essential for accurate forecasting."
   ]
  },
  {
   "cell_type": "markdown",
   "id": "a7e6847b",
   "metadata": {},
   "source": [
    "## Topics Covered:"
   ]
  },
  {
   "cell_type": "markdown",
   "id": "e5fc0ccf",
   "metadata": {},
   "source": [
    "- Additive vs. Multiplicative Models\n",
    "- STL Decomposition"
   ]
  },
  {
   "cell_type": "markdown",
   "id": "f8106d46",
   "metadata": {},
   "source": [
    "## Additive vs. Multiplicative Models"
   ]
  },
  {
   "cell_type": "markdown",
   "id": "6c76eb96",
   "metadata": {},
   "source": [
    "The first choice you face when decomposing a time series is deciding how the components interact. There are two primary models:"
   ]
  },
  {
   "cell_type": "markdown",
   "id": "54245991",
   "metadata": {},
   "source": [
    "### 1. The Additive Model"
   ]
  },
  {
   "cell_type": "markdown",
   "id": "adf51350",
   "metadata": {},
   "source": [
    "The additive model assumes that the magnitude of the seasonality *does not change* as the trend increases. The components simply *add up* to the observed value. This model is best used when the time series exhibits a relatively constant trend and seasonality throughout its duration."
   ]
  },
  {
   "cell_type": "markdown",
   "id": "75db004a",
   "metadata": {},
   "source": [
    "$ Y_t = T_t + S_t + R_t $"
   ]
  },
  {
   "cell_type": "markdown",
   "id": "fe7888dd",
   "metadata": {},
   "source": [
    "- `Analogy`: Imagine your weekly ice cream sales. If the seasonal summer spike always adds about 50 units to your baseline sales, regardless of how high the baseline gets, you have an additive model. The seasonal fluctuation is constant."
   ]
  },
  {
   "cell_type": "markdown",
   "id": "87df1c58",
   "metadata": {},
   "source": [
    "### 2.The Multiplicative Model"
   ]
  },
  {
   "cell_type": "markdown",
   "id": "12864496",
   "metadata": {},
   "source": [
    "The multiplicative model assumes that the magnitude of the seasonality increases as the trend increases. The components are multiplied together to form the observed value. This model is best used when the time series shows increasing variance over time, meaning the seasonal peaks and troughs get larger as the overall level of the series rises."
   ]
  },
  {
   "cell_type": "markdown",
   "id": "62c02aac",
   "metadata": {},
   "source": [
    "$ Y_t = T_t × S_t × R_t $"
   ]
  },
  {
   "cell_type": "markdown",
   "id": "8231a931",
   "metadata": {},
   "source": [
    "- `Analogy`: Using the ice cream example, if your seasonal summer spike is always 20% of your current baseline sales, the spike will be much bigger when your baseline is high than when it's low. The seasonal fluctuation scales with the trend."
   ]
  },
  {
   "cell_type": "markdown",
   "id": "45997292",
   "metadata": {},
   "source": [
    "Pro Tip: If you're unsure which model to use, look at the seasonality over time:\n",
    "\n",
    "- Constant width of seasonal fluctuations → Additive.\n",
    "\n",
    "- Wider width of seasonal fluctuations (like a widening cone) → Multiplicative."
   ]
  },
  {
   "cell_type": "markdown",
   "id": "72092534",
   "metadata": {},
   "source": [
    "##  STL Decomposition"
   ]
  },
  {
   "cell_type": "markdown",
   "id": "6fbc1c24",
   "metadata": {},
   "source": [
    "While simpler methods like classical decomposition (moving averages) exist, the gold standard for robust decomposition is the STL (Seasonal-Trend decomposition using Loess) method."
   ]
  },
  {
   "cell_type": "markdown",
   "id": "144f613f",
   "metadata": {},
   "source": [
    "### What is STL?"
   ]
  },
  {
   "cell_type": "markdown",
   "id": "10884a8b",
   "metadata": {},
   "source": [
    "STL is an acronym for Seasonal and Trend decomposition using Loess. Loess (Locally Estimated Scatterplot Smoothing) is a non-parametric method for smoothing curves."
   ]
  },
  {
   "cell_type": "markdown",
   "id": "0478783d",
   "metadata": {},
   "source": [
    "### Why is STL awesome?"
   ]
  },
  {
   "cell_type": "markdown",
   "id": "df41a31d",
   "metadata": {},
   "source": [
    "1. Handles Any Type of Seasonality: Unlike other methods, STL can handle any type of seasonality (e.g., daily, weekly, yearly) and even multiple seasonal periods simultaneously.\n",
    "\n",
    "2. Robust to Outliers: It's highly robust to outliers, meaning a few extreme data points won't ruin your trend and seasonality estimates.\n",
    "\n",
    "3. Flexibility: You can control the degree of smoothing for both the trend and the seasonal components independently.\n",
    "\n",
    "4. Additive Model: By default, STL uses an additive decomposition, but you can easily convert a multiplicative series to an additive one by taking the logarithm of your data first! (Since $$log(T×S×R)=log(T)+log(S)+log(R)$$"
   ]
  },
  {
   "cell_type": "markdown",
   "id": "3ff8d239",
   "metadata": {},
   "source": [
    "### Code Example: Decomposing a Time Series"
   ]
  },
  {
   "cell_type": "code",
   "execution_count": 3,
   "id": "f51037b1",
   "metadata": {},
   "outputs": [
    {
     "name": "stdout",
     "output_type": "stream",
     "text": [
      "Collecting statsmodels\n",
      "  Downloading statsmodels-0.14.5-cp311-cp311-win_amd64.whl.metadata (9.8 kB)\n",
      "Requirement already satisfied: numpy<3,>=1.22.3 in c:\\users\\amey9\\documents\\github\\datascience-100-days-of-data-science\\.venv\\lib\\site-packages (from statsmodels) (2.2.6)\n",
      "Requirement already satisfied: scipy!=1.9.2,>=1.8 in c:\\users\\amey9\\documents\\github\\datascience-100-days-of-data-science\\.venv\\lib\\site-packages (from statsmodels) (1.16.2)\n",
      "Requirement already satisfied: pandas!=2.1.0,>=1.4 in c:\\users\\amey9\\documents\\github\\datascience-100-days-of-data-science\\.venv\\lib\\site-packages (from statsmodels) (2.3.2)\n",
      "Collecting patsy>=0.5.6 (from statsmodels)\n",
      "  Downloading patsy-1.0.1-py2.py3-none-any.whl.metadata (3.3 kB)\n",
      "Requirement already satisfied: packaging>=21.3 in c:\\users\\amey9\\documents\\github\\datascience-100-days-of-data-science\\.venv\\lib\\site-packages (from statsmodels) (25.0)\n",
      "Requirement already satisfied: python-dateutil>=2.8.2 in c:\\users\\amey9\\documents\\github\\datascience-100-days-of-data-science\\.venv\\lib\\site-packages (from pandas!=2.1.0,>=1.4->statsmodels) (2.9.0.post0)\n",
      "Requirement already satisfied: pytz>=2020.1 in c:\\users\\amey9\\documents\\github\\datascience-100-days-of-data-science\\.venv\\lib\\site-packages (from pandas!=2.1.0,>=1.4->statsmodels) (2025.2)\n",
      "Requirement already satisfied: tzdata>=2022.7 in c:\\users\\amey9\\documents\\github\\datascience-100-days-of-data-science\\.venv\\lib\\site-packages (from pandas!=2.1.0,>=1.4->statsmodels) (2025.2)\n",
      "Requirement already satisfied: six>=1.5 in c:\\users\\amey9\\documents\\github\\datascience-100-days-of-data-science\\.venv\\lib\\site-packages (from python-dateutil>=2.8.2->pandas!=2.1.0,>=1.4->statsmodels) (1.17.0)\n",
      "Downloading statsmodels-0.14.5-cp311-cp311-win_amd64.whl (9.6 MB)\n",
      "   ---------------------------------------- 0.0/9.6 MB ? eta -:--:--\n",
      "   ---------------------------------------- 9.6/9.6 MB 50.2 MB/s  0:00:00\n",
      "Downloading patsy-1.0.1-py2.py3-none-any.whl (232 kB)\n",
      "Installing collected packages: patsy, statsmodels\n",
      "\n",
      "   ---------------------------------------- 0/2 [patsy]\n",
      "   ---------------------------------------- 0/2 [patsy]\n",
      "   ---------------------------------------- 0/2 [patsy]\n",
      "   ---------------------------------------- 0/2 [patsy]\n",
      "   ---------------------------------------- 0/2 [patsy]\n",
      "   -------------------- ------------------- 1/2 [statsmodels]\n",
      "   -------------------- ------------------- 1/2 [statsmodels]\n",
      "   -------------------- ------------------- 1/2 [statsmodels]\n",
      "   -------------------- ------------------- 1/2 [statsmodels]\n",
      "   -------------------- ------------------- 1/2 [statsmodels]\n",
      "   -------------------- ------------------- 1/2 [statsmodels]\n",
      "   -------------------- ------------------- 1/2 [statsmodels]\n",
      "   -------------------- ------------------- 1/2 [statsmodels]\n",
      "   -------------------- ------------------- 1/2 [statsmodels]\n",
      "   -------------------- ------------------- 1/2 [statsmodels]\n",
      "   -------------------- ------------------- 1/2 [statsmodels]\n",
      "   -------------------- ------------------- 1/2 [statsmodels]\n",
      "   -------------------- ------------------- 1/2 [statsmodels]\n",
      "   -------------------- ------------------- 1/2 [statsmodels]\n",
      "   -------------------- ------------------- 1/2 [statsmodels]\n",
      "   -------------------- ------------------- 1/2 [statsmodels]\n",
      "   -------------------- ------------------- 1/2 [statsmodels]\n",
      "   -------------------- ------------------- 1/2 [statsmodels]\n",
      "   -------------------- ------------------- 1/2 [statsmodels]\n",
      "   -------------------- ------------------- 1/2 [statsmodels]\n",
      "   -------------------- ------------------- 1/2 [statsmodels]\n",
      "   -------------------- ------------------- 1/2 [statsmodels]\n",
      "   -------------------- ------------------- 1/2 [statsmodels]\n",
      "   -------------------- ------------------- 1/2 [statsmodels]\n",
      "   -------------------- ------------------- 1/2 [statsmodels]\n",
      "   -------------------- ------------------- 1/2 [statsmodels]\n",
      "   -------------------- ------------------- 1/2 [statsmodels]\n",
      "   -------------------- ------------------- 1/2 [statsmodels]\n",
      "   -------------------- ------------------- 1/2 [statsmodels]\n",
      "   -------------------- ------------------- 1/2 [statsmodels]\n",
      "   -------------------- ------------------- 1/2 [statsmodels]\n",
      "   -------------------- ------------------- 1/2 [statsmodels]\n",
      "   -------------------- ------------------- 1/2 [statsmodels]\n",
      "   -------------------- ------------------- 1/2 [statsmodels]\n",
      "   -------------------- ------------------- 1/2 [statsmodels]\n",
      "   -------------------- ------------------- 1/2 [statsmodels]\n",
      "   -------------------- ------------------- 1/2 [statsmodels]\n",
      "   -------------------- ------------------- 1/2 [statsmodels]\n",
      "   -------------------- ------------------- 1/2 [statsmodels]\n",
      "   -------------------- ------------------- 1/2 [statsmodels]\n",
      "   -------------------- ------------------- 1/2 [statsmodels]\n",
      "   -------------------- ------------------- 1/2 [statsmodels]\n",
      "   -------------------- ------------------- 1/2 [statsmodels]\n",
      "   -------------------- ------------------- 1/2 [statsmodels]\n",
      "   -------------------- ------------------- 1/2 [statsmodels]\n",
      "   -------------------- ------------------- 1/2 [statsmodels]\n",
      "   -------------------- ------------------- 1/2 [statsmodels]\n",
      "   -------------------- ------------------- 1/2 [statsmodels]\n",
      "   -------------------- ------------------- 1/2 [statsmodels]\n",
      "   -------------------- ------------------- 1/2 [statsmodels]\n",
      "   -------------------- ------------------- 1/2 [statsmodels]\n",
      "   -------------------- ------------------- 1/2 [statsmodels]\n",
      "   -------------------- ------------------- 1/2 [statsmodels]\n",
      "   -------------------- ------------------- 1/2 [statsmodels]\n",
      "   -------------------- ------------------- 1/2 [statsmodels]\n",
      "   -------------------- ------------------- 1/2 [statsmodels]\n",
      "   -------------------- ------------------- 1/2 [statsmodels]\n",
      "   -------------------- ------------------- 1/2 [statsmodels]\n",
      "   -------------------- ------------------- 1/2 [statsmodels]\n",
      "   -------------------- ------------------- 1/2 [statsmodels]\n",
      "   -------------------- ------------------- 1/2 [statsmodels]\n",
      "   -------------------- ------------------- 1/2 [statsmodels]\n",
      "   -------------------- ------------------- 1/2 [statsmodels]\n",
      "   -------------------- ------------------- 1/2 [statsmodels]\n",
      "   -------------------- ------------------- 1/2 [statsmodels]\n",
      "   -------------------- ------------------- 1/2 [statsmodels]\n",
      "   -------------------- ------------------- 1/2 [statsmodels]\n",
      "   -------------------- ------------------- 1/2 [statsmodels]\n",
      "   -------------------- ------------------- 1/2 [statsmodels]\n",
      "   -------------------- ------------------- 1/2 [statsmodels]\n",
      "   -------------------- ------------------- 1/2 [statsmodels]\n",
      "   -------------------- ------------------- 1/2 [statsmodels]\n",
      "   -------------------- ------------------- 1/2 [statsmodels]\n",
      "   -------------------- ------------------- 1/2 [statsmodels]\n",
      "   -------------------- ------------------- 1/2 [statsmodels]\n",
      "   -------------------- ------------------- 1/2 [statsmodels]\n",
      "   -------------------- ------------------- 1/2 [statsmodels]\n",
      "   -------------------- ------------------- 1/2 [statsmodels]\n",
      "   -------------------- ------------------- 1/2 [statsmodels]\n",
      "   -------------------- ------------------- 1/2 [statsmodels]\n",
      "   -------------------- ------------------- 1/2 [statsmodels]\n",
      "   -------------------- ------------------- 1/2 [statsmodels]\n",
      "   -------------------- ------------------- 1/2 [statsmodels]\n",
      "   -------------------- ------------------- 1/2 [statsmodels]\n",
      "   -------------------- ------------------- 1/2 [statsmodels]\n",
      "   -------------------- ------------------- 1/2 [statsmodels]\n",
      "   -------------------- ------------------- 1/2 [statsmodels]\n",
      "   -------------------- ------------------- 1/2 [statsmodels]\n",
      "   -------------------- ------------------- 1/2 [statsmodels]\n",
      "   -------------------- ------------------- 1/2 [statsmodels]\n",
      "   -------------------- ------------------- 1/2 [statsmodels]\n",
      "   -------------------- ------------------- 1/2 [statsmodels]\n",
      "   -------------------- ------------------- 1/2 [statsmodels]\n",
      "   -------------------- ------------------- 1/2 [statsmodels]\n",
      "   -------------------- ------------------- 1/2 [statsmodels]\n",
      "   -------------------- ------------------- 1/2 [statsmodels]\n",
      "   -------------------- ------------------- 1/2 [statsmodels]\n",
      "   -------------------- ------------------- 1/2 [statsmodels]\n",
      "   -------------------- ------------------- 1/2 [statsmodels]\n",
      "   -------------------- ------------------- 1/2 [statsmodels]\n",
      "   -------------------- ------------------- 1/2 [statsmodels]\n",
      "   -------------------- ------------------- 1/2 [statsmodels]\n",
      "   -------------------- ------------------- 1/2 [statsmodels]\n",
      "   -------------------- ------------------- 1/2 [statsmodels]\n",
      "   -------------------- ------------------- 1/2 [statsmodels]\n",
      "   -------------------- ------------------- 1/2 [statsmodels]\n",
      "   -------------------- ------------------- 1/2 [statsmodels]\n",
      "   -------------------- ------------------- 1/2 [statsmodels]\n",
      "   -------------------- ------------------- 1/2 [statsmodels]\n",
      "   -------------------- ------------------- 1/2 [statsmodels]\n",
      "   -------------------- ------------------- 1/2 [statsmodels]\n",
      "   -------------------- ------------------- 1/2 [statsmodels]\n",
      "   -------------------- ------------------- 1/2 [statsmodels]\n",
      "   -------------------- ------------------- 1/2 [statsmodels]\n",
      "   -------------------- ------------------- 1/2 [statsmodels]\n",
      "   -------------------- ------------------- 1/2 [statsmodels]\n",
      "   -------------------- ------------------- 1/2 [statsmodels]\n",
      "   -------------------- ------------------- 1/2 [statsmodels]\n",
      "   -------------------- ------------------- 1/2 [statsmodels]\n",
      "   -------------------- ------------------- 1/2 [statsmodels]\n",
      "   -------------------- ------------------- 1/2 [statsmodels]\n",
      "   -------------------- ------------------- 1/2 [statsmodels]\n",
      "   -------------------- ------------------- 1/2 [statsmodels]\n",
      "   -------------------- ------------------- 1/2 [statsmodels]\n",
      "   -------------------- ------------------- 1/2 [statsmodels]\n",
      "   -------------------- ------------------- 1/2 [statsmodels]\n",
      "   -------------------- ------------------- 1/2 [statsmodels]\n",
      "   -------------------- ------------------- 1/2 [statsmodels]\n",
      "   -------------------- ------------------- 1/2 [statsmodels]\n",
      "   -------------------- ------------------- 1/2 [statsmodels]\n",
      "   -------------------- ------------------- 1/2 [statsmodels]\n",
      "   -------------------- ------------------- 1/2 [statsmodels]\n",
      "   -------------------- ------------------- 1/2 [statsmodels]\n",
      "   -------------------- ------------------- 1/2 [statsmodels]\n",
      "   -------------------- ------------------- 1/2 [statsmodels]\n",
      "   -------------------- ------------------- 1/2 [statsmodels]\n",
      "   -------------------- ------------------- 1/2 [statsmodels]\n",
      "   -------------------- ------------------- 1/2 [statsmodels]\n",
      "   -------------------- ------------------- 1/2 [statsmodels]\n",
      "   -------------------- ------------------- 1/2 [statsmodels]\n",
      "   ---------------------------------------- 2/2 [statsmodels]\n",
      "\n",
      "Successfully installed patsy-1.0.1 statsmodels-0.14.5\n"
     ]
    }
   ],
   "source": [
    "! pip install statsmodels"
   ]
  },
  {
   "cell_type": "code",
   "execution_count": 12,
   "id": "1f0f0900",
   "metadata": {},
   "outputs": [
    {
     "data": {
      "text/plain": [
       "<Figure size 1200x800 with 0 Axes>"
      ]
     },
     "metadata": {},
     "output_type": "display_data"
    },
    {
     "data": {
      "image/png": "[encoded data removed]",
      "text/plain": [
       "<Figure size 640x480 with 4 Axes>"
      ]
     },
     "metadata": {},
     "output_type": "display_data"
    },
    {
     "name": "stdout",
     "output_type": "stream",
     "text": [
      "\n",
      "--- Decomposition Components ---\n",
      "Trend Head:\n",
      "2020-07-31     6.417057\n",
      "2020-08-31     7.123565\n",
      "2020-09-30     8.124999\n",
      "2020-10-31     9.265951\n",
      "2020-11-30    10.083714\n",
      "Freq: ME, Name: trend, dtype: float64\n"
     ]
    }
   ],
   "source": [
    "import pandas as pd\n",
    "import numpy as np\n",
    "import matplotlib.pyplot as plt\n",
    "from statsmodels.tsa.seasonal import seasonal_decompose\n",
    "\n",
    "# Create a sample time series (as we did yesterday)\n",
    "index = pd.date_range(start='2020', periods=100, freq='ME')\n",
    "data = 5 * np.sin(np.linspace(0, 3*np.pi, 100)) + np.arange(100) * 0.5 + np.random.randn(100) * 2\n",
    "ts = pd.Series(data, index=index)\n",
    "\n",
    "# Perform decomposition using the Multiplicative Model\n",
    "decomposition = seasonal_decompose(ts, model='additive', period=12)\n",
    "\n",
    "# Plot the decomposed components\n",
    "plt.figure(figsize=(12, 8))\n",
    "decomposition.plot()\n",
    "plt.tight_layout()\n",
    "plt.show()\n",
    "\n",
    "# Accessing the individual components\n",
    "trend = decomposition.trend.dropna()\n",
    "seasonal = decomposition.seasonal\n",
    "residual = decomposition.resid\n",
    "\n",
    "print(\"\\n--- Decomposition Components ---\")\n",
    "print(\"Trend Head:\")\n",
    "print(trend.head())"
   ]
  },
  {
   "cell_type": "code",
   "execution_count": null,
   "id": "51739bfb",
   "metadata": {},
   "outputs": [],
   "source": []
  }
 ],
 "metadata": {
  "kernelspec": {
   "display_name": ".venv (3.11.0)",
   "language": "python",
   "name": "python3"
  },
  "language_info": {
   "codemirror_mode": {
    "name": "ipython",
    "version": 3
   },
   "file_extension": ".py",
   "mimetype": "text/x-python",
   "name": "python",
   "nbconvert_exporter": "python",
   "pygments_lexer": "ipython3",
   "version": "3.11.0"
  }
 },
 "nbformat": 4,
 "nbformat_minor": 5
}
