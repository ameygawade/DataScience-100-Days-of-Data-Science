{
 "cells": [
  {
   "cell_type": "markdown",
   "id": "56a39d19",
   "metadata": {},
   "source": [
    "# Day-45: ARIMA Models for Forecasting"
   ]
  },
  {
   "cell_type": "markdown",
   "id": "3d394baa",
   "metadata": {},
   "source": [
    "Welcome to Day 45! Today is the day we build our first true forecasting model: ARIMA (AutoRegressive Integrated Moving Average). This is the bedrock of classical time series modeling and is essential for turning those trend and seasonality insights into real predictions!"
   ]
  },
  {
   "cell_type": "markdown",
   "id": "9f0e1767",
   "metadata": {},
   "source": [
    "## Topics Covered:"
   ]
  },
  {
   "cell_type": "markdown",
   "id": "294be5d5",
   "metadata": {},
   "source": [
    "- The ARIMA Framework\n",
    "- AIC and BIC: Selecting the Best Model"
   ]
  },
  {
   "cell_type": "markdown",
   "id": "da403883",
   "metadata": {},
   "source": [
    "## The ARIMA Framework"
   ]
  },
  {
   "cell_type": "markdown",
   "id": "25446c89",
   "metadata": {},
   "source": [
    "ARIMA is a model that uses past values to forecast future values. The power of the model comes from combining three core components: \n",
    "- $ AR(p) $ : *AutoRegressive* ,\n",
    "    - Uses a linear combination of *past observations* (lagged values) to forecast the current observation. The 'p' is the number of lagged observations to include.\n",
    "- $ I(d) $ : *Integrated* ,\n",
    "    - Uses *differencing* of the raw observations to make the time series stationary. The 'd' is the number of times the raw observations are differenced.\n",
    "- and $ MA(q) $: *Moving Average*.\n",
    "    - Uses a linear combination of *past forecast errors (residuals)* to forecast the current observation. The 'q' is the number of lagged forecast errors to include."
   ]
  },
  {
   "cell_type": "markdown",
   "id": "7ae2c854",
   "metadata": {},
   "source": [
    "### $ I(d) $ : *Integrated* - Differencing for Stationarity"
   ]
  },
  {
   "cell_type": "markdown",
   "id": "288a8328",
   "metadata": {},
   "source": [
    "Before you can build an $AR$ or $MA$ model, your time series must be stationary.\n",
    "\n",
    "- What is Stationarity? \n",
    "    - A time series is stationary if its statistical properties (mean, variance, and autocorrelation) do not change over time.\n",
    "\n",
    "- The Problem: \n",
    "    - Most real-world data (like stock prices or sales) are non-stationary because they have a Trend and/or Seasonality.\n",
    "\n",
    "- The Solution: Differencing: \n",
    "    - The 'I' in ARIMA stands for Integrated, meaning the raw series is differenced. Differencing is the process of computing the difference between consecutive observations."
   ]
  },
  {
   "cell_type": "markdown",
   "id": "1c6112d4",
   "metadata": {},
   "source": [
    "$ \\Delta Y_t = Y_t - Y_{t-1}  $"
   ]
  },
  {
   "cell_type": "markdown",
   "id": "bb18da82",
   "metadata": {},
   "source": [
    "### $ AR(p) $ : *AutoRegressive*"
   ]
  },
  {
   "cell_type": "markdown",
   "id": "df974234",
   "metadata": {},
   "source": [
    "The $AR$ term uses a technique called Autoregression. This is simply a linear regression of the variable against its own past values (lags)."
   ]
  },
  {
   "cell_type": "markdown",
   "id": "4333cead",
   "metadata": {},
   "source": [
    "$ Y_t = c + \\Phi_1 Y_{t-1}+ \\Phi_2 Y_{t-2}+...+ \\Phi_p Y_{t-p}+ \\epsilon_t $ "
   ]
  },
  {
   "cell_type": "markdown",
   "id": "3b5fe21c",
   "metadata": {},
   "source": [
    "- `Analogy`: Predicting tomorrow's temperature based on the temperature from the last three days. The parameter $p$ is the number of days you look back.\n",
    "\n",
    "- `Identification`: The parameter $p$ is identified by examining the Partial Autocorrelation Function (PACF) plot. You look for the point where the PACF plot cuts off abruptly to zero."
   ]
  },
  {
   "cell_type": "markdown",
   "id": "d58b02fc",
   "metadata": {},
   "source": [
    "### $ MA(q) $: *Moving Average*."
   ]
  },
  {
   "cell_type": "markdown",
   "id": "ca8d03fd",
   "metadata": {},
   "source": [
    "The $MA$ term uses a linear combination of past forecast errors (residuals) to correct the current forecast."
   ]
  },
  {
   "cell_type": "markdown",
   "id": "c08c07b0",
   "metadata": {},
   "source": [
    "$ Y_t = \\mu + \\Theta_1 \\epsilon_{t-1}+ \\Theta_2 \\epsilon_{t-2}+...+ \\Theta_q \\epsilon_{t-q}+ \\epsilon_t $ "
   ]
  },
  {
   "cell_type": "markdown",
   "id": "7547fcbc",
   "metadata": {},
   "source": [
    "- `Analogy`: If your forecast was too high yesterday and too low the day before, you use those errors to slightly adjust today's prediction. The parameter q is the number of past forecast errors you include.\n",
    "\n",
    "- `Identification`: The parameter q is identified by examining the Autocorrelation Function (ACF) plot. You look for the point where the ACF plot cuts off abruptly to zero."
   ]
  },
  {
   "cell_type": "markdown",
   "id": "0e024ff3",
   "metadata": {},
   "source": [
    "## AIC and BIC: Selecting the Best Model"
   ]
  },
  {
   "cell_type": "markdown",
   "id": "5b028bdb",
   "metadata": {},
   "source": [
    "Once you've narrowed down the possible values for p and q using the ACF and PACF plots, you often have several candidate ARIMA models (e.g., ARIMA(1,1,0), ARIMA(0,1,1), etc.).\n",
    "\n",
    "To choose the best model, we use information criteria:\n",
    "\n",
    "- AIC (Akaike Information Criterion):\n",
    "\n",
    "    - Estimates the relative quality of statistical models for a given set of data.\n",
    "\n",
    "- BIC (Bayesian Information Criterion):\n",
    "\n",
    "    - Similar to AIC but penalizes models with more parameters (p and q) more heavily.\n",
    "\n",
    "The Rule: When comparing a set of models, you always choose the model with the lowest AIC and BIC values. This criterion helps find the sweet spot: a model that fits the data well without being overly complex (overfitting)."
   ]
  },
  {
   "cell_type": "code",
   "execution_count": 7,
   "id": "00ea8a50",
   "metadata": {},
   "outputs": [
    {
     "name": "stdout",
     "output_type": "stream",
     "text": [
      "--- Reconstructed Time Series (ts) ---\n",
      "2025-01-31    0.916678\n",
      "2025-02-28    1.292150\n",
      "2025-03-31    3.928571\n",
      "2025-04-30    1.440891\n",
      "2025-05-31    0.307240\n",
      "Freq: ME, dtype: float64\n",
      "\n",
      "... (omitting middle 90 rows) ...\n",
      "2032-12-31    47.705763\n",
      "2033-01-31    46.176776\n",
      "2033-02-28    50.227033\n",
      "2033-03-31    49.704161\n",
      "2033-04-30    51.990481\n",
      "Freq: ME, dtype: float64\n",
      "                               SARIMAX Results                                \n",
      "==============================================================================\n",
      "Dep. Variable:                      y   No. Observations:                  100\n",
      "Model:                 ARIMA(1, 1, 1)   Log Likelihood                -221.282\n",
      "Date:                Mon, 29 Sep 2025   AIC                            448.563\n",
      "Time:                        16:38:13   BIC                            456.349\n",
      "Sample:                    01-31-2025   HQIC                           451.713\n",
      "                         - 04-30-2033                                         \n",
      "Covariance Type:                  opg                                         \n",
      "==============================================================================\n",
      "                 coef    std err          z      P>|z|      [0.025      0.975]\n",
      "------------------------------------------------------------------------------\n",
      "ar.L1         -0.3285      0.202     -1.627      0.104      -0.724       0.067\n",
      "ma.L1         -0.1669      0.208     -0.801      0.423      -0.575       0.241\n",
      "sigma2         5.1036      0.848      6.020      0.000       3.442       6.765\n",
      "===================================================================================\n",
      "Ljung-Box (L1) (Q):                   2.58   Jarque-Bera (JB):                 1.05\n",
      "Prob(Q):                              0.11   Prob(JB):                         0.59\n",
      "Heteroskedasticity (H):               0.87   Skew:                            -0.11\n",
      "Prob(H) (two-sided):                  0.70   Kurtosis:                         2.54\n",
      "===================================================================================\n",
      "\n",
      "Warnings:\n",
      "[1] Covariance matrix calculated using the outer product of gradients (complex-step).\n",
      "\n",
      "Forecast for next 10 periods:\n",
      "2033-05-31    50.847923\n",
      "2033-06-30    51.223285\n",
      "2033-07-31    51.099968\n",
      "2033-08-31    51.140481\n",
      "2033-09-30    51.127172\n",
      "2033-10-31    51.131544\n",
      "2033-11-30    51.130108\n",
      "2033-12-31    51.130580\n",
      "2034-01-31    51.130425\n",
      "2034-02-28    51.130476\n",
      "Freq: ME, Name: predicted_mean, dtype: float64\n"
     ]
    }
   ],
   "source": [
    "import pandas as pd\n",
    "from statsmodels.tsa.arima.model import ARIMA\n",
    "import numpy as np\n",
    "\n",
    "# Recreating the index and data array used in the Day 44 example\n",
    "index = pd.date_range(start='2025', periods=100, freq='ME')\n",
    "data = 5 * np.sin(np.linspace(0, 3*np.pi, 100)) + np.arange(100) * 0.5 + np.random.randn(100) * 2\n",
    "\n",
    "# Creating the time series object\n",
    "ts = pd.Series(data, index=index)\n",
    "\n",
    "print(\"--- Reconstructed Time Series (ts) ---\")\n",
    "print(ts.head())\n",
    "print(\"\\n... (omitting middle 90 rows) ...\")\n",
    "print(ts.tail())\n",
    "\n",
    "# 1. Define the ARIMA order (p, d, q)\n",
    "# Example: ARIMA(1, 1, 0) - One AR term, one difference, no MA term\n",
    "order = (1, 1, 1)\n",
    "\n",
    "# 2. Fit the model\n",
    "model = ARIMA(ts, order=order)\n",
    "results = model.fit()\n",
    "\n",
    "# 3. Print the results (This will show the AIC/BIC)\n",
    "print(results.summary())\n",
    "\n",
    "# 4. Forecast the next 10 periods\n",
    "forecast = results.forecast(steps=10)\n",
    "\n",
    "print(\"\\nForecast for next 10 periods:\")\n",
    "print(forecast)"
   ]
  },
  {
   "cell_type": "code",
   "execution_count": null,
   "id": "2879a5da",
   "metadata": {},
   "outputs": [],
   "source": []
  }
 ],
 "metadata": {
  "kernelspec": {
   "display_name": ".venv (3.11.0)",
   "language": "python",
   "name": "python3"
  },
  "language_info": {
   "codemirror_mode": {
    "name": "ipython",
    "version": 3
   },
   "file_extension": ".py",
   "mimetype": "text/x-python",
   "name": "python",
   "nbconvert_exporter": "python",
   "pygments_lexer": "ipython3",
   "version": "3.11.0"
  }
 },
 "nbformat": 4,
 "nbformat_minor": 5
}
