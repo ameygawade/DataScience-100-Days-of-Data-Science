{
 "cells": [
  {
   "cell_type": "markdown",
   "id": "b48ee472",
   "metadata": {},
   "source": [
    "# Day-17 Feature Engineering Basics"
   ]
  },
  {
   "cell_type": "markdown",
   "id": "21a078e5",
   "metadata": {},
   "source": [
    "# Topics Covered"
   ]
  },
  {
   "cell_type": "markdown",
   "id": "b44f6dd4",
   "metadata": {},
   "source": [
    "- What is feature engineering ?\n",
    "- Data Encoding\t\n",
    "    - Label Encoding, \n",
    "    - One-Hot Encoding\n",
    "- Numeric Prep\t\n",
    "    - Binning, \n",
    "    - Scaling (Standard, MinMax)\n",
    "- Interaction\n",
    "    - Polynomial features\n",
    "    - Crossed features\n",
    "- Integration\tWith pipelines (Ref: Day 16!)"
   ]
  },
  {
   "cell_type": "markdown",
   "id": "f0656125",
   "metadata": {},
   "source": [
    "## What is feature engineering?"
   ]
  },
  {
   "cell_type": "markdown",
   "id": "337e88a9",
   "metadata": {},
   "source": [
    "## Data Enconding"
   ]
  },
  {
   "cell_type": "markdown",
   "id": "ea2ff16c",
   "metadata": {},
   "source": [
    "### Label Encoding"
   ]
  },
  {
   "cell_type": "markdown",
   "id": "3f83831d",
   "metadata": {},
   "source": [
    "Often models can’t work with text values like gender = 'Male'."
   ]
  },
  {
   "cell_type": "code",
   "execution_count": 4,
   "id": "76fff264",
   "metadata": {},
   "outputs": [
    {
     "data": {
      "text/plain": [
       "array([1, 0, 0, 1])"
      ]
     },
     "execution_count": 4,
     "metadata": {},
     "output_type": "execute_result"
    }
   ],
   "source": [
    "from sklearn.preprocessing import LabelEncoder\n",
    "\n",
    "gender = ['Male', 'Female', 'Female', 'Male']\n",
    "le = LabelEncoder()\n",
    "le.fit_transform(gender)  # Output: [1, 0, 0, 1]\n"
   ]
  },
  {
   "cell_type": "markdown",
   "id": "81bbe7d5",
   "metadata": {},
   "source": [
    "Use when categories are ordinal or for tree-based models (Decision Tree – Ref: Day 13)"
   ]
  },
  {
   "cell_type": "markdown",
   "id": "4fb70d3c",
   "metadata": {},
   "source": [
    "### One-hot Encoding"
   ]
  },
  {
   "cell_type": "code",
   "execution_count": 3,
   "id": "d6171aeb",
   "metadata": {},
   "outputs": [
    {
     "data": {
      "text/plain": [
       "array([[0., 1.],\n",
       "       [1., 0.],\n",
       "       [1., 0.],\n",
       "       [0., 1.]])"
      ]
     },
     "execution_count": 3,
     "metadata": {},
     "output_type": "execute_result"
    }
   ],
   "source": [
    "from sklearn.preprocessing import OneHotEncoder\n",
    "import pandas as pd\n",
    "\n",
    "df = pd.DataFrame({'gender': ['Male', 'Female', 'Female', 'Male']})\n",
    "ohe = OneHotEncoder(sparse_output=False)\n",
    "ohe.fit_transform(df[['gender']])\n"
   ]
  },
  {
   "cell_type": "markdown",
   "id": "303e3aad",
   "metadata": {},
   "source": [
    "#### Use when:"
   ]
  },
  {
   "cell_type": "markdown",
   "id": "6dc6f2df",
   "metadata": {},
   "source": [
    "- Categories are nominal\n",
    "\n",
    "- You're working with linear/logistic regression (Ref: Days 9–12)\n",
    "\n",
    "Avoid Dummy Variable Trap — drop one column."
   ]
  },
  {
   "cell_type": "markdown",
   "id": "bb64d21c",
   "metadata": {},
   "source": [
    "## Numeric prep"
   ]
  },
  {
   "cell_type": "markdown",
   "id": "80777285",
   "metadata": {},
   "source": [
    "### Binning (Bucketing)"
   ]
  },
  {
   "cell_type": "markdown",
   "id": "92c34b00",
   "metadata": {},
   "source": [
    "Great when you want to simplify or handle outliers."
   ]
  },
  {
   "cell_type": "code",
   "execution_count": 6,
   "id": "329be15d",
   "metadata": {},
   "outputs": [
    {
     "name": "stdout",
     "output_type": "stream",
     "text": [
      "0           Teen\n",
      "1    Young Adult\n",
      "2    Young Adult\n",
      "3          Adult\n",
      "4          Adult\n",
      "dtype: category\n",
      "Categories (4, object): ['Teen' < 'Young Adult' < 'Adult' < 'Senior']\n"
     ]
    }
   ],
   "source": [
    "import numpy as np\n",
    "import pandas as pd\n",
    "\n",
    "ages = pd.Series([18, 25, 30, 40, 60])\n",
    "bins = [0, 18, 35, 60, 100]\n",
    "labels = ['Teen', 'Young Adult', 'Adult', 'Senior']\n",
    "\n",
    "age_binned = pd.cut(ages, bins=bins, labels=labels)\n",
    "print(age_binned)\n"
   ]
  },
  {
   "cell_type": "markdown",
   "id": "26d7ce23",
   "metadata": {},
   "source": [
    "#### Example Use Case:"
   ]
  },
  {
   "cell_type": "markdown",
   "id": "a6a98ea4",
   "metadata": {},
   "source": [
    "- Instead of predicting exact age → classify as age group.\n",
    "\n",
    "- Great for decision trees (Ref: Day 13)"
   ]
  },
  {
   "cell_type": "markdown",
   "id": "019b3910",
   "metadata": {},
   "source": [
    "### Scaling"
   ]
  },
  {
   "cell_type": "markdown",
   "id": "7b90a06b",
   "metadata": {},
   "source": [
    "Scaling is critical for:\n",
    "\n",
    "- Distance-based algorithms (KNN, SVM)\n",
    "\n",
    "- Gradient descent-based models (Linear/Logistic Regression – Day 9, 12)"
   ]
  },
  {
   "cell_type": "markdown",
   "id": "94e5f63b",
   "metadata": {},
   "source": [
    "#### StandardScaler (Z-score normalization)"
   ]
  },
  {
   "cell_type": "code",
   "execution_count": 7,
   "id": "20db19e2",
   "metadata": {},
   "outputs": [
    {
     "data": {
      "text/plain": [
       "array([[-1.22474487],\n",
       "       [ 0.        ],\n",
       "       [ 1.22474487]])"
      ]
     },
     "execution_count": 7,
     "metadata": {},
     "output_type": "execute_result"
    }
   ],
   "source": [
    "from sklearn.preprocessing import StandardScaler\n",
    "\n",
    "scaler = StandardScaler()\n",
    "scaler.fit_transform([[1], [2], [3]])\n"
   ]
  },
  {
   "cell_type": "markdown",
   "id": "ddb77da6",
   "metadata": {},
   "source": [
    "#### MinMaxScaler (0 to 1 normalization)"
   ]
  },
  {
   "cell_type": "code",
   "execution_count": 8,
   "id": "7a7665ca",
   "metadata": {},
   "outputs": [
    {
     "data": {
      "text/plain": [
       "array([[0. ],\n",
       "       [0.5],\n",
       "       [1. ]])"
      ]
     },
     "execution_count": 8,
     "metadata": {},
     "output_type": "execute_result"
    }
   ],
   "source": [
    "from sklearn.preprocessing import MinMaxScaler\n",
    "\n",
    "scaler = MinMaxScaler()\n",
    "scaler.fit_transform([[10], [20], [30]])\n"
   ]
  },
  {
   "cell_type": "markdown",
   "id": "f15fe9bd",
   "metadata": {},
   "source": [
    "Always scale numeric features when using Logistic Regression, SVM, or KNN.\n",
    "This is handled automatically if you use Pipelines (Day 16)."
   ]
  },
  {
   "cell_type": "code",
   "execution_count": 9,
   "id": "30add1d6",
   "metadata": {},
   "outputs": [],
   "source": [
    "from sklearn.pipeline import Pipeline\n",
    "from sklearn.compose import ColumnTransformer\n",
    "\n",
    "# Let’s say age and salary are numeric, gender is categorical\n",
    "numeric = ['age', 'salary']\n",
    "categorical = ['gender']\n",
    "\n",
    "from sklearn.preprocessing import OneHotEncoder, StandardScaler\n",
    "from sklearn.impute import SimpleImputer\n",
    "\n",
    "numeric_pipe = Pipeline([\n",
    "    ('imputer', SimpleImputer(strategy='mean')),\n",
    "    ('scaler', StandardScaler())\n",
    "])\n",
    "\n",
    "cat_pipe = Pipeline([\n",
    "    ('imputer', SimpleImputer(strategy='most_frequent')),\n",
    "    ('onehot', OneHotEncoder(handle_unknown='ignore'))\n",
    "])\n",
    "\n",
    "preprocessor = ColumnTransformer([\n",
    "    ('num', numeric_pipe, numeric),\n",
    "    ('cat', cat_pipe, categorical)\n",
    "])\n"
   ]
  },
  {
   "cell_type": "markdown",
   "id": "de10ad3c",
   "metadata": {},
   "source": [
    "| Technique         | Use Case                                            |\n",
    "| ----------------- | --------------------------------------------------- |\n",
    "| Label Encoding    | Ordinal data, Trees (e.g., gender = Male/Female)    |\n",
    "| One-Hot Encoding  | Categorical data for linear/logistic models         |\n",
    "| Binning           | Simplifying continuous features (e.g., age groups)  |\n",
    "| Scaling           | Needed for Linear, Logistic, KNN, SVM               |\n",
    "| Interaction Terms | Polynomial regression, feature crossing             |\n",
    "| Pipelines         | When combining preprocessing + models (Ref: Day 16) |\n"
   ]
  },
  {
   "cell_type": "code",
   "execution_count": null,
   "id": "16a7d18b",
   "metadata": {},
   "outputs": [],
   "source": []
  }
 ],
 "metadata": {
  "kernelspec": {
   "display_name": ".venv (3.11.0)",
   "language": "python",
   "name": "python3"
  },
  "language_info": {
   "codemirror_mode": {
    "name": "ipython",
    "version": 3
   },
   "file_extension": ".py",
   "mimetype": "text/x-python",
   "name": "python",
   "nbconvert_exporter": "python",
   "pygments_lexer": "ipython3",
   "version": "3.11.0"
  }
 },
 "nbformat": 4,
 "nbformat_minor": 5
}
