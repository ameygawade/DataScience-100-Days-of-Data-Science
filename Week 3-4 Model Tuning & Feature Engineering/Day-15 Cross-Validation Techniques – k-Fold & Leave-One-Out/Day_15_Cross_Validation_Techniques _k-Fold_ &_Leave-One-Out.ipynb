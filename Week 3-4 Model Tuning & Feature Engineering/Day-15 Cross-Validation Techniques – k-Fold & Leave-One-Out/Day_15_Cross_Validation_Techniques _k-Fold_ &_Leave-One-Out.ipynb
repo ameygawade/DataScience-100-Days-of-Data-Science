{
 "cells": [
  {
   "cell_type": "markdown",
   "id": "e1f95ace",
   "metadata": {},
   "source": [
    "# Day 15: Cross-Validation Techniques – k-Fold & Leave-One-Out"
   ]
  },
  {
   "cell_type": "markdown",
   "id": "789a27ab",
   "metadata": {},
   "source": [
    "In today’s session, we dive into cross-validation, a critical step in model evaluation to ensure robustness, generalizability, and prevention of overfitting."
   ]
  },
  {
   "cell_type": "markdown",
   "id": "a0e15af1",
   "metadata": {},
   "source": [
    "Topics Covered:\n",
    "\n",
    "- What is Cross-Validation?\n",
    "\n",
    "- Why use Cross-Validation?\n",
    "\n",
    "- k-Fold Cross-Validation\n",
    "\n",
    "- Leave-One-Out Cross-Validation (LOOCV)\n",
    "\n",
    "- Comparing Validation Methods\n",
    "\n",
    "- Hands-on Implementation using cross_val_score\n",
    "\n",
    "- Reference Links to Previous Notebooks"
   ]
  },
  {
   "cell_type": "code",
   "execution_count": null,
   "id": "fc12721e",
   "metadata": {},
   "outputs": [],
   "source": []
  }
 ],
 "metadata": {
  "language_info": {
   "name": "python"
  }
 },
 "nbformat": 4,
 "nbformat_minor": 5
}
