{
 "cells": [
  {
   "cell_type": "markdown",
   "id": "cdafe3fc",
   "metadata": {},
   "source": [
    "# Day-24: Naive Bayes Classifier"
   ]
  },
  {
   "cell_type": "markdown",
   "id": "9278f1f9",
   "metadata": {},
   "source": [
    "Today we're going back to our roots in probability and using a classic theorem to build a classifier. Naive Bayes is a probabilistic machine learning algorithm used for a wide variety of classification tasks. It's a fantastic baseline model because it's fast and highly scalable. The magic of Naive Bayes lies in its \"naive\" assumption—that all features are independent of one another. We'll explore why this assumption, while often false, works so well in practice."
   ]
  },
  {
   "cell_type": "markdown",
   "id": "e064a022",
   "metadata": {},
   "source": [
    "## Topics Covered:"
   ]
  },
  {
   "cell_type": "code",
   "execution_count": 15,
   "id": "84022161",
   "metadata": {},
   "outputs": [],
   "source": [
    "import pandas as pd\n",
    "import numpy as np\n",
    "from sklearn.model_selection import train_test_split\n",
    "from sklearn.pipeline import Pipeline\n",
    "from sklearn.naive_bayes import MultinomialNB\n",
    "from sklearn.feature_extraction.text import CountVectorizer, TfidfVectorizer\n",
    "from sklearn.metrics import classification_report, accuracy_score, confusion_matrix\n",
    "import matplotlib.pyplot as plt"
   ]
  },
  {
   "cell_type": "markdown",
   "id": "abf88aeb",
   "metadata": {},
   "source": [
    "https://www.kaggle.com/datasets/shashwatwork/consume-complaints-dataset-fo-nlp"
   ]
  },
  {
   "cell_type": "code",
   "execution_count": 16,
   "id": "6988c107",
   "metadata": {},
   "outputs": [
    {
     "name": "stdout",
     "output_type": "stream",
     "text": [
      "<class 'pandas.core.frame.DataFrame'>\n",
      "RangeIndex: 162421 entries, 0 to 162420\n",
      "Data columns (total 3 columns):\n",
      " #   Column      Non-Null Count   Dtype \n",
      "---  ------      --------------   ----- \n",
      " 0   Unnamed: 0  162421 non-null  int64 \n",
      " 1   product     162421 non-null  object\n",
      " 2   narrative   162411 non-null  object\n",
      "dtypes: int64(1), object(2)\n",
      "memory usage: 3.7+ MB\n"
     ]
    }
   ],
   "source": [
    "df = pd.read_csv('complaints_processed.csv')\n",
    "\n",
    "df.info()"
   ]
  },
  {
   "cell_type": "code",
   "execution_count": 17,
   "id": "b0c658d6",
   "metadata": {},
   "outputs": [
    {
     "data": {
      "text/html": [
       "<div>\n",
       "<style scoped>\n",
       "    .dataframe tbody tr th:only-of-type {\n",
       "        vertical-align: middle;\n",
       "    }\n",
       "\n",
       "    .dataframe tbody tr th {\n",
       "        vertical-align: top;\n",
       "    }\n",
       "\n",
       "    .dataframe thead th {\n",
       "        text-align: right;\n",
       "    }\n",
       "</style>\n",
       "<table border=\"1\" class=\"dataframe\">\n",
       "  <thead>\n",
       "    <tr style=\"text-align: right;\">\n",
       "      <th></th>\n",
       "      <th>Unnamed: 0</th>\n",
       "      <th>product</th>\n",
       "      <th>narrative</th>\n",
       "    </tr>\n",
       "  </thead>\n",
       "  <tbody>\n",
       "    <tr>\n",
       "      <th>0</th>\n",
       "      <td>0</td>\n",
       "      <td>credit_card</td>\n",
       "      <td>purchase order day shipping amount receive pro...</td>\n",
       "    </tr>\n",
       "    <tr>\n",
       "      <th>1</th>\n",
       "      <td>1</td>\n",
       "      <td>credit_card</td>\n",
       "      <td>forwarded message date tue subject please inve...</td>\n",
       "    </tr>\n",
       "    <tr>\n",
       "      <th>2</th>\n",
       "      <td>2</td>\n",
       "      <td>retail_banking</td>\n",
       "      <td>forwarded message cc sent friday pdt subject f...</td>\n",
       "    </tr>\n",
       "    <tr>\n",
       "      <th>3</th>\n",
       "      <td>3</td>\n",
       "      <td>credit_reporting</td>\n",
       "      <td>payment history missing credit report speciali...</td>\n",
       "    </tr>\n",
       "    <tr>\n",
       "      <th>4</th>\n",
       "      <td>4</td>\n",
       "      <td>credit_reporting</td>\n",
       "      <td>payment history missing credit report made mis...</td>\n",
       "    </tr>\n",
       "  </tbody>\n",
       "</table>\n",
       "</div>"
      ],
      "text/plain": [
       "   Unnamed: 0           product  \\\n",
       "0           0       credit_card   \n",
       "1           1       credit_card   \n",
       "2           2    retail_banking   \n",
       "3           3  credit_reporting   \n",
       "4           4  credit_reporting   \n",
       "\n",
       "                                           narrative  \n",
       "0  purchase order day shipping amount receive pro...  \n",
       "1  forwarded message date tue subject please inve...  \n",
       "2  forwarded message cc sent friday pdt subject f...  \n",
       "3  payment history missing credit report speciali...  \n",
       "4  payment history missing credit report made mis...  "
      ]
     },
     "execution_count": 17,
     "metadata": {},
     "output_type": "execute_result"
    }
   ],
   "source": [
    "df.head()"
   ]
  },
  {
   "cell_type": "code",
   "execution_count": 28,
   "id": "6068a49a",
   "metadata": {},
   "outputs": [],
   "source": [
    "df.dropna(subset=['narrative', 'product'], inplace=True)"
   ]
  },
  {
   "cell_type": "code",
   "execution_count": 30,
   "id": "4ce20e86",
   "metadata": {},
   "outputs": [],
   "source": [
    "df['narrative'] = df['narrative'].astype('U')"
   ]
  },
  {
   "cell_type": "code",
   "execution_count": 38,
   "id": "eb4d77c8",
   "metadata": {},
   "outputs": [],
   "source": [
    "# We'll take the top 5 most frequent product categories\n",
    "top_products = df['product'].value_counts().nlargest(5).index\n",
    "df_subset = df[df['product'].isin(top_products)]"
   ]
  },
  {
   "cell_type": "code",
   "execution_count": 43,
   "id": "49b6c900",
   "metadata": {},
   "outputs": [
    {
     "data": {
      "text/plain": [
       "Index(['credit_reporting', 'debt_collection', 'mortgages_and_loans',\n",
       "       'credit_card', 'retail_banking'],\n",
       "      dtype='object', name='product')"
      ]
     },
     "execution_count": 43,
     "metadata": {},
     "output_type": "execute_result"
    }
   ],
   "source": [
    "top_products"
   ]
  },
  {
   "cell_type": "code",
   "execution_count": 39,
   "id": "cc1acfea",
   "metadata": {},
   "outputs": [],
   "source": [
    "# train-test split\n",
    "X = df_subset['narrative']\n",
    "y = df_subset['product']\n",
    "X_train, X_test, y_train, y_test = train_test_split(X, y, test_size=0.2, random_state=42)"
   ]
  },
  {
   "cell_type": "code",
   "execution_count": 40,
   "id": "483c938f",
   "metadata": {},
   "outputs": [],
   "source": [
    "pipeline = Pipeline([\n",
    "    ('tfidf', TfidfVectorizer(stop_words='english',decode_error='ignore',encoding='utf-8')),\n",
    "    ('clf', MultinomialNB()),\n",
    "])"
   ]
  },
  {
   "cell_type": "code",
   "execution_count": 41,
   "id": "08646e81",
   "metadata": {},
   "outputs": [],
   "source": [
    "pipeline.fit(X_train, y_train)\n",
    "y_pred = pipeline.predict(X_test)"
   ]
  },
  {
   "cell_type": "code",
   "execution_count": 42,
   "id": "989058ab",
   "metadata": {},
   "outputs": [
    {
     "name": "stdout",
     "output_type": "stream",
     "text": [
      "Accuracy: 0.8139\n",
      "Confusion Matrix:\n",
      "[[ 1831   998    30    95   178]\n",
      " [  103 17589   245   329    17]\n",
      " [   78  2276  2061   189    11]\n",
      " [   28   693    53  2966    30]\n",
      " [  222   361    11    99  1990]]\n",
      "\n",
      "Classification Report:\n",
      "                     precision    recall  f1-score   support\n",
      "\n",
      "        credit_card       0.81      0.58      0.68      3132\n",
      "   credit_reporting       0.80      0.96      0.88     18283\n",
      "    debt_collection       0.86      0.45      0.59      4615\n",
      "mortgages_and_loans       0.81      0.79      0.80      3770\n",
      "     retail_banking       0.89      0.74      0.81      2683\n",
      "\n",
      "           accuracy                           0.81     32483\n",
      "          macro avg       0.83      0.70      0.75     32483\n",
      "       weighted avg       0.82      0.81      0.80     32483\n",
      "\n"
     ]
    }
   ],
   "source": [
    "# Evaluate the model\n",
    "print(f\"Accuracy: {accuracy_score(y_test, y_pred):.4f}\")\n",
    "print(\"Confusion Matrix:\")\n",
    "print(confusion_matrix(y_test, y_pred))\n",
    "print(\"\\nClassification Report:\")\n",
    "print(classification_report(y_test, y_pred))"
   ]
  },
  {
   "cell_type": "code",
   "execution_count": null,
   "id": "9706729e",
   "metadata": {},
   "outputs": [],
   "source": []
  }
 ],
 "metadata": {
  "kernelspec": {
   "display_name": ".venv (3.11.0)",
   "language": "python",
   "name": "python3"
  },
  "language_info": {
   "codemirror_mode": {
    "name": "ipython",
    "version": 3
   },
   "file_extension": ".py",
   "mimetype": "text/x-python",
   "name": "python",
   "nbconvert_exporter": "python",
   "pygments_lexer": "ipython3",
   "version": "3.11.0"
  }
 },
 "nbformat": 4,
 "nbformat_minor": 5
}
